{
 "cells": [
  {
   "cell_type": "code",
   "execution_count": 18,
   "metadata": {},
   "outputs": [],
   "source": [
    "from indictrans import Transliterator\n",
    "from tqdm import tqdm\n",
    "import time\n",
    "import re\n",
    "import path\n",
    "import os"
   ]
  },
  {
   "cell_type": "code",
   "execution_count": 19,
   "metadata": {},
   "outputs": [],
   "source": [
    "def is_english(s: str) -> bool:\n",
    "    if len(re.findall(u'[\\u0900-\\u097F]', s)) <= 1000:\n",
    "        return True\n",
    "    return False"
   ]
  },
  {
   "cell_type": "code",
   "execution_count": 59,
   "metadata": {},
   "outputs": [],
   "source": [
    "trn = Transliterator(source='eng', target='tam', build_lookup=True)"
   ]
  },
  {
   "cell_type": "code",
   "execution_count": 60,
   "metadata": {},
   "outputs": [],
   "source": [
    "hin = \"en payar sari chara but put hai\""
   ]
  },
  {
   "cell_type": "code",
   "execution_count": 61,
   "metadata": {},
   "outputs": [
    {
     "name": "stdout",
     "output_type": "stream",
     "text": [
      "ஏந பாயார் ஸாரி சாரா புட் போட ஹை\n"
     ]
    }
   ],
   "source": [
    "print(trn.transform(hin))"
   ]
  },
  {
   "cell_type": "code",
   "execution_count": 6,
   "metadata": {},
   "outputs": [
    {
     "name": "stdout",
     "output_type": "stream",
     "text": [
      "e bank is bad\n"
     ]
    }
   ],
   "source": [
    "text = 'എം ബാങ്ക് ഈസ് ബാഡ്'\n",
    "trn = Transliterator(source='mal', target='eng', build_lookup=True)\n",
    "print(trn.transform(text))"
   ]
  },
  {
   "cell_type": "code",
   "execution_count": 7,
   "metadata": {},
   "outputs": [
    {
     "name": "stdout",
     "output_type": "stream",
     "text": [
      "train_en    train_ma\t     transliterate.ipynb  valid_enma\r\n",
      "train_enma  translate.ipynb  valid_en\t\t  valid_ma\r\n"
     ]
    }
   ],
   "source": [
    "!ls"
   ]
  },
  {
   "cell_type": "code",
   "execution_count": 8,
   "metadata": {},
   "outputs": [
    {
     "name": "stdout",
     "output_type": "stream",
     "text": [
      "3717\n"
     ]
    }
   ],
   "source": [
    "src_folder = 'valid_ma'\n",
    "all_files = os.listdir(src_folder)\n",
    "print(len(all_files))"
   ]
  },
  {
   "cell_type": "code",
   "execution_count": 9,
   "metadata": {},
   "outputs": [
    {
     "name": "stdout",
     "output_type": "stream",
     "text": [
      "0\n"
     ]
    }
   ],
   "source": [
    "dest_folder = 'valid_enma'\n",
    "done_files = os.listdir(dest_folder)\n",
    "print(len(done_files))"
   ]
  },
  {
   "cell_type": "code",
   "execution_count": 10,
   "metadata": {},
   "outputs": [
    {
     "name": "stderr",
     "output_type": "stream",
     "text": [
      "100%|██████████| 3717/3717 [08:01<00:00,  7.73it/s] \n"
     ]
    }
   ],
   "source": [
    "for filename in tqdm(all_files):\n",
    "    if filename in done_files:\n",
    "        continue\n",
    "    url = f'{src_folder}/{filename}'\n",
    "    in_english = False\n",
    "    with open(f'{url}', 'r') as f:\n",
    "        alltext = f.read()\n",
    "    alltext = trn.transform(alltext)\n",
    "    in_english = is_english(alltext)\n",
    "    if in_english:\n",
    "        with open(f'{dest_folder}/{filename}', 'w') as f:\n",
    "            f.write(alltext)\n",
    "    if not in_english:\n",
    "        print(f'Failed for {url}')"
   ]
  },
  {
   "cell_type": "code",
   "execution_count": 17,
   "metadata": {},
   "outputs": [
    {
     "name": "stdout",
     "output_type": "stream",
     "text": [
      "8668\n"
     ]
    }
   ],
   "source": [
    "print(len(os.listdir('train_ma')))"
   ]
  },
  {
   "cell_type": "code",
   "execution_count": null,
   "metadata": {},
   "outputs": [],
   "source": []
  }
 ],
 "metadata": {
  "kernelspec": {
   "display_name": "in",
   "language": "python",
   "name": "in"
  },
  "language_info": {
   "codemirror_mode": {
    "name": "ipython",
    "version": 3
   },
   "file_extension": ".py",
   "mimetype": "text/x-python",
   "name": "python",
   "nbconvert_exporter": "python",
   "pygments_lexer": "ipython3",
   "version": "3.6.3"
  }
 },
 "nbformat": 4,
 "nbformat_minor": 2
}
