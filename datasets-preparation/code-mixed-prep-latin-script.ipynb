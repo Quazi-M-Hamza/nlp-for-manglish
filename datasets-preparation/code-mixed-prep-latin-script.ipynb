{
 "cells": [
  {
   "cell_type": "code",
   "execution_count": 1,
   "metadata": {},
   "outputs": [],
   "source": [
    "from fastai.text import *\n",
    "from tqdm import tqdm"
   ]
  },
  {
   "cell_type": "code",
   "execution_count": 2,
   "metadata": {},
   "outputs": [
    {
     "name": "stdout",
     "output_type": "stream",
     "text": [
      "/data/home/ubuntu/gaurav/in/fire/code-mixed-enma-2/dataset_preparation\r\n"
     ]
    }
   ],
   "source": [
    "!pwd"
   ]
  },
  {
   "cell_type": "code",
   "execution_count": 3,
   "metadata": {},
   "outputs": [],
   "source": [
    "dataset_type = 'train'"
   ]
  },
  {
   "cell_type": "code",
   "execution_count": 4,
   "metadata": {},
   "outputs": [],
   "source": [
    "en_path = Path(f'{dataset_type}_en')\n",
    "enma_path = Path(f'{dataset_type}_enma')\n",
    "\n",
    "en_path_files = os.listdir(en_path)\n",
    "enma_path_files = os.listdir(enma_path)"
   ]
  },
  {
   "cell_type": "code",
   "execution_count": 5,
   "metadata": {},
   "outputs": [
    {
     "data": {
      "text/plain": [
       "(8281, 8668)"
      ]
     },
     "execution_count": 5,
     "metadata": {},
     "output_type": "execute_result"
    }
   ],
   "source": [
    "len(en_path_files), len(enma_path_files)"
   ]
  },
  {
   "cell_type": "code",
   "execution_count": 6,
   "metadata": {},
   "outputs": [
    {
     "data": {
      "text/plain": [
       "'5451.txt'"
      ]
     },
     "execution_count": 6,
     "metadata": {},
     "output_type": "execute_result"
    }
   ],
   "source": [
    "en_path_files[0]"
   ]
  },
  {
   "cell_type": "code",
   "execution_count": 7,
   "metadata": {},
   "outputs": [],
   "source": [
    "filename = en_path_files[0]\n",
    "with open(en_path/filename, 'r') as f:\n",
    "    en_data = f.readlines()\n",
    "with open(enma_path/filename, 'r') as f:\n",
    "    enma_data = f.readlines()"
   ]
  },
  {
   "cell_type": "code",
   "execution_count": 8,
   "metadata": {},
   "outputs": [
    {
     "data": {
      "text/plain": [
       "(7, 7)"
      ]
     },
     "execution_count": 8,
     "metadata": {},
     "output_type": "execute_result"
    }
   ],
   "source": [
    "len(en_data), len(enma_data)"
   ]
  },
  {
   "cell_type": "code",
   "execution_count": 9,
   "metadata": {},
   "outputs": [],
   "source": [
    "dest_dir = Path(f'{dataset_type}_en_enma')\n",
    "for filename in enma_path_files:\n",
    "    \n",
    "    if filename in en_path_files:\n",
    "        with open(en_path/filename, 'r') as f:\n",
    "            en_data = f.readlines()\n",
    "    else:\n",
    "        en_data = None\n",
    "\n",
    "    with open(enma_path/filename, 'r') as f:\n",
    "        enma_data = f.readlines()\n",
    "    \n",
    "    if en_data:\n",
    "        assert len(enma_data) == len(en_data)\n",
    "    \n",
    "    code_mixed_data = []\n",
    "    index = -1\n",
    "    while len(code_mixed_data) < len(enma_data):\n",
    "        if enma_data[index].strip() == '':\n",
    "            index += 1\n",
    "            code_mixed_data.append(enma_data[index])\n",
    "            continue\n",
    "        if len(code_mixed_data) >= len(enma_data):\n",
    "            continue\n",
    "            \n",
    "        # en\n",
    "        if en_data:\n",
    "            index += 1\n",
    "            code_mixed_data.append(en_data[index])\n",
    "        if len(code_mixed_data) >= len(enma_data):\n",
    "            continue\n",
    "            \n",
    "        # en_ma\n",
    "        index += 1\n",
    "        code_mixed_data.append(enma_data[index])\n",
    "        \n",
    "    with open(dest_dir/str('en_enma')/filename, 'w') as f:\n",
    "        f.writelines(code_mixed_data)"
   ]
  },
  {
   "cell_type": "code",
   "execution_count": 10,
   "metadata": {},
   "outputs": [
    {
     "data": {
      "text/plain": [
       "8668"
      ]
     },
     "execution_count": 10,
     "metadata": {},
     "output_type": "execute_result"
    }
   ],
   "source": [
    "len(os.listdir(dest_dir/'en_enma'))"
   ]
  },
  {
   "cell_type": "code",
   "execution_count": 11,
   "metadata": {},
   "outputs": [],
   "source": [
    "with open(f'{dest_dir}/enma_en/{en_path_files[7]}', 'r') as f:\n",
    "    d1 = f.readlines()\n",
    "with open(f'{dest_dir}/en_enma/{en_path_files[7]}', 'r') as f:\n",
    "    d2 = f.readlines()"
   ]
  },
  {
   "cell_type": "code",
   "execution_count": 12,
   "metadata": {
    "scrolled": true
   },
   "outputs": [
    {
     "data": {
      "text/plain": [
       "['waർnnavrittasliൽ edutapett padyansute oru variiൽ etra aksharslundu end kanakkanu chhandass. oru variiൽ 1 akshar mutൽ 26 akshar varayull padyarupatte vrutta ennu viliunnu. 26-ൽ kututൽ aksharslullavaye dandak ennu viliunnu.\\n',\n",
       " 'The following 26 verses are based on the letters in a line. Each verse consists of a number of circles on the gurulaghu layout. The number of letters in a quarter, the name of the verse, and the number of circles in that verse are listed in order.\\n',\n",
       " 'anushtupiൽ tan vrutta valare cheruthu prakrutik mukaliൽ ullatu valare valutanennu atinaൽ avaye adhik upyogickarutennu vruttamanjari parayunnu.\\n',\n",
       " 'Gayatri chants are 24 letters out of a total of 8 syllables in a line. But the mantra, also known as the Vedic mantra, has only 23 syllables, so its rhyme is Nichrugayatri.\\n']"
      ]
     },
     "execution_count": 12,
     "metadata": {},
     "output_type": "execute_result"
    }
   ],
   "source": [
    "d1"
   ]
  },
  {
   "cell_type": "code",
   "execution_count": 13,
   "metadata": {
    "scrolled": true
   },
   "outputs": [
    {
     "data": {
      "text/plain": [
       "['Rhyme is the number of letters in a line of verse written in colored circles. A verse from 1 letter to 26 letters in a line is called a circle. Those with more than 26 letters are also called penalties.\\n',\n",
       " 'oru variilull aksharasute atisthantiൽ tareodukkunn 26 chhandassukalundu. oro chhandassl gurulghu vinyasabhedattaൾ anek vruttangൾ uൾppetunnu. oru padattile aksharasute enea, chhandassinte per, aa chhandassiൽ varunn vruttangൾ end kramattiൽ pattikappetuttiiriunnu. \\n',\n",
       " 'Vrittamanjari says that the lower circle in the practice is very small and the one above the surface is very large and therefore should not be used too much.\\n',\n",
       " 'gayatri chhandassiൽ oruaryiൽ 8 aksharasൽ vitanake 24 aksharasൾ akunnu. ennaൽ vedamantra aai ariyapetunn mantrattinu 23 aksharasൾ matra ulritinaൽ itinte chhandass nichrugayatri akunnu.\\n']"
      ]
     },
     "execution_count": 13,
     "metadata": {},
     "output_type": "execute_result"
    }
   ],
   "source": [
    "d2"
   ]
  },
  {
   "cell_type": "code",
   "execution_count": null,
   "metadata": {},
   "outputs": [],
   "source": []
  }
 ],
 "metadata": {
  "kernelspec": {
   "display_name": "in",
   "language": "python",
   "name": "in"
  },
  "language_info": {
   "codemirror_mode": {
    "name": "ipython",
    "version": 3
   },
   "file_extension": ".py",
   "mimetype": "text/x-python",
   "name": "python",
   "nbconvert_exporter": "python",
   "pygments_lexer": "ipython3",
   "version": "3.6.3"
  }
 },
 "nbformat": 4,
 "nbformat_minor": 2
}
