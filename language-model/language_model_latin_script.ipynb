{
 "cells": [
  {
   "cell_type": "code",
   "execution_count": 1,
   "metadata": {},
   "outputs": [],
   "source": [
    "%reload_ext autoreload\n",
    "%autoreload 2\n",
    "%matplotlib inline"
   ]
  },
  {
   "cell_type": "code",
   "execution_count": 2,
   "metadata": {},
   "outputs": [],
   "source": [
    "from fastai.text import *\n",
    "import numpy as np\n",
    "import pickle\n",
    "import sentencepiece as spm\n",
    "from tqdm import tqdm"
   ]
  },
  {
   "cell_type": "code",
   "execution_count": 3,
   "metadata": {},
   "outputs": [
    {
     "data": {
      "text/plain": [
       "('1.0.57', '1.0.0')"
      ]
     },
     "execution_count": 3,
     "metadata": {},
     "output_type": "execute_result"
    }
   ],
   "source": [
    "import fastai, torch\n",
    "fastai.__version__ , torch.__version__"
   ]
  },
  {
   "cell_type": "code",
   "execution_count": 4,
   "metadata": {},
   "outputs": [
    {
     "name": "stdout",
     "output_type": "stream",
     "text": [
      "Sat Aug  8 08:24:03 2020       \r\n",
      "+-----------------------------------------------------------------------------+\r\n",
      "| NVIDIA-SMI 430.64       Driver Version: 430.64       CUDA Version: 10.1     |\r\n",
      "|-------------------------------+----------------------+----------------------+\r\n",
      "| GPU  Name        Persistence-M| Bus-Id        Disp.A | Volatile Uncorr. ECC |\r\n",
      "| Fan  Temp  Perf  Pwr:Usage/Cap|         Memory-Usage | GPU-Util  Compute M. |\r\n",
      "|===============================+======================+======================|\r\n",
      "|   0  Tesla V100-PCIE...  Off  | 00000001:00:00.0 Off |                    0 |\r\n",
      "| N/A   34C    P0    41W / 250W |     11MiB / 16160MiB |      0%      Default |\r\n",
      "+-------------------------------+----------------------+----------------------+\r\n",
      "                                                                               \r\n",
      "+-----------------------------------------------------------------------------+\r\n",
      "| Processes:                                                       GPU Memory |\r\n",
      "|  GPU       PID   Type   Process name                             Usage      |\r\n",
      "|=============================================================================|\r\n",
      "|  No running processes found                                                 |\r\n",
      "+-----------------------------------------------------------------------------+\r\n"
     ]
    }
   ],
   "source": [
    "!nvidia-smi"
   ]
  },
  {
   "cell_type": "code",
   "execution_count": 5,
   "metadata": {},
   "outputs": [],
   "source": [
    "torch.cuda.set_device(0)"
   ]
  },
  {
   "cell_type": "code",
   "execution_count": 6,
   "metadata": {},
   "outputs": [
    {
     "name": "stdout",
     "output_type": "stream",
     "text": [
      "/data/home/ubuntu/gaurav/in/fire/code-mixed-enma-2/language_model\r\n"
     ]
    }
   ],
   "source": [
    "!pwd"
   ]
  },
  {
   "cell_type": "code",
   "execution_count": 7,
   "metadata": {},
   "outputs": [],
   "source": [
    "path = Path('./')"
   ]
  },
  {
   "cell_type": "code",
   "execution_count": 8,
   "metadata": {},
   "outputs": [],
   "source": [
    "def handle_all_caps(t: str) -> str:\n",
    "    tokens = t.split()\n",
    "    tokens = replace_all_caps(tokens)\n",
    "    return ' '.join(tokens)\n",
    "\n",
    "def handle_upper_case_first_letter(t: str) -> str:\n",
    "    tokens = t.split()\n",
    "    tokens = deal_caps(tokens)\n",
    "    return ' '.join(tokens)\n",
    "\n",
    "def lower_case_everything(t: str) -> str:\n",
    "    return t.lower()"
   ]
  },
  {
   "cell_type": "code",
   "execution_count": 9,
   "metadata": {},
   "outputs": [],
   "source": [
    "class CodeMixedMalayalamTokenizer(BaseTokenizer):\n",
    "    def __init__(self, lang:str):\n",
    "        self.lang = lang\n",
    "        self.sp = spm.SentencePieceProcessor()\n",
    "        self.sp.Load(str(path/\"../tokenizer/mlen_spm.model\"))\n",
    "        \n",
    "    def tokenizer(self, t:str) -> List[str]:\n",
    "        return self.sp.EncodeAsPieces(t)"
   ]
  },
  {
   "cell_type": "code",
   "execution_count": 10,
   "metadata": {},
   "outputs": [],
   "source": [
    "sp = spm.SentencePieceProcessor()\n",
    "sp.Load(str(path/\"../tokenizer/mlen_spm.model\"))\n",
    "itos = [sp.IdToPiece(int(i)) for i in range(15000)]"
   ]
  },
  {
   "cell_type": "code",
   "execution_count": 11,
   "metadata": {},
   "outputs": [
    {
     "data": {
      "text/plain": [
       "15000"
      ]
     },
     "execution_count": 11,
     "metadata": {},
     "output_type": "execute_result"
    }
   ],
   "source": [
    "len(itos)"
   ]
  },
  {
   "cell_type": "code",
   "execution_count": 12,
   "metadata": {
    "scrolled": false
   },
   "outputs": [
    {
     "data": {
      "text/plain": [
       "['xxunk',\n",
       " 'xxbos',\n",
       " 'xxeos',\n",
       " 'xxpad',\n",
       " 'xxfld',\n",
       " 'xxmaj',\n",
       " 'xxup',\n",
       " 'xxrep',\n",
       " 'xxwrep',\n",
       " '.',\n",
       " '▁the',\n",
       " ',',\n",
       " 'ർ',\n",
       " 'ൽ',\n",
       " 's',\n",
       " 'ൻ',\n",
       " '▁of',\n",
       " '▁',\n",
       " 'ൾ',\n",
       " '▁in']"
      ]
     },
     "execution_count": 12,
     "metadata": {},
     "output_type": "execute_result"
    }
   ],
   "source": [
    "itos[:20]"
   ]
  },
  {
   "cell_type": "code",
   "execution_count": 13,
   "metadata": {},
   "outputs": [],
   "source": [
    "# 15,000 is the vocab size that we chose in sentencepiece\n",
    "mlen_vocab = Vocab(itos)"
   ]
  },
  {
   "cell_type": "code",
   "execution_count": 14,
   "metadata": {},
   "outputs": [],
   "source": [
    "tokenizer = Tokenizer(lang='mlen', tok_func=CodeMixedMalayalamTokenizer)"
   ]
  },
  {
   "cell_type": "code",
   "execution_count": 15,
   "metadata": {},
   "outputs": [],
   "source": [
    "tokenizer.pre_rules.append(lower_case_everything)\n",
    "tokenizer.pre_rules.append(handle_all_caps)\n",
    "tokenizer.pre_rules.append(handle_upper_case_first_letter)"
   ]
  },
  {
   "cell_type": "code",
   "execution_count": 16,
   "metadata": {},
   "outputs": [
    {
     "data": {
      "text/plain": [
       "(['xxunk',\n",
       "  'xxpad',\n",
       "  'xxbos',\n",
       "  'xxeos',\n",
       "  'xxfld',\n",
       "  'xxmaj',\n",
       "  'xxup',\n",
       "  'xxrep',\n",
       "  'xxwrep'],\n",
       " [<function fastai.text.transform.fix_html>,\n",
       "  <function fastai.text.transform.replace_rep>,\n",
       "  <function fastai.text.transform.replace_wrep>,\n",
       "  <function fastai.text.transform.spec_add_spaces>,\n",
       "  <function fastai.text.transform.rm_useless_spaces>,\n",
       "  <function __main__.lower_case_everything>,\n",
       "  <function __main__.handle_all_caps>,\n",
       "  <function __main__.handle_upper_case_first_letter>],\n",
       " [<function fastai.text.transform.replace_all_caps>,\n",
       "  <function fastai.text.transform.deal_caps>])"
      ]
     },
     "execution_count": 16,
     "metadata": {},
     "output_type": "execute_result"
    }
   ],
   "source": [
    "tokenizer.special_cases, tokenizer.pre_rules, tokenizer.post_rules"
   ]
  },
  {
   "cell_type": "code",
   "execution_count": 17,
   "metadata": {},
   "outputs": [],
   "source": [
    "tokens = tokenizer.process_all(['Tell me about TOUR self, mujhe jaanna hai'])"
   ]
  },
  {
   "cell_type": "code",
   "execution_count": 18,
   "metadata": {},
   "outputs": [
    {
     "data": {
      "text/plain": [
       "'▁tell▁me▁about▁tour▁self,▁mujhe▁jaanna▁hai'"
      ]
     },
     "execution_count": 18,
     "metadata": {},
     "output_type": "execute_result"
    }
   ],
   "source": [
    "''.join(tokens[0])"
   ]
  },
  {
   "cell_type": "code",
   "execution_count": 19,
   "metadata": {},
   "outputs": [
    {
     "data": {
      "text/plain": [
       "PosixPath('.')"
      ]
     },
     "execution_count": 19,
     "metadata": {},
     "output_type": "execute_result"
    }
   ],
   "source": [
    "path"
   ]
  },
  {
   "cell_type": "code",
   "execution_count": 20,
   "metadata": {},
   "outputs": [
    {
     "data": {
      "text/html": [],
      "text/plain": [
       "<IPython.core.display.HTML object>"
      ]
     },
     "metadata": {},
     "output_type": "display_data"
    },
    {
     "data": {
      "text/html": [],
      "text/plain": [
       "<IPython.core.display.HTML object>"
      ]
     },
     "metadata": {},
     "output_type": "display_data"
    }
   ],
   "source": [
    "data_lm = TextLMDataBunch.from_folder(path=path/'../dataset_preparation', train='train_uncased' , valid='valid_uncased', vocab=mlen_vocab, tokenizer=tokenizer)"
   ]
  },
  {
   "cell_type": "code",
   "execution_count": 21,
   "metadata": {},
   "outputs": [
    {
     "data": {
      "text/plain": [
       "64"
      ]
     },
     "execution_count": 21,
     "metadata": {},
     "output_type": "execute_result"
    }
   ],
   "source": [
    "data_lm.batch_size"
   ]
  },
  {
   "cell_type": "code",
   "execution_count": 22,
   "metadata": {
    "scrolled": true
   },
   "outputs": [],
   "source": [
    "# data_lm.save()"
   ]
  },
  {
   "cell_type": "code",
   "execution_count": 23,
   "metadata": {},
   "outputs": [
    {
     "data": {
      "text/html": [
       "<table border=\"1\" class=\"dataframe\">\n",
       "  <thead>\n",
       "    <tr style=\"text-align: right;\">\n",
       "      <th>idx</th>\n",
       "      <th>text</th>\n",
       "    </tr>\n",
       "  </thead>\n",
       "  <tbody>\n",
       "    <tr>\n",
       "      <td>0</td>\n",
       "      <td>▁the ▁fort ▁is ▁spread ▁over ▁an ▁area ▁of ▁about ▁7 ▁acres ▁at ▁a ▁height ▁of ▁about ▁150 ▁feet ▁above ▁sea ▁level . ▁etanu ▁nutanduk ൾ kku ▁mu ൻ p ▁chandragiri ▁pune ▁kola ttu nadi nteyu ▁tu lu nadi nteyu ▁ati ർ tti airunnu . ▁tu lu nadi n ▁vijaynagar ▁samrajyam ▁kilo tak i appo ൾ ▁kola ttu rajakanma ർ k ▁chandragiri ute ▁a dhi sh tva ▁nashtapettu . ▁16 -</td>\n",
       "    </tr>\n",
       "    <tr>\n",
       "      <td>1</td>\n",
       "      <td>de ▁in ▁tamil ▁as ▁bharathan ▁aa vara m ▁poo . ▁e ൺ patu kaute ▁tutkkati ൽ ▁bharat ൻ ▁pal ▁yu g ma ▁chalachchitra slu ▁ni ർ mmitchu . ▁‘ cha maram , ▁m ർ m maram , ▁pass ng ൾ , ▁ente ▁upa san ' ▁enniv ▁iti ൽ ▁chilat an . ▁iv ▁kalapa r mai ▁aduttu parya tta kka v ▁allengi l ▁vanijy ▁vijaya ng ൾ ▁irunnu . ▁ma lyalachalachitra</td>\n",
       "    </tr>\n",
       "    <tr>\n",
       "      <td>2</td>\n",
       "      <td>▁high ▁cho le ster ol ▁in ▁the ▁body . ▁regular ▁exercise ▁and ▁diet ▁can ▁lower ▁cho le ster ol . ▁for ▁some , ▁medica tion ▁may ▁be ▁effective . ▁this ▁condition ▁can ▁be ▁detect ed ▁by ▁accident ▁or ▁duri ng ▁an ▁ult ra so und ▁sc an ▁of ▁the ▁abdomen . ▁live r ▁function ▁test s ▁that ▁examine ▁the ▁function ▁of ▁the ▁live r ▁can ▁help ▁determine ▁the ▁spread ▁of</td>\n",
       "    </tr>\n",
       "    <tr>\n",
       "      <td>3</td>\n",
       "      <td>▁on ▁28 ▁february ▁2013 ▁due ▁to ▁in ability ▁to ▁fulfill ▁his ▁res po n si bi l ities ▁due ▁to ▁old ▁age . ▁ce le s tine ▁v , ▁who ▁resigned ▁in ▁12 94 , ▁was ▁the ▁last ▁pope ▁to ▁resign ▁vol unt ari ly . ▁after ▁that , ▁gre go rio s ▁ xi i i ▁resigned ▁at ▁the ▁end ▁of ▁the ▁in famous ▁western ▁partition , ▁but ▁was</td>\n",
       "    </tr>\n",
       "    <tr>\n",
       "      <td>4</td>\n",
       "      <td>s ▁ahl ▁al - bay t ▁khu ർ aa ൻ ▁• ▁nabi charya ▁• ▁hadith ▁fi kh h ▁• ▁sharia t ▁hanafi ▁malik i ▁sha fi ▁hambali ▁sunni ▁• ▁shia ▁suphy ▁• ▁salph y ▁prasthana ▁masjid ▁al - haram ▁• ▁masjid ▁al - na ba wi ▁masjid ▁al - a q sa ▁kal ▁• ▁tat va chint ▁vastuvidy ▁• ▁muslim ▁palli k ൾ ▁hijera ▁wa ർ sha ▁• ▁aaghosha ng</td>\n",
       "    </tr>\n",
       "  </tbody>\n",
       "</table>"
      ],
      "text/plain": [
       "<IPython.core.display.HTML object>"
      ]
     },
     "metadata": {},
     "output_type": "display_data"
    }
   ],
   "source": [
    "data_lm.show_batch()"
   ]
  },
  {
   "cell_type": "code",
   "execution_count": 24,
   "metadata": {},
   "outputs": [
    {
     "data": {
      "text/plain": [
       "1991"
      ]
     },
     "execution_count": 24,
     "metadata": {},
     "output_type": "execute_result"
    }
   ],
   "source": [
    "len(data_lm.train_dl)"
   ]
  },
  {
   "cell_type": "code",
   "execution_count": 25,
   "metadata": {},
   "outputs": [
    {
     "data": {
      "text/plain": [
       "948"
      ]
     },
     "execution_count": 25,
     "metadata": {},
     "output_type": "execute_result"
    }
   ],
   "source": [
    "len(data_lm.valid_dl)"
   ]
  },
  {
   "cell_type": "code",
   "execution_count": 26,
   "metadata": {},
   "outputs": [
    {
     "data": {
      "text/plain": [
       "15000"
      ]
     },
     "execution_count": 26,
     "metadata": {},
     "output_type": "execute_result"
    }
   ],
   "source": [
    "len(data_lm.vocab.itos)"
   ]
  },
  {
   "cell_type": "code",
   "execution_count": 27,
   "metadata": {},
   "outputs": [],
   "source": [
    "learn = language_model_learner(data_lm, AWD_LSTM, pretrained=False)"
   ]
  },
  {
   "cell_type": "code",
   "execution_count": 28,
   "metadata": {},
   "outputs": [
    {
     "data": {
      "text/plain": [
       "0"
      ]
     },
     "execution_count": 28,
     "metadata": {},
     "output_type": "execute_result"
    }
   ],
   "source": [
    "gc.collect()"
   ]
  },
  {
   "cell_type": "code",
   "execution_count": 29,
   "metadata": {},
   "outputs": [
    {
     "data": {
      "text/plain": [
       "SequentialRNN(\n",
       "  (0): AWD_LSTM(\n",
       "    (encoder): Embedding(15000, 400, padding_idx=1)\n",
       "    (encoder_dp): EmbeddingDropout(\n",
       "      (emb): Embedding(15000, 400, padding_idx=1)\n",
       "    )\n",
       "    (rnns): ModuleList(\n",
       "      (0): WeightDropout(\n",
       "        (module): LSTM(400, 1152, batch_first=True)\n",
       "      )\n",
       "      (1): WeightDropout(\n",
       "        (module): LSTM(1152, 1152, batch_first=True)\n",
       "      )\n",
       "      (2): WeightDropout(\n",
       "        (module): LSTM(1152, 400, batch_first=True)\n",
       "      )\n",
       "    )\n",
       "    (input_dp): RNNDropout()\n",
       "    (hidden_dps): ModuleList(\n",
       "      (0): RNNDropout()\n",
       "      (1): RNNDropout()\n",
       "      (2): RNNDropout()\n",
       "    )\n",
       "  )\n",
       "  (1): LinearDecoder(\n",
       "    (decoder): Linear(in_features=400, out_features=15000, bias=True)\n",
       "    (output_dp): RNNDropout()\n",
       "  )\n",
       ")"
      ]
     },
     "execution_count": 29,
     "metadata": {},
     "output_type": "execute_result"
    }
   ],
   "source": [
    "learn.model"
   ]
  },
  {
   "cell_type": "code",
   "execution_count": 30,
   "metadata": {
    "scrolled": true
   },
   "outputs": [
    {
     "data": {
      "text/html": [
       "<table border=\"1\" class=\"dataframe\">\n",
       "  <thead>\n",
       "    <tr style=\"text-align: left;\">\n",
       "      <th>epoch</th>\n",
       "      <th>train_loss</th>\n",
       "      <th>valid_loss</th>\n",
       "      <th>accuracy</th>\n",
       "      <th>time</th>\n",
       "    </tr>\n",
       "  </thead>\n",
       "  <tbody>\n",
       "    <tr>\n",
       "      <td>0</td>\n",
       "      <td>5.276674</td>\n",
       "      <td>5.313937</td>\n",
       "      <td>0.241897</td>\n",
       "      <td>03:19</td>\n",
       "    </tr>\n",
       "    <tr>\n",
       "      <td>1</td>\n",
       "      <td>4.879024</td>\n",
       "      <td>4.787274</td>\n",
       "      <td>0.273538</td>\n",
       "      <td>03:19</td>\n",
       "    </tr>\n",
       "    <tr>\n",
       "      <td>2</td>\n",
       "      <td>4.699088</td>\n",
       "      <td>4.745184</td>\n",
       "      <td>0.274538</td>\n",
       "      <td>03:19</td>\n",
       "    </tr>\n",
       "    <tr>\n",
       "      <td>3</td>\n",
       "      <td>4.659143</td>\n",
       "      <td>4.548000</td>\n",
       "      <td>0.293113</td>\n",
       "      <td>03:22</td>\n",
       "    </tr>\n",
       "    <tr>\n",
       "      <td>4</td>\n",
       "      <td>4.380394</td>\n",
       "      <td>4.373798</td>\n",
       "      <td>0.311567</td>\n",
       "      <td>03:19</td>\n",
       "    </tr>\n",
       "    <tr>\n",
       "      <td>5</td>\n",
       "      <td>4.425856</td>\n",
       "      <td>4.213296</td>\n",
       "      <td>0.327607</td>\n",
       "      <td>03:19</td>\n",
       "    </tr>\n",
       "    <tr>\n",
       "      <td>6</td>\n",
       "      <td>4.068779</td>\n",
       "      <td>4.044174</td>\n",
       "      <td>0.347572</td>\n",
       "      <td>03:19</td>\n",
       "    </tr>\n",
       "    <tr>\n",
       "      <td>7</td>\n",
       "      <td>3.885477</td>\n",
       "      <td>3.908516</td>\n",
       "      <td>0.363612</td>\n",
       "      <td>03:19</td>\n",
       "    </tr>\n",
       "    <tr>\n",
       "      <td>8</td>\n",
       "      <td>3.867530</td>\n",
       "      <td>3.838514</td>\n",
       "      <td>0.372529</td>\n",
       "      <td>03:19</td>\n",
       "    </tr>\n",
       "    <tr>\n",
       "      <td>9</td>\n",
       "      <td>3.756617</td>\n",
       "      <td>3.825342</td>\n",
       "      <td>0.374248</td>\n",
       "      <td>03:19</td>\n",
       "    </tr>\n",
       "  </tbody>\n",
       "</table>"
      ],
      "text/plain": [
       "<IPython.core.display.HTML object>"
      ]
     },
     "metadata": {},
     "output_type": "display_data"
    },
    {
     "name": "stdout",
     "output_type": "stream",
     "text": [
      "Better model found at epoch 0 with valid_loss value: 5.313937187194824.\n",
      "Better model found at epoch 1 with valid_loss value: 4.787274360656738.\n",
      "Better model found at epoch 2 with valid_loss value: 4.745183944702148.\n",
      "Better model found at epoch 3 with valid_loss value: 4.547999858856201.\n",
      "Better model found at epoch 4 with valid_loss value: 4.37379789352417.\n",
      "Better model found at epoch 5 with valid_loss value: 4.213296413421631.\n",
      "Better model found at epoch 6 with valid_loss value: 4.0441741943359375.\n",
      "Better model found at epoch 7 with valid_loss value: 3.9085159301757812.\n",
      "Better model found at epoch 8 with valid_loss value: 3.8385143280029297.\n",
      "Better model found at epoch 9 with valid_loss value: 3.8253417015075684.\n"
     ]
    }
   ],
   "source": [
    "learn.fit_one_cycle(10, 1e-2, callbacks=[callbacks.SaveModelCallback(learn, every='improvement', monitor='valid_loss', name='best_model')])"
   ]
  },
  {
   "cell_type": "code",
   "execution_count": 31,
   "metadata": {},
   "outputs": [
    {
     "data": {
      "text/plain": [
       "LanguageLearner(data=TextLMDataBunch;\n",
       "\n",
       "Train: LabelList (17336 items)\n",
       "x: LMTextList\n",
       "▁x x bo s ▁chandragiri ▁fort ▁is ▁located ▁on ▁the ▁banks ▁of ▁the ▁chandragiri ▁river , ▁southeast ▁of ▁kasaragod ▁district ▁in ▁north ▁kerala . ▁the ▁ru in ed ▁fort ▁is ▁a ▁beautiful ▁wind ow ▁to ▁the ▁river , ▁the ▁arabia n ▁sea ▁and ▁the ▁coconut ▁gro ves . ▁built ▁in ▁the ▁17 th ▁century , ▁the ▁fort ▁is ▁an ▁important ▁place ▁for ▁students ▁of ▁history ▁and ▁arch e ology . ▁the ▁fort ▁is ▁spread ▁over ▁an ▁area ▁of ▁about ▁7 ▁acres ▁at ▁a ▁height ▁of ▁about ▁150 ▁feet ▁above ▁sea ▁level . ▁etanu ▁nutanduk ൾ kku ▁mu ൻ p ▁chandragiri ▁pune ▁kola ttu nadi nteyu ▁tu lu nadi nteyu ▁ati ർ tti airunnu . ▁tu lu nadi n ▁vijaynagar ▁samrajyam ▁kilo tak i appo ൾ ▁kola ttu rajakanma ർ k ▁chandragiri ute ▁a dhi sh tva ▁nashtapettu . ▁16 - aam ▁nutand o e ▁vijaynagar ▁samrajyatine ▁shakti ▁ kshay ichu . ▁pinnite ▁be da nnu ർ ▁naikk anma ർ ▁ennariapadunn ▁i kke ri ▁naikk anma ർ ▁chandragiri ▁oru ▁swatantra ▁pradesh mai ▁bharichu . ▁i ▁rajvansh ttile ▁shiva pp ▁nay i ▁end ▁raja an ▁rajyas u raksha kai ▁chandragiri ▁kotto ▁kettit . ▁nutandu lilute ▁pal ▁ca ma rinera ▁chandragiri ▁kotto ▁my s or ile ▁hid ral iute ▁kai kall ▁otuvi ൽ ▁british ▁ist ▁india ▁company ute ▁kai kall ▁atiche ർ nnu . ▁inn ▁kerala ▁pur wa stu ▁vakup pi nu ▁kidilull ▁oru ▁charitra ▁smarak a ▁chandragiri ▁kotto . ▁chandragiri ▁bhupradesh a ▁sansthan ▁vibha jan ▁samayt ▁1956 - ൽ ▁kerala ▁sansthan ttot ▁che ർ cppettu . ▁near est ▁railway ▁station : ▁kasaragod ▁- ▁about ▁4 ▁km ▁from ▁the ▁fort . ▁near est ▁airport s : ▁mangalore ▁airport ▁- ▁about ▁50 ▁km ▁from ▁kasaragod ▁town . ▁kozhikode ▁kari pur ▁airport ▁- ▁about ▁200 ▁km ▁away . ▁the ▁near est ▁railway ▁station ▁is ▁kala nadu ▁railway ▁station . ▁ko tunkallu ർ ▁kotto ▁· ▁chandragiri ▁kotto ▁· ▁thalassery ▁kotto ▁· ▁palli puram ▁kotto ▁· ▁palackat ▁kotto ▁· ▁po vv ൽ ▁kotto ▁· ▁be k ൽ ▁kotto ▁· ▁cent ▁a nja lo ▁kotto ▁· ▁ho s du ർ gg ▁kotto ▁· ▁nedu cot ▁· ▁kochi ▁kotto ▁· ▁para vu ർ ▁kotto ▁· ▁trushshu ർ ▁kotto,▁x x bo s ▁america ൻ ▁ aikyanatukalille ▁kalipho ർ nia ▁sansthant ▁ko ൺ tra ▁cost e ▁kandii le ▁oru ▁nagara ▁ok sha li . ▁it ▁o ൻ patu ▁con ti kalu ൾ ppet ▁saa ൻ ▁phra ൻ si sco ▁be ▁mekhal ay cu lli laa ▁statecheyunnat . ▁2016 ▁january ▁1 le ▁sansthan ▁dhanakarya ▁vakup p inte ▁kanakcook ൾ ▁prakaram ▁i ▁nagarattile ▁janasankhya ▁40 , 14 4 ▁irunnu . ▁1999 ▁ ൽ ▁sanyojippi cpat ▁i ▁nagar ▁ko ൺ tra ▁cost e ▁kandii le ▁samip a kalat ▁sanyojippi cpat ▁oru ▁nagara .,▁x x bo s ▁dakshin ▁rei ൽ ve yute ▁paridhii ൽ ▁varunn ▁th iruvananthapuram ▁divish an ile ▁pradhan ▁tivandi ▁niley as ilonnan ▁chaninashshery ▁tivandi ▁ni laya . ▁chaninashshery ▁nagaratti ൽ ▁statecheyunn ▁i ▁tivandi ▁ni laya ▁kottayam ▁vai ull ▁ernakulam ▁- ▁th iruvananthapuram ▁pradhan ▁rei ൽ we ▁paati ൽ ▁kotta ya ttinu ▁thiruvalla y ku ▁idil ai ▁statecheyunnu . ▁pal ▁di ർ gha dur ▁s ർ vvis ▁ti van tik ൾ ku ▁chaninashsheri ൽ ▁stop e ▁anuvadi chittund . ▁the ▁first ▁train ▁ran ▁through ▁the ▁changanassery ▁railway ▁station ▁in ▁1958 ▁after ▁the ▁birth ▁of ▁kerala . ▁at ▁the ▁time ▁of ▁the ▁formation ▁of ▁kerala , ▁rail ▁transport ▁was ▁available ▁at ▁ernakulam ▁and ▁th iruvananthapuram , ▁but ▁they ▁were ▁not ▁directly ▁connected . ▁the ▁meter ▁gau ge ▁line ▁was ▁constructed ▁from ▁ernakulam ▁to ▁kottayam ▁in ▁1956 ▁and ▁then ▁extend ed ▁from ▁kollam ▁to ▁kollam ▁via ▁changanassery ▁in ▁1958 . ▁in ▁1931 , ▁the ▁red ▁fort ▁was ▁connected ▁to ▁kollam ▁and ▁then ▁to ▁th iruvananthapuram . ▁the ▁meter ▁gau ge ▁line ▁through ▁changanassery ▁was ▁convert ed ▁to ▁broad ▁gau ge ▁and ▁rail ▁transport ▁was ▁started ▁in ▁1976 ▁by ▁the ▁chief ▁minister ▁of ▁kerala . ▁in ▁the ▁time ▁of ▁achutha ▁menon . ▁2 . 5 ▁kilomet ർ ▁dure a ▁vach ppalli ▁kshet ▁statecheyunnat . ▁changanassery ▁railway ▁station ▁is ▁the ▁near est ▁rail head ▁to ▁kuttanad . ▁tek kati ▁tutangiya ▁hi re nch ukali ▁pette ▁aticher a ൻ ▁chaninashshery ▁tivandinilaya tti ൽ ▁iran th avunntan , ▁changanassery ▁railway ▁station ▁is ▁the ▁main ▁building ▁platphom i e ▁phala k ▁changanassery ▁railway ▁station ▁o v ർ ▁bri d ji ൽ ▁ninnu ▁nokkumpo ൾ ▁night ▁view ; ▁platform ▁number ▁one ▁chaninashshery ▁tivandinilaya ▁the ▁main ▁building,▁x x bo s ▁intappan ▁end ▁mara ttil undavunn ▁paea . ▁lokati ൽ ▁valare ▁kushanera ▁rajyasli ൽ ▁matrame ▁it ▁kanappetunnu llu . ▁- pradhanmay u ▁arabia ൻ ▁rajyasli ൽ - ▁. ▁arabia ൻ ▁rajya sille ▁oru ▁pradhan ▁nanya vira ▁it . ▁a nju riladhik ▁tar ▁i tta ppa ng ൾ ▁innu nd . ▁dharalam ▁kaa ർ bo ▁hy d rate ▁a tangia ▁oru ▁par manit . ▁kootate ▁kaa ൽ s yam , ▁so di um , ▁magnesium , ▁irump ▁tutangia ▁manushya ▁sharirattin avashya may ▁dharalam ▁lavan ang ൾ ▁iti ൽ ▁atariiriunnu . ▁ripe ▁dates ▁are ▁bo ile d ▁in ▁water ▁and ▁dried ▁to ▁preserve ▁them ▁for ▁a ▁long ▁time . ▁this ▁dried ▁fruit ▁is ▁called ▁kara ka . ▁sharirattin ▁u ർ jas wal tyu ▁arogya vu ▁na ൽ kunn ▁pat ▁ghankang ൾ ▁kar kka il ta d itund . ▁kar kkayu ▁welllvu ▁matra ▁ti nnu kond ▁jivi kka ൻ ▁oru ▁praya s avu mill . ▁oru ▁glass ▁pal ▁oru ▁kar kkayu ▁mati ▁oru ▁divasatte ak . ▁kar kka il tangia ▁pro te i ൻ , ▁kaa ൽ s yam , ▁amin o ▁acid , ▁s ൾ fa ർ , ▁a ye ൺ , ▁pot as yam , ▁pho s ura s , ▁manga ne se , ▁coppe ർ , ▁magnesium ▁enni ▁poshak ango ൾ ▁kootate ▁fib ർ , ▁ji vak ▁e 1 , ▁bi 1 , ▁bi 2 , ▁bi 3 , ▁bi 5 , ▁bi 9 ▁ennivyu ▁dhara l mund . ▁vay ർ , ▁hridaya sam bandha may ▁ rogang ൾ , ▁lingika ksh ina , ▁vay rille ▁kaa ൻ s ർ , ▁enniv k ▁kari ck ▁marun na . ▁mas i luk ൾ ▁valara nu ▁sahayikunnu . ▁oru ▁kap ▁kar kkai ൽ ▁4 15 ▁cal ori e ▁u ർ ja vu ▁95 ▁gram ▁shu gar u , ▁110 ▁gram ▁kaa ർ bo hy d rate ▁atangitund . ▁al - a j wa , ▁also ▁known ▁as ▁the ▁holy ▁date , ▁is ▁one ▁of ▁the ▁most ▁important ▁dates . ▁al - a j wa ▁bears ▁fruit ▁only ▁in ▁madinah . ▁elsewhere , ▁palm s ▁are ▁p l enti ful ▁but ▁not ▁harvest ed . ▁unusual ly ▁black ▁in ▁color , ▁they ▁are ▁similar ▁to ▁other ▁dates ▁in ▁taste ▁and ▁quality . ▁it ▁cost s ▁around ▁rs ▁2 ,000 ▁per ▁kg . ▁al - a j wa ▁is ▁kept ▁in ▁sa ff ron ▁and ▁honey ▁to ▁enhance ▁the ▁flavor . ▁intappaium ▁dates ▁sasya shastra vumai ▁bandhappet ▁i ▁lekhana ▁apu ർ sanma . ▁itu ▁vidocipikku va ൻ ▁sahayikcook .,▁x x bo s ▁the ▁war ▁between ▁the ▁chola ▁and ▁rashtra kuta ▁forces ▁in ▁ 94 9 ▁is ▁known ▁as ▁the ▁tak k olam ▁war . ▁the ▁battle ▁was ▁fought ▁in ▁re tali ation ▁for ▁the ▁defeat ▁at ▁the ▁battle ▁of ▁thiruvalla m . ▁but u kan , ▁the ▁ganga ▁king , ▁was ▁an ▁aid e ▁to ▁rashtra kuta ▁emperor ▁krishna ▁iii . ▁the ▁chola ▁army ▁was ▁led ▁by ▁yuva raja ▁raja dit yan . ▁al though ▁the ▁chola ▁power ▁was ▁in vin c ible , ▁raja di tya ' s ▁elephant ▁fell ▁to ▁the ▁ground ▁with ▁the ▁arrow ▁fire d ▁by ▁two ▁arch ers ▁from ▁the ▁ganges . ▁raja dit yan ' s ▁assassination ▁in ▁a ▁due l ▁between ▁but u kan ▁and ▁raja dit yan ▁was ▁a ▁great ▁sho ck ▁to ▁the ▁chola s . ▁raja di tya ' s ▁brother ▁kanda ra di tya ▁took ▁over ▁the ▁leadership ▁but ▁the ▁chola s ▁could ▁not ▁hold ▁on . ▁while ▁the ▁battle ▁of ▁thiruvalla m ▁led ▁to ▁the ▁strengthen ing ▁of ▁the ▁chola ▁empire , ▁the ▁battle ▁of ▁tak k olam ▁led ▁to ▁the ▁temporary ▁dis inte gra tion ▁of ▁the ▁empire . ▁it ▁see m s ▁that ▁keralite ▁war ▁hero es ▁worked ▁with ▁raja di tya . ▁nandi kara ppu thur ▁vella n ▁kumar an ▁was ▁one ▁of ▁the ▁general s . ▁val ab han , ▁the ▁young ▁king ▁of ▁val lu vana d , ▁was ▁raja di tya ' s ▁aid e , ▁but ▁for ▁some ▁reason ▁he ▁was ▁dis appo inte d ▁that ▁he ▁could ▁not ▁die ▁a ▁hero ic ▁death ▁with ▁raja di tya ▁in ▁the ▁battle ▁of ▁tak k olam ▁and ▁became ▁an ▁a bb ot ▁by ▁the ▁name ▁of ▁chatur an ana ▁pandit han .\n",
       "y: LMLabelList\n",
       ",,,,\n",
       "Path: /data/home/ubuntu/gaurav/in/fire/code-mixed-enma-2/language_model/../dataset_preparation;\n",
       "\n",
       "Valid: LabelList (7434 items)\n",
       "x: LMTextList\n",
       "▁x x bo s ▁the ▁battle ▁for ▁west no th ▁or ▁west no th ▁is ▁a ▁computer ▁game ▁produced ▁by ▁david ▁white ▁and ▁released ▁in ▁june ▁2003 . ▁in ▁we s no t ▁the ▁player ▁tri es ▁to ▁build ▁a ▁strong ▁army ▁by ▁control ling ▁the ▁villages ▁and ▁defeat ing ▁the ▁enemies . ▁white ▁built ▁the ▁game ▁with ▁in s pi r ation ▁from ▁se ga ▁genes i s ' ▁games ▁wars ong ▁and ▁master ▁of ▁mon ster s . ▁ba ti ൽ ▁pho ർ ▁we s no t ▁oru ▁op ൺ ▁socks ▁ga . ▁ji pi el ly ൽ ▁purattikaki irikunn ▁i ▁kali ▁vividh ▁tarattilull ▁opera ing ▁sister y li ൽ ▁kalica m .,▁x x bo s ▁1962 - l ▁paat ya lai ൽ ▁punjabi ▁s ർ vakalashal ▁nilevi ൽ ▁vannat . ▁pati ala ile ▁lang we j ▁di ppa ർ t ment ar ▁punjabi ▁universiti ai ▁marit . ▁india - pakista ൻ ▁vibhajana tine ▁tik ta sh lang ൾ ▁nerit endivann ▁punjabi ▁bhashaile ▁pustak ▁samp atine ▁vivarang ൾ , ▁laho ർ ▁nashtappet etote ▁labhyama irunnill . ▁aa ▁vit ▁punjabi ▁university ▁' pu nja bi ▁pustak ▁ko sh ' ▁prasidhikarichu kond ▁ni ka tti . ▁chil ▁ni ghan duk kalu ▁pati ala ▁prakasha n ▁cheitu .,▁x x bo s ▁ra gg ing ▁is ▁a ▁deva sta ting ▁behavior al ▁disorder ▁that ▁older ▁students ▁show ▁to ▁those ▁who ▁attend ▁school ▁or ▁college ▁in ▁their ▁first ▁year . ▁in ▁india , ▁it ▁is ▁an ▁illegal ▁and ▁pu nish able ▁off en se . ▁senior ▁students ▁do ▁this ▁under ▁the ▁gu i se ▁of ▁ getting ▁begin n ers ▁to ▁adapt ▁to ▁the ▁school ▁atmosphere . ▁it ▁often ▁involve s ▁personal ▁ha ras s ment ▁and ▁even ▁sexual ▁explo it ation . ▁it ▁often ▁de grade s ▁the ▁personal ity ▁of ▁juni or ▁students ▁and ▁causes ▁them ▁to ▁develop ▁a ▁sense ▁of ▁slave ry . ▁ra ging ▁was ▁not o rious ▁in ▁many ▁rep ute d ▁higher ▁education ▁institutions ▁in ▁india , ▁espec ially ▁in ▁medical ▁college s . ▁this ▁can ▁lead ▁to ▁the ▁death ▁of ▁children ▁who ▁are ▁subject ed ▁to ▁a ▁number ▁of ▁viola tion s ▁or ▁mental ▁disorder s ▁that ▁affect ▁their ▁learning ▁and ▁de tra ct ▁from ▁their ▁goal . ▁this ▁has ▁become ▁a ▁human ▁rights ▁viola tion . ▁ippo ൾ ▁kotati yutayu ▁potu sam u h tinteyu ▁shaktmay ▁itapetal ▁aavashyamay ▁niyam ni ർ mman vu ▁mulam ▁ra ging ▁ganyamai ▁kull er itund . ▁india ▁gav ൺ ment ▁ra ging ▁para tik ൾ ▁parihar i kanai ▁anti ▁ra ging ▁he ൽ p ▁li ൻ ▁sajjama kitund . ▁ankil ▁otppet ▁sambhava ng ൾ ▁repo ർ tt ▁cheitu varunnu nd . ▁ankil , ▁patra va ർ ttak ൾ prakaram ▁oru ▁malayali ▁nas s ing ▁vidya ർ thi ni ▁2016 ൽ ▁krurma y ▁ra ging i ▁vidheya yai ▁ennu ▁paryappetunnu . ▁the ▁public ▁interest ▁lit ig ation ▁fi led ▁by ▁vishwa ja gra ti ▁mission ▁in ▁the ▁supreme ▁court ▁has ▁pro mp ted ▁the ▁government ▁to ▁take ▁ ster n ▁action ▁against ▁ra gg ing . ▁the ▁medical ▁council ▁of ▁india ▁has ▁issued ▁clear ▁guide line s ▁against ▁ra gg ing ▁to ▁medical ▁college s ▁in ▁india . ▁according ▁to ▁the ▁reg ulation ▁issued ▁in ▁march ▁2009 , ▁the ▁goal ▁is ▁to ▁eliminate ▁any ▁form ▁of ▁ra gg ing ▁from ▁all ▁medical ▁college s ▁and ▁all i ed ▁institutions ▁in ▁the ▁country . ▁ensure ▁strict ▁punishment ▁for ▁those ▁who ▁engage ▁in ▁ra gg ing ▁against ▁this . ▁enforc e ▁the ▁law . ▁the ▁following ▁is ▁a ▁crime ▁of ▁ra gg ing . ▁: ▁kendra ▁s ർ carinte yu ▁at at ▁sansthana s ർ kkarinte yu ▁ni ർ ddesh prakara vu ▁niyama manusrich u ▁medica ൽ ▁co li ju kal ▁s ർ vvakalashala k ▁ra ging ▁oru ▁guru tar may ▁kutama ian ukayu ▁atin ▁k ർ shan mai ▁tat yan ull ▁natapatik ൾ ▁adukku kayu ▁want . ▁it ▁streek ൾ ku ▁es . ▁si ▁es ▁ty ▁i ൽ ppet ▁vyaktik ൾ ku ▁ethira i ▁pratyekitu ▁natakkunn ▁ra ging ▁ella ▁medica ൽ ▁sthapan li lu m ni ro dhi kka ൻ ▁vende ▁natapati etu kant . ▁all ▁forms ▁of ▁ra gg ing , ▁in ▁all ▁its ▁forms , ▁are ▁strict ly ▁pro hi bit ed ▁in ▁medical ▁college s ▁and ▁universities , ▁as ▁well ▁as ▁in ▁the ▁class room s , ▁do r mit ori es , ▁sports ▁and ▁can te en s ▁that ▁are ▁part ▁of ▁them , ▁whe ther ▁on ▁campus ▁or ▁in ▁private ▁or ▁government - ow n ed ▁transportation ▁systems ▁for ▁students ▁there . ▁medica ൽ ▁co li ji l ▁at umai ▁bandhappet ▁s ർ vvakalashala k ൾ ▁matu ▁sthapan ng ൾ ▁iva il ▁ra ging ▁end ▁kutakritya m ▁cheiyunnav ർ kketirai ▁k ർ shan may ▁natapatik ൾ ▁swikari . ▁things ▁to ▁do ▁before ▁admission : ▁ni ർ ddesha maria ▁laghu le kh ▁oro ▁vidya ർ thik ▁na ൽ kana . ▁ra gg ing ▁pro hi bi tion ▁committee : ▁all ▁educational ▁institutions ▁should ▁have ▁a ▁ra gg ing ▁pro hi bi tion ▁committee ▁and ▁a ▁ra gg ing ▁pro hi bi tion ▁squad . ▁its ▁head ▁should ▁be ▁the ▁head ▁of ▁the ▁institution . ▁vidya ർ thik ൾ ▁parikkunn ▁ela ▁sthapan ▁ra gg ing inetiray ▁k ർ shan ▁niyam ngo ൾ ▁nilevilund . ▁university ▁grand s ▁commish nu ▁i ▁kutakritya tt inetirai ▁k ർ shan ▁ni ർ ddesh ng ൾ ▁vidyabhyas ▁sthapan ng ൾ k ▁na ൽ kitund .,▁x x bo s ▁coordinates : ▁10 ° 31 ′ 28 ′′ n ▁76° 12 ′ 52 ′′ e ▁/ ▁10 . 5 24 38 78 ° n ▁76 . 21 45 50 7 ° e ▁/ ▁10 . 5 24 38 78 ; ▁76 . 21 45 50 7 ▁trushu ർ ▁puram ▁passmea ▁kshet ▁• ▁thiruva m pati ▁kshetra kani mangalam ▁shasta ▁kshet ▁• ▁pan mu kkam pill i ▁shri dh ർ mmshasta ▁kshet ▁• ▁chempu ca ▁kaa ർ tt ya yani ▁kshet ▁• ▁pu cat i kar ▁kar muk ▁bhagavti ▁• ▁la lu ർ ▁kaa ർ tt ya yani ▁kshet ▁• ▁chur kot tuka ▁bhagavti sht ▁• ▁ayyan to ൾ ▁kaa ർ tt ya yani ▁kshet ▁• ▁kushat u ർ ▁neit al ca vil mma vai kku nath ൻ ▁kshet ▁man tti ൽ ▁vara ▁• ▁pura ppura pati la nja i ttara me lam ▁• ▁tecot i rum ▁kutama om ▁• ▁weti ce t ▁trushshu ർ ▁• ▁shakt ൻ ▁tampura ൻ ▁panchvadyam ▁• ▁pandimelam ▁trushshu ർ ▁nagar hruday a ttilull ▁cheria ▁kunna y , ▁te i ki ൻ kaa d ▁maitana tine ▁maddhya til ▁shri ▁vaikkunath ▁kshet ▁state ▁cheiyunnat . ▁shiv ൻ , ▁shankarnarayan ൻ , ▁shriram ൻ , ▁pa ർ vwa ti ▁ennivran ▁i ▁kshetratile ▁pradhan dev tak ൾ . ▁puraatan a kalat ▁it ▁oru ▁baddh a vi har mairunnu ▁ennatin u ▁telivuk ൾ ▁labhichittund . ▁shri vai kkunnat h ൻ ▁kshetrattinu ▁trushshu rumai ▁valare ▁adhik ▁charitra ▁pradhan may ▁bandha manult . ▁shakt ൻ ▁tampura nte ▁kalaghttatil ▁i ▁kshet ▁innu ▁kanunn ▁ritii ൽ ▁pun ർ ni ർ mmicht . ▁keralatile ▁et ▁valia ▁mati ൽ cket ▁ull ▁vaikkunnath a shet ▁20 ▁ek k ർ ▁vistar a mari tan . ▁nalu di kkali lumai ▁nalu ▁maha go pura ng ൾ ▁ivite ▁paniti ർ t titnd . ▁vaikkunath ne ▁maha pra dakshin a via ▁swaraj ▁rand ▁ennariapatunnat . ▁atina ൽ ▁trushshu ർ ▁nagaratti ൽ ▁varunn ▁ora ൾ ku ▁vaikkunnath a shetrati n ▁munnil ute ya lla e ▁katannupok a ൻ ▁kachiill . ▁108 ▁shiva lay ▁stotra tti ൽ ▁onnam ▁sthana ▁alankari kunn ▁trushshu ർ ▁vaikkunnath a shet rate ▁shri ma d dakshin kai las ▁enna ▁ati ൽ ▁pratipadichiri kunnat . ▁irupat one ▁vatta ▁kshatriya re ▁kuttakkol ▁cheitat inte ▁praya sh chi tta mai ▁parashuram ൻ ▁tani k ▁labhichch ▁bhoomi ellam ▁brahman ർ k ▁da na ▁cheitu . ▁avit ilellam ▁addeha ▁av ർ k ▁aradhan ▁natatta ൻ ▁kshetras lu ▁ni ർ mmitchu kotuttu . ▁kuttatti ൽ ▁pradhan ppettat h airunnu ▁addeha ▁tanne ▁manu eri o in ▁srushtich ▁kerala bhumi . ▁keralatile ▁brahman ർ k ▁aradhan ▁natatta nai ▁parashuram ൻ ▁nu tet ▁shivashetras lu ▁nu tet ▁du ർ gga kshetras lu ▁anch ▁shasta kshetras lu ▁etanu ▁vishnu she tra slu ▁ni ർ mmitchu kotuttu . ▁avai ൽ ▁nu tet ▁shivashetras li ൽ ▁onnam ▁sthana ▁alankari kunn ▁trushshu ർ ▁vaikkunath shetratine ▁utbhava ttinu pin ni ൽ ▁oru ▁aitihyam und . ▁a th ing : ▁oru divas ▁kailas attile ttia ▁parashuram ൻ ▁ta ൻ ▁pututai ▁ni ർ mmichch ▁bhoomi ecurich ▁shiva bhag va note ▁sansari kkayu ▁avite ▁wa naru namenne ▁abhy ർ tthi kkukayu ▁cheitu . ▁enna ൽ ▁adyam ▁shiv ൻ ▁visammathi chu . ▁pinnite ▁pa ർ vvati devi ▁abhy ർ tthi cpo ൾ ▁matrama ▁bhagwa ൻ ▁sammata ▁mu lit . ▁utane tane ▁shiva pa ർ sha d nma ray ▁nanti k eshwar ൻ , ▁simhodar ൻ , ▁bh ring i rai ▁tutangiyav aru ▁shiva putra nma ray ▁ganapati yu ▁subrahmanya nu ▁atakum ▁kailas h vasi e llavaru ▁kuti ▁bha ർ gga v bhumi ileyk ▁purappettu . ▁av ർ ▁bha ർ gga v bhumi i ൽ ▁oru ▁sthalatte ttiyappo ൾ ▁pette nn oru ▁sthalattu vach ▁pette ▁yatra ▁ninnu . ▁avite ▁oru ▁u gra te jas s ▁kant ▁parashuram ൻ ▁pratishth k ▁et ▁u chi th may ▁sthalam ▁a thu tannai enne ▁manassilaki . ▁utane tane ▁addeha ▁shiva note ▁avite ▁kuti cola namenne ▁abhy ർ tthi chu . ▁shiv ൻ ▁utane tane ▁pa ർ vvati sam e ta ▁a ngo t ▁anunnalli . ▁aa ▁samayt ▁avite ▁pratyakashppet ▁mahavishnu v inote ▁tante ▁tekkubhagat irik a ൻ ▁paranera ▁shiv ൻ ▁svay n ▁oru ▁jyoti ർ linga mai ▁mary ▁vaikkubhagat ▁kuti contu . ▁angnaan ▁pratishth k ▁vaikkunath ൻ ▁end ▁per undayat . ▁kshetra mati ൽ cket tin upurt ▁vaikupatinjar ai ▁statecheyunn ▁oru ▁aa ൽ mar attine ▁tar il ▁it ▁sam bhavich atenne ▁paryappetunnu . ▁inn ▁avit ▁shri mul sthana ▁ennariapatunnu . ▁shri mul sthana t ▁innu ▁divasavu ▁villkkuvaypu nd . ▁tut ർ nn ▁shri mul sthana tuninnu ▁shaiva vaishnav ate jas su kae ▁a wa hi ch ▁parashuram ൻ ▁tanne ▁in nte ▁kshetrati ൽ ▁pratishthich u . ▁atinushes ▁yatha vidhi ▁puja k ൾ ▁kach ichch ▁addeha ▁tut ർ nn ▁kshetratine ▁vaikku kingk em uli ൽ ▁ant ർ ddhan ▁cheitu . ▁innu ▁avite ▁parashuram s maran ai ൽ ▁deep a pratishth ▁natatunnund . ▁ vaikkunathshetra ▁ni ർ mmanas ▁panti ru kula ttille ▁peru nta chch ൻ re ▁kalat ▁natannat anen ▁paryappetunnu . ▁peru nta chch ൻ re ▁kaalam ▁etha ▁nutandi la kaya ൽ ▁kshetrattinu ▁kuttampala ttinu ▁13 00 ▁wa ർ shatte ▁panku m ▁unda kumenn ▁karutunnu . . ▁charitrakaranay ▁vi . vi . ke . ▁val attine ▁abhiprayatti ൽ ▁vaikkunath shet ▁adi dra vid she tra may ▁kavu kali ൽ ▁onnairunnu . ▁pinnite ▁buddha - ja in ▁parmparyam ▁niloni ൽ kkukayu ▁atinushes ▁shaiva - vaishnav ▁swadhina ttil mar ukayu ▁cheitu . ▁es . si . ▁bha t ▁ba ർ gav yu ▁36 ▁valya lilai ▁eruthia ▁charitra grantha ti ൽ ▁i ▁kshetravu ▁paruv ashshery ▁du ർ gga shshery ▁bhagavti ▁kshetravu ▁ko tunkallu ർ ▁shri ▁kuru mba i gav ti ▁kshetravu ▁adyakal ▁buddha chit yaka slairunnu ▁ennu ▁parayunnu . ▁passmea ▁bhagavti yu ▁adya kalansli ൽ ▁i ▁kshetrati ൽ ▁tannaiayirunnu ▁pratishth ic ppettirunnat . ▁pank kati ൽ ▁ko tunkallu ർ ▁shri ▁kuru mba i gav ti ▁kshet , ▁urak ▁amma t thiru vati ▁kshet , ▁kut ൽ maaniky m ▁kshet ▁enniva y olam ▁ vaikkunathshetra ttinu ▁pack ka mill ▁ennu ▁kshetras to tra mal ▁ninnu ▁manassil avunn u ▁. ▁trushshu ർ ▁ vaikkunathshetra ▁bharana chumatal ▁ vahich irunn ▁namputiri maran ▁yoga tiri ma ർ ▁enn ariappettirunnat . ▁keralati ൽ ▁namputiri ma ർ ▁aadhipatyam ▁sthapich etote ▁vaikkunath ൻ ▁kshet ▁trushshu ർ ▁gram kkaray ▁namputiri marute ▁niyantrantil ai . ▁trushshu ർ ▁yoga sanketa ti ൽ ninnu ▁tirankedukkunn aya lay ▁yoga tiri ppat ▁kshetrati ൻ re ▁bharanadhikari a irunnat . ▁shakt ൻ ▁tampura nte ▁kala ttinu ▁mu ൻ p ▁yoga tiri ▁ava ro dha ▁avasan ippitchu . ▁pinnite ▁kochi raja ▁nerit ▁kshetra bharana ▁ateedukkukayu ▁niravadhi ▁kshetra char ▁parishkaras ൾ ▁natappilak kukyu ▁cheitu . ▁inn ▁kochi ൻ ▁devaswa ▁bo ർ de ൻ re ▁kidil ▁kshetra bharana ▁natakkunnat . ▁mysu ർ ▁su ൽ tt anayirunn ▁tipu vinte ▁pat yo tra kalat ▁vaikkunath ൻ ▁kshetrattinu ▁karyamay ▁nashanshta ng ൾ ▁sambhavichch atai ▁charitra ▁parayunn ill . ▁ati ൽ ▁ninnu ▁manassil avunnat ▁niravadhi kshetras ൾ ▁na shi ppichch ▁tipu , ▁trushshu ർ ▁kainnu ▁po it ▁kshet resh bahu mana ർ tea ▁na shi karan ▁pravritti kali ൽ ▁ninnu ▁mari ninn irunnuven na . ▁trushshuri le ▁pra nt pradesh sille ▁niravadhi ▁kshetras ൾ ▁i ▁patyotte ti ൽ ▁pu ർ nna may o ▁bhagikama yo ▁nashippicppet titnd ▁. ▁kshet ▁jaina sanketa mairunnu ▁ennoru ▁va d gati und . ▁upa dev nay ▁rushabh ൻ ▁jain ▁thi ർ tthan karnay ▁rushabh a deva ▁enna ▁oru ▁nigamna . ▁jain ർ ▁tattvachinta i ൽ ▁parajaypet t po ൾ ▁ vaishnav ർ ku ▁shaiva ർ ku ▁tulya ▁praadhanyam ▁na ൽ ki ▁oru ▁hindu kshetra mai ▁rupapet u a ▁cheitat . ▁rushabh ane ▁tho sh umpo ൾ ▁bhakt anma ർ ▁tangute ▁vastra tti ൽ ▁ninnu ▁oru ▁nu li fa ▁adut ▁pratishth amu ർ ttiyute ▁sanni dhi i ൽ ▁sam ർ ppich ▁to pu kaa ▁cheiyunnat . ▁it ▁pratishth amu ർ ttiyute ▁nag nath ▁mari kka ൻ ▁end ▁sankalpa til . ▁jain muni ▁dig a mbar anay atu ▁kona ▁i ▁aa char ▁utaletutt at ▁end ▁va d ga thi yu mund . ▁kri . wa . ▁17 50 ▁mut ൽ ▁17 62 ▁vare ▁trushshu ru , ▁vaikkunnath ൻ ▁kshetravu ▁samutiri ute xxunk ▁niyantrantil airunnu . ▁samutiri ▁natattia ▁oru ▁tula bhara tine ▁kar ing k ൽ ttoo n ▁oru ▁charitra s mara k mai ▁kshetra mati ൽ cket tina cat ▁kana ൻ ▁saadhik . ▁vatak ke kkar ▁kovil kata ▁samutiri u ▁sainyavu ▁ann ▁pa ർ t thirunnat . ▁tal ppil li ▁rajakanma ർ , ▁chen mai ▁nampya nma ർ ▁muthalayav ർ ▁samutiri ▁ann ▁pintut e chirunnu . ▁17 62 - ote ▁thiruvitankur ille ▁rajavairunn ▁dha ർ mma raja ▁kaa ർ ttik ▁thiruna ൾ ▁rama v ർ mmayute ▁sahayatote ▁kochi ▁raja ▁samutiri ▁tura ti ▁tru sh sh oor inte ▁bharana ▁tirichu ▁pitichu vennu ▁charitra . ▁vella ra ppil li ▁kovil cat ▁175 1- ൽ ▁jani kkukayu ▁17 69 - mut ൽ ▁kochi rajyatine ▁bhaga dh e yam ▁ni ർ ndi kunn ▁ilam ura ▁tampura nayu ▁pinne ▁17 90 - ൽ ▁kochi rajavay u ▁maria ▁rama v ർ mm ▁shakt ൻ tam pura nte ▁kalatta ▁trupunittura i ൽ ninnu ▁kochi ute ▁bharan s ir akendram ▁tru sh shi va peru ർ ▁nagaratti ▁mat ppettat . ▁tampura n ▁tru sh sh oor inotu ▁ vaikkunathshetra ttotu mundairunn ▁atma bandha ▁itin oru ▁karea . ▁shakt ൻ ▁tampura nan ▁tru sh shi va peru rinte ▁sanskarik ▁tani mai ൽ ▁ti lak ac uri ai ▁shobh ikkunn ▁trushu ർ puram ▁tut ang ive cht . ▁kri . ▁wa ർ sha ▁17 97 ▁l ▁adyamai ▁trushshu ർ puram enn ▁mah otsava ▁vaikkunnath ▁kshetra n kan tti ൽ ▁aranger unnat . ▁a manu sh pra bhavan airunn ▁shakt ൻ ▁tampura ൻ ▁thirumana s s ila curich ▁ke t itill ata vara i ▁keralatil aru ▁tanne ▁undairi c umennu ▁tonnunn ill ▁enna ▁aitihyam al ▁k ർ ttavay ▁kottarati ൽ ▁shankunni ▁addeh t ecurichull ▁lekhan ttile ▁a mukh ti ൽ ▁anuti irikunnat . ▁trushshu ർ ▁pura ttinu ▁addehtine ▁sannidhyam ▁kshetra mati la kat ▁i la nja i ttara i ൽ ▁undairik kumairunnu . ▁addehttinu ▁mu ൻ pi ൽ ▁aranger ia ▁chentamel am ▁pinnite ▁prashast mavukyu ▁i la nja i ttara me lam ▁enna ria ppetukayu ▁cheitu . ▁shiva peru ma linte ▁sthalam ▁end ർ tthamulla ▁thiru - shi v - peru ർ ▁aan ▁tru sh shi va peru ru ▁pinnite ▁trushshu ru ▁a ayi ti ർ nnat . ▁trushshu ർ ▁ vaikkunathshetra tile ▁pratishth amu ർ ttik ൾ ▁munna ; ▁shri param shi ൻ , ▁shriram swami ▁shankarnarayan amu ർ tti . ▁shiva peru ma ൾ ▁et ▁vaikkubhagat tu ▁shriram ൻ ▁tekkubhagat tu ▁shankarnarayan a swami ▁maddhya bhagattu ▁kuticolaunnu . ▁vaikkubhagat tull ▁shiva par u ma ൾ ka ▁ivite ▁kshetra chara prakaram ▁praadhanya vu , ▁prashasti yu . ▁vaikke ▁at ttull ▁shivane ▁pery ൽ ▁ariapat ▁kshet ▁pinnite ▁ vaikkunathshetra mayat ayu ▁karutunnu ▁kerala ▁shaiva dhipatyati ൽ ▁ irunnatina ൽ ▁vaicke ▁at th ▁pratishthich ▁shiva n ▁na th ൻ ▁ennu ▁pinnite ▁sankalpa mundai . ▁“ vata k ▁na th ൻ “ ▁end ▁shaiva ▁sankalpa ▁kalantarati ൽ ▁vaikkunnath ൻ ▁end ▁pe ർ ▁neticotuttu . . ▁20 ▁e kka riladhik ▁visti ർ chhana ▁varunn ▁ati vish al may ▁mati la kaa ▁i ▁kshetratine ▁pradhan ▁oak ർ shaea . ▁itryu ▁valia ▁mati la ka ▁keralatile ▁matoru ▁kshetrattinu mill . ▁gambhir may ▁ana ppa lam atil ▁kshetrattinu u u ▁paniti ർ tt irikunnat . ▁kshetra sanketa ti ൽ ▁dharalam ▁marang ൾ ▁nattu pi t ippicchittund . ▁atina ൽ ▁kshin a ▁tonnunn ▁bhakt ർ k ▁avayute ▁tan ali lirunne ▁vishram ic avunntan . ▁nalu bhagattu ▁valia ▁gopura ng ൾ ▁paniti ർ t titnd . ▁ati mano har may ▁ni ർ mmiti kala ▁ava ilellam . ▁nalu go pura ng ൾ ku ▁kuta ൻ ▁aan vati lu und . ▁patinjare ▁go pur ▁avai ൽ ▁pradhan . ▁gopurati n ▁sameepa ▁devaswa ▁ofis ▁statecheyunnu . ▁patinjare ▁gopurati lute ▁aka thu kata nna ൽ ▁adyam ▁kanunnat ▁oru ▁shila . ▁kali shil ▁ennariapadunn ▁i ▁shil ▁oro ▁divasavu ▁val u tha ion tiri ku ka anennu ▁it ▁gopura t olam ▁uyaram ▁vachch a ൽ ▁ann ▁lok ▁avasan i umennu ▁vishvasi cppetunnu . ▁atu kavi nja ൽ ▁vaikkubhagat ▁kuttampala m ▁kanan . ▁keralati ൽ ▁inn ▁niloni ൽ kkunnav i ൽ ▁vach ▁et ▁val u tu ▁lakshan yukta vumay ▁kutta mpal manit . ▁vishesha divas an sli ൽ ▁ivite ▁kuttu ▁kootiat avu mundaku . ▁kuttampala ttille ▁shilpa ng ൾ ▁valare ▁manohar mai ▁ni ർ mmitch iriunnu . ▁chemp ▁me nera ▁i ▁natya gri h ttin ▁23 1 xxunk 2 ▁met ർ ▁niqvu ▁17 1 xxunk 2 ▁met ർ ▁vidiyu mund . ▁keralatile ▁prasiddh ray ▁kootiat ▁vidagddh nma ർ ▁ivite ▁pal ▁tavan ▁kuttu ▁kootiat ▁avatarippic chittund . ▁nalmpalattin e ▁valippa vu ▁valare ▁rasa karmay ▁oru ▁pratyekaa . ▁keralatile ▁et ▁valia ▁nalmpala vu ▁ivite tannaan . ▁nalmpalattin e ▁puran chu varu e ▁chut y ▁vina kku mate ▁paniti ർ t tiriunnu . ▁a k tek ▁katann a ൽ ▁valia ▁munn ▁shrikovil uk ൾ ▁kanan . ▁avai ൽ ▁vaicke ya tte ▁shrikovil y ൽ ▁an abhimukhmai ▁shiva ▁pa ർ vvati yu , ▁nata kkulla ▁shrikovil y ൽ ▁shankarnarayan u , ▁tekke ya tte ▁shrikovil y ൽ ▁shriram nu ▁kuticolaunnu . ▁munn ▁shrikovi lulu ▁at ya pu ർ vwa may ▁chuv ർ ch chitra sla lu ▁daru shilpa alu ▁a lan k rita a . ▁enna ൽ ▁phalaprad may ▁itapeal illat atumulam ▁avai ൽ ▁palatu ▁na sh on mukh ma . ▁et ▁valia ▁shrikovi ൽ ▁shiva nte ta . ▁munn ▁shrikovil uk ൾ kkum unni ▁namaskaramandap s und . ▁shivane ▁shrikovilin ▁tekkuki na kku bhagat ▁ti t ppalli ▁state ▁cheiyunnu . ▁nalmpalattin u ▁praveshan d vara ti numiti ൽ ▁i du ria ▁oru ▁vid w und . ▁avai ൽ ▁shivane ▁nati kku nera yull ▁vit vinu sam i pa mai ▁bhagwa d vahan may ▁nanti ute ▁oru ▁kuta ൻ ▁pal un ku vigraha mund . ▁nanti e ▁ivite ▁upa dev nai ▁karuti varunnu . ▁nanti vigraha tine ▁iru vashattu mai ▁rand ▁chuv ർ ch chitra s und . ▁one , ▁at ya pu ർ vwa may ▁vasu ki sha yana rupattilull ▁shiva n ; ▁martet , ▁20 ▁kai kal otukootia ▁nritta nath . ▁ ranti ttu ▁vishesha ൽ ▁puja kalu ▁villkkuvaypu ▁natattivarunnu . ▁vaikku ki na kku bhagat ▁oru ▁valia ▁kulli und . ▁katta l anai ▁vann ▁tanne ▁para k shich ▁shivane ▁piti i ൽ ▁ninn ▁rakshappet a ൻ ▁a ർ jun ൻ ▁shram i cpo ൾ ▁addehtine ▁vil lay ▁gan di va ▁ta tti undayat a ▁i ▁kulli en ▁vishvasi cppetunnu . ▁atina ൽ ▁vi ൽ kku ri en ▁paryappetunnu . ▁ivite ▁sthir ▁jala mundaku . ▁et ▁katutt ▁ven ൽ kkalattu ▁it ▁vati po k ill ▁enntan ▁atbhuta . ▁ivite ▁kaluk aru ki wan t ▁kshetra d ർ shan ▁natatta ൻ ▁enntan ▁aa char . ▁vaikke ▁gopura to tu che ർ nn ▁shivane ▁oru ▁pal un ku shilpa ▁kanan . ▁atinu u u ▁wellam ▁parannu ki te kunnu . ▁bhagwan te ▁jati ൽ ▁ninn ▁ganga ▁uti ർ nnu v irunn ▁rupee ▁it . ▁valare ▁k ueach ▁wa ർ shan sli tayu llu ▁it ▁ivite ▁paniti t . ▁kshetra mati ൽ cket tin upurt ▁vaikku kingk e mu lilai ▁rand ▁kull us und . ▁one ▁surya pu sh kari ni ennu ▁martet ▁chandra pu sh kari ni ennu ▁ariapatunnu . ▁rand ▁kull jas u ▁oru kalat ▁sho ch ya vastha ilayirunnu . ▁otuvi ൽ ▁2015 - ൽ ▁natann ▁navikaran kala sha ttine ▁bhaga maan ▁av ▁vru ttiyakiyat . ▁shanti karu ▁bhakt aru ▁i ▁kull u sli ൽ ▁kull ichu ant ▁da ർ shan ▁natatta ൻ ▁enna ▁aa char . ▁enna ൽ , ▁inn ▁at ▁prayogik a mall . ▁mump i ൽ ▁valia ▁namaskaramandap mulla ▁valia ▁vatta shri kovi ll ▁shiva ▁pratishth ichirikunnat . ▁patinjarot tha bhi mukh maan ▁pratishth . ▁pa ർ vvati sa met anai ▁kailas h ttil ama runn ▁sada shi v ൻ ▁enntan ▁pratishth a sankalpa . ▁parabrahma sankalpa vumund . ▁mat ▁shivashetras l ile tupole ▁ivitayu ▁shivalinga a ▁pratishth . ▁enna ൽ ▁divas en ▁natakkunn ▁nay y abhisheka ▁mulam ▁shivalinga ▁kana ൻ ▁kachiill . ▁abhisheka ▁kachin gu ▁nay y ▁nikum ▁cheiyunn ill ▁enntan ▁i tinull ▁karea . ▁angne ▁nay y ▁at inju kuti ▁svay n ▁oru ▁shivalinga ▁rupapet tu . ▁a tan ▁inn ▁kshetrati ൽ ▁varunn ▁bhakt ർ ▁da ർ shi i kunnat . ▁bhagwan te ▁vasa sthan may ▁kailas p ർ vvata tayu ▁am ർ nath ▁kshetratile ▁mano u kondulla ▁shivalinga ttayu ▁it ▁anusmari ppic unnu . ▁vatta shri kovi ly ൽ ▁munnamate ▁araya y ▁g ർ bhag ri h ttinull i ൽ ▁nay y ▁kond ▁muti ▁manushya d rush tik ▁go charan a katt ▁vidhtti ൽ ▁jyoti ർ linga mai ▁vaikkunnath ൻ ▁da ർ shan maru l unnu . ▁jyoti ർ linga tti ൽ ▁ekadesha ▁et tom pat ati ▁uyaratti ൽ ▁25 ▁ati olam ▁chut ol vi ൽ ▁ne i mal ▁srushti cppet t irikkaa . ▁antarikshatti le ▁tapa vu ▁di pan s ute ▁chut e ▁kondupo lu ▁itinu ▁na sham ▁sambhwik unnill . ▁matravumall , ▁itryu ▁nay y ▁ivite ▁at inju kuti t ▁ivite ▁urumpu k ൾ ▁onnu ▁tan na ill . ▁shivalinga ▁kana ൻ ▁kaniat t ▁ek ▁kshet ▁vaikkunath shet . ▁ne i mal yi ൽ ▁da ർ shan ttinuventi ▁chandra kkala k ൾ ▁cha ർ tt unnund . ▁ne i mal ▁idi yu anengi ൽ ▁aa ▁bhaga ttull ▁desha ng ൾ k ▁an ishta ▁sambhwik umennu ▁karutunnu . ▁2006 ▁novemb ർ ▁19- n ▁attar atil oru ▁sambhava mundai . ▁kshetra t ▁at a cchu poy ▁samayt ▁u gra may ▁ti ppi du tta mundai ▁nay y ▁mubhuv ൻ ▁uru k ippo i . ▁enna ൽ ▁shivalinga ▁da ർ sha niyama ill . ▁2005- ൽ ▁kshetrati ൽ ▁natann ▁deva prashna tti ൽ ▁kshetrati ൽ ▁agnibadha undaku ▁enne ▁paranthirunnu . ▁atin ▁prati vidhi ai ▁a thiru dra maha ya je a ▁nata tan irik umpo r airunnu ▁agni badh . ▁nay y abhisheka ▁tannaan ▁vaikkunath ne ▁pradhan ▁waipat u . ▁shuddh amay ▁ari tru si ▁pashuvi ൻ ▁ne ya ▁ivite ▁abhisheka tin ▁upyogic kunnat . ▁abhisheka t ettut ർ nn undakunn ▁ne i mala yk ▁bala muntak anai ▁i la nir abhisheka ▁natattivarunnu . ▁dhanu mas atile ▁thiruvatir ▁kachinju varunn ▁munn ▁ ting kala r cha kali ൽ ▁itinte ▁101 ▁maton g ▁nay yu ▁100 1 ▁maton g ▁i lan i ru ▁abhisheka ▁cheyyarund . ▁devaswa ▁vak yu ▁bhakt arute ▁vak yu ▁waipat und . ▁kootate ▁ku val mal , ▁pi ൻ vi tak , ▁udaya sta mana puj , ▁u ma mah eshwara puj , ▁kathin we ti ▁tutangiyavayu ▁waipat ukali ൽ ▁pradhan . ▁shivane ▁ate ▁shrikovil y ൽ ▁kingcot ▁da ർ shan mai ▁pa ർ vvati devi ▁wa naru l unnu . ▁daru vigraha ▁ivite ▁pratishth . ▁pichha ttil iri ikunn ▁rupattil ▁vigraham . ▁munna ti ▁po kum ▁varu . ▁chatu ർ bahu vay ▁devi ute ▁val tuka ikali ൽ ▁mak u u ▁vara da mudra yu ▁itatu kai kali ൽ ▁kayru ▁tamara yu ▁abhyam u dra yu ▁kanan . ▁ivite ▁namaskaramandap ▁paniti ർ tti till . ▁daru vigraha man enkil ▁ivite ▁swa ർ ck ngo la kaya ▁bhakt ർ ▁da ർ shi i kunnat . ▁at ▁aki chu ma arill . ▁daru vigraha mayatina ൽ ▁jal abhisheka ▁natatta r ill . ▁pakar ▁manche ൾ ppo ta ▁abhisheka ▁cheiyunnat . ▁devi ▁shiva san ni ddhya tti ൽ ▁van unnatina ൽ ▁s ർ vva mangala kari nia y ▁kalyana rup ina . ▁shiva ▁pa ർ vvati yu ▁an abhimukhmai ▁da ർ shan ▁na ൽ kunnatin a ൽ ▁a ർ ddhan ar ishwar a sankalpa vu ▁ivitaund . ▁manche ൾ po ti ▁abhisheka ▁kootate ▁pat ▁tali u ▁cha ർ ttunnat u ▁devi k ▁pradhan a . ▁shaiva vaishnav a shakti kalute ▁sanyukta rupa m ▁shankarnarayan ൻ . ▁shaiva vaishnav a sang tan ng ൾ ▁nicknju ninn ▁kalat ▁ava yo vi wa ka ൻ ▁shankaracharya ർ ▁srushti tan ▁i ▁mu ർ tti ye ▁vishvasi cppetunnu . ▁keralati ൽ ▁shankar nar aya pratishth ak ൾ ▁valare ▁apu ർ vvam a . ▁avai ൽ ▁mica tu ▁shivalinga rupa til ayirik . ▁enna ൽ ▁ivite ▁shankarnarayan ▁vigraha pratishth a . ▁panch lo han i ർ mmit may ▁vigraha ttin ▁ekadesha ▁munna ti ▁uyaram ▁varu . ▁ni ൽ kkunn ▁rupattil ▁vigraham . ▁patin jat ▁da ർ shan . ▁chatu ർ bahu vay ▁vigraha tine ▁val atte ▁pakuti i ൽ ▁jata ma ku tu ▁chandra k kalayu ▁bhasma vu ▁naga ga lu ▁puli tte lu ▁dharichch ▁shiv antayu ▁it te ▁pakuti i ൽ ▁kirit vu ▁mayi ൽ ppil i u ▁gopi cu ri u ▁divya bharana lu ▁pi ta mbar avu ▁dharichch ▁vishnu vinteyu ▁rupaee ൾ ▁kanan . ▁vigraha tine ▁val tuka ikali ൽ ▁tri shu l vu ▁vara da mudra yu ▁itatu kai kali ൽ ▁panc janya vu ▁gad yu ▁kanan . ▁shankarnarayan te ▁shrikovil ▁vatta til . ▁enna ൽ ▁shiv antayu ▁pa ർ vvati utayu ▁shrikovilin te yatra ▁valippa ▁itin ill . ▁itinu munn i ▁namaskaramandap mund . ▁namaskaramandap u ▁taratamyen ▁cheru tan . ▁shankarnarayan ▁pradhan ▁chatu sh shat ni ved y . ▁mahavishnu vinte ▁avatara sli ൽ ▁esamat te ta ▁shriram ൻ . ▁bharatatile ▁et ▁prasiddhamay ▁mu ർ tti bhava li lonnu ▁shriram a . ▁tre tha yuga tille ▁pratyaksh mu ർ tti airunn ▁shriram ൻ ▁mary ada purush o ttam nai ▁k anakkackapetunnu . ▁keralati ൽ ▁potuve ▁shriram pratishth ak ൾ ▁kullwan . ▁avai ൽ ▁mikavaru ▁chatu ർ bahu wai ▁mahavishnu rupa til ayirik . ▁tru pra ya ർ , ▁thiru vil va mal , ▁thiruva ng at , ▁katvallu ർ ▁enniva ▁keralatile ▁pradhan ▁shriram kshetras ൾ . ▁ivit ilellam ▁mahavishnu vigraha m ▁shriram sankalpa tti ൽ ▁pooji kunnatan ▁conduvarunnat . ▁ vaikkunathshetra til ▁sang ati ▁vyatyastama ll . ▁ ivitte ▁vishnu vigraha tti ൽ ▁shriram swami ute ▁te jas s ▁vannu che ർ nn atinu pin l ▁oru ▁aitihyam und : ▁vivaha nantar ▁ayodhya ileyk ▁ma ing uka airunn ▁shriram a ▁parashuram ൻ ▁ta ing uni ർ tti . ▁tut ർ nn ▁iruvaru ▁tammi ൽ ▁wa l cat e mundai . ▁otuvi ൽ ▁shanta nay ▁parashuram ൻ ▁shriram a ▁anugrah ikkukayu ▁ennu ▁sambhava sthalat ▁kuti cola namenne ▁abhy ർ tti yck ukayu ▁cheitu . ▁angnaan ▁vishnu vigraha tti ൽ ▁shriram ka itan yam ▁vannu che ർ nnat . ▁a njan shili ൽ ▁thi ർ tt ▁vigraha ttin ▁ekadesha ▁munna ti ▁uyaram ▁varu . ▁ni ൽ kkunn ▁rupattil ▁vigraham . ▁patin wat ▁da ർ shan . ▁val tuka ikali ൽ ▁su d ർ shan chakra vu ▁tamara yu ▁itatu kai kali ൽ ▁panc janya vu ▁gad yu ▁kanan . ▁divya ratna ng ൾ ▁pati chch ▁aabharana lu ▁gopi cu ri u ▁pi ta mbar avu ▁dhari chan ▁bhagwa ൻ ▁pari l s ic kunnat . ▁matu rand ▁shrikovil ukali ൽ ▁ninn ▁vyatyastamai ▁shriram te ▁shrikovi ൽ ▁chatur til . ▁shriram te ▁shrikovilin um unni ▁namaskaramandap mund . ▁ivite ▁bhagwan te ▁nitya das anay ▁a njan e ya ▁s mari t chukond ▁oru ▁vita k ▁ko lu tti va chittund . ▁shriram swami k ▁pa ൽ pa yas avu ▁ mull mal ▁cha ർ tta lu ▁an nay abhisheka v ▁pradhan ▁waipat uk ൾ . ▁keralatile ▁bhuripaksha ▁kshetras ▁upa dev nai ▁s ർ va vi gh n vin a sha kanu ▁shiva pa ർ vvati putra nu may ▁ganapati bhagwa nte ▁sanniddhyam undaku . ▁ethoru ▁shubha k ർ mma vu ▁vi gh na l illae ▁pu ർ ttiyaka ൻ ▁ganapati ▁vandi chukond ▁tuing u ntan ▁hindava char . ▁trushshu ർ ▁va ikkunathshetrati ൽ ▁nalmpalattin kat ▁shivane ▁shrikovilin ▁tekupatinjar u bhaga tta ▁ganapati pratishth . ▁shiv antayu ▁shankarnarayan te yu ▁shrikovil uk ൾ k ▁ekadesha ▁ott ▁nadu kka a ▁gana pathi yute ▁shrikovi ൽ . ▁kingcot ▁da ർ shan mai ▁ti t ppalli ileyk ▁no kk ▁ganapati bhagwa ൻ ▁ irikunnat . ▁munna ti ▁po kum ▁varunn ▁shila vigraha tti ൽ ▁welli go lak ▁cha ർ tti iriunnu . ▁chatu ർ bahu vay ▁bhagwa ൻ ▁val tuka ikali ൽ ▁mak u u ▁vara da mudra yu ▁itatu kai kali ൽ ▁kayru ▁mod a kavu ▁dhari chiriunnu . ▁ota ya ppa vu ▁karu ka mala yu ▁naliker a muti kkal ▁ganapati k ▁pradhan ▁waipat uk ൾ . ▁kootate ▁divasavu ▁kshetrati ൽ ▁ganapati ho ma vu ▁natatunnund . ▁ota ya ppa priya nay ▁ganapati bhagwa n ▁udaya sta mana puj ayai ▁a ppam ▁nedi chu varunnu nd . ▁ganapati pre e ti y kai ▁1993 - ൽ ▁tutangia ▁k ർ kka taka masatti le ▁ashta d rav yam ha gana pati ho ma vu ▁ana ut ▁valare ▁churu diya kalam ▁kond ▁shraddh ▁pitichupat iya va a . ▁kshetra mati ൽ cket tin upurt ▁patinjarubhagat ▁pati cket tuk ൾ k ▁sameepamulla ▁natuvi la ll ▁ganapati k ▁pratishth und . ▁onnar yati ▁po kum ▁varu ▁ ivitte ▁shila vigraha ttin . ▁patin jat ▁da ർ shan . ▁kshetra ttin akate ▁ganapati vigraha tine ▁ate ▁rupee ▁ ivitte ▁vigraha ttinu . ▁ivite ▁adyam ▁oru ▁tara ▁matrama ▁undairunnat . ▁avite ▁shabarimal ▁thi ർ tthan karu ▁puli li aru ▁naliker a muti kka ൻ ▁tutandi po ൾ ▁avite ▁ganapati ▁pratishthich u . ▁tut ർ nn ▁avite ▁oru ▁kshetravu ▁pani tu . ▁inn ▁aa ▁kshet ▁vaikkunath shetratine ▁upa kshetra mai ▁k anakkackapetunnu . ▁patinjarubhagat tu nin ▁trushshu ർ ▁nagarattile ik ▁kath ikunnav ർ ▁adyam ▁kanunnat ▁i ▁kshet . ▁rand ▁ganapati pratishth ak ൾ ku ▁vi nayak ▁chatu ർ tthi na li ൽ ▁vishesha ൽ ▁puja kalu ▁10 08 ▁naliker ▁kond ▁vishesha ൽ ▁ganapati ho ma vu mundaku . ▁mahavishnu bhagwa nte ▁nalamat e ▁avatara may ▁narsinham u ർ ttik ▁ivite ▁pratyek ▁pratishth illengil ▁shriram te ▁shrikovilin e ▁tekku va sht ▁narsinham u ർ ttiyute ▁oru ▁chuv ർ ch chitram ▁vara ch ▁ati ൽ ▁aradhan yu ▁villkkuvaypu ▁natattivarunnu nd . ▁u gra n ra sin m bhava til ▁chuv ർ ch chitram . ▁hira nya ka ship u vin ▁tante ▁mati i ൽ ▁kita tti ▁randu kai k ൾ ▁kondu ▁maru pi la ർ nnu ko ▁chor ▁kuti kunn ▁bhagwan te ▁bhaya n kar rupa ▁kan umpo ൽ ▁tanne ▁pe tiya ku . ▁enna ൽ ▁at yu gram u ർ ttiyay ▁bhagwan e ▁bhaj iccha ൽ ▁shatru do sha s lo ri anu po kumenn a ▁vishes . ▁nalmpala n upurt ▁vaikupatinjar u bhagat ▁kuttampala ttot ▁che ർ nnull ▁shrikovil y ൽ ▁kingcot ▁da ർ shan maan ▁shrikrishna ൻ ▁kuti cola unnat . ▁shrikovilin u chu u ▁goshal ▁paniti ർ ttiri kunnatin a ൽ ▁goshal krishna nai ▁bhagwan e ▁kanakkaki varunnu . ▁oru k ayi ൽ ▁kali o lu ▁maru k ayi ൽ ▁ota kku alu ment ia ▁bhagwan an ▁ ivitayult . ▁munna ti ▁po kum ▁varunn ▁manoharmay ▁shila vigraha m ▁a rayu ▁oak ർ shik . ▁or i yk ൽ ▁param bhakt anay ▁vil va mangalam ▁swami a ർ ▁kshetra d ർ shan ttine ttiyappo ൾ ▁in nte ▁shrikovilin e ▁sthant ▁oru ▁atbhuta te jas s ▁addehtine ▁shraddhi ൽ ▁ pettu ennu ▁tut ർ nn ▁addeha ▁avite ▁oti ch enne ▁nokki appo ൾ ▁etanu ▁pashu e ▁condu ennu ▁tut ർ nn ▁avite ▁shrikrishna e ▁pratishthich u ve nn ▁aitihyam . ▁pashu e ▁cond ▁sthant ▁pratishthich itu kona ▁bhagwa ൻ ▁goshal krishna nay atenne ▁aitihyam ▁sakshyappetutt unnu . ▁pa ൽ pa yas avu ▁w han d yu ▁pradhan ▁waipat uk ൾ . ▁ashta mi ro hini divas ▁bhagwan ▁vishesha ൽ ▁puja kalu ▁abhisheka lumund . ▁nalmpalattin upurt ▁tekupatinjar u bhagat ▁pratyek ▁thi ർ tt ▁kshetrati l ▁harihar putra nay ▁ayyappan te ▁pratishth . ▁kingcot ▁da ർ shan . ▁shabarimal ile ▁vigraha tine ▁ate ▁rupee ▁ ivitte ▁vigraha ttinu . ▁onnar yati ▁po kum ▁varu . ▁atesamaym ▁ivite ▁shila vigraha ▁. ▁mat ▁upa deva ta kshetras li ൽ ninn ▁vyatyastamai ▁ayyappan te ▁shrikovilin um unni ൽ ▁oru ▁mu th mandap ▁paniti ർ t titnd . ▁shabarimal ai k ▁po kunnav ർ ▁mala it unnatu ▁kettu nir kkunnat umellam ▁avita . ▁avite ▁pratyeka mai ▁waipat ▁kan arumund . ▁e llu tiri ▁kati kala ▁ayyappan te ▁na tille ▁pradhan ▁waipat . ▁mandla kalat ▁41 ▁divasavu ▁nay y abhisheka ▁push p abhisheka ▁natattarund . ▁nalmpalattin upurt ▁kilokkubhagat ▁vaikkunath ne ▁totupu r k ila ▁simhodar ante ▁sthana . ▁shiva bhuta gana s liloralay ▁simhodar ana an ▁vaikkunath shet ▁pani a ൻ ▁shiv ൻ ▁niogi ch atennu ▁enna ൽ ▁samaym ▁kachinj it ▁simhodar ane ▁kana te ▁visha michch ▁shiva pa ർ vvati ma ർ ▁avasana ▁kshetratile ttiyappo ൾ ▁shrikovil y ൽ ▁simhodar an irikunnat ▁condu ennu ▁ko pak rant anay ▁shiv ൻ ▁utane tane ▁tante ▁puran kalu ond ▁simhodar ▁oro taera ▁chavittu kotuttu vennu ▁av ൻ ▁atuttull ▁pat u kuri i ൽ ▁ter ichu vinu ve nn ▁vishes . ▁avite tane ▁ vanu kollam enne ▁simhodar ൻ ▁sammath i y kukayu ▁cheitu . ▁rantu nil kal otukootia ▁chatur shri kovi ll ▁simhodar ante ▁sthana . ▁patin wat ▁da ർ shan . ▁a randa ▁nilevi l kki ൻ ▁we li cho tti ൽ ▁vigraha tine ▁rupam ▁vyaktama k illengil ▁simhodar ൻ ▁end ▁pery ▁an v ർ tthama ku ▁vido ▁dev e ▁udara m ▁sinha tti nte tupole anenn at ▁tirichcharia ൻ ▁kaniyu . ▁simhodar ▁divasavu ▁villkkuvaypu nd enna lla e ▁pratyeka puj a kalo ▁waipat u kalo ▁ill . ▁nalmpalattin upurt ▁vaikku kingk e mul ilull ▁oru ▁tara i ൽ ▁patin wat ▁da ർ shan maan ▁parashuram te ▁sthana . ▁ivite ▁parashuram sankalpa ttilull ▁deep a pratishth y anult . ▁kshetrati ൽ ▁vigraha pratishth ▁natattiyat inte ▁s maran yck ana tre ▁parashuram a ▁ivite ▁pratishth ichirikunnat . ▁ivite ▁vach an ▁addeha ▁ant ർ ddhan ▁che t atennu ▁kath und . ▁parashuram ൻ ▁katutt ▁kshatriya vi ro dhi ayatina ൽ ▁addehtine ▁sanniddhyam ull ▁i ▁tara ileyk ▁kshatriya ർ k ▁prav esh n mill . ▁parashuram a ▁pratyeka puj a kalo ▁waipat u kalo ▁ill . ▁param shi e ▁vahan may ▁nanti k eshwar ൻ ▁ivite ▁oru ▁upa dev nai ▁kuticolaunnu . ▁shivane ▁nati kku ne re ▁mump ilull ▁nalmpala cket t ▁nanti pratishth . ▁keralati ൽ ▁in null ▁et ▁valia ▁nanti vigraha manit . ▁nanti k ▁rand ▁sandhya ik ▁villkkuvaypu ▁ni veda vumund . ▁locath ▁ma toria ttu ▁kanatt ▁oru ▁at bhut ▁chuv ർ ch chitram a ▁s ർ ppa rajavay ▁vasu ki ute ▁purat ▁sha y ikunn ▁param shi van tet . ▁shivane ▁nati kku nera yull ▁nalmpala cket ti ൽ ▁nanti k eshwar ne ▁vigraha ttin ▁totupu ra ki ൽ ▁tecot ▁da ർ shan mai ▁varachch ▁chitram anit . ▁anant a shya m bhava tti ൽ ▁mahavishnu vinte ▁chitrangs ൾ ▁oru pat ▁sthalansli l undeakil ▁vasu ki shya m bhava tti ൽ ▁shivane ▁chitram ▁ma toria ttu mill ▁enntan ▁pratyekat . ▁divasavu ▁i ▁chitrattin ▁aradhan yu ▁villkkuvaypu mund . ▁param shi e ▁nritta ▁cheiyunn ▁rupee ▁nata raj ൻ . ▁maha na ran ni tan ▁hindu k ൾ ▁shiva ▁kanunnat . ▁i ▁prapancha ▁tanne ▁shivane ▁nata na vedi ai ▁k anakkackapetunnu . ▁va ikkunathshetrati ൽ ▁nanti vigraha ttin ▁itatu vashat ▁patin wat ▁da ർ shan mai ▁nataraja ne ▁oru ▁chuv ർ ch chitra mund . ▁nritta nath ൻ ▁enna ▁it aria pat unnat . ▁20 ▁kai kal otukootia ▁at ya pu ർ vwa may ▁i ▁chuv ർ ch chitra tti ൽ ▁bhagwa ൻ ▁apa s mar yak shan e ▁cha vu tti pitich ▁nritta ▁che i yu a . ▁prapan te ▁mubhuv ൻ ▁oru ▁gol maki ▁chitrikarichiri unnu . ▁at ya pu ർ vwa may ▁i ▁chuv ർ ch chitram , ▁pakshe ▁phalaprad may ▁itapeal illat atumulam ▁it ▁na shich ukontirik u kaa . ▁divasavu ▁i ▁chitrattin u ▁aradhan yu ▁villkkuvaypu mund . ▁vaikkunath ne ▁nalmpalattin e ▁vaikupatinjar e mula i ൽ ▁pratyeka mai tti ർ t ▁nalmpala cket ti ൽ ▁tecot ▁da ർ shan maan ▁shiva bhuta gana s liloralay ▁rushabh ante ▁pratishth . ▁nandi ▁tannaan ▁vastava ti ൽ ▁ri sha bha nayu ▁kuti cola unnat . ▁rushabh ൻ ▁sada ▁dhyan ni ma g nnu ▁nag n anu man tre xxunk ▁atina ൽ ▁randu ki kalu ▁co ti ▁dev ▁un ർ tti , ▁vastra tti ൽ ninn ▁oru ▁nu l etuttu ant ▁vandi kka ൻ . ▁dev ൻ ▁anugrah itchu kavi nja ൽ ▁vind ▁ura ng . ▁itinu pin ni ൽ ▁oru ▁aitihyam und : ▁adyam ▁rushabh ൻ ▁kingcot ▁da ർ shan maan ▁kuti cond irunnat . ▁ni ൽ kkunn ▁rupattil airunnu ▁pratishth . ▁oru divas ▁raville ▁kshetrati ൽ ▁vann ▁shanti ka ർ ▁vigraham ▁ura ng unnat ai ▁con tut re xxunk ▁tut ർ nn ▁vigraham ▁tecot ▁da ർ shan maki ▁pani tu . ▁oru kalat ▁keralati ൽ ▁buddha - jainamat ang ൾ ▁chelutti irunn ▁swadhina tine ▁pratika mai ▁rushabh ane ▁conduvarunnu . ▁rushabh ൻ ▁oru ▁jaina ti ർ tthan kar n anennu ▁kai co ti ▁vilichu n ർ tti ▁nu le tut ▁tho c kunnat ▁jaina m ta chara tine ▁tut ർ chchay anennu ▁charitrakaranma ർ ▁kanakkakkunnu . ▁ki rat mu ർ ttiyay ▁param shi van an ▁vet te i kkar ൻ ▁enne ▁parayunnat . ▁pashu patha stra ▁ki tta ൻ ▁gh ora ta pass ▁cheiyuk ay airunn ▁a ർ jun e ▁parik shika ൻ ▁bhagwa ൻ ▁swikarichch ▁rupee ▁vet te i kkar ൻ . ▁kshetra na l mpal attin upurt ▁tekupatinjar e mula i ൽ ▁kingcot ▁da ർ shan maan ▁ki rat mu ർ ttiyute ▁shrikovi ൽ . ▁ran jati ▁po kum ▁varunn ▁cheria ▁shivalinga a ▁ ivitayult . ▁dhara yu ▁shankh abhisheka v ▁pradhan ▁waipat uk ൾ . ▁2005 ▁vare ▁kshetra na l mpal attin kat ▁vaikkubhagat ▁tecot ▁da ർ shan maan ▁vet te y kare ▁pratishthich irunnat . ▁enna ൽ ▁2005- ൽ ▁natann ▁deva prashna tti ൽ ▁aa ▁sthana ▁shari allennu ▁puratta ▁pratishth ▁vende te nnu ▁conteti . ▁tut ർ nn ▁putia ▁shrikovi ൽ ▁panit ▁pratishth ▁natattuk a airunnu . ▁mump ▁vet te y kar nte ▁pratishth undairunn ▁muri il ▁inn ▁a ppam , ▁pa yas ▁tutangiyav ▁vitara ▁cheiyunnat . ▁adi dra vid ▁aachara tine ▁bakki patra may ▁oru ▁aradhna sam prad aya a ▁nagara dhan . ▁vividhtar ▁naga e ▁ara di kkunn ▁sampradayam ▁keralatil undairunnu . ▁sindhu nadi tat pradesh ttunin ▁contet u tt ▁rupak sli ൽ ▁naga rupa thu mund . ▁pandu kalat ▁valia ▁ta dwa ttu vid ukali ൽ ▁naga ttara k ൾ ▁pativairunnu . ▁inn ▁kshetrasli ൽ ▁matrama ▁naga ttara kalulla t . ▁trushshu ർ ▁va ikkunathshetrati ൽ ▁tekupatinjar e mul il ▁naga pratishth . ▁kingcot ▁da ർ shan . ▁nagara ja vai ▁vasu ki yu ▁naga yak shi u ▁naga chamundi u ▁mat ▁uttama dha mas ർ ppa ck s ▁ ivitayult . ▁nuru ▁pal ▁sam ർ ppic kunnatan ▁pradhan ▁waipat . ▁kootate ▁ella mas avu ▁aailya m ▁naali ൽ ▁vishesha ൽ ▁puja kalu ▁kanni mas atile ▁aailya ttin ▁s ർ ppa bali u ▁natattivarunnu . ▁kshetra mati ൽ cket tin upurt ▁tekupatinjar e mula i ൽ ▁mani kan thana ൽ ttara i ൽ ▁kingcot ▁da ർ shan mai ▁ subrahmanyaswami k ▁oru ▁pratyeka shet ▁pani titnd . ▁es u pati tan du le ▁it ullu ▁i ▁kshet ▁paniti t . ▁itinu pin ni ൽ ▁oru ▁karan mund : ▁mani kan thana ൽ ▁swatantryasamar kalat ▁oru pat ▁prasang ngs ൾ k ▁vedi ai . ▁prashast ray ▁niravadhi ▁swatantrya samarsenani k ൾ ▁akkalat ▁ivite ▁vann ▁prasang ichu poy irunnu . ▁enna ൽ ▁kshetra ttile ic upokunn ▁bhakt ർ k ▁at ▁valioru ▁prashn mai ▁mary . ▁tut ർ nn ▁avite ▁cherior u ▁kshet ▁panit ▁avite ▁ subrahmanyaswami ▁pratishthich u . ▁in nat ▁vaikkunath shetratine ▁upa kshetra mai ▁k anakkackapetunnu . ▁valli deva yani s met anay ▁ subrahmanyaswami a ▁pratishth . ▁sameepa ▁ganapati yu ▁sanniddhyam a kunnund . ▁puncha m rita vu ▁pal abhisheka v ▁ subrahmanyaswami k ▁pradhan ▁waipat uk ൾ . ▁ra may attile ▁ana shwa ra kathapatra may ▁hanuma ൻ ▁swami ▁sapta chi ran jivi kaliloralai ▁k anakkackapetunnu . ▁bhakthi ▁buddhi shkti ▁swabhava ma hi mai l umellam ▁uttama nai ▁kana kka ck a padunn ▁addeha mill airunnu v engi ൽ ▁ramayana tine ▁gati ▁maton na e ne . ▁va ikkunathshetrati ൽ ▁addehttin ▁pratishth illengil ▁rand ▁sthalansli ൽ ▁addeha ▁a drushya san ni ddhya mai ▁kuticolaunnu ▁enna ▁vishes . ▁one , ▁kshetra na l mpal attin kat ▁shriram te ▁shrikovilin ▁munn ille ▁mandap ti ൽ ; ▁martet , ▁ayyappan te ▁shrikovilin u pur k ilull ▁aushadha ttara i ൽ . ▁shriram san ni ddhya mull i tt ▁hanuma ൻ ▁ennu mundaku menn tan ▁adyatte ▁sankalpa ttinu pi nn ilull ▁vishwasa mengi ൽ , ▁ravana putra nay ▁indra ji ttu maull ▁yudhtti nite i ൽ ▁guru tara mai ▁parukk et ▁lakshm ante ▁jeev ൻ ▁rakshi k anural ▁m rita san ji vani ad engi a ▁maru tva mal yu ▁kond ▁hanuma ൻ ▁lanka ile y upokunn ▁waii ൽ ▁atine ▁oru bhaga ▁at ർ nnu vin tan ▁rantamatte ▁sankalpa ttinu pi nn ilull ▁vishes . ▁ ranti ttu ▁villkkuvaypu nd . ▁ad wai tha vedan tik anayirunn ▁aa di shankar acharya ർ ▁hindumat attin ▁putiyoru ▁bhava ▁na ൽ kunnati ൽ ▁supradhanmay ▁pank ▁vahichu . ▁32 ▁wa ർ sha ▁matra ▁ninduninn ▁jivita ▁kond ▁oru pat ▁sthalang ൾ ▁sand ർ shi i kukayu ▁oru pat ▁ kruthik ൾ ▁rachik kukayu ▁cheit ▁addeha ▁samadhi atte t ▁va ikkunathshetrati ൽ ▁vachch anen ▁vishvasi cppetunnu ▁. ▁addehtine ▁a cho n mma ma ർ k ▁putra sabha g yam ▁labhich itu tan ▁vaikkunath ▁bhaj icht u mulam a . ▁pray adhik yam ▁mulam ▁av ർ k ▁vara ൻ ▁kani ya tay po ൾ ▁av ർ kkuventi ▁bhagwa ൻ ▁kalat i i ൽ ttane ▁kuti cond u en ▁kath und . ▁avite ▁ippo ൾ ▁thiru v elee man tull i ▁mahadeva shet ▁statecheyunnu . ▁or i yk ൽ ▁shankaracharya ർ ▁ivita irunn e ▁vishnu pada dis tava ▁rachik kunnatin i shil ▁samadhi yay atennu ▁pinnite ▁addehtine ▁shishya n maran ▁at ▁pu ർ ttiyakiyat ennu ▁paryappetunnu . ▁shankaracharya ർ ▁sthapich ▁munn ▁math ng ൾ ▁math ) ▁innu ▁kshetrati n ▁sameepa mund . ▁shankaracharya ർ ▁samadhi yay ▁sthant a ▁inn ▁addehtine ▁shrikovi ൽ ▁panit irikunnat . ▁shankaracharyar ute ▁pu ർ na kaya prati m ▁kingcot ▁da ർ shan maki ▁pratishthich iriunnu . ▁nal ti ▁uyaram ▁kaa nu . ▁shrikovilin u chu u ▁shankaracharyar ute ▁jivita th ille ▁chil ▁supradhan ▁sand ർ bha ng ൾ ▁manohar mai ▁avishkar ichittund . ▁shankaracharyar ute ▁shrikovilin ▁tekkubhagat tai ▁shankh a chakra ute ▁rupaee u ▁ko tti va chittund . ▁vishnu bhagwa nte ▁thiruva yu slay ▁shankh a chakra ute ▁shila rupa ng ൾ ▁kshetratile ▁shaiva vaishnav a shakti san yog te ▁suchippic unnu . ▁simhodar ante ▁shrikovilin ▁vaikupatinjar u bhagat ▁nalmpala t chu war y ൽ ▁tri kona kriti i ൽ ▁oru ▁cheria ▁dwar mund . ▁aa ▁dwar tilute ▁vaikkunath ne ▁taj ika kut ▁condu to g unn ▁bhakt ർ ▁tut ർ nn ▁atin ▁kilokkubhagat tull ▁oru ▁tara i ൽ ▁kayri nin ▁vaikku kingk e mul ileyk ▁tiri anu no ki ▁kashi vish va nath ▁vandi kunnu . ▁kashi vi shwa nath ൻ ▁tannaan ▁vaikkunath anai ▁van unnat ▁end ▁vishwas ▁itinu pin ni ൽ . ▁itu kari nja ൽ ▁itin ▁to ta um u mp ilull ▁bal ical lin ▁mukali ൽ ▁kallu k ൾ ▁kuti i tunn ▁oru ▁aachara mundairunnu . ▁2005- ൽ ▁natann ▁deva prashna tti ൽ ▁aa ▁aa char ▁ra dda ki . ▁enna ൽ ▁innu ▁it ria tt ▁chil ർ ▁it ▁tut ർ nnu porunnu nd . ▁itin di ilute ▁oru ▁rahasya ma ർ ggam undennu ▁ atuway ▁nere ▁kashi i ▁mani k ർ ni ka gh tra tile tti cher ram ennu ▁vishvasi cppetunnu . ▁pand ▁ivite ▁bhajan m irunn ▁desh mangalam ▁namputiri k ▁kashi vi shwa nath d ർ shan ▁end ▁moh am ▁sadhichu koduk ka ൻ ▁vaikkunath ൻ ▁tanne ▁ni ർ mmitchu kotutt ata ▁aa ▁wa i ennu ▁etanu ▁maniu ruk ൾ kkulli ൽ ▁kashi iletti ▁da ർ shan ▁pu ർ ttiyaki a ▁addeha ▁tut ർ nn ▁ite ▁maa ർ gga ttilute ▁va ikkunathshetrati ൽ ▁tiritchetti yennu ▁vishvasi cppetunnu . ▁tut ർ nn ▁i ▁way ▁atechu . ▁i ▁waii lute ▁ganga yu ▁shri lak t ▁varumenn ▁pa ർ vvati k ▁tonni y atumulam at re ▁it at chatu polu xxunk ▁i ▁way ▁at a chcha ti ൽ ▁namm alu ▁pank ▁vahichu ▁end ▁vishwasa ma tre ▁kallu k ൾ ▁kuti it unnatinu pi nn ilundairunn atu polu xxunk ▁kashi vish va nath ▁to bhut ▁tecot ▁yatra ▁cheit a ൽ ▁matoru ▁tara ile ttam . ▁tekkuki ng ke mul ilull ▁i ▁tara i ൽ ninn ▁kingcot ▁nokki ▁chidambar antar a jana yu ▁tecot ▁nokki ▁ramesh vara te ▁raman a tha swami ayu ▁bhakt ർ ▁vandi kunnu . ▁shiv ൻ ▁nataraja bha wa tti ൽ ▁kuti co llu nn ▁ek ▁kshet ▁chidambar ▁kshet . ▁pratishth amu ർ tti ▁tanne ▁shiveli mu ർ ttiyay u ▁varunn ▁ek ▁kshetravu ▁itu tan . ▁chidambar nath e ▁ananda than da va ▁ramesh vara tu ▁pratiphali tch uva tre xxunk ▁rameshwaram ▁kshetra ma kate ▁aitihya prakaram ▁ra van ▁con n atumulam unday ▁brahma hat ya pa pa ▁thi ർ kka ൻ ▁shriram ൻ ▁pratishthich ▁shivashet . ▁shriram ൻ ▁pratishth ▁natattiyat ina ൽ ▁sthalattin ▁rameshwaram ▁ennu ▁pratishth k ▁raman a tha ൻ ▁ennu ▁peruk ൾ ▁vannu . ▁or i yk ൽ ▁nanti ute ▁ni ർ ddeshprakaram ▁ivite ttia ▁anant ൻ ▁i ▁tara i lirunne ▁tandava ru tta ▁da ർ shichu ven ▁aitihyam und . ▁keralatile ▁nu tet ▁du ർ gga kshetras li ൽ ▁onnam ▁sthana ▁alankari kunn ▁urak attam ma thiru vati sht ▁trushshu ർ ▁nagaratti ൽ ninn ▁uddesha ▁12 ▁kilomet ർ ▁tekku mari ▁statecheyunnu ; ▁bharatati ൽ ▁bharat pratishth yull ▁apu ർ vvam ▁kshetra slilonnay ▁i rinj ala kkut ▁kut ൽ maaniky m ▁kshet ▁24 ▁kilomet ർ ▁tekku mari u . ▁i ▁rand ▁kshetrasli ley ▁nokki tto lan ull ▁tara ▁tekke ▁gopurati ൽ ▁ninn ▁alpam ▁mary ▁statecheyunnu . ▁aitihya prakaram ▁urak attam m ▁tante ▁bhakt anay ▁thiruva laya nnu ർ ▁bha t tta tiri ute ▁ola kku te i ൽ ▁kayri irunn ▁kanchi ka mak shi ▁tannaan . ▁ur kath ▁pratishth ▁nata ttiyappo ൾ ▁bhagavti ute ▁or an sham ▁ vaikkunathshetra til ▁sanniddhyam aru li ▁enne ▁vishvasi cppetunnu . ▁kootate , ▁va ikkunathshetrati ൽ ▁j ye sh tha nay ▁shriram n otoppa ▁kuti co ll anayirunnu ▁bharat te ▁agraha m tre . ▁enna ൽ ▁bhakt anay ▁va kkai ൽ ▁kai mal ute ▁abhy ർ tthan prakaram ▁bharat ൻ ▁kut ൽ maaniky at ▁sangam e swara nai ▁kuti cond u ennu ▁enna ൽ ▁addehtine ▁a drushya sannidhyam ▁innu ▁va ikkunathshetrati lund enn ▁kath . ▁keralatile ▁et ▁prasiddhamay ▁bhadrakali she tra may ▁ko tunkallu ർ ▁shri ▁kuru mba i gav ti sht ▁trushshuri ൽ ▁ninn ▁uddesha ▁42 ▁kilomet ർ ▁tekupatinjar u mari ▁statecheyunnu . ▁parashuram ൻ ▁pratishthich ▁nal ▁ambika laya s ilonnan tre ▁it . ▁keralatile ▁64 ▁bhadrakali kshetras ute ▁mula sthan mayu ▁kotugllur ▁conduvarunnu . ▁chil a pati kara ttile ▁nayika yay ▁kanna ki ayu ▁bhagavti ▁conduvarunn undeakil ▁bhadrakali bhava ▁tannaan ▁pradhan . ▁kotu ra lla rile k ▁nokki tto lan ull ▁tara ▁oru ▁aa ൽ mar attine ▁tara n . ▁kshetratile ▁tekke ▁gopurati ൽ ninn ▁alpam ▁patinjaru maria ▁i ▁aa ൽ maram . ▁urak ▁kshetratine ▁kingke ▁gopurati ൽ ▁kotugllur mmayute ▁sanniddhyam und enna ▁vishes . ▁urak atta mmayute ▁a drushya san ni ddhya mula tukond ▁koot i yaka ▁kotugllur am may k ▁ivite ▁sthana ▁udhappi cht . ▁tekupatinjar e mula ile yu no ki ▁kotugllur amma ye ▁tho bhu nn ▁bhakt ർ ▁tut ർ nn ▁avite tane ▁vatcot ▁tiri ng u nin ▁pradhan ▁shrikovil u ute ▁taj ika kku tre su ▁nokki tto a unnu . ▁itihasa kavya may ▁mahabharata tinteyu ▁patinet ▁purana utayu ▁k ർ ttavay ▁vedavyas ▁ivite ▁tekkubhagat e ▁oru ▁aa ൽ mar attine ▁chu wati ൽ ▁a drushya san ni ddhya mund . ▁oru ▁cheria ▁uru l ൻ kall il ▁vedavyas e ▁sankalp ichu to j unnat . ▁kotugllur mmayute ▁tar k ▁to ttu patinjar u maria ▁vedavyas a sankalpa . ▁i ▁tara i ൽ ▁da ർ shan ▁natati kka shi nja ൽ ▁man ali ൽ ▁' hari shri ▁gana pat ye ▁nama h ▁avi gh nama stu ▁shri ▁guru bh yo ▁nama h ' ▁end ▁vidya rambha mantra ▁anu tukayu ▁want . ▁vyasa shila ute ▁take ▁dakshinamu ർ tti sankalpa vumund . ▁shivane ▁tanne ▁sanyas a bhava ▁dakshinamu ർ tti . ▁prapantatin e ▁adi guru ▁end ▁sankalpa ttilult an ▁i ▁bhava . ▁atina ൽ ▁vidy abhivruddhi k ▁dakshinamu ർ tti bha jana vu ▁uttama mai ▁k anakkackapetunnu . ▁vyasa shila ute ▁chuv a ttilull ▁dakshinamu ർ tti e ▁to qu tu van t ▁ayyap ane ▁to ba ൻ ▁enna ▁aa char . ▁ illengi ൽ ▁da ർ shan pu n yam ▁na shi c kuma tre xxunk ▁ vaikkunathshetra tin ▁kilokkubhagat ▁trushshu ർ ▁nagaratti ൽ ttan nayull ▁prasiddhamay ▁bhagavti shet ▁passmea ▁kshet . ▁trushshu ർ ▁pura tine ▁pradhan ppet ▁rand ▁pankali ka liloralay ▁i ▁kshetratile ▁pratishth ▁prasiddhamay ▁thiruman dhan kun ▁kshetratile ▁pratishth anen ▁vishwasichu varunnu . ▁i ▁pratishth ute ▁mula sthana ▁vaikkunnath a shetratine ▁patinjare ▁gopurati n ▁vaikkubhagat tull ▁i la nja i tta an . ▁it ▁ivite ▁vara ൻ ▁karanmay ▁oru ▁sambhava mund . ▁a th ing : ▁trushshu ർ ▁nagaratti n ▁tekkubhagat tull ▁ku ർ kk ancheri i ▁a ppat ▁ka uari tta wa ttile ▁karnav a rayirunn ▁kuruppa ൾ ▁thiruman dhan kunn il mmayute ▁param bhakt an airunnu . ▁ella mas avu ▁mugha ng ate ▁thiruman dhan kunn i ൽ ▁da ർ shan ttinu poy irunn ▁addehttin ▁pray adhik yam ▁karea ▁atin ▁kaniat ▁varumenn ▁ghatea ▁vannapo ൾ ▁addeha ▁ishta dev t yot ▁nati ൽ ▁kuti cola namenne ▁abhy ർ tthi chu . ▁karuna mai ay ▁devi ▁at ▁sammath ich ▁kuruppa der i at ▁addehtine ▁ola kku te i ൽ ▁kayri irunnu . ▁yatra ka rinj ▁kshin itan ai ▁tiritchetti a ▁kuruppa ൾ ▁vaikkunath ▁to bhut ▁i la nja i ttara i ൽ ▁kilo nnu ra ndi . ▁un ർ nn ed unnat e ▁ku du m etut ▁poka ൻ ▁ninn ▁addeha ▁kut ▁avite ▁urachch u kavi nja tai ▁kantu . ▁tut ർ nn ▁prashna ▁vat chu no ki appo ൾ ▁devi sannidhyam ▁kantu . ▁devi ▁sannidhyam ▁kantat in ▁tut ർ nn ▁devi ▁tante ▁tadwatti le ▁kalri i ൽ ▁pratishthich u ▁yatha vidhi ▁puja vidhi k ൾ ▁cheitu ▁kollam ▁enne ▁man mu ruk i ▁pra ർ tthi ch tin ▁tut ർ nn ▁ola kkut ▁avite ▁ninnu ▁adukku kayu ▁tut ർ nn ▁tante ▁ku ർ kk ancheri ▁tadwatti le ▁kalri i ൽ ▁devi ▁shaktey a vidhi ▁prakaram ▁pratishth ikkukayu ▁cheitu . ▁devi ute ▁pratishth ▁natattia ▁kalri ute ▁to ttu ▁pur k ilull ▁pa ro ▁mara chch u wati ൽ ▁ayatina ൽ ▁pa ron ka ▁bhagavti ▁enne ▁desh ni vasik ൾ ▁vilichu ▁po nnu ▁. kala k ram en ▁pa ron ka ▁lo bhi cchu ▁passmea ▁bhagavti ▁enna ria ppettu . ▁devi d ർ shan ▁we li pettat ▁i la nja i ttara i ൽ ▁we ccha yat ▁kond ▁karnav ർ ▁ivitayu ▁devi ute ▁oru ▁shila pratishth ▁natati . pinnite ▁vaikkunath ▁kshet ▁kutut ൽ ▁vipulikari kunnatin e ▁bhagamai ▁i ▁pratishth ▁ vaikkunathshetra tin ▁kilokkubhagat tull ▁kuta ൻ ▁para yute ▁mukalila yu mati . ▁angne ▁aa ▁kshetrati n ▁passmea ▁end ▁peru vannu . ku ർ kk ancheri ▁kuruppa ൾ ▁tadwatti le ▁karnav arute ▁kalri i ൽ ▁passmea ▁bhagavti ute ▁pratishth ▁kootate ▁chand ika bhagavt i ▁ , mana kko ti ▁ayyap ൻ ▁ , vana s hasta ▁ , vir bhadra ൻ , kuru ppa ൾ ▁karnav ർ ▁enni ▁pratishth ak ൾ ▁kootiund ▁. karna v ർ ▁devi i ൽ ▁samadhi ▁prapich etote ▁karnav arute ▁rupam ▁pin talam ura kka ർ ▁kalri ▁purat ▁pratishth i kukaa ▁undayat . shi va linga rupattilull ▁kull ute ▁rupatti ൽ ▁aan ▁karnav arute ▁pratishth ▁natattiyat . kuru ppa ൾ ▁karnav ർ k ▁devi u mayull ▁ab he ddhya may ▁bandha ▁ ulritina ൽ ▁puratt ull ▁pratishth ▁urak ate ▁ irikkayu ▁pinnite ▁jyotish vidhi ▁prakaram ▁kalri ▁a katu ▁tanne ▁pratishth ikkayu ▁cheiyuk ayairunnu ▁. ku ർ kk ancheri ▁kuruppa ൾ ▁kalri ot ▁anubandh ichu ▁s ർ ppa kavu ▁ , brahma raksha s su ▁nilecolaunnu . i nnu ▁passmea ▁kshetratile ▁vel ▁atiyantar ▁pramani ch ▁kshetra ko mar m ▁ku ർ kk ancheri ▁kuruppa ൾ ▁kalri i ൽ ▁varu kayu ▁ari er u ▁natati ▁mula sthan tt otulla ▁kat ppat ▁ari ikkayu ▁cheitu ▁varunnu ▁. ma kar masatti le ▁pan ppara , tru shu ർ ▁puratt or anu bandhit ch ull ▁pura ppara ▁it ellam ▁tuingunnat ▁ku ർ kk ancheri ▁kuruppa ൾ ▁tadwatti ൽ ▁ninn . ▁karnav ർ ▁i la nja i ttara i ൽ ▁vishram ichch atin ▁tut ർ nn ▁devi cha itan yam ▁bodhya ppettat inte ▁o ർ mma ya ▁trushu ർ ▁puratt ot ▁anubandh i tchull ▁vishwa prasiddhamay ▁i la nja i tara ▁me lam ▁ vaikkunathshetra ttin kat ▁natatti varunnat . ▁trushshu ർ ▁pura tine ▁pankali kali ൽ ▁mati ൽ cket tina cat ▁kayru nnat ▁pass me kka vil mm ▁matrama . p ▁adyam ▁shri mul sthana t ▁to bhu k . ▁ravi le anengi ൽ ▁araya lin ▁e ku valam ▁vai kkunnatu ▁uttama . ▁tut ർ nn ▁patinjare ▁gopurati lute ▁a kat ▁katann ▁kali shila e ▁vandi ch ▁pradakshin mai ▁vann ▁shrikrishna e ▁vandi kook . ▁tut ർ nn ▁vaikke ▁nadi lute ▁pradakshi ▁vach ▁vaikupatinjar e ▁nalmpala cket ty le tti ▁rushabh ane ▁vandi kook . ▁rushabh ൻ ▁sada ▁dhyan ni ma g nnu ▁nag nnu mayatina ൽ ▁kai co ti tto yu t , ▁vastra tti ൽ ninn ▁oru ▁nu le tut ▁want ▁da ർ shan ▁natatta ൻ . ▁tut ർ nn ▁vaikke ▁na tille ▁o vinte ▁a rik ilute ▁nalmpalattin kat ▁katann ▁mandap tin ▁munn iletti ▁vaikkunath ▁to bhu k . ▁tut ർ nn ▁mandap tine ▁tekkubhagat tuk ute ▁patinjare ▁nalmpala cket ti ൽ ▁poi ▁nanti yayu ▁vasu ki sha yi eyu ▁nritta nath a neyu ▁to puta shes ▁mandap tine ▁vaikkubhagat tuk ute ▁vind ▁shrikovilin ▁munn iletti ▁vaikkunath ▁vandi kook . ▁tut ർ nn ▁mandap ti lirunne ▁name ▁ja pi c kunn ▁brahman arayu ▁vandi chchashes ▁pa ർ vvati devi ▁to ba ൻ ▁kingke ▁nat ileyk ▁po cook . ▁tut ർ nn ▁tirichu vann ▁ganapati ▁to bhu k . ▁pinne ▁shankarnarayan ayu ▁shriram ayu ▁vandi t chu kavi nja ൽ ▁kingcot ▁tiri ng u nin ▁suryan mas kara ▁nata t enatund . ▁i ▁ritii ൽ ▁munnu tavan ▁pradakshi ▁va chchashes ▁nalmpalattin ▁purat ▁kati cook . ▁tut ർ nn ▁pradakshin mai ▁vaikku kingk e mul iletti ▁parashuram a ▁vandi chchashes ▁simhodar ane ▁to l anai ▁teku pati n wat ▁nata kcook . ▁simhodar ane ▁to qu tu kari nja ൽ ▁shrikovilin ▁vaikupatinjar u bhagat ▁nalmpala tch uva rille ▁oru ▁dwar tilute ▁vaikkunath ne ▁taj ika kut ▁condu to qu tu kari nja ൽ ▁atuttull ▁tara i ൽ ▁kayry ▁vaikku k ica cot ▁ti rinera ▁kashi vish va nath ▁vandi kook . ▁pinnite ▁pradakshi ▁vai kkumpo ൾ ▁tekkuki ng ke mul i ൽ ▁oru ▁tara ▁kanan . ▁ati ൽ ▁kayri nin ▁vaikku k ica cot ▁ti rinera ▁chidambar antar a jana yu ▁tekkuki ca cot ▁ti rinera ▁rameshwaram ▁raman a tha swami ayu ▁vandi kook . ▁tut ർ nn ▁tekke ▁gopurati ntuttull ▁tara i ൽ ▁kayri nin ▁tecot ▁ti rinera ▁urak attam ma thiru vati yu ▁kut ൽ maaniky a swami ayu ▁atin ▁patinjaru ral ▁aa ൽ ttara i ൽ ▁kayri nin ▁tekupatinjar ot ▁ti rinera ▁kotugllur amma yayu ▁vatcot ▁ti rinera ▁pradhan shri kovi lu ute ▁taj ika kkut sayu ▁vandi kook . ▁tut ർ nn ▁vyasa shil iletti ▁vedavyas mah ർ shi e ▁vandi ch ▁vidya rambha mantra ▁kurich ▁mara chch uva ttille ▁dakshinamu ർ tti e ▁to puta shes ▁pradakshin mai ▁vann ▁ayyap ane ▁to bhu k . ▁ayyap ane ▁to qu tu kari nja ൽ ▁tut ർ nn ▁m rita san ji vani ttara ileyk ▁chel luk . ▁avite ▁ennu ▁pu vu ll ▁oru ▁cheti und . ▁atile ▁pu v etut ▁tali ൽ ▁to tta ൽ ▁pinne ▁oru ▁wa ർ shatte yk ▁viti ൽ ▁marana ▁natak k ille nna ▁vishes . ▁ite ▁tara i ൽ ▁a drushya nai ▁van unn ▁hanuma ൻ ▁swami ▁vandi ch ▁vet te y kare ▁to ba ൻ ▁chel luk . ▁shatru na sh ttin ▁vet te y kare ▁tho c kunnat ▁uttama mai ▁k anakkackapetunnu . ▁pinne ▁atin ▁vaikkubhagat tull ▁naga tta ral ▁shankh a chakra pratishth ▁to puta shes ▁shankaracharyar e ▁vandi kook . ▁tut ർ nn ▁kshetratile ▁i la nja i tta ral ▁to bhut ▁purat ▁kati cook . ▁ingtone ▁k ram prakaram ▁vandi ccha ൽ ▁da ർ shan ▁pu ർ co mai . ▁3 ▁kilometar ▁motta ▁pradakshi . ▁kshetrattinu u u ▁swaraj ▁rand ▁pani tiriunnu . ▁pat u mengi ൽ ▁natuvi la ൽ , ▁mani kan thana ൽ ▁kshetras ▁da ർ shan ▁natatta vu nntan . ▁utsava millat ▁deva ▁vaikkunnath ൻ . ▁vaikkunnath ൻ ▁kshetratile ▁dev nma ർ k ▁utsava ghosh amo ▁pur mo ▁ill . ▁pand ▁kalat ▁utsava mundairunn ennu ▁at ▁pinnite ▁mugha ng i ennu ▁parayunnu . ▁or i yk ൽ ▁indra di de vare llavaru ▁kuti ▁oru ▁gambhir ▁utsava ▁natatti yennu ▁at ▁ati gam bhi r mayatina ൽ ▁pinnite ▁attar atil one ▁aavashyamill e ▁shiv ൻ ▁parannu vennu ▁aitihyam und . ▁kumbha masatti le ▁karutt a pak ttile ▁chatu ർ dd shi divas ▁laksha di pa ng ൾ ▁teliitu ▁pushpa la ൽ ▁alankari chu ▁aghosh ikunn ▁shivaratri ▁utsava ▁ivite ▁pradhan . ▁ella ▁shivashetras ▁vishesha divas a manit . ▁ann ▁trushshu ർ ▁pura ttinu ▁varunn ▁kshetrasli ൽ ▁ninn ▁devi dev ma ർ ▁anunnalli van ▁vaikkunath ▁vandi ch ▁math ng unnu . ▁av ▁passmea , ▁thiruva m pati , ▁chempu ka , ▁kani mangalam , ▁la lu ർ , ▁ayyan to ൾ , ▁nai tala , ▁chur kot , ▁kar muk , ▁pan mu kkam pill i , ▁ash ok eshwar ▁enni ▁kshetrasli ൽ ▁ninna . ▁shivaratri ot nu bandh ich ▁ravi layu ▁vaikunnera vu ▁100 1 ▁kathin we tiyu ▁divas ▁mubhuv ൻ ▁nay y abhisheka ▁natattarund . ▁shivaratri ot nu bandh ich ▁vishesha ൽ ▁kala paripati kalu mundaku . ▁lok ▁prasiddhamay ▁trushshu ർ ▁puram ▁shri ▁vaikkunath ne s ani dhya til ▁nata kcook . ▁trushshu ർ ▁puram ▁naali ൽ ▁kailas nath ▁cond ▁vandi kka ൻ ▁chutu vat tati ൽ ninnu ▁devi dev ma ർ ▁anunnalli e ttu . ▁trushshu ർ ▁purame nnat ▁pal ▁pal ▁kshetrasli ൽ ▁ninn ▁an unn elli ch ▁vann ▁kshetra mai tan i i ▁tir itchu po kunnatin an ▁suchippikunnat . ▁ati ൽ ▁tanne ▁passmea ▁puram ▁matrame ▁kshetra mati ൽ cket ti nak tek ▁praveshi unnu llu . ▁vaikkunnath ൻ ▁i ▁pura tine ▁sakshi ▁matrama . ▁ororutt aru ▁vannu po kunnu , ▁varunnu . ▁a tra matra . ▁passmea ▁bhagavti ▁mati ൽ cket ti nak tek ▁kathikunnat ine ▁aitihyam itan : ▁kochi raja vinte ▁kilo ile ▁dhir a ayodha va irunn ▁a ppat ▁kuruppa ൾ ▁tikanera ▁devi bhakt an airunnu . ▁ella mas avu ▁addeha ▁angati puram ▁thiruman dhan kun ▁kshetra ttileik ▁da ർ shan ttinu po kumairunnu . ▁wa ർ ddh k ya tt ettut ർ nn ▁addehttinu po ka ൻ ▁kaniat ▁varumenn ▁avasth ▁vannapo ൾ ▁avasana d ർ shan ttinushes ▁addeha ▁bhagavti ot ▁tante ▁vidi ntu tteak ▁vara namenne ▁avashyapettu . ▁bhakt a vat sal yay ▁thiruman dhan kunn ila mm ▁aa ▁aavashya ▁swikarichu . ▁tiritchetti a ▁kuruppa ൾ ▁vaikkunnath anayu ▁to puta shes ▁vaik up atin tha ru vashattu ll ▁i la nja i ttara i ൽ ▁kilo nnu ra ndi . ▁un ർ nn ▁tante ▁ku du m etut ▁yatra che yam ennayirunnu ▁addehtine ▁thirumana . ▁enna ൽ ▁ apoeeku ▁kut ▁urachch uka rin thirunnu . ▁it a rinj ▁sthalatte ttia ▁j yot s yan ma ർ ▁ku lo i ൽ ▁bhagavti ute ▁sanniddhyam unt en ▁conteti . ▁tut ർ nn ▁avite ▁pratishth yu ▁natati . ▁innu ▁divasavu ▁pass me ka ville ▁diparadhan as mayat ▁avite ▁vill kku vach ▁puja yu ▁natati vannu . ▁kala krama tti ൽ ▁bhagavti ute ▁pratishth ▁kshetrati n ▁kilokkubhagat tull ▁oru ▁cheru pur ute ▁kar ile ▁para yute ▁mukali ൽ ▁pratishthich u . ▁para yute ▁mukali ൽ ▁pratishthich atina ൽ ▁passmea ▁end ▁peru vannu . ▁bhagavti ute ▁mula sthan may atukona ▁puratt in ▁mati ൽ cket tina cat ▁i la nja i ttara i ൽ ▁pandimelam ▁natattunnat . ▁hindu niyam prakaram ▁pandimelam ▁mati ൽ cket tina cat ▁natatta ൻ ▁patill . ▁karea ▁at ▁a asura vadya a . ▁dev vadya may ▁puncha ri matrame ▁pat ullu ▁enna ▁chit . ▁enna ൽ , ▁annatte ▁keraliya sam ute t ilundairunn ▁brahman me dha vit va te ▁ethi ർ tt ▁nagar pet avay ▁shakt ൻ ▁tampura ൻ ▁pratishedh su chak amai ▁chit ▁teti kkukayairunnu . ▁tekke ▁gopuram ▁u tu pur ▁kshetra kulam ▁patinjare ▁gopuram ▁patinjare ▁gopuram ▁vaikke go puram ▁patinjare ▁gopuram ▁shri ▁mula sthana ▁kshetra mut te ▁vita k ▁tekke go puram ▁kshetra go puram ▁deep a prabha i ൽ ▁patinjare ▁gopuram ▁vaikkunnath ▁kshet ▁tekke ▁gopura nt ▁trushu ർ ▁puram ▁passmea ▁kshet ▁• ▁thiruva m pati ▁kshetra kani mangalam ▁shasta ▁kshet ▁• ▁pan mu kkam pill i ▁shri dh ർ mmshasta ▁kshet ▁• ▁chempu ca ▁kaa ർ tt ya yani ▁kshet ▁• ▁pu cat i kar ▁kar muk ▁bhagavti ▁• ▁la lu ർ ▁kaa ർ tt ya yani ▁kshet ▁• ▁chur kot tuka ▁bhagavti sht ▁• ▁ayyan to ൾ ▁kaa ർ tt ya yani ▁kshet ▁• ▁kushat u ർ ▁neit al ca vil mma vai kku nath ൻ ▁kshet ▁man tti ൽ ▁vara ▁• ▁pura ppura pati la nja i ttara me lam ▁• ▁tecot i rum ▁kutama om ▁• ▁weti ce t ▁trushshu ർ ▁• ▁shakt ൻ ▁tampura ൻ ▁panchvadyam ▁• ▁pandimelam ▁hindu ▁kshetras lumai ▁bandhappet ▁i ▁lekhana ▁apu ർ sanma . ▁itu ▁vidocipikku va ൻ ▁sahayikcook .,▁x x bo s ▁chanda ma ma ▁was ▁a ▁classic ▁indian ▁magazine ▁for ▁children . ▁over ▁the ▁years , ▁chanda ma ma ▁has ▁published ▁beautiful ▁myths ▁and ▁legend s . ▁initially , ▁telugu ▁filmmaker s ▁b . ▁nag i ▁reddy ▁and ▁chakra pani ▁started ▁a ▁magazine ▁called ▁chanda ma ma . ▁kod ava tti gan thi ▁ku da mba ▁rao ▁was ▁the ▁editor . ▁kod ava tti gan thi ▁was ▁edit ed ▁by ▁chakra pani ▁in ▁telugu ▁literature , ▁who ▁was ▁a ▁friend ▁of ▁ku da mba ▁rao . ▁edit ed ▁for ▁28 ▁years ▁until ▁his ▁death ▁in ▁august ▁1980 . ▁in ▁2007 , ▁chanda ma ma ▁was ▁acquired ▁by ▁geo te s ic , ▁a ▁mumbai - based ▁software ▁services ▁company . ▁in ▁the ▁60 - year - old ▁magazine ▁digital ▁age , ▁they ▁decided ▁to ▁plan . ▁however , ▁the ▁mumbai ▁high ▁court ▁order ed ▁geo des ic ▁to ▁rep ay ▁the ▁lo an ▁to ▁the ▁now ▁de fu n ct ▁magazine . ▁2016 ▁july i ൽ , ▁masikayut e ▁nilevi lle ▁state ▁agyat a . ▁matra sthapan ▁company yay ▁ji o dish ▁li k vi desh ൻ ▁pra kri il , ▁chanda ma m ▁bra ൻ du ▁nischit ▁gati i ൽ ▁vi ൽ kka ൻ ▁pratiksh iunnu . ▁masikayut e ▁audyogik ▁website ▁magazi ൻ ▁uthmak arute ▁kalavadhi ▁avasanippi kka ൻ ▁anuvadich irunnu . ▁nilevi lle ▁website ▁chanda ma m ▁masik yumai ▁bandhappetutti till . ▁the ▁book ▁was ▁developed ▁by ▁ku du mbar ayo ▁to ▁en co ur age ▁young ▁writers ▁among ▁the ▁telugu ▁- ▁ speaking ▁people ▁of ▁andhra ▁pradesh ▁to ▁comp ile ▁a ▁complete ▁collection ▁of ▁telugu ▁literature ▁on ▁indian ▁mythology ▁over ▁the ▁decade s . ▁da sari ▁sub ra mani am ▁also ▁wrote ▁stories ▁with ▁a ▁few ▁folk ▁tal es . ▁stories ▁like ▁the ▁under w or l d ▁he ▁wrote ▁are ▁very ▁popular . ▁2008 ▁november y ൽ ▁itin ▁pun ർ rupa k ൽ ppan ▁cheiyukayu ▁bhash , ▁avatara , ▁kala srushti , ▁ulateke ▁ennivi ൽ ▁aadhunik av ൽ k karikkayu ▁cheitu . ▁vikra - ve ta ൾ , ▁puranas ▁kathak ൾ ▁tutangia ▁paddy ▁janapriya pe ttava k ൾ ▁tut ർ nnu kondu po vukyu , ▁samakalik ▁kathak ൾ , ▁sahasik ▁kathak ൾ , ▁spo ർ ts , ▁technology , ▁wa ർ tta ▁pe ju k ൾ ▁tutangiyav ▁u ൾ pete ▁niravadhi ▁putia ▁kutiche ർ kkalu k ൾ ▁undai . ▁kutti ute ▁sahitya ttile ▁putia ▁prav an tak ൾ ▁kanakiletut , ▁akadami c ▁packnattinu ▁atine ▁vishakalana ttinu ▁uy ർ nnu varunn ▁praadhanyam ▁kanakiletut , ▁chanda ma m ▁atine ▁editor ia ൽ ▁naya ng ൾ ▁kala nslai ▁anusrich ▁niloni ർ tta ൻ ▁shram ichirunnu . ▁et ▁pankkamulla ▁bra ൻ de nn ▁niley i ൽ , ▁vaine kka ർ k ▁vendi ▁vinoda , ▁se ൻ si tive , ▁vidyabhyas ▁sahitya m , ▁vitara ▁cheyyanull ▁chumtal ▁enniv ▁chanda ma m ▁eteetuttu . ▁chanda ma ma ▁was ▁published ▁in ▁13 ▁languages . ▁it ▁also ▁had ▁200 ,000 ▁reader s . ▁tantay ▁sailii ൽ ▁kath ▁parayunnat i nai ▁oru ▁masik ▁tayyaraki . ▁e poshu ▁oru ▁dha ർ mmik ▁mulyng ute ▁oru ▁saadharan ▁tre d ▁bandhi kkayu ▁oru ▁muttashshi k tha ute ▁sailii ൽ ▁ print ▁cheiyukayu ▁cheitu . ▁ prasidhikarichch ▁kathakali ൽ ▁pal ▁charitra vu ▁aadhunik ▁pa thalu ▁i ൻ dy , ▁mat ▁rajyas ▁ninnumulla tan . ▁mi th ology , ▁itihasa no ൾ , ▁kathapatra ifa ൾ , ▁upa mak ൾ , ▁upakar a prad may ▁sh ro ta ck ൾ ▁enniv ▁upyogikunnat ▁nanna i ▁manassilakka ൻ ▁sahayi k . ▁angne ▁av ർ ▁jeevitati ൽ ▁shariyay ▁de esh ▁te du a . ▁the ▁stories ▁of ▁vikramaditya ▁and ▁ve thala m ▁in ▁the ▁royal ▁story ▁of ▁the ▁ancient ▁sanskrit ▁work ▁bai thal ▁panch e es ▁gave ▁the ▁magazine ▁great ▁popularity . ▁popular ▁tv ▁appeared ▁in ▁serial s ▁as ▁well . ▁in ▁each ▁case , ▁they ▁have ▁se ized ▁it , ▁despi te ▁obstacle s ▁we ▁can ▁scar ce ly ▁imagin e . ▁\" ▁for ▁king ▁vikramaditya , ▁this ▁involve s ▁a ▁moral ▁crisis . ▁the ▁ wise ▁king ▁answer s ▁the ▁question s ▁correct ly . ▁thus ▁the ▁te mp t ation ▁fa il s ▁and ▁forces ▁the ▁king ▁to ▁answer ▁the ▁te mp t ation ▁again ▁and ▁again . ▁1947 ▁july i ൽ ▁chanda ma may ute ▁adyatte ▁patip ▁purattikaeni . ▁magazi ൻ ▁sthapak ൻ ▁edit a ർ ▁bi . ▁nag i ▁reddy ▁pinnite ▁ten nin dya ille ▁oru ▁pramukh ▁chalachlitra ▁ni ർ mata vai ▁mary . ▁nag i ▁red di ute ▁suhrittay ▁chakra pani ▁masik ai ku ▁pinni lull ▁shakti airunnu . ▁addehtine ▁da ർ shan , ▁lakshyam ▁vaine karan e ▁manassil a ck ൽ ▁ennivyu ▁masik ak ▁peru ▁prashasti yu ▁neticotuttu .19 47 ▁july i ൽ ▁telung ▁tamil il ▁adyamai ▁amb uli ma m ▁end ▁pery ൽ ▁prasidhikarichu . ▁1949 ▁july i ൽ ▁kannada ▁patip ▁adyamai ▁pratyakashppett u . ▁tut ർ nn ▁1949 ▁agast ▁ xxunk il . ▁1952 ▁april i ൽ ▁ prasidhikarichch ▁mara ti , ▁malyalam , ▁1954 ▁ ൽ ▁gujarati , ▁1955 - ▁ ൽ ▁english , ▁1955 , ▁or ia , ▁1956 ▁- ൽ ▁sindh i ▁1972 - ▁ ൽ ▁bengali , ▁1975 - ▁ ൽ ▁punjabi , ▁1976 - ▁ ൽ ▁as a mis , ▁1978 ▁- ൽ ▁sinhala , ▁1984 - ▁ ൽ ▁sanskrit , ▁2004- ▁ ൽ ▁saa ൻ de li ▁enniv il ▁prasidhikara ▁natati . ▁punjabi , ▁sindh i , ▁si ൻ le ▁e di shan uk ൾ ▁oru ▁cheria ▁kalayalvi ൽ ▁matrama ▁prasidhikaricht . ▁1957 ▁octobe ർ ▁mut ൽ ▁1970 ▁ju ൺ ▁vare ▁englishi ൽ ▁prasidhikarica ppetti ll . ▁tobi ൽ ▁t ർ kkang ൾ ▁karea ▁1998 - ൽ ▁masik ▁prasidhikara ▁avasan ippitchu . ▁ennirunnal ▁oru ▁masa ttinushes ▁masik ▁vind ▁pun ad era ram bhi chirunnu . ▁it ▁12 ▁india ൻ , ▁english ▁bhashakal ▁labhyama irunnu . ▁chanda ma ma ' s ▁i llu stra tor s ▁have ▁defined ▁the ▁magazine ' s ▁shape ▁for ▁decade s . ▁they ▁are ▁mt v . ▁a charya , ▁t . ▁veer a ▁raghava n . ▁wa dda di ▁papaya , ▁signed ▁as ▁wa ppa ; ▁ke sava ▁rao , ▁signed ▁as ▁ke sava ; ▁m ▁gokhale ; ▁k . ▁shankar , ▁who ▁joined ▁chanda ma ma ▁in ▁1951 . ▁si va san karan ▁worked ▁from ▁1951 ▁to ▁2011 . ▁6 ▁decade s ▁of ▁un res tric ted ▁relationship xxunk ▁later ▁artist s ▁such ▁as ▁shakti das ; ▁m . ▁signed ▁as ▁ra zi . ▁k . ▁language ; ▁gandhi ▁ayya , ▁a kka ▁gandhi ; ▁p ▁mah esh ▁also ▁worked ▁duri ng ▁the ▁current ▁period ▁of ▁the ▁magazine . ▁initially , ▁the ▁covers ▁were ▁printed ▁in ▁four ▁colors . ▁the ▁interior s ▁were ▁used ▁to ▁pain t ▁i llu stra tion s . ▁there ▁was ▁an ▁i llu stra tion ▁on ▁every ▁page ▁of ▁chanda ma ma . ▁ though ▁the ▁word ▁was ▁har sh , ▁chanda ma ma ▁was ▁not ▁a ▁co mic ▁book ▁but ▁a ▁picture - s tory ▁book . ▁magazi ൻ ▁aarambha ▁mut ൽ ▁sthapan e ▁kutuba tine ▁kaik alla . ▁nilevi lle ▁prasadhak anay ▁bi ▁vishwanath ▁reddy ▁i ▁masikayut e ▁me ൽ notte ▁tante ▁peita vi ൽ ▁ninnu ▁e u vari irunnu . ▁1999 - ▁ ൽ ▁company ▁oru ▁public ▁limitod ▁compani ai ▁uy ർ nnu . ▁mo ർ g ൻ ▁sta ൻ li yu ▁company i ൽ ▁ohari ▁vang kayu ▁cheitu . ▁ji o desh i inte ▁avasan ▁edit a ർ ▁pra shan t ▁mu li kkar airunnu . ▁2006 ▁oguest y ൽ ▁chanda ma mai ൽ ▁dis ni ▁ohari ▁vang a ൻ ▁thiruman ia chirunnu ▁enne ▁repo ർ tt ▁cheyyapettu . ▁2007- ▁ ൽ ▁chanda ma m ▁technology ▁company ▁ji o desh i ▁i ൻ pho ർ me sh ൻ ▁si s te ns ▁ateedukkukayu ▁cheitu . 20 16 ▁july i ൽ , ▁masikayut e ▁nilevi lle ▁state ▁agyat a . ▁matra sthapan ▁company yay ▁ji od es ic ▁li k vi desh ൻ ▁pra kri il . ▁chanda ma m ▁bra ൻ du ▁ai ▁pi ▁yu ▁vi ൽ k kumenn ▁pratiksh iunnu . ▁chanda ma ma ▁has ▁acquired ▁a ▁technology ▁company ▁to ▁further ▁dig it ize ▁and ▁make ▁its ▁content ▁available ▁through ▁digital ▁librari es ▁and ▁the ▁web . ▁in ▁addition , ▁chanda ma ma ' s ▁multi media ▁and ▁c ds ▁were ▁published . ▁to wards ▁the ▁end ▁of ▁2007 , ▁chanda ma ma ▁launched ▁a ▁re va mp ed ▁internet ▁presence ▁to ▁better ▁ref resh ▁reader s ▁who ▁are ▁ seeking ▁information ▁and ▁content ▁outside ▁of ▁the ▁published ▁publication . ▁satellite ▁radio ▁service ▁provide r ▁has ▁partner ed ▁with ▁world s pa ce ▁to ▁bring ▁the ▁indian ▁story te ll ing ▁tradition ▁live ▁on ▁radio . ▁six ty ▁years ▁of ▁publication ▁in ▁all ▁indian ▁languages ▁was ▁announced ▁to ▁be ▁submitted ▁on line ▁soon .\n",
       "y: LMLabelList\n",
       ",,,,\n",
       "Path: /data/home/ubuntu/gaurav/in/fire/code-mixed-enma-2/language_model/../dataset_preparation;\n",
       "\n",
       "Test: None, model=SequentialRNN(\n",
       "  (0): AWD_LSTM(\n",
       "    (encoder): Embedding(15000, 400, padding_idx=1)\n",
       "    (encoder_dp): EmbeddingDropout(\n",
       "      (emb): Embedding(15000, 400, padding_idx=1)\n",
       "    )\n",
       "    (rnns): ModuleList(\n",
       "      (0): WeightDropout(\n",
       "        (module): LSTM(400, 1152, batch_first=True)\n",
       "      )\n",
       "      (1): WeightDropout(\n",
       "        (module): LSTM(1152, 1152, batch_first=True)\n",
       "      )\n",
       "      (2): WeightDropout(\n",
       "        (module): LSTM(1152, 400, batch_first=True)\n",
       "      )\n",
       "    )\n",
       "    (input_dp): RNNDropout()\n",
       "    (hidden_dps): ModuleList(\n",
       "      (0): RNNDropout()\n",
       "      (1): RNNDropout()\n",
       "      (2): RNNDropout()\n",
       "    )\n",
       "  )\n",
       "  (1): LinearDecoder(\n",
       "    (decoder): Linear(in_features=400, out_features=15000, bias=True)\n",
       "    (output_dp): RNNDropout()\n",
       "  )\n",
       "), opt_func=functools.partial(<class 'torch.optim.adam.Adam'>, betas=(0.9, 0.99)), loss_func=FlattenedLoss of CrossEntropyLoss(), metrics=[<function accuracy at 0x7f90ac2b9048>], true_wd=True, bn_wd=True, wd=0.01, train_bn=True, path=PosixPath('/data/home/ubuntu/gaurav/in/fire/code-mixed-enma-2/language_model/../dataset_preparation'), model_dir='models', callback_fns=[functools.partial(<class 'fastai.basic_train.Recorder'>, add_time=True, silent=False)], callbacks=[RNNTrainer\n",
       "learn: LanguageLearner(data=TextLMDataBunch;\n",
       "\n",
       "Train: LabelList (17336 items)\n",
       "x: LMTextList\n",
       "▁x x bo s ▁chandragiri ▁fort ▁is ▁located ▁on ▁the ▁banks ▁of ▁the ▁chandragiri ▁river , ▁southeast ▁of ▁kasaragod ▁district ▁in ▁north ▁kerala . ▁the ▁ru in ed ▁fort ▁is ▁a ▁beautiful ▁wind ow ▁to ▁the ▁river , ▁the ▁arabia n ▁sea ▁and ▁the ▁coconut ▁gro ves . ▁built ▁in ▁the ▁17 th ▁century , ▁the ▁fort ▁is ▁an ▁important ▁place ▁for ▁students ▁of ▁history ▁and ▁arch e ology . ▁the ▁fort ▁is ▁spread ▁over ▁an ▁area ▁of ▁about ▁7 ▁acres ▁at ▁a ▁height ▁of ▁about ▁150 ▁feet ▁above ▁sea ▁level . ▁etanu ▁nutanduk ൾ kku ▁mu ൻ p ▁chandragiri ▁pune ▁kola ttu nadi nteyu ▁tu lu nadi nteyu ▁ati ർ tti airunnu . ▁tu lu nadi n ▁vijaynagar ▁samrajyam ▁kilo tak i appo ൾ ▁kola ttu rajakanma ർ k ▁chandragiri ute ▁a dhi sh tva ▁nashtapettu . ▁16 - aam ▁nutand o e ▁vijaynagar ▁samrajyatine ▁shakti ▁ kshay ichu . ▁pinnite ▁be da nnu ർ ▁naikk anma ർ ▁ennariapadunn ▁i kke ri ▁naikk anma ർ ▁chandragiri ▁oru ▁swatantra ▁pradesh mai ▁bharichu . ▁i ▁rajvansh ttile ▁shiva pp ▁nay i ▁end ▁raja an ▁rajyas u raksha kai ▁chandragiri ▁kotto ▁kettit . ▁nutandu lilute ▁pal ▁ca ma rinera ▁chandragiri ▁kotto ▁my s or ile ▁hid ral iute ▁kai kall ▁otuvi ൽ ▁british ▁ist ▁india ▁company ute ▁kai kall ▁atiche ർ nnu . ▁inn ▁kerala ▁pur wa stu ▁vakup pi nu ▁kidilull ▁oru ▁charitra ▁smarak a ▁chandragiri ▁kotto . ▁chandragiri ▁bhupradesh a ▁sansthan ▁vibha jan ▁samayt ▁1956 - ൽ ▁kerala ▁sansthan ttot ▁che ർ cppettu . ▁near est ▁railway ▁station : ▁kasaragod ▁- ▁about ▁4 ▁km ▁from ▁the ▁fort . ▁near est ▁airport s : ▁mangalore ▁airport ▁- ▁about ▁50 ▁km ▁from ▁kasaragod ▁town . ▁kozhikode ▁kari pur ▁airport ▁- ▁about ▁200 ▁km ▁away . ▁the ▁near est ▁railway ▁station ▁is ▁kala nadu ▁railway ▁station . ▁ko tunkallu ർ ▁kotto ▁· ▁chandragiri ▁kotto ▁· ▁thalassery ▁kotto ▁· ▁palli puram ▁kotto ▁· ▁palackat ▁kotto ▁· ▁po vv ൽ ▁kotto ▁· ▁be k ൽ ▁kotto ▁· ▁cent ▁a nja lo ▁kotto ▁· ▁ho s du ർ gg ▁kotto ▁· ▁nedu cot ▁· ▁kochi ▁kotto ▁· ▁para vu ർ ▁kotto ▁· ▁trushshu ർ ▁kotto,▁x x bo s ▁america ൻ ▁ aikyanatukalille ▁kalipho ർ nia ▁sansthant ▁ko ൺ tra ▁cost e ▁kandii le ▁oru ▁nagara ▁ok sha li . ▁it ▁o ൻ patu ▁con ti kalu ൾ ppet ▁saa ൻ ▁phra ൻ si sco ▁be ▁mekhal ay cu lli laa ▁statecheyunnat . ▁2016 ▁january ▁1 le ▁sansthan ▁dhanakarya ▁vakup p inte ▁kanakcook ൾ ▁prakaram ▁i ▁nagarattile ▁janasankhya ▁40 , 14 4 ▁irunnu . ▁1999 ▁ ൽ ▁sanyojippi cpat ▁i ▁nagar ▁ko ൺ tra ▁cost e ▁kandii le ▁samip a kalat ▁sanyojippi cpat ▁oru ▁nagara .,▁x x bo s ▁dakshin ▁rei ൽ ve yute ▁paridhii ൽ ▁varunn ▁th iruvananthapuram ▁divish an ile ▁pradhan ▁tivandi ▁niley as ilonnan ▁chaninashshery ▁tivandi ▁ni laya . ▁chaninashshery ▁nagaratti ൽ ▁statecheyunn ▁i ▁tivandi ▁ni laya ▁kottayam ▁vai ull ▁ernakulam ▁- ▁th iruvananthapuram ▁pradhan ▁rei ൽ we ▁paati ൽ ▁kotta ya ttinu ▁thiruvalla y ku ▁idil ai ▁statecheyunnu . ▁pal ▁di ർ gha dur ▁s ർ vvis ▁ti van tik ൾ ku ▁chaninashsheri ൽ ▁stop e ▁anuvadi chittund . ▁the ▁first ▁train ▁ran ▁through ▁the ▁changanassery ▁railway ▁station ▁in ▁1958 ▁after ▁the ▁birth ▁of ▁kerala . ▁at ▁the ▁time ▁of ▁the ▁formation ▁of ▁kerala , ▁rail ▁transport ▁was ▁available ▁at ▁ernakulam ▁and ▁th iruvananthapuram , ▁but ▁they ▁were ▁not ▁directly ▁connected . ▁the ▁meter ▁gau ge ▁line ▁was ▁constructed ▁from ▁ernakulam ▁to ▁kottayam ▁in ▁1956 ▁and ▁then ▁extend ed ▁from ▁kollam ▁to ▁kollam ▁via ▁changanassery ▁in ▁1958 . ▁in ▁1931 , ▁the ▁red ▁fort ▁was ▁connected ▁to ▁kollam ▁and ▁then ▁to ▁th iruvananthapuram . ▁the ▁meter ▁gau ge ▁line ▁through ▁changanassery ▁was ▁convert ed ▁to ▁broad ▁gau ge ▁and ▁rail ▁transport ▁was ▁started ▁in ▁1976 ▁by ▁the ▁chief ▁minister ▁of ▁kerala . ▁in ▁the ▁time ▁of ▁achutha ▁menon . ▁2 . 5 ▁kilomet ർ ▁dure a ▁vach ppalli ▁kshet ▁statecheyunnat . ▁changanassery ▁railway ▁station ▁is ▁the ▁near est ▁rail head ▁to ▁kuttanad . ▁tek kati ▁tutangiya ▁hi re nch ukali ▁pette ▁aticher a ൻ ▁chaninashshery ▁tivandinilaya tti ൽ ▁iran th avunntan , ▁changanassery ▁railway ▁station ▁is ▁the ▁main ▁building ▁platphom i e ▁phala k ▁changanassery ▁railway ▁station ▁o v ർ ▁bri d ji ൽ ▁ninnu ▁nokkumpo ൾ ▁night ▁view ; ▁platform ▁number ▁one ▁chaninashshery ▁tivandinilaya ▁the ▁main ▁building,▁x x bo s ▁intappan ▁end ▁mara ttil undavunn ▁paea . ▁lokati ൽ ▁valare ▁kushanera ▁rajyasli ൽ ▁matrame ▁it ▁kanappetunnu llu . ▁- pradhanmay u ▁arabia ൻ ▁rajyasli ൽ - ▁. ▁arabia ൻ ▁rajya sille ▁oru ▁pradhan ▁nanya vira ▁it . ▁a nju riladhik ▁tar ▁i tta ppa ng ൾ ▁innu nd . ▁dharalam ▁kaa ർ bo ▁hy d rate ▁a tangia ▁oru ▁par manit . ▁kootate ▁kaa ൽ s yam , ▁so di um , ▁magnesium , ▁irump ▁tutangia ▁manushya ▁sharirattin avashya may ▁dharalam ▁lavan ang ൾ ▁iti ൽ ▁atariiriunnu . ▁ripe ▁dates ▁are ▁bo ile d ▁in ▁water ▁and ▁dried ▁to ▁preserve ▁them ▁for ▁a ▁long ▁time . ▁this ▁dried ▁fruit ▁is ▁called ▁kara ka . ▁sharirattin ▁u ർ jas wal tyu ▁arogya vu ▁na ൽ kunn ▁pat ▁ghankang ൾ ▁kar kka il ta d itund . ▁kar kkayu ▁welllvu ▁matra ▁ti nnu kond ▁jivi kka ൻ ▁oru ▁praya s avu mill . ▁oru ▁glass ▁pal ▁oru ▁kar kkayu ▁mati ▁oru ▁divasatte ak . ▁kar kka il tangia ▁pro te i ൻ , ▁kaa ൽ s yam , ▁amin o ▁acid , ▁s ൾ fa ർ , ▁a ye ൺ , ▁pot as yam , ▁pho s ura s , ▁manga ne se , ▁coppe ർ , ▁magnesium ▁enni ▁poshak ango ൾ ▁kootate ▁fib ർ , ▁ji vak ▁e 1 , ▁bi 1 , ▁bi 2 , ▁bi 3 , ▁bi 5 , ▁bi 9 ▁ennivyu ▁dhara l mund . ▁vay ർ , ▁hridaya sam bandha may ▁ rogang ൾ , ▁lingika ksh ina , ▁vay rille ▁kaa ൻ s ർ , ▁enniv k ▁kari ck ▁marun na . ▁mas i luk ൾ ▁valara nu ▁sahayikunnu . ▁oru ▁kap ▁kar kkai ൽ ▁4 15 ▁cal ori e ▁u ർ ja vu ▁95 ▁gram ▁shu gar u , ▁110 ▁gram ▁kaa ർ bo hy d rate ▁atangitund . ▁al - a j wa , ▁also ▁known ▁as ▁the ▁holy ▁date , ▁is ▁one ▁of ▁the ▁most ▁important ▁dates . ▁al - a j wa ▁bears ▁fruit ▁only ▁in ▁madinah . ▁elsewhere , ▁palm s ▁are ▁p l enti ful ▁but ▁not ▁harvest ed . ▁unusual ly ▁black ▁in ▁color , ▁they ▁are ▁similar ▁to ▁other ▁dates ▁in ▁taste ▁and ▁quality . ▁it ▁cost s ▁around ▁rs ▁2 ,000 ▁per ▁kg . ▁al - a j wa ▁is ▁kept ▁in ▁sa ff ron ▁and ▁honey ▁to ▁enhance ▁the ▁flavor . ▁intappaium ▁dates ▁sasya shastra vumai ▁bandhappet ▁i ▁lekhana ▁apu ർ sanma . ▁itu ▁vidocipikku va ൻ ▁sahayikcook .,▁x x bo s ▁the ▁war ▁between ▁the ▁chola ▁and ▁rashtra kuta ▁forces ▁in ▁ 94 9 ▁is ▁known ▁as ▁the ▁tak k olam ▁war . ▁the ▁battle ▁was ▁fought ▁in ▁re tali ation ▁for ▁the ▁defeat ▁at ▁the ▁battle ▁of ▁thiruvalla m . ▁but u kan , ▁the ▁ganga ▁king , ▁was ▁an ▁aid e ▁to ▁rashtra kuta ▁emperor ▁krishna ▁iii . ▁the ▁chola ▁army ▁was ▁led ▁by ▁yuva raja ▁raja dit yan . ▁al though ▁the ▁chola ▁power ▁was ▁in vin c ible , ▁raja di tya ' s ▁elephant ▁fell ▁to ▁the ▁ground ▁with ▁the ▁arrow ▁fire d ▁by ▁two ▁arch ers ▁from ▁the ▁ganges . ▁raja dit yan ' s ▁assassination ▁in ▁a ▁due l ▁between ▁but u kan ▁and ▁raja dit yan ▁was ▁a ▁great ▁sho ck ▁to ▁the ▁chola s . ▁raja di tya ' s ▁brother ▁kanda ra di tya ▁took ▁over ▁the ▁leadership ▁but ▁the ▁chola s ▁could ▁not ▁hold ▁on . ▁while ▁the ▁battle ▁of ▁thiruvalla m ▁led ▁to ▁the ▁strengthen ing ▁of ▁the ▁chola ▁empire , ▁the ▁battle ▁of ▁tak k olam ▁led ▁to ▁the ▁temporary ▁dis inte gra tion ▁of ▁the ▁empire . ▁it ▁see m s ▁that ▁keralite ▁war ▁hero es ▁worked ▁with ▁raja di tya . ▁nandi kara ppu thur ▁vella n ▁kumar an ▁was ▁one ▁of ▁the ▁general s . ▁val ab han , ▁the ▁young ▁king ▁of ▁val lu vana d , ▁was ▁raja di tya ' s ▁aid e , ▁but ▁for ▁some ▁reason ▁he ▁was ▁dis appo inte d ▁that ▁he ▁could ▁not ▁die ▁a ▁hero ic ▁death ▁with ▁raja di tya ▁in ▁the ▁battle ▁of ▁tak k olam ▁and ▁became ▁an ▁a bb ot ▁by ▁the ▁name ▁of ▁chatur an ana ▁pandit han .\n",
       "y: LMLabelList\n",
       ",,,,\n",
       "Path: /data/home/ubuntu/gaurav/in/fire/code-mixed-enma-2/language_model/../dataset_preparation;\n",
       "\n",
       "Valid: LabelList (7434 items)\n",
       "x: LMTextList\n",
       "▁x x bo s ▁the ▁battle ▁for ▁west no th ▁or ▁west no th ▁is ▁a ▁computer ▁game ▁produced ▁by ▁david ▁white ▁and ▁released ▁in ▁june ▁2003 . ▁in ▁we s no t ▁the ▁player ▁tri es ▁to ▁build ▁a ▁strong ▁army ▁by ▁control ling ▁the ▁villages ▁and ▁defeat ing ▁the ▁enemies . ▁white ▁built ▁the ▁game ▁with ▁in s pi r ation ▁from ▁se ga ▁genes i s ' ▁games ▁wars ong ▁and ▁master ▁of ▁mon ster s . ▁ba ti ൽ ▁pho ർ ▁we s no t ▁oru ▁op ൺ ▁socks ▁ga . ▁ji pi el ly ൽ ▁purattikaki irikunn ▁i ▁kali ▁vividh ▁tarattilull ▁opera ing ▁sister y li ൽ ▁kalica m .,▁x x bo s ▁1962 - l ▁paat ya lai ൽ ▁punjabi ▁s ർ vakalashal ▁nilevi ൽ ▁vannat . ▁pati ala ile ▁lang we j ▁di ppa ർ t ment ar ▁punjabi ▁universiti ai ▁marit . ▁india - pakista ൻ ▁vibhajana tine ▁tik ta sh lang ൾ ▁nerit endivann ▁punjabi ▁bhashaile ▁pustak ▁samp atine ▁vivarang ൾ , ▁laho ർ ▁nashtappet etote ▁labhyama irunnill . ▁aa ▁vit ▁punjabi ▁university ▁' pu nja bi ▁pustak ▁ko sh ' ▁prasidhikarichu kond ▁ni ka tti . ▁chil ▁ni ghan duk kalu ▁pati ala ▁prakasha n ▁cheitu .,▁x x bo s ▁ra gg ing ▁is ▁a ▁deva sta ting ▁behavior al ▁disorder ▁that ▁older ▁students ▁show ▁to ▁those ▁who ▁attend ▁school ▁or ▁college ▁in ▁their ▁first ▁year . ▁in ▁india , ▁it ▁is ▁an ▁illegal ▁and ▁pu nish able ▁off en se . ▁senior ▁students ▁do ▁this ▁under ▁the ▁gu i se ▁of ▁ getting ▁begin n ers ▁to ▁adapt ▁to ▁the ▁school ▁atmosphere . ▁it ▁often ▁involve s ▁personal ▁ha ras s ment ▁and ▁even ▁sexual ▁explo it ation . ▁it ▁often ▁de grade s ▁the ▁personal ity ▁of ▁juni or ▁students ▁and ▁causes ▁them ▁to ▁develop ▁a ▁sense ▁of ▁slave ry . ▁ra ging ▁was ▁not o rious ▁in ▁many ▁rep ute d ▁higher ▁education ▁institutions ▁in ▁india , ▁espec ially ▁in ▁medical ▁college s . ▁this ▁can ▁lead ▁to ▁the ▁death ▁of ▁children ▁who ▁are ▁subject ed ▁to ▁a ▁number ▁of ▁viola tion s ▁or ▁mental ▁disorder s ▁that ▁affect ▁their ▁learning ▁and ▁de tra ct ▁from ▁their ▁goal . ▁this ▁has ▁become ▁a ▁human ▁rights ▁viola tion . ▁ippo ൾ ▁kotati yutayu ▁potu sam u h tinteyu ▁shaktmay ▁itapetal ▁aavashyamay ▁niyam ni ർ mman vu ▁mulam ▁ra ging ▁ganyamai ▁kull er itund . ▁india ▁gav ൺ ment ▁ra ging ▁para tik ൾ ▁parihar i kanai ▁anti ▁ra ging ▁he ൽ p ▁li ൻ ▁sajjama kitund . ▁ankil ▁otppet ▁sambhava ng ൾ ▁repo ർ tt ▁cheitu varunnu nd . ▁ankil , ▁patra va ർ ttak ൾ prakaram ▁oru ▁malayali ▁nas s ing ▁vidya ർ thi ni ▁2016 ൽ ▁krurma y ▁ra ging i ▁vidheya yai ▁ennu ▁paryappetunnu . ▁the ▁public ▁interest ▁lit ig ation ▁fi led ▁by ▁vishwa ja gra ti ▁mission ▁in ▁the ▁supreme ▁court ▁has ▁pro mp ted ▁the ▁government ▁to ▁take ▁ ster n ▁action ▁against ▁ra gg ing . ▁the ▁medical ▁council ▁of ▁india ▁has ▁issued ▁clear ▁guide line s ▁against ▁ra gg ing ▁to ▁medical ▁college s ▁in ▁india . ▁according ▁to ▁the ▁reg ulation ▁issued ▁in ▁march ▁2009 , ▁the ▁goal ▁is ▁to ▁eliminate ▁any ▁form ▁of ▁ra gg ing ▁from ▁all ▁medical ▁college s ▁and ▁all i ed ▁institutions ▁in ▁the ▁country . ▁ensure ▁strict ▁punishment ▁for ▁those ▁who ▁engage ▁in ▁ra gg ing ▁against ▁this . ▁enforc e ▁the ▁law . ▁the ▁following ▁is ▁a ▁crime ▁of ▁ra gg ing . ▁: ▁kendra ▁s ർ carinte yu ▁at at ▁sansthana s ർ kkarinte yu ▁ni ർ ddesh prakara vu ▁niyama manusrich u ▁medica ൽ ▁co li ju kal ▁s ർ vvakalashala k ▁ra ging ▁oru ▁guru tar may ▁kutama ian ukayu ▁atin ▁k ർ shan mai ▁tat yan ull ▁natapatik ൾ ▁adukku kayu ▁want . ▁it ▁streek ൾ ku ▁es . ▁si ▁es ▁ty ▁i ൽ ppet ▁vyaktik ൾ ku ▁ethira i ▁pratyekitu ▁natakkunn ▁ra ging ▁ella ▁medica ൽ ▁sthapan li lu m ni ro dhi kka ൻ ▁vende ▁natapati etu kant . ▁all ▁forms ▁of ▁ra gg ing , ▁in ▁all ▁its ▁forms , ▁are ▁strict ly ▁pro hi bit ed ▁in ▁medical ▁college s ▁and ▁universities , ▁as ▁well ▁as ▁in ▁the ▁class room s , ▁do r mit ori es , ▁sports ▁and ▁can te en s ▁that ▁are ▁part ▁of ▁them , ▁whe ther ▁on ▁campus ▁or ▁in ▁private ▁or ▁government - ow n ed ▁transportation ▁systems ▁for ▁students ▁there . ▁medica ൽ ▁co li ji l ▁at umai ▁bandhappet ▁s ർ vvakalashala k ൾ ▁matu ▁sthapan ng ൾ ▁iva il ▁ra ging ▁end ▁kutakritya m ▁cheiyunnav ർ kketirai ▁k ർ shan may ▁natapatik ൾ ▁swikari . ▁things ▁to ▁do ▁before ▁admission : ▁ni ർ ddesha maria ▁laghu le kh ▁oro ▁vidya ർ thik ▁na ൽ kana . ▁ra gg ing ▁pro hi bi tion ▁committee : ▁all ▁educational ▁institutions ▁should ▁have ▁a ▁ra gg ing ▁pro hi bi tion ▁committee ▁and ▁a ▁ra gg ing ▁pro hi bi tion ▁squad . ▁its ▁head ▁should ▁be ▁the ▁head ▁of ▁the ▁institution . ▁vidya ർ thik ൾ ▁parikkunn ▁ela ▁sthapan ▁ra gg ing inetiray ▁k ർ shan ▁niyam ngo ൾ ▁nilevilund . ▁university ▁grand s ▁commish nu ▁i ▁kutakritya tt inetirai ▁k ർ shan ▁ni ർ ddesh ng ൾ ▁vidyabhyas ▁sthapan ng ൾ k ▁na ൽ kitund .,▁x x bo s ▁coordinates : ▁10 ° 31 ′ 28 ′′ n ▁76° 12 ′ 52 ′′ e ▁/ ▁10 . 5 24 38 78 ° n ▁76 . 21 45 50 7 ° e ▁/ ▁10 . 5 24 38 78 ; ▁76 . 21 45 50 7 ▁trushu ർ ▁puram ▁passmea ▁kshet ▁• ▁thiruva m pati ▁kshetra kani mangalam ▁shasta ▁kshet ▁• ▁pan mu kkam pill i ▁shri dh ർ mmshasta ▁kshet ▁• ▁chempu ca ▁kaa ർ tt ya yani ▁kshet ▁• ▁pu cat i kar ▁kar muk ▁bhagavti ▁• ▁la lu ർ ▁kaa ർ tt ya yani ▁kshet ▁• ▁chur kot tuka ▁bhagavti sht ▁• ▁ayyan to ൾ ▁kaa ർ tt ya yani ▁kshet ▁• ▁kushat u ർ ▁neit al ca vil mma vai kku nath ൻ ▁kshet ▁man tti ൽ ▁vara ▁• ▁pura ppura pati la nja i ttara me lam ▁• ▁tecot i rum ▁kutama om ▁• ▁weti ce t ▁trushshu ർ ▁• ▁shakt ൻ ▁tampura ൻ ▁panchvadyam ▁• ▁pandimelam ▁trushshu ർ ▁nagar hruday a ttilull ▁cheria ▁kunna y , ▁te i ki ൻ kaa d ▁maitana tine ▁maddhya til ▁shri ▁vaikkunath ▁kshet ▁state ▁cheiyunnat . ▁shiv ൻ , ▁shankarnarayan ൻ , ▁shriram ൻ , ▁pa ർ vwa ti ▁ennivran ▁i ▁kshetratile ▁pradhan dev tak ൾ . ▁puraatan a kalat ▁it ▁oru ▁baddh a vi har mairunnu ▁ennatin u ▁telivuk ൾ ▁labhichittund . ▁shri vai kkunnat h ൻ ▁kshetrattinu ▁trushshu rumai ▁valare ▁adhik ▁charitra ▁pradhan may ▁bandha manult . ▁shakt ൻ ▁tampura nte ▁kalaghttatil ▁i ▁kshet ▁innu ▁kanunn ▁ritii ൽ ▁pun ർ ni ർ mmicht . ▁keralatile ▁et ▁valia ▁mati ൽ cket ▁ull ▁vaikkunnath a shet ▁20 ▁ek k ർ ▁vistar a mari tan . ▁nalu di kkali lumai ▁nalu ▁maha go pura ng ൾ ▁ivite ▁paniti ർ t titnd . ▁vaikkunath ne ▁maha pra dakshin a via ▁swaraj ▁rand ▁ennariapatunnat . ▁atina ൽ ▁trushshu ർ ▁nagaratti ൽ ▁varunn ▁ora ൾ ku ▁vaikkunnath a shetrati n ▁munnil ute ya lla e ▁katannupok a ൻ ▁kachiill . ▁108 ▁shiva lay ▁stotra tti ൽ ▁onnam ▁sthana ▁alankari kunn ▁trushshu ർ ▁vaikkunnath a shet rate ▁shri ma d dakshin kai las ▁enna ▁ati ൽ ▁pratipadichiri kunnat . ▁irupat one ▁vatta ▁kshatriya re ▁kuttakkol ▁cheitat inte ▁praya sh chi tta mai ▁parashuram ൻ ▁tani k ▁labhichch ▁bhoomi ellam ▁brahman ർ k ▁da na ▁cheitu . ▁avit ilellam ▁addeha ▁av ർ k ▁aradhan ▁natatta ൻ ▁kshetras lu ▁ni ർ mmitchu kotuttu . ▁kuttatti ൽ ▁pradhan ppettat h airunnu ▁addeha ▁tanne ▁manu eri o in ▁srushtich ▁kerala bhumi . ▁keralatile ▁brahman ർ k ▁aradhan ▁natatta nai ▁parashuram ൻ ▁nu tet ▁shivashetras lu ▁nu tet ▁du ർ gga kshetras lu ▁anch ▁shasta kshetras lu ▁etanu ▁vishnu she tra slu ▁ni ർ mmitchu kotuttu . ▁avai ൽ ▁nu tet ▁shivashetras li ൽ ▁onnam ▁sthana ▁alankari kunn ▁trushshu ർ ▁vaikkunath shetratine ▁utbhava ttinu pin ni ൽ ▁oru ▁aitihyam und . ▁a th ing : ▁oru divas ▁kailas attile ttia ▁parashuram ൻ ▁ta ൻ ▁pututai ▁ni ർ mmichch ▁bhoomi ecurich ▁shiva bhag va note ▁sansari kkayu ▁avite ▁wa naru namenne ▁abhy ർ tthi kkukayu ▁cheitu . ▁enna ൽ ▁adyam ▁shiv ൻ ▁visammathi chu . ▁pinnite ▁pa ർ vvati devi ▁abhy ർ tthi cpo ൾ ▁matrama ▁bhagwa ൻ ▁sammata ▁mu lit . ▁utane tane ▁shiva pa ർ sha d nma ray ▁nanti k eshwar ൻ , ▁simhodar ൻ , ▁bh ring i rai ▁tutangiyav aru ▁shiva putra nma ray ▁ganapati yu ▁subrahmanya nu ▁atakum ▁kailas h vasi e llavaru ▁kuti ▁bha ർ gga v bhumi ileyk ▁purappettu . ▁av ർ ▁bha ർ gga v bhumi i ൽ ▁oru ▁sthalatte ttiyappo ൾ ▁pette nn oru ▁sthalattu vach ▁pette ▁yatra ▁ninnu . ▁avite ▁oru ▁u gra te jas s ▁kant ▁parashuram ൻ ▁pratishth k ▁et ▁u chi th may ▁sthalam ▁a thu tannai enne ▁manassilaki . ▁utane tane ▁addeha ▁shiva note ▁avite ▁kuti cola namenne ▁abhy ർ tthi chu . ▁shiv ൻ ▁utane tane ▁pa ർ vvati sam e ta ▁a ngo t ▁anunnalli . ▁aa ▁samayt ▁avite ▁pratyakashppet ▁mahavishnu v inote ▁tante ▁tekkubhagat irik a ൻ ▁paranera ▁shiv ൻ ▁svay n ▁oru ▁jyoti ർ linga mai ▁mary ▁vaikkubhagat ▁kuti contu . ▁angnaan ▁pratishth k ▁vaikkunath ൻ ▁end ▁per undayat . ▁kshetra mati ൽ cket tin upurt ▁vaikupatinjar ai ▁statecheyunn ▁oru ▁aa ൽ mar attine ▁tar il ▁it ▁sam bhavich atenne ▁paryappetunnu . ▁inn ▁avit ▁shri mul sthana ▁ennariapatunnu . ▁shri mul sthana t ▁innu ▁divasavu ▁villkkuvaypu nd . ▁tut ർ nn ▁shri mul sthana tuninnu ▁shaiva vaishnav ate jas su kae ▁a wa hi ch ▁parashuram ൻ ▁tanne ▁in nte ▁kshetrati ൽ ▁pratishthich u . ▁atinushes ▁yatha vidhi ▁puja k ൾ ▁kach ichch ▁addeha ▁tut ർ nn ▁kshetratine ▁vaikku kingk em uli ൽ ▁ant ർ ddhan ▁cheitu . ▁innu ▁avite ▁parashuram s maran ai ൽ ▁deep a pratishth ▁natatunnund . ▁ vaikkunathshetra ▁ni ർ mmanas ▁panti ru kula ttille ▁peru nta chch ൻ re ▁kalat ▁natannat anen ▁paryappetunnu . ▁peru nta chch ൻ re ▁kaalam ▁etha ▁nutandi la kaya ൽ ▁kshetrattinu ▁kuttampala ttinu ▁13 00 ▁wa ർ shatte ▁panku m ▁unda kumenn ▁karutunnu . . ▁charitrakaranay ▁vi . vi . ke . ▁val attine ▁abhiprayatti ൽ ▁vaikkunath shet ▁adi dra vid she tra may ▁kavu kali ൽ ▁onnairunnu . ▁pinnite ▁buddha - ja in ▁parmparyam ▁niloni ൽ kkukayu ▁atinushes ▁shaiva - vaishnav ▁swadhina ttil mar ukayu ▁cheitu . ▁es . si . ▁bha t ▁ba ർ gav yu ▁36 ▁valya lilai ▁eruthia ▁charitra grantha ti ൽ ▁i ▁kshetravu ▁paruv ashshery ▁du ർ gga shshery ▁bhagavti ▁kshetravu ▁ko tunkallu ർ ▁shri ▁kuru mba i gav ti ▁kshetravu ▁adyakal ▁buddha chit yaka slairunnu ▁ennu ▁parayunnu . ▁passmea ▁bhagavti yu ▁adya kalansli ൽ ▁i ▁kshetrati ൽ ▁tannaiayirunnu ▁pratishth ic ppettirunnat . ▁pank kati ൽ ▁ko tunkallu ർ ▁shri ▁kuru mba i gav ti ▁kshet , ▁urak ▁amma t thiru vati ▁kshet , ▁kut ൽ maaniky m ▁kshet ▁enniva y olam ▁ vaikkunathshetra ttinu ▁pack ka mill ▁ennu ▁kshetras to tra mal ▁ninnu ▁manassil avunn u ▁. ▁trushshu ർ ▁ vaikkunathshetra ▁bharana chumatal ▁ vahich irunn ▁namputiri maran ▁yoga tiri ma ർ ▁enn ariappettirunnat . ▁keralati ൽ ▁namputiri ma ർ ▁aadhipatyam ▁sthapich etote ▁vaikkunath ൻ ▁kshet ▁trushshu ർ ▁gram kkaray ▁namputiri marute ▁niyantrantil ai . ▁trushshu ർ ▁yoga sanketa ti ൽ ninnu ▁tirankedukkunn aya lay ▁yoga tiri ppat ▁kshetrati ൻ re ▁bharanadhikari a irunnat . ▁shakt ൻ ▁tampura nte ▁kala ttinu ▁mu ൻ p ▁yoga tiri ▁ava ro dha ▁avasan ippitchu . ▁pinnite ▁kochi raja ▁nerit ▁kshetra bharana ▁ateedukkukayu ▁niravadhi ▁kshetra char ▁parishkaras ൾ ▁natappilak kukyu ▁cheitu . ▁inn ▁kochi ൻ ▁devaswa ▁bo ർ de ൻ re ▁kidil ▁kshetra bharana ▁natakkunnat . ▁mysu ർ ▁su ൽ tt anayirunn ▁tipu vinte ▁pat yo tra kalat ▁vaikkunath ൻ ▁kshetrattinu ▁karyamay ▁nashanshta ng ൾ ▁sambhavichch atai ▁charitra ▁parayunn ill . ▁ati ൽ ▁ninnu ▁manassil avunnat ▁niravadhi kshetras ൾ ▁na shi ppichch ▁tipu , ▁trushshu ർ ▁kainnu ▁po it ▁kshet resh bahu mana ർ tea ▁na shi karan ▁pravritti kali ൽ ▁ninnu ▁mari ninn irunnuven na . ▁trushshuri le ▁pra nt pradesh sille ▁niravadhi ▁kshetras ൾ ▁i ▁patyotte ti ൽ ▁pu ർ nna may o ▁bhagikama yo ▁nashippicppet titnd ▁. ▁kshet ▁jaina sanketa mairunnu ▁ennoru ▁va d gati und . ▁upa dev nay ▁rushabh ൻ ▁jain ▁thi ർ tthan karnay ▁rushabh a deva ▁enna ▁oru ▁nigamna . ▁jain ർ ▁tattvachinta i ൽ ▁parajaypet t po ൾ ▁ vaishnav ർ ku ▁shaiva ർ ku ▁tulya ▁praadhanyam ▁na ൽ ki ▁oru ▁hindu kshetra mai ▁rupapet u a ▁cheitat . ▁rushabh ane ▁tho sh umpo ൾ ▁bhakt anma ർ ▁tangute ▁vastra tti ൽ ▁ninnu ▁oru ▁nu li fa ▁adut ▁pratishth amu ർ ttiyute ▁sanni dhi i ൽ ▁sam ർ ppich ▁to pu kaa ▁cheiyunnat . ▁it ▁pratishth amu ർ ttiyute ▁nag nath ▁mari kka ൻ ▁end ▁sankalpa til . ▁jain muni ▁dig a mbar anay atu ▁kona ▁i ▁aa char ▁utaletutt at ▁end ▁va d ga thi yu mund . ▁kri . wa . ▁17 50 ▁mut ൽ ▁17 62 ▁vare ▁trushshu ru , ▁vaikkunnath ൻ ▁kshetravu ▁samutiri ute xxunk ▁niyantrantil airunnu . ▁samutiri ▁natattia ▁oru ▁tula bhara tine ▁kar ing k ൽ ttoo n ▁oru ▁charitra s mara k mai ▁kshetra mati ൽ cket tina cat ▁kana ൻ ▁saadhik . ▁vatak ke kkar ▁kovil kata ▁samutiri u ▁sainyavu ▁ann ▁pa ർ t thirunnat . ▁tal ppil li ▁rajakanma ർ , ▁chen mai ▁nampya nma ർ ▁muthalayav ർ ▁samutiri ▁ann ▁pintut e chirunnu . ▁17 62 - ote ▁thiruvitankur ille ▁rajavairunn ▁dha ർ mma raja ▁kaa ർ ttik ▁thiruna ൾ ▁rama v ർ mmayute ▁sahayatote ▁kochi ▁raja ▁samutiri ▁tura ti ▁tru sh sh oor inte ▁bharana ▁tirichu ▁pitichu vennu ▁charitra . ▁vella ra ppil li ▁kovil cat ▁175 1- ൽ ▁jani kkukayu ▁17 69 - mut ൽ ▁kochi rajyatine ▁bhaga dh e yam ▁ni ർ ndi kunn ▁ilam ura ▁tampura nayu ▁pinne ▁17 90 - ൽ ▁kochi rajavay u ▁maria ▁rama v ർ mm ▁shakt ൻ tam pura nte ▁kalatta ▁trupunittura i ൽ ninnu ▁kochi ute ▁bharan s ir akendram ▁tru sh shi va peru ർ ▁nagaratti ▁mat ppettat . ▁tampura n ▁tru sh sh oor inotu ▁ vaikkunathshetra ttotu mundairunn ▁atma bandha ▁itin oru ▁karea . ▁shakt ൻ ▁tampura nan ▁tru sh shi va peru rinte ▁sanskarik ▁tani mai ൽ ▁ti lak ac uri ai ▁shobh ikkunn ▁trushu ർ puram ▁tut ang ive cht . ▁kri . ▁wa ർ sha ▁17 97 ▁l ▁adyamai ▁trushshu ർ puram enn ▁mah otsava ▁vaikkunnath ▁kshetra n kan tti ൽ ▁aranger unnat . ▁a manu sh pra bhavan airunn ▁shakt ൻ ▁tampura ൻ ▁thirumana s s ila curich ▁ke t itill ata vara i ▁keralatil aru ▁tanne ▁undairi c umennu ▁tonnunn ill ▁enna ▁aitihyam al ▁k ർ ttavay ▁kottarati ൽ ▁shankunni ▁addeh t ecurichull ▁lekhan ttile ▁a mukh ti ൽ ▁anuti irikunnat . ▁trushshu ർ ▁pura ttinu ▁addehtine ▁sannidhyam ▁kshetra mati la kat ▁i la nja i ttara i ൽ ▁undairik kumairunnu . ▁addehttinu ▁mu ൻ pi ൽ ▁aranger ia ▁chentamel am ▁pinnite ▁prashast mavukyu ▁i la nja i ttara me lam ▁enna ria ppetukayu ▁cheitu . ▁shiva peru ma linte ▁sthalam ▁end ർ tthamulla ▁thiru - shi v - peru ർ ▁aan ▁tru sh shi va peru ru ▁pinnite ▁trushshu ru ▁a ayi ti ർ nnat . ▁trushshu ർ ▁ vaikkunathshetra tile ▁pratishth amu ർ ttik ൾ ▁munna ; ▁shri param shi ൻ , ▁shriram swami ▁shankarnarayan amu ർ tti . ▁shiva peru ma ൾ ▁et ▁vaikkubhagat tu ▁shriram ൻ ▁tekkubhagat tu ▁shankarnarayan a swami ▁maddhya bhagattu ▁kuticolaunnu . ▁vaikkubhagat tull ▁shiva par u ma ൾ ka ▁ivite ▁kshetra chara prakaram ▁praadhanya vu , ▁prashasti yu . ▁vaikke ▁at ttull ▁shivane ▁pery ൽ ▁ariapat ▁kshet ▁pinnite ▁ vaikkunathshetra mayat ayu ▁karutunnu ▁kerala ▁shaiva dhipatyati ൽ ▁ irunnatina ൽ ▁vaicke ▁at th ▁pratishthich ▁shiva n ▁na th ൻ ▁ennu ▁pinnite ▁sankalpa mundai . ▁“ vata k ▁na th ൻ “ ▁end ▁shaiva ▁sankalpa ▁kalantarati ൽ ▁vaikkunnath ൻ ▁end ▁pe ർ ▁neticotuttu . . ▁20 ▁e kka riladhik ▁visti ർ chhana ▁varunn ▁ati vish al may ▁mati la kaa ▁i ▁kshetratine ▁pradhan ▁oak ർ shaea . ▁itryu ▁valia ▁mati la ka ▁keralatile ▁matoru ▁kshetrattinu mill . ▁gambhir may ▁ana ppa lam atil ▁kshetrattinu u u ▁paniti ർ tt irikunnat . ▁kshetra sanketa ti ൽ ▁dharalam ▁marang ൾ ▁nattu pi t ippicchittund . ▁atina ൽ ▁kshin a ▁tonnunn ▁bhakt ർ k ▁avayute ▁tan ali lirunne ▁vishram ic avunntan . ▁nalu bhagattu ▁valia ▁gopura ng ൾ ▁paniti ർ t titnd . ▁ati mano har may ▁ni ർ mmiti kala ▁ava ilellam . ▁nalu go pura ng ൾ ku ▁kuta ൻ ▁aan vati lu und . ▁patinjare ▁go pur ▁avai ൽ ▁pradhan . ▁gopurati n ▁sameepa ▁devaswa ▁ofis ▁statecheyunnu . ▁patinjare ▁gopurati lute ▁aka thu kata nna ൽ ▁adyam ▁kanunnat ▁oru ▁shila . ▁kali shil ▁ennariapadunn ▁i ▁shil ▁oro ▁divasavu ▁val u tha ion tiri ku ka anennu ▁it ▁gopura t olam ▁uyaram ▁vachch a ൽ ▁ann ▁lok ▁avasan i umennu ▁vishvasi cppetunnu . ▁atu kavi nja ൽ ▁vaikkubhagat ▁kuttampala m ▁kanan . ▁keralati ൽ ▁inn ▁niloni ൽ kkunnav i ൽ ▁vach ▁et ▁val u tu ▁lakshan yukta vumay ▁kutta mpal manit . ▁vishesha divas an sli ൽ ▁ivite ▁kuttu ▁kootiat avu mundaku . ▁kuttampala ttille ▁shilpa ng ൾ ▁valare ▁manohar mai ▁ni ർ mmitch iriunnu . ▁chemp ▁me nera ▁i ▁natya gri h ttin ▁23 1 xxunk 2 ▁met ർ ▁niqvu ▁17 1 xxunk 2 ▁met ർ ▁vidiyu mund . ▁keralatile ▁prasiddh ray ▁kootiat ▁vidagddh nma ർ ▁ivite ▁pal ▁tavan ▁kuttu ▁kootiat ▁avatarippic chittund . ▁nalmpalattin e ▁valippa vu ▁valare ▁rasa karmay ▁oru ▁pratyekaa . ▁keralatile ▁et ▁valia ▁nalmpala vu ▁ivite tannaan . ▁nalmpalattin e ▁puran chu varu e ▁chut y ▁vina kku mate ▁paniti ർ t tiriunnu . ▁a k tek ▁katann a ൽ ▁valia ▁munn ▁shrikovil uk ൾ ▁kanan . ▁avai ൽ ▁vaicke ya tte ▁shrikovil y ൽ ▁an abhimukhmai ▁shiva ▁pa ർ vvati yu , ▁nata kkulla ▁shrikovil y ൽ ▁shankarnarayan u , ▁tekke ya tte ▁shrikovil y ൽ ▁shriram nu ▁kuticolaunnu . ▁munn ▁shrikovi lulu ▁at ya pu ർ vwa may ▁chuv ർ ch chitra sla lu ▁daru shilpa alu ▁a lan k rita a . ▁enna ൽ ▁phalaprad may ▁itapeal illat atumulam ▁avai ൽ ▁palatu ▁na sh on mukh ma . ▁et ▁valia ▁shrikovi ൽ ▁shiva nte ta . ▁munn ▁shrikovil uk ൾ kkum unni ▁namaskaramandap s und . ▁shivane ▁shrikovilin ▁tekkuki na kku bhagat ▁ti t ppalli ▁state ▁cheiyunnu . ▁nalmpalattin u ▁praveshan d vara ti numiti ൽ ▁i du ria ▁oru ▁vid w und . ▁avai ൽ ▁shivane ▁nati kku nera yull ▁vit vinu sam i pa mai ▁bhagwa d vahan may ▁nanti ute ▁oru ▁kuta ൻ ▁pal un ku vigraha mund . ▁nanti e ▁ivite ▁upa dev nai ▁karuti varunnu . ▁nanti vigraha tine ▁iru vashattu mai ▁rand ▁chuv ർ ch chitra s und . ▁one , ▁at ya pu ർ vwa may ▁vasu ki sha yana rupattilull ▁shiva n ; ▁martet , ▁20 ▁kai kal otukootia ▁nritta nath . ▁ ranti ttu ▁vishesha ൽ ▁puja kalu ▁villkkuvaypu ▁natattivarunnu . ▁vaikku ki na kku bhagat ▁oru ▁valia ▁kulli und . ▁katta l anai ▁vann ▁tanne ▁para k shich ▁shivane ▁piti i ൽ ▁ninn ▁rakshappet a ൻ ▁a ർ jun ൻ ▁shram i cpo ൾ ▁addehtine ▁vil lay ▁gan di va ▁ta tti undayat a ▁i ▁kulli en ▁vishvasi cppetunnu . ▁atina ൽ ▁vi ൽ kku ri en ▁paryappetunnu . ▁ivite ▁sthir ▁jala mundaku . ▁et ▁katutt ▁ven ൽ kkalattu ▁it ▁vati po k ill ▁enntan ▁atbhuta . ▁ivite ▁kaluk aru ki wan t ▁kshetra d ർ shan ▁natatta ൻ ▁enntan ▁aa char . ▁vaikke ▁gopura to tu che ർ nn ▁shivane ▁oru ▁pal un ku shilpa ▁kanan . ▁atinu u u ▁wellam ▁parannu ki te kunnu . ▁bhagwan te ▁jati ൽ ▁ninn ▁ganga ▁uti ർ nnu v irunn ▁rupee ▁it . ▁valare ▁k ueach ▁wa ർ shan sli tayu llu ▁it ▁ivite ▁paniti t . ▁kshetra mati ൽ cket tin upurt ▁vaikku kingk e mu lilai ▁rand ▁kull us und . ▁one ▁surya pu sh kari ni ennu ▁martet ▁chandra pu sh kari ni ennu ▁ariapatunnu . ▁rand ▁kull jas u ▁oru kalat ▁sho ch ya vastha ilayirunnu . ▁otuvi ൽ ▁2015 - ൽ ▁natann ▁navikaran kala sha ttine ▁bhaga maan ▁av ▁vru ttiyakiyat . ▁shanti karu ▁bhakt aru ▁i ▁kull u sli ൽ ▁kull ichu ant ▁da ർ shan ▁natatta ൻ ▁enna ▁aa char . ▁enna ൽ , ▁inn ▁at ▁prayogik a mall . ▁mump i ൽ ▁valia ▁namaskaramandap mulla ▁valia ▁vatta shri kovi ll ▁shiva ▁pratishth ichirikunnat . ▁patinjarot tha bhi mukh maan ▁pratishth . ▁pa ർ vvati sa met anai ▁kailas h ttil ama runn ▁sada shi v ൻ ▁enntan ▁pratishth a sankalpa . ▁parabrahma sankalpa vumund . ▁mat ▁shivashetras l ile tupole ▁ivitayu ▁shivalinga a ▁pratishth . ▁enna ൽ ▁divas en ▁natakkunn ▁nay y abhisheka ▁mulam ▁shivalinga ▁kana ൻ ▁kachiill . ▁abhisheka ▁kachin gu ▁nay y ▁nikum ▁cheiyunn ill ▁enntan ▁i tinull ▁karea . ▁angne ▁nay y ▁at inju kuti ▁svay n ▁oru ▁shivalinga ▁rupapet tu . ▁a tan ▁inn ▁kshetrati ൽ ▁varunn ▁bhakt ർ ▁da ർ shi i kunnat . ▁bhagwan te ▁vasa sthan may ▁kailas p ർ vvata tayu ▁am ർ nath ▁kshetratile ▁mano u kondulla ▁shivalinga ttayu ▁it ▁anusmari ppic unnu . ▁vatta shri kovi ly ൽ ▁munnamate ▁araya y ▁g ർ bhag ri h ttinull i ൽ ▁nay y ▁kond ▁muti ▁manushya d rush tik ▁go charan a katt ▁vidhtti ൽ ▁jyoti ർ linga mai ▁vaikkunnath ൻ ▁da ർ shan maru l unnu . ▁jyoti ർ linga tti ൽ ▁ekadesha ▁et tom pat ati ▁uyaratti ൽ ▁25 ▁ati olam ▁chut ol vi ൽ ▁ne i mal ▁srushti cppet t irikkaa . ▁antarikshatti le ▁tapa vu ▁di pan s ute ▁chut e ▁kondupo lu ▁itinu ▁na sham ▁sambhwik unnill . ▁matravumall , ▁itryu ▁nay y ▁ivite ▁at inju kuti t ▁ivite ▁urumpu k ൾ ▁onnu ▁tan na ill . ▁shivalinga ▁kana ൻ ▁kaniat t ▁ek ▁kshet ▁vaikkunath shet . ▁ne i mal yi ൽ ▁da ർ shan ttinuventi ▁chandra kkala k ൾ ▁cha ർ tt unnund . ▁ne i mal ▁idi yu anengi ൽ ▁aa ▁bhaga ttull ▁desha ng ൾ k ▁an ishta ▁sambhwik umennu ▁karutunnu . ▁2006 ▁novemb ർ ▁19- n ▁attar atil oru ▁sambhava mundai . ▁kshetra t ▁at a cchu poy ▁samayt ▁u gra may ▁ti ppi du tta mundai ▁nay y ▁mubhuv ൻ ▁uru k ippo i . ▁enna ൽ ▁shivalinga ▁da ർ sha niyama ill . ▁2005- ൽ ▁kshetrati ൽ ▁natann ▁deva prashna tti ൽ ▁kshetrati ൽ ▁agnibadha undaku ▁enne ▁paranthirunnu . ▁atin ▁prati vidhi ai ▁a thiru dra maha ya je a ▁nata tan irik umpo r airunnu ▁agni badh . ▁nay y abhisheka ▁tannaan ▁vaikkunath ne ▁pradhan ▁waipat u . ▁shuddh amay ▁ari tru si ▁pashuvi ൻ ▁ne ya ▁ivite ▁abhisheka tin ▁upyogic kunnat . ▁abhisheka t ettut ർ nn undakunn ▁ne i mala yk ▁bala muntak anai ▁i la nir abhisheka ▁natattivarunnu . ▁dhanu mas atile ▁thiruvatir ▁kachinju varunn ▁munn ▁ ting kala r cha kali ൽ ▁itinte ▁101 ▁maton g ▁nay yu ▁100 1 ▁maton g ▁i lan i ru ▁abhisheka ▁cheyyarund . ▁devaswa ▁vak yu ▁bhakt arute ▁vak yu ▁waipat und . ▁kootate ▁ku val mal , ▁pi ൻ vi tak , ▁udaya sta mana puj , ▁u ma mah eshwara puj , ▁kathin we ti ▁tutangiyavayu ▁waipat ukali ൽ ▁pradhan . ▁shivane ▁ate ▁shrikovil y ൽ ▁kingcot ▁da ർ shan mai ▁pa ർ vvati devi ▁wa naru l unnu . ▁daru vigraha ▁ivite ▁pratishth . ▁pichha ttil iri ikunn ▁rupattil ▁vigraham . ▁munna ti ▁po kum ▁varu . ▁chatu ർ bahu vay ▁devi ute ▁val tuka ikali ൽ ▁mak u u ▁vara da mudra yu ▁itatu kai kali ൽ ▁kayru ▁tamara yu ▁abhyam u dra yu ▁kanan . ▁ivite ▁namaskaramandap ▁paniti ർ tti till . ▁daru vigraha man enkil ▁ivite ▁swa ർ ck ngo la kaya ▁bhakt ർ ▁da ർ shi i kunnat . ▁at ▁aki chu ma arill . ▁daru vigraha mayatina ൽ ▁jal abhisheka ▁natatta r ill . ▁pakar ▁manche ൾ ppo ta ▁abhisheka ▁cheiyunnat . ▁devi ▁shiva san ni ddhya tti ൽ ▁van unnatina ൽ ▁s ർ vva mangala kari nia y ▁kalyana rup ina . ▁shiva ▁pa ർ vvati yu ▁an abhimukhmai ▁da ർ shan ▁na ൽ kunnatin a ൽ ▁a ർ ddhan ar ishwar a sankalpa vu ▁ivitaund . ▁manche ൾ po ti ▁abhisheka ▁kootate ▁pat ▁tali u ▁cha ർ ttunnat u ▁devi k ▁pradhan a . ▁shaiva vaishnav a shakti kalute ▁sanyukta rupa m ▁shankarnarayan ൻ . ▁shaiva vaishnav a sang tan ng ൾ ▁nicknju ninn ▁kalat ▁ava yo vi wa ka ൻ ▁shankaracharya ർ ▁srushti tan ▁i ▁mu ർ tti ye ▁vishvasi cppetunnu . ▁keralati ൽ ▁shankar nar aya pratishth ak ൾ ▁valare ▁apu ർ vvam a . ▁avai ൽ ▁mica tu ▁shivalinga rupa til ayirik . ▁enna ൽ ▁ivite ▁shankarnarayan ▁vigraha pratishth a . ▁panch lo han i ർ mmit may ▁vigraha ttin ▁ekadesha ▁munna ti ▁uyaram ▁varu . ▁ni ൽ kkunn ▁rupattil ▁vigraham . ▁patin jat ▁da ർ shan . ▁chatu ർ bahu vay ▁vigraha tine ▁val atte ▁pakuti i ൽ ▁jata ma ku tu ▁chandra k kalayu ▁bhasma vu ▁naga ga lu ▁puli tte lu ▁dharichch ▁shiv antayu ▁it te ▁pakuti i ൽ ▁kirit vu ▁mayi ൽ ppil i u ▁gopi cu ri u ▁divya bharana lu ▁pi ta mbar avu ▁dharichch ▁vishnu vinteyu ▁rupaee ൾ ▁kanan . ▁vigraha tine ▁val tuka ikali ൽ ▁tri shu l vu ▁vara da mudra yu ▁itatu kai kali ൽ ▁panc janya vu ▁gad yu ▁kanan . ▁shankarnarayan te ▁shrikovil ▁vatta til . ▁enna ൽ ▁shiv antayu ▁pa ർ vvati utayu ▁shrikovilin te yatra ▁valippa ▁itin ill . ▁itinu munn i ▁namaskaramandap mund . ▁namaskaramandap u ▁taratamyen ▁cheru tan . ▁shankarnarayan ▁pradhan ▁chatu sh shat ni ved y . ▁mahavishnu vinte ▁avatara sli ൽ ▁esamat te ta ▁shriram ൻ . ▁bharatatile ▁et ▁prasiddhamay ▁mu ർ tti bhava li lonnu ▁shriram a . ▁tre tha yuga tille ▁pratyaksh mu ർ tti airunn ▁shriram ൻ ▁mary ada purush o ttam nai ▁k anakkackapetunnu . ▁keralati ൽ ▁potuve ▁shriram pratishth ak ൾ ▁kullwan . ▁avai ൽ ▁mikavaru ▁chatu ർ bahu wai ▁mahavishnu rupa til ayirik . ▁tru pra ya ർ , ▁thiru vil va mal , ▁thiruva ng at , ▁katvallu ർ ▁enniva ▁keralatile ▁pradhan ▁shriram kshetras ൾ . ▁ivit ilellam ▁mahavishnu vigraha m ▁shriram sankalpa tti ൽ ▁pooji kunnatan ▁conduvarunnat . ▁ vaikkunathshetra til ▁sang ati ▁vyatyastama ll . ▁ ivitte ▁vishnu vigraha tti ൽ ▁shriram swami ute ▁te jas s ▁vannu che ർ nn atinu pin l ▁oru ▁aitihyam und : ▁vivaha nantar ▁ayodhya ileyk ▁ma ing uka airunn ▁shriram a ▁parashuram ൻ ▁ta ing uni ർ tti . ▁tut ർ nn ▁iruvaru ▁tammi ൽ ▁wa l cat e mundai . ▁otuvi ൽ ▁shanta nay ▁parashuram ൻ ▁shriram a ▁anugrah ikkukayu ▁ennu ▁sambhava sthalat ▁kuti cola namenne ▁abhy ർ tti yck ukayu ▁cheitu . ▁angnaan ▁vishnu vigraha tti ൽ ▁shriram ka itan yam ▁vannu che ർ nnat . ▁a njan shili ൽ ▁thi ർ tt ▁vigraha ttin ▁ekadesha ▁munna ti ▁uyaram ▁varu . ▁ni ൽ kkunn ▁rupattil ▁vigraham . ▁patin wat ▁da ർ shan . ▁val tuka ikali ൽ ▁su d ർ shan chakra vu ▁tamara yu ▁itatu kai kali ൽ ▁panc janya vu ▁gad yu ▁kanan . ▁divya ratna ng ൾ ▁pati chch ▁aabharana lu ▁gopi cu ri u ▁pi ta mbar avu ▁dhari chan ▁bhagwa ൻ ▁pari l s ic kunnat . ▁matu rand ▁shrikovil ukali ൽ ▁ninn ▁vyatyastamai ▁shriram te ▁shrikovi ൽ ▁chatur til . ▁shriram te ▁shrikovilin um unni ▁namaskaramandap mund . ▁ivite ▁bhagwan te ▁nitya das anay ▁a njan e ya ▁s mari t chukond ▁oru ▁vita k ▁ko lu tti va chittund . ▁shriram swami k ▁pa ൽ pa yas avu ▁ mull mal ▁cha ർ tta lu ▁an nay abhisheka v ▁pradhan ▁waipat uk ൾ . ▁keralatile ▁bhuripaksha ▁kshetras ▁upa dev nai ▁s ർ va vi gh n vin a sha kanu ▁shiva pa ർ vvati putra nu may ▁ganapati bhagwa nte ▁sanniddhyam undaku . ▁ethoru ▁shubha k ർ mma vu ▁vi gh na l illae ▁pu ർ ttiyaka ൻ ▁ganapati ▁vandi chukond ▁tuing u ntan ▁hindava char . ▁trushshu ർ ▁va ikkunathshetrati ൽ ▁nalmpalattin kat ▁shivane ▁shrikovilin ▁tekupatinjar u bhaga tta ▁ganapati pratishth . ▁shiv antayu ▁shankarnarayan te yu ▁shrikovil uk ൾ k ▁ekadesha ▁ott ▁nadu kka a ▁gana pathi yute ▁shrikovi ൽ . ▁kingcot ▁da ർ shan mai ▁ti t ppalli ileyk ▁no kk ▁ganapati bhagwa ൻ ▁ irikunnat . ▁munna ti ▁po kum ▁varunn ▁shila vigraha tti ൽ ▁welli go lak ▁cha ർ tti iriunnu . ▁chatu ർ bahu vay ▁bhagwa ൻ ▁val tuka ikali ൽ ▁mak u u ▁vara da mudra yu ▁itatu kai kali ൽ ▁kayru ▁mod a kavu ▁dhari chiriunnu . ▁ota ya ppa vu ▁karu ka mala yu ▁naliker a muti kkal ▁ganapati k ▁pradhan ▁waipat uk ൾ . ▁kootate ▁divasavu ▁kshetrati ൽ ▁ganapati ho ma vu ▁natatunnund . ▁ota ya ppa priya nay ▁ganapati bhagwa n ▁udaya sta mana puj ayai ▁a ppam ▁nedi chu varunnu nd . ▁ganapati pre e ti y kai ▁1993 - ൽ ▁tutangia ▁k ർ kka taka masatti le ▁ashta d rav yam ha gana pati ho ma vu ▁ana ut ▁valare ▁churu diya kalam ▁kond ▁shraddh ▁pitichupat iya va a . ▁kshetra mati ൽ cket tin upurt ▁patinjarubhagat ▁pati cket tuk ൾ k ▁sameepamulla ▁natuvi la ll ▁ganapati k ▁pratishth und . ▁onnar yati ▁po kum ▁varu ▁ ivitte ▁shila vigraha ttin . ▁patin jat ▁da ർ shan . ▁kshetra ttin akate ▁ganapati vigraha tine ▁ate ▁rupee ▁ ivitte ▁vigraha ttinu . ▁ivite ▁adyam ▁oru ▁tara ▁matrama ▁undairunnat . ▁avite ▁shabarimal ▁thi ർ tthan karu ▁puli li aru ▁naliker a muti kka ൻ ▁tutandi po ൾ ▁avite ▁ganapati ▁pratishthich u . ▁tut ർ nn ▁avite ▁oru ▁kshetravu ▁pani tu . ▁inn ▁aa ▁kshet ▁vaikkunath shetratine ▁upa kshetra mai ▁k anakkackapetunnu . ▁patinjarubhagat tu nin ▁trushshu ർ ▁nagarattile ik ▁kath ikunnav ർ ▁adyam ▁kanunnat ▁i ▁kshet . ▁rand ▁ganapati pratishth ak ൾ ku ▁vi nayak ▁chatu ർ tthi na li ൽ ▁vishesha ൽ ▁puja kalu ▁10 08 ▁naliker ▁kond ▁vishesha ൽ ▁ganapati ho ma vu mundaku . ▁mahavishnu bhagwa nte ▁nalamat e ▁avatara may ▁narsinham u ർ ttik ▁ivite ▁pratyek ▁pratishth illengil ▁shriram te ▁shrikovilin e ▁tekku va sht ▁narsinham u ർ ttiyute ▁oru ▁chuv ർ ch chitram ▁vara ch ▁ati ൽ ▁aradhan yu ▁villkkuvaypu ▁natattivarunnu nd . ▁u gra n ra sin m bhava til ▁chuv ർ ch chitram . ▁hira nya ka ship u vin ▁tante ▁mati i ൽ ▁kita tti ▁randu kai k ൾ ▁kondu ▁maru pi la ർ nnu ko ▁chor ▁kuti kunn ▁bhagwan te ▁bhaya n kar rupa ▁kan umpo ൽ ▁tanne ▁pe tiya ku . ▁enna ൽ ▁at yu gram u ർ ttiyay ▁bhagwan e ▁bhaj iccha ൽ ▁shatru do sha s lo ri anu po kumenn a ▁vishes . ▁nalmpala n upurt ▁vaikupatinjar u bhagat ▁kuttampala ttot ▁che ർ nnull ▁shrikovil y ൽ ▁kingcot ▁da ർ shan maan ▁shrikrishna ൻ ▁kuti cola unnat . ▁shrikovilin u chu u ▁goshal ▁paniti ർ ttiri kunnatin a ൽ ▁goshal krishna nai ▁bhagwan e ▁kanakkaki varunnu . ▁oru k ayi ൽ ▁kali o lu ▁maru k ayi ൽ ▁ota kku alu ment ia ▁bhagwan an ▁ ivitayult . ▁munna ti ▁po kum ▁varunn ▁manoharmay ▁shila vigraha m ▁a rayu ▁oak ർ shik . ▁or i yk ൽ ▁param bhakt anay ▁vil va mangalam ▁swami a ർ ▁kshetra d ർ shan ttine ttiyappo ൾ ▁in nte ▁shrikovilin e ▁sthant ▁oru ▁atbhuta te jas s ▁addehtine ▁shraddhi ൽ ▁ pettu ennu ▁tut ർ nn ▁addeha ▁avite ▁oti ch enne ▁nokki appo ൾ ▁etanu ▁pashu e ▁condu ennu ▁tut ർ nn ▁avite ▁shrikrishna e ▁pratishthich u ve nn ▁aitihyam . ▁pashu e ▁cond ▁sthant ▁pratishthich itu kona ▁bhagwa ൻ ▁goshal krishna nay atenne ▁aitihyam ▁sakshyappetutt unnu . ▁pa ൽ pa yas avu ▁w han d yu ▁pradhan ▁waipat uk ൾ . ▁ashta mi ro hini divas ▁bhagwan ▁vishesha ൽ ▁puja kalu ▁abhisheka lumund . ▁nalmpalattin upurt ▁tekupatinjar u bhagat ▁pratyek ▁thi ർ tt ▁kshetrati l ▁harihar putra nay ▁ayyappan te ▁pratishth . ▁kingcot ▁da ർ shan . ▁shabarimal ile ▁vigraha tine ▁ate ▁rupee ▁ ivitte ▁vigraha ttinu . ▁onnar yati ▁po kum ▁varu . ▁atesamaym ▁ivite ▁shila vigraha ▁. ▁mat ▁upa deva ta kshetras li ൽ ninn ▁vyatyastamai ▁ayyappan te ▁shrikovilin um unni ൽ ▁oru ▁mu th mandap ▁paniti ർ t titnd . ▁shabarimal ai k ▁po kunnav ർ ▁mala it unnatu ▁kettu nir kkunnat umellam ▁avita . ▁avite ▁pratyeka mai ▁waipat ▁kan arumund . ▁e llu tiri ▁kati kala ▁ayyappan te ▁na tille ▁pradhan ▁waipat . ▁mandla kalat ▁41 ▁divasavu ▁nay y abhisheka ▁push p abhisheka ▁natattarund . ▁nalmpalattin upurt ▁kilokkubhagat ▁vaikkunath ne ▁totupu r k ila ▁simhodar ante ▁sthana . ▁shiva bhuta gana s liloralay ▁simhodar ana an ▁vaikkunath shet ▁pani a ൻ ▁shiv ൻ ▁niogi ch atennu ▁enna ൽ ▁samaym ▁kachinj it ▁simhodar ane ▁kana te ▁visha michch ▁shiva pa ർ vvati ma ർ ▁avasana ▁kshetratile ttiyappo ൾ ▁shrikovil y ൽ ▁simhodar an irikunnat ▁condu ennu ▁ko pak rant anay ▁shiv ൻ ▁utane tane ▁tante ▁puran kalu ond ▁simhodar ▁oro taera ▁chavittu kotuttu vennu ▁av ൻ ▁atuttull ▁pat u kuri i ൽ ▁ter ichu vinu ve nn ▁vishes . ▁avite tane ▁ vanu kollam enne ▁simhodar ൻ ▁sammath i y kukayu ▁cheitu . ▁rantu nil kal otukootia ▁chatur shri kovi ll ▁simhodar ante ▁sthana . ▁patin wat ▁da ർ shan . ▁a randa ▁nilevi l kki ൻ ▁we li cho tti ൽ ▁vigraha tine ▁rupam ▁vyaktama k illengil ▁simhodar ൻ ▁end ▁pery ▁an v ർ tthama ku ▁vido ▁dev e ▁udara m ▁sinha tti nte tupole anenn at ▁tirichcharia ൻ ▁kaniyu . ▁simhodar ▁divasavu ▁villkkuvaypu nd enna lla e ▁pratyeka puj a kalo ▁waipat u kalo ▁ill . ▁nalmpalattin upurt ▁vaikku kingk e mul ilull ▁oru ▁tara i ൽ ▁patin wat ▁da ർ shan maan ▁parashuram te ▁sthana . ▁ivite ▁parashuram sankalpa ttilull ▁deep a pratishth y anult . ▁kshetrati ൽ ▁vigraha pratishth ▁natattiyat inte ▁s maran yck ana tre ▁parashuram a ▁ivite ▁pratishth ichirikunnat . ▁ivite ▁vach an ▁addeha ▁ant ർ ddhan ▁che t atennu ▁kath und . ▁parashuram ൻ ▁katutt ▁kshatriya vi ro dhi ayatina ൽ ▁addehtine ▁sanniddhyam ull ▁i ▁tara ileyk ▁kshatriya ർ k ▁prav esh n mill . ▁parashuram a ▁pratyeka puj a kalo ▁waipat u kalo ▁ill . ▁param shi e ▁vahan may ▁nanti k eshwar ൻ ▁ivite ▁oru ▁upa dev nai ▁kuticolaunnu . ▁shivane ▁nati kku ne re ▁mump ilull ▁nalmpala cket t ▁nanti pratishth . ▁keralati ൽ ▁in null ▁et ▁valia ▁nanti vigraha manit . ▁nanti k ▁rand ▁sandhya ik ▁villkkuvaypu ▁ni veda vumund . ▁locath ▁ma toria ttu ▁kanatt ▁oru ▁at bhut ▁chuv ർ ch chitram a ▁s ർ ppa rajavay ▁vasu ki ute ▁purat ▁sha y ikunn ▁param shi van tet . ▁shivane ▁nati kku nera yull ▁nalmpala cket ti ൽ ▁nanti k eshwar ne ▁vigraha ttin ▁totupu ra ki ൽ ▁tecot ▁da ർ shan mai ▁varachch ▁chitram anit . ▁anant a shya m bhava tti ൽ ▁mahavishnu vinte ▁chitrangs ൾ ▁oru pat ▁sthalansli l undeakil ▁vasu ki shya m bhava tti ൽ ▁shivane ▁chitram ▁ma toria ttu mill ▁enntan ▁pratyekat . ▁divasavu ▁i ▁chitrattin ▁aradhan yu ▁villkkuvaypu mund . ▁param shi e ▁nritta ▁cheiyunn ▁rupee ▁nata raj ൻ . ▁maha na ran ni tan ▁hindu k ൾ ▁shiva ▁kanunnat . ▁i ▁prapancha ▁tanne ▁shivane ▁nata na vedi ai ▁k anakkackapetunnu . ▁va ikkunathshetrati ൽ ▁nanti vigraha ttin ▁itatu vashat ▁patin wat ▁da ർ shan mai ▁nataraja ne ▁oru ▁chuv ർ ch chitra mund . ▁nritta nath ൻ ▁enna ▁it aria pat unnat . ▁20 ▁kai kal otukootia ▁at ya pu ർ vwa may ▁i ▁chuv ർ ch chitra tti ൽ ▁bhagwa ൻ ▁apa s mar yak shan e ▁cha vu tti pitich ▁nritta ▁che i yu a . ▁prapan te ▁mubhuv ൻ ▁oru ▁gol maki ▁chitrikarichiri unnu . ▁at ya pu ർ vwa may ▁i ▁chuv ർ ch chitram , ▁pakshe ▁phalaprad may ▁itapeal illat atumulam ▁it ▁na shich ukontirik u kaa . ▁divasavu ▁i ▁chitrattin u ▁aradhan yu ▁villkkuvaypu mund . ▁vaikkunath ne ▁nalmpalattin e ▁vaikupatinjar e mula i ൽ ▁pratyeka mai tti ർ t ▁nalmpala cket ti ൽ ▁tecot ▁da ർ shan maan ▁shiva bhuta gana s liloralay ▁rushabh ante ▁pratishth . ▁nandi ▁tannaan ▁vastava ti ൽ ▁ri sha bha nayu ▁kuti cola unnat . ▁rushabh ൻ ▁sada ▁dhyan ni ma g nnu ▁nag n anu man tre xxunk ▁atina ൽ ▁randu ki kalu ▁co ti ▁dev ▁un ർ tti , ▁vastra tti ൽ ninn ▁oru ▁nu l etuttu ant ▁vandi kka ൻ . ▁dev ൻ ▁anugrah itchu kavi nja ൽ ▁vind ▁ura ng . ▁itinu pin ni ൽ ▁oru ▁aitihyam und : ▁adyam ▁rushabh ൻ ▁kingcot ▁da ർ shan maan ▁kuti cond irunnat . ▁ni ൽ kkunn ▁rupattil airunnu ▁pratishth . ▁oru divas ▁raville ▁kshetrati ൽ ▁vann ▁shanti ka ർ ▁vigraham ▁ura ng unnat ai ▁con tut re xxunk ▁tut ർ nn ▁vigraham ▁tecot ▁da ർ shan maki ▁pani tu . ▁oru kalat ▁keralati ൽ ▁buddha - jainamat ang ൾ ▁chelutti irunn ▁swadhina tine ▁pratika mai ▁rushabh ane ▁conduvarunnu . ▁rushabh ൻ ▁oru ▁jaina ti ർ tthan kar n anennu ▁kai co ti ▁vilichu n ർ tti ▁nu le tut ▁tho c kunnat ▁jaina m ta chara tine ▁tut ർ chchay anennu ▁charitrakaranma ർ ▁kanakkakkunnu . ▁ki rat mu ർ ttiyay ▁param shi van an ▁vet te i kkar ൻ ▁enne ▁parayunnat . ▁pashu patha stra ▁ki tta ൻ ▁gh ora ta pass ▁cheiyuk ay airunn ▁a ർ jun e ▁parik shika ൻ ▁bhagwa ൻ ▁swikarichch ▁rupee ▁vet te i kkar ൻ . ▁kshetra na l mpal attin upurt ▁tekupatinjar e mula i ൽ ▁kingcot ▁da ർ shan maan ▁ki rat mu ർ ttiyute ▁shrikovi ൽ . ▁ran jati ▁po kum ▁varunn ▁cheria ▁shivalinga a ▁ ivitayult . ▁dhara yu ▁shankh abhisheka v ▁pradhan ▁waipat uk ൾ . ▁2005 ▁vare ▁kshetra na l mpal attin kat ▁vaikkubhagat ▁tecot ▁da ർ shan maan ▁vet te y kare ▁pratishthich irunnat . ▁enna ൽ ▁2005- ൽ ▁natann ▁deva prashna tti ൽ ▁aa ▁sthana ▁shari allennu ▁puratta ▁pratishth ▁vende te nnu ▁conteti . ▁tut ർ nn ▁putia ▁shrikovi ൽ ▁panit ▁pratishth ▁natattuk a airunnu . ▁mump ▁vet te y kar nte ▁pratishth undairunn ▁muri il ▁inn ▁a ppam , ▁pa yas ▁tutangiyav ▁vitara ▁cheiyunnat . ▁adi dra vid ▁aachara tine ▁bakki patra may ▁oru ▁aradhna sam prad aya a ▁nagara dhan . ▁vividhtar ▁naga e ▁ara di kkunn ▁sampradayam ▁keralatil undairunnu . ▁sindhu nadi tat pradesh ttunin ▁contet u tt ▁rupak sli ൽ ▁naga rupa thu mund . ▁pandu kalat ▁valia ▁ta dwa ttu vid ukali ൽ ▁naga ttara k ൾ ▁pativairunnu . ▁inn ▁kshetrasli ൽ ▁matrama ▁naga ttara kalulla t . ▁trushshu ർ ▁va ikkunathshetrati ൽ ▁tekupatinjar e mul il ▁naga pratishth . ▁kingcot ▁da ർ shan . ▁nagara ja vai ▁vasu ki yu ▁naga yak shi u ▁naga chamundi u ▁mat ▁uttama dha mas ർ ppa ck s ▁ ivitayult . ▁nuru ▁pal ▁sam ർ ppic kunnatan ▁pradhan ▁waipat . ▁kootate ▁ella mas avu ▁aailya m ▁naali ൽ ▁vishesha ൽ ▁puja kalu ▁kanni mas atile ▁aailya ttin ▁s ർ ppa bali u ▁natattivarunnu . ▁kshetra mati ൽ cket tin upurt ▁tekupatinjar e mula i ൽ ▁mani kan thana ൽ ttara i ൽ ▁kingcot ▁da ർ shan mai ▁ subrahmanyaswami k ▁oru ▁pratyeka shet ▁pani titnd . ▁es u pati tan du le ▁it ullu ▁i ▁kshet ▁paniti t . ▁itinu pin ni ൽ ▁oru ▁karan mund : ▁mani kan thana ൽ ▁swatantryasamar kalat ▁oru pat ▁prasang ngs ൾ k ▁vedi ai . ▁prashast ray ▁niravadhi ▁swatantrya samarsenani k ൾ ▁akkalat ▁ivite ▁vann ▁prasang ichu poy irunnu . ▁enna ൽ ▁kshetra ttile ic upokunn ▁bhakt ർ k ▁at ▁valioru ▁prashn mai ▁mary . ▁tut ർ nn ▁avite ▁cherior u ▁kshet ▁panit ▁avite ▁ subrahmanyaswami ▁pratishthich u . ▁in nat ▁vaikkunath shetratine ▁upa kshetra mai ▁k anakkackapetunnu . ▁valli deva yani s met anay ▁ subrahmanyaswami a ▁pratishth . ▁sameepa ▁ganapati yu ▁sanniddhyam a kunnund . ▁puncha m rita vu ▁pal abhisheka v ▁ subrahmanyaswami k ▁pradhan ▁waipat uk ൾ . ▁ra may attile ▁ana shwa ra kathapatra may ▁hanuma ൻ ▁swami ▁sapta chi ran jivi kaliloralai ▁k anakkackapetunnu . ▁bhakthi ▁buddhi shkti ▁swabhava ma hi mai l umellam ▁uttama nai ▁kana kka ck a padunn ▁addeha mill airunnu v engi ൽ ▁ramayana tine ▁gati ▁maton na e ne . ▁va ikkunathshetrati ൽ ▁addehttin ▁pratishth illengil ▁rand ▁sthalansli ൽ ▁addeha ▁a drushya san ni ddhya mai ▁kuticolaunnu ▁enna ▁vishes . ▁one , ▁kshetra na l mpal attin kat ▁shriram te ▁shrikovilin ▁munn ille ▁mandap ti ൽ ; ▁martet , ▁ayyappan te ▁shrikovilin u pur k ilull ▁aushadha ttara i ൽ . ▁shriram san ni ddhya mull i tt ▁hanuma ൻ ▁ennu mundaku menn tan ▁adyatte ▁sankalpa ttinu pi nn ilull ▁vishwasa mengi ൽ , ▁ravana putra nay ▁indra ji ttu maull ▁yudhtti nite i ൽ ▁guru tara mai ▁parukk et ▁lakshm ante ▁jeev ൻ ▁rakshi k anural ▁m rita san ji vani ad engi a ▁maru tva mal yu ▁kond ▁hanuma ൻ ▁lanka ile y upokunn ▁waii ൽ ▁atine ▁oru bhaga ▁at ർ nnu vin tan ▁rantamatte ▁sankalpa ttinu pi nn ilull ▁vishes . ▁ ranti ttu ▁villkkuvaypu nd . ▁ad wai tha vedan tik anayirunn ▁aa di shankar acharya ർ ▁hindumat attin ▁putiyoru ▁bhava ▁na ൽ kunnati ൽ ▁supradhanmay ▁pank ▁vahichu . ▁32 ▁wa ർ sha ▁matra ▁ninduninn ▁jivita ▁kond ▁oru pat ▁sthalang ൾ ▁sand ർ shi i kukayu ▁oru pat ▁ kruthik ൾ ▁rachik kukayu ▁cheit ▁addeha ▁samadhi atte t ▁va ikkunathshetrati ൽ ▁vachch anen ▁vishvasi cppetunnu ▁. ▁addehtine ▁a cho n mma ma ർ k ▁putra sabha g yam ▁labhich itu tan ▁vaikkunath ▁bhaj icht u mulam a . ▁pray adhik yam ▁mulam ▁av ർ k ▁vara ൻ ▁kani ya tay po ൾ ▁av ർ kkuventi ▁bhagwa ൻ ▁kalat i i ൽ ttane ▁kuti cond u en ▁kath und . ▁avite ▁ippo ൾ ▁thiru v elee man tull i ▁mahadeva shet ▁statecheyunnu . ▁or i yk ൽ ▁shankaracharya ർ ▁ivita irunn e ▁vishnu pada dis tava ▁rachik kunnatin i shil ▁samadhi yay atennu ▁pinnite ▁addehtine ▁shishya n maran ▁at ▁pu ർ ttiyakiyat ennu ▁paryappetunnu . ▁shankaracharya ർ ▁sthapich ▁munn ▁math ng ൾ ▁math ) ▁innu ▁kshetrati n ▁sameepa mund . ▁shankaracharya ർ ▁samadhi yay ▁sthant a ▁inn ▁addehtine ▁shrikovi ൽ ▁panit irikunnat . ▁shankaracharyar ute ▁pu ർ na kaya prati m ▁kingcot ▁da ർ shan maki ▁pratishthich iriunnu . ▁nal ti ▁uyaram ▁kaa nu . ▁shrikovilin u chu u ▁shankaracharyar ute ▁jivita th ille ▁chil ▁supradhan ▁sand ർ bha ng ൾ ▁manohar mai ▁avishkar ichittund . ▁shankaracharyar ute ▁shrikovilin ▁tekkubhagat tai ▁shankh a chakra ute ▁rupaee u ▁ko tti va chittund . ▁vishnu bhagwa nte ▁thiruva yu slay ▁shankh a chakra ute ▁shila rupa ng ൾ ▁kshetratile ▁shaiva vaishnav a shakti san yog te ▁suchippic unnu . ▁simhodar ante ▁shrikovilin ▁vaikupatinjar u bhagat ▁nalmpala t chu war y ൽ ▁tri kona kriti i ൽ ▁oru ▁cheria ▁dwar mund . ▁aa ▁dwar tilute ▁vaikkunath ne ▁taj ika kut ▁condu to g unn ▁bhakt ർ ▁tut ർ nn ▁atin ▁kilokkubhagat tull ▁oru ▁tara i ൽ ▁kayri nin ▁vaikku kingk e mul ileyk ▁tiri anu no ki ▁kashi vish va nath ▁vandi kunnu . ▁kashi vi shwa nath ൻ ▁tannaan ▁vaikkunath anai ▁van unnat ▁end ▁vishwas ▁itinu pin ni ൽ . ▁itu kari nja ൽ ▁itin ▁to ta um u mp ilull ▁bal ical lin ▁mukali ൽ ▁kallu k ൾ ▁kuti i tunn ▁oru ▁aachara mundairunnu . ▁2005- ൽ ▁natann ▁deva prashna tti ൽ ▁aa ▁aa char ▁ra dda ki . ▁enna ൽ ▁innu ▁it ria tt ▁chil ർ ▁it ▁tut ർ nnu porunnu nd . ▁itin di ilute ▁oru ▁rahasya ma ർ ggam undennu ▁ atuway ▁nere ▁kashi i ▁mani k ർ ni ka gh tra tile tti cher ram ennu ▁vishvasi cppetunnu . ▁pand ▁ivite ▁bhajan m irunn ▁desh mangalam ▁namputiri k ▁kashi vi shwa nath d ർ shan ▁end ▁moh am ▁sadhichu koduk ka ൻ ▁vaikkunath ൻ ▁tanne ▁ni ർ mmitchu kotutt ata ▁aa ▁wa i ennu ▁etanu ▁maniu ruk ൾ kkulli ൽ ▁kashi iletti ▁da ർ shan ▁pu ർ ttiyaki a ▁addeha ▁tut ർ nn ▁ite ▁maa ർ gga ttilute ▁va ikkunathshetrati ൽ ▁tiritchetti yennu ▁vishvasi cppetunnu . ▁tut ർ nn ▁i ▁way ▁atechu . ▁i ▁waii lute ▁ganga yu ▁shri lak t ▁varumenn ▁pa ർ vvati k ▁tonni y atumulam at re ▁it at chatu polu xxunk ▁i ▁way ▁at a chcha ti ൽ ▁namm alu ▁pank ▁vahichu ▁end ▁vishwasa ma tre ▁kallu k ൾ ▁kuti it unnatinu pi nn ilundairunn atu polu xxunk ▁kashi vish va nath ▁to bhut ▁tecot ▁yatra ▁cheit a ൽ ▁matoru ▁tara ile ttam . ▁tekkuki ng ke mul ilull ▁i ▁tara i ൽ ninn ▁kingcot ▁nokki ▁chidambar antar a jana yu ▁tecot ▁nokki ▁ramesh vara te ▁raman a tha swami ayu ▁bhakt ർ ▁vandi kunnu . ▁shiv ൻ ▁nataraja bha wa tti ൽ ▁kuti co llu nn ▁ek ▁kshet ▁chidambar ▁kshet . ▁pratishth amu ർ tti ▁tanne ▁shiveli mu ർ ttiyay u ▁varunn ▁ek ▁kshetravu ▁itu tan . ▁chidambar nath e ▁ananda than da va ▁ramesh vara tu ▁pratiphali tch uva tre xxunk ▁rameshwaram ▁kshetra ma kate ▁aitihya prakaram ▁ra van ▁con n atumulam unday ▁brahma hat ya pa pa ▁thi ർ kka ൻ ▁shriram ൻ ▁pratishthich ▁shivashet . ▁shriram ൻ ▁pratishth ▁natattiyat ina ൽ ▁sthalattin ▁rameshwaram ▁ennu ▁pratishth k ▁raman a tha ൻ ▁ennu ▁peruk ൾ ▁vannu . ▁or i yk ൽ ▁nanti ute ▁ni ർ ddeshprakaram ▁ivite ttia ▁anant ൻ ▁i ▁tara i lirunne ▁tandava ru tta ▁da ർ shichu ven ▁aitihyam und . ▁keralatile ▁nu tet ▁du ർ gga kshetras li ൽ ▁onnam ▁sthana ▁alankari kunn ▁urak attam ma thiru vati sht ▁trushshu ർ ▁nagaratti ൽ ninn ▁uddesha ▁12 ▁kilomet ർ ▁tekku mari ▁statecheyunnu ; ▁bharatati ൽ ▁bharat pratishth yull ▁apu ർ vvam ▁kshetra slilonnay ▁i rinj ala kkut ▁kut ൽ maaniky m ▁kshet ▁24 ▁kilomet ർ ▁tekku mari u . ▁i ▁rand ▁kshetrasli ley ▁nokki tto lan ull ▁tara ▁tekke ▁gopurati ൽ ▁ninn ▁alpam ▁mary ▁statecheyunnu . ▁aitihya prakaram ▁urak attam m ▁tante ▁bhakt anay ▁thiruva laya nnu ർ ▁bha t tta tiri ute ▁ola kku te i ൽ ▁kayri irunn ▁kanchi ka mak shi ▁tannaan . ▁ur kath ▁pratishth ▁nata ttiyappo ൾ ▁bhagavti ute ▁or an sham ▁ vaikkunathshetra til ▁sanniddhyam aru li ▁enne ▁vishvasi cppetunnu . ▁kootate , ▁va ikkunathshetrati ൽ ▁j ye sh tha nay ▁shriram n otoppa ▁kuti co ll anayirunnu ▁bharat te ▁agraha m tre . ▁enna ൽ ▁bhakt anay ▁va kkai ൽ ▁kai mal ute ▁abhy ർ tthan prakaram ▁bharat ൻ ▁kut ൽ maaniky at ▁sangam e swara nai ▁kuti cond u ennu ▁enna ൽ ▁addehtine ▁a drushya sannidhyam ▁innu ▁va ikkunathshetrati lund enn ▁kath . ▁keralatile ▁et ▁prasiddhamay ▁bhadrakali she tra may ▁ko tunkallu ർ ▁shri ▁kuru mba i gav ti sht ▁trushshuri ൽ ▁ninn ▁uddesha ▁42 ▁kilomet ർ ▁tekupatinjar u mari ▁statecheyunnu . ▁parashuram ൻ ▁pratishthich ▁nal ▁ambika laya s ilonnan tre ▁it . ▁keralatile ▁64 ▁bhadrakali kshetras ute ▁mula sthan mayu ▁kotugllur ▁conduvarunnu . ▁chil a pati kara ttile ▁nayika yay ▁kanna ki ayu ▁bhagavti ▁conduvarunn undeakil ▁bhadrakali bhava ▁tannaan ▁pradhan . ▁kotu ra lla rile k ▁nokki tto lan ull ▁tara ▁oru ▁aa ൽ mar attine ▁tara n . ▁kshetratile ▁tekke ▁gopurati ൽ ninn ▁alpam ▁patinjaru maria ▁i ▁aa ൽ maram . ▁urak ▁kshetratine ▁kingke ▁gopurati ൽ ▁kotugllur mmayute ▁sanniddhyam und enna ▁vishes . ▁urak atta mmayute ▁a drushya san ni ddhya mula tukond ▁koot i yaka ▁kotugllur am may k ▁ivite ▁sthana ▁udhappi cht . ▁tekupatinjar e mula ile yu no ki ▁kotugllur amma ye ▁tho bhu nn ▁bhakt ർ ▁tut ർ nn ▁avite tane ▁vatcot ▁tiri ng u nin ▁pradhan ▁shrikovil u ute ▁taj ika kku tre su ▁nokki tto a unnu . ▁itihasa kavya may ▁mahabharata tinteyu ▁patinet ▁purana utayu ▁k ർ ttavay ▁vedavyas ▁ivite ▁tekkubhagat e ▁oru ▁aa ൽ mar attine ▁chu wati ൽ ▁a drushya san ni ddhya mund . ▁oru ▁cheria ▁uru l ൻ kall il ▁vedavyas e ▁sankalp ichu to j unnat . ▁kotugllur mmayute ▁tar k ▁to ttu patinjar u maria ▁vedavyas a sankalpa . ▁i ▁tara i ൽ ▁da ർ shan ▁natati kka shi nja ൽ ▁man ali ൽ ▁' hari shri ▁gana pat ye ▁nama h ▁avi gh nama stu ▁shri ▁guru bh yo ▁nama h ' ▁end ▁vidya rambha mantra ▁anu tukayu ▁want . ▁vyasa shila ute ▁take ▁dakshinamu ർ tti sankalpa vumund . ▁shivane ▁tanne ▁sanyas a bhava ▁dakshinamu ർ tti . ▁prapantatin e ▁adi guru ▁end ▁sankalpa ttilult an ▁i ▁bhava . ▁atina ൽ ▁vidy abhivruddhi k ▁dakshinamu ർ tti bha jana vu ▁uttama mai ▁k anakkackapetunnu . ▁vyasa shila ute ▁chuv a ttilull ▁dakshinamu ർ tti e ▁to qu tu van t ▁ayyap ane ▁to ba ൻ ▁enna ▁aa char . ▁ illengi ൽ ▁da ർ shan pu n yam ▁na shi c kuma tre xxunk ▁ vaikkunathshetra tin ▁kilokkubhagat ▁trushshu ർ ▁nagaratti ൽ ttan nayull ▁prasiddhamay ▁bhagavti shet ▁passmea ▁kshet . ▁trushshu ർ ▁pura tine ▁pradhan ppet ▁rand ▁pankali ka liloralay ▁i ▁kshetratile ▁pratishth ▁prasiddhamay ▁thiruman dhan kun ▁kshetratile ▁pratishth anen ▁vishwasichu varunnu . ▁i ▁pratishth ute ▁mula sthana ▁vaikkunnath a shetratine ▁patinjare ▁gopurati n ▁vaikkubhagat tull ▁i la nja i tta an . ▁it ▁ivite ▁vara ൻ ▁karanmay ▁oru ▁sambhava mund . ▁a th ing : ▁trushshu ർ ▁nagaratti n ▁tekkubhagat tull ▁ku ർ kk ancheri i ▁a ppat ▁ka uari tta wa ttile ▁karnav a rayirunn ▁kuruppa ൾ ▁thiruman dhan kunn il mmayute ▁param bhakt an airunnu . ▁ella mas avu ▁mugha ng ate ▁thiruman dhan kunn i ൽ ▁da ർ shan ttinu poy irunn ▁addehttin ▁pray adhik yam ▁karea ▁atin ▁kaniat ▁varumenn ▁ghatea ▁vannapo ൾ ▁addeha ▁ishta dev t yot ▁nati ൽ ▁kuti cola namenne ▁abhy ർ tthi chu . ▁karuna mai ay ▁devi ▁at ▁sammath ich ▁kuruppa der i at ▁addehtine ▁ola kku te i ൽ ▁kayri irunnu . ▁yatra ka rinj ▁kshin itan ai ▁tiritchetti a ▁kuruppa ൾ ▁vaikkunath ▁to bhut ▁i la nja i ttara i ൽ ▁kilo nnu ra ndi . ▁un ർ nn ed unnat e ▁ku du m etut ▁poka ൻ ▁ninn ▁addeha ▁kut ▁avite ▁urachch u kavi nja tai ▁kantu . ▁tut ർ nn ▁prashna ▁vat chu no ki appo ൾ ▁devi sannidhyam ▁kantu . ▁devi ▁sannidhyam ▁kantat in ▁tut ർ nn ▁devi ▁tante ▁tadwatti le ▁kalri i ൽ ▁pratishthich u ▁yatha vidhi ▁puja vidhi k ൾ ▁cheitu ▁kollam ▁enne ▁man mu ruk i ▁pra ർ tthi ch tin ▁tut ർ nn ▁ola kkut ▁avite ▁ninnu ▁adukku kayu ▁tut ർ nn ▁tante ▁ku ർ kk ancheri ▁tadwatti le ▁kalri i ൽ ▁devi ▁shaktey a vidhi ▁prakaram ▁pratishth ikkukayu ▁cheitu . ▁devi ute ▁pratishth ▁natattia ▁kalri ute ▁to ttu ▁pur k ilull ▁pa ro ▁mara chch u wati ൽ ▁ayatina ൽ ▁pa ron ka ▁bhagavti ▁enne ▁desh ni vasik ൾ ▁vilichu ▁po nnu ▁. kala k ram en ▁pa ron ka ▁lo bhi cchu ▁passmea ▁bhagavti ▁enna ria ppettu . ▁devi d ർ shan ▁we li pettat ▁i la nja i ttara i ൽ ▁we ccha yat ▁kond ▁karnav ർ ▁ivitayu ▁devi ute ▁oru ▁shila pratishth ▁natati . pinnite ▁vaikkunath ▁kshet ▁kutut ൽ ▁vipulikari kunnatin e ▁bhagamai ▁i ▁pratishth ▁ vaikkunathshetra tin ▁kilokkubhagat tull ▁kuta ൻ ▁para yute ▁mukalila yu mati . ▁angne ▁aa ▁kshetrati n ▁passmea ▁end ▁peru vannu . ku ർ kk ancheri ▁kuruppa ൾ ▁tadwatti le ▁karnav arute ▁kalri i ൽ ▁passmea ▁bhagavti ute ▁pratishth ▁kootate ▁chand ika bhagavt i ▁ , mana kko ti ▁ayyap ൻ ▁ , vana s hasta ▁ , vir bhadra ൻ , kuru ppa ൾ ▁karnav ർ ▁enni ▁pratishth ak ൾ ▁kootiund ▁. karna v ർ ▁devi i ൽ ▁samadhi ▁prapich etote ▁karnav arute ▁rupam ▁pin talam ura kka ർ ▁kalri ▁purat ▁pratishth i kukaa ▁undayat . shi va linga rupattilull ▁kull ute ▁rupatti ൽ ▁aan ▁karnav arute ▁pratishth ▁natattiyat . kuru ppa ൾ ▁karnav ർ k ▁devi u mayull ▁ab he ddhya may ▁bandha ▁ ulritina ൽ ▁puratt ull ▁pratishth ▁urak ate ▁ irikkayu ▁pinnite ▁jyotish vidhi ▁prakaram ▁kalri ▁a katu ▁tanne ▁pratishth ikkayu ▁cheiyuk ayairunnu ▁. ku ർ kk ancheri ▁kuruppa ൾ ▁kalri ot ▁anubandh ichu ▁s ർ ppa kavu ▁ , brahma raksha s su ▁nilecolaunnu . i nnu ▁passmea ▁kshetratile ▁vel ▁atiyantar ▁pramani ch ▁kshetra ko mar m ▁ku ർ kk ancheri ▁kuruppa ൾ ▁kalri i ൽ ▁varu kayu ▁ari er u ▁natati ▁mula sthan tt otulla ▁kat ppat ▁ari ikkayu ▁cheitu ▁varunnu ▁. ma kar masatti le ▁pan ppara , tru shu ർ ▁puratt or anu bandhit ch ull ▁pura ppara ▁it ellam ▁tuingunnat ▁ku ർ kk ancheri ▁kuruppa ൾ ▁tadwatti ൽ ▁ninn . ▁karnav ർ ▁i la nja i ttara i ൽ ▁vishram ichch atin ▁tut ർ nn ▁devi cha itan yam ▁bodhya ppettat inte ▁o ർ mma ya ▁trushu ർ ▁puratt ot ▁anubandh i tchull ▁vishwa prasiddhamay ▁i la nja i tara ▁me lam ▁ vaikkunathshetra ttin kat ▁natatti varunnat . ▁trushshu ർ ▁pura tine ▁pankali kali ൽ ▁mati ൽ cket tina cat ▁kayru nnat ▁pass me kka vil mm ▁matrama . p ▁adyam ▁shri mul sthana t ▁to bhu k . ▁ravi le anengi ൽ ▁araya lin ▁e ku valam ▁vai kkunnatu ▁uttama . ▁tut ർ nn ▁patinjare ▁gopurati lute ▁a kat ▁katann ▁kali shila e ▁vandi ch ▁pradakshin mai ▁vann ▁shrikrishna e ▁vandi kook . ▁tut ർ nn ▁vaikke ▁nadi lute ▁pradakshi ▁vach ▁vaikupatinjar e ▁nalmpala cket ty le tti ▁rushabh ane ▁vandi kook . ▁rushabh ൻ ▁sada ▁dhyan ni ma g nnu ▁nag nnu mayatina ൽ ▁kai co ti tto yu t , ▁vastra tti ൽ ninn ▁oru ▁nu le tut ▁want ▁da ർ shan ▁natatta ൻ . ▁tut ർ nn ▁vaikke ▁na tille ▁o vinte ▁a rik ilute ▁nalmpalattin kat ▁katann ▁mandap tin ▁munn iletti ▁vaikkunath ▁to bhu k . ▁tut ർ nn ▁mandap tine ▁tekkubhagat tuk ute ▁patinjare ▁nalmpala cket ti ൽ ▁poi ▁nanti yayu ▁vasu ki sha yi eyu ▁nritta nath a neyu ▁to puta shes ▁mandap tine ▁vaikkubhagat tuk ute ▁vind ▁shrikovilin ▁munn iletti ▁vaikkunath ▁vandi kook . ▁tut ർ nn ▁mandap ti lirunne ▁name ▁ja pi c kunn ▁brahman arayu ▁vandi chchashes ▁pa ർ vvati devi ▁to ba ൻ ▁kingke ▁nat ileyk ▁po cook . ▁tut ർ nn ▁tirichu vann ▁ganapati ▁to bhu k . ▁pinne ▁shankarnarayan ayu ▁shriram ayu ▁vandi t chu kavi nja ൽ ▁kingcot ▁tiri ng u nin ▁suryan mas kara ▁nata t enatund . ▁i ▁ritii ൽ ▁munnu tavan ▁pradakshi ▁va chchashes ▁nalmpalattin ▁purat ▁kati cook . ▁tut ർ nn ▁pradakshin mai ▁vaikku kingk e mul iletti ▁parashuram a ▁vandi chchashes ▁simhodar ane ▁to l anai ▁teku pati n wat ▁nata kcook . ▁simhodar ane ▁to qu tu kari nja ൽ ▁shrikovilin ▁vaikupatinjar u bhagat ▁nalmpala tch uva rille ▁oru ▁dwar tilute ▁vaikkunath ne ▁taj ika kut ▁condu to qu tu kari nja ൽ ▁atuttull ▁tara i ൽ ▁kayry ▁vaikku k ica cot ▁ti rinera ▁kashi vish va nath ▁vandi kook . ▁pinnite ▁pradakshi ▁vai kkumpo ൾ ▁tekkuki ng ke mul i ൽ ▁oru ▁tara ▁kanan . ▁ati ൽ ▁kayri nin ▁vaikku k ica cot ▁ti rinera ▁chidambar antar a jana yu ▁tekkuki ca cot ▁ti rinera ▁rameshwaram ▁raman a tha swami ayu ▁vandi kook . ▁tut ർ nn ▁tekke ▁gopurati ntuttull ▁tara i ൽ ▁kayri nin ▁tecot ▁ti rinera ▁urak attam ma thiru vati yu ▁kut ൽ maaniky a swami ayu ▁atin ▁patinjaru ral ▁aa ൽ ttara i ൽ ▁kayri nin ▁tekupatinjar ot ▁ti rinera ▁kotugllur amma yayu ▁vatcot ▁ti rinera ▁pradhan shri kovi lu ute ▁taj ika kkut sayu ▁vandi kook . ▁tut ർ nn ▁vyasa shil iletti ▁vedavyas mah ർ shi e ▁vandi ch ▁vidya rambha mantra ▁kurich ▁mara chch uva ttille ▁dakshinamu ർ tti e ▁to puta shes ▁pradakshin mai ▁vann ▁ayyap ane ▁to bhu k . ▁ayyap ane ▁to qu tu kari nja ൽ ▁tut ർ nn ▁m rita san ji vani ttara ileyk ▁chel luk . ▁avite ▁ennu ▁pu vu ll ▁oru ▁cheti und . ▁atile ▁pu v etut ▁tali ൽ ▁to tta ൽ ▁pinne ▁oru ▁wa ർ shatte yk ▁viti ൽ ▁marana ▁natak k ille nna ▁vishes . ▁ite ▁tara i ൽ ▁a drushya nai ▁van unn ▁hanuma ൻ ▁swami ▁vandi ch ▁vet te y kare ▁to ba ൻ ▁chel luk . ▁shatru na sh ttin ▁vet te y kare ▁tho c kunnat ▁uttama mai ▁k anakkackapetunnu . ▁pinne ▁atin ▁vaikkubhagat tull ▁naga tta ral ▁shankh a chakra pratishth ▁to puta shes ▁shankaracharyar e ▁vandi kook . ▁tut ർ nn ▁kshetratile ▁i la nja i tta ral ▁to bhut ▁purat ▁kati cook . ▁ingtone ▁k ram prakaram ▁vandi ccha ൽ ▁da ർ shan ▁pu ർ co mai . ▁3 ▁kilometar ▁motta ▁pradakshi . ▁kshetrattinu u u ▁swaraj ▁rand ▁pani tiriunnu . ▁pat u mengi ൽ ▁natuvi la ൽ , ▁mani kan thana ൽ ▁kshetras ▁da ർ shan ▁natatta vu nntan . ▁utsava millat ▁deva ▁vaikkunnath ൻ . ▁vaikkunnath ൻ ▁kshetratile ▁dev nma ർ k ▁utsava ghosh amo ▁pur mo ▁ill . ▁pand ▁kalat ▁utsava mundairunn ennu ▁at ▁pinnite ▁mugha ng i ennu ▁parayunnu . ▁or i yk ൽ ▁indra di de vare llavaru ▁kuti ▁oru ▁gambhir ▁utsava ▁natatti yennu ▁at ▁ati gam bhi r mayatina ൽ ▁pinnite ▁attar atil one ▁aavashyamill e ▁shiv ൻ ▁parannu vennu ▁aitihyam und . ▁kumbha masatti le ▁karutt a pak ttile ▁chatu ർ dd shi divas ▁laksha di pa ng ൾ ▁teliitu ▁pushpa la ൽ ▁alankari chu ▁aghosh ikunn ▁shivaratri ▁utsava ▁ivite ▁pradhan . ▁ella ▁shivashetras ▁vishesha divas a manit . ▁ann ▁trushshu ർ ▁pura ttinu ▁varunn ▁kshetrasli ൽ ▁ninn ▁devi dev ma ർ ▁anunnalli van ▁vaikkunath ▁vandi ch ▁math ng unnu . ▁av ▁passmea , ▁thiruva m pati , ▁chempu ka , ▁kani mangalam , ▁la lu ർ , ▁ayyan to ൾ , ▁nai tala , ▁chur kot , ▁kar muk , ▁pan mu kkam pill i , ▁ash ok eshwar ▁enni ▁kshetrasli ൽ ▁ninna . ▁shivaratri ot nu bandh ich ▁ravi layu ▁vaikunnera vu ▁100 1 ▁kathin we tiyu ▁divas ▁mubhuv ൻ ▁nay y abhisheka ▁natattarund . ▁shivaratri ot nu bandh ich ▁vishesha ൽ ▁kala paripati kalu mundaku . ▁lok ▁prasiddhamay ▁trushshu ർ ▁puram ▁shri ▁vaikkunath ne s ani dhya til ▁nata kcook . ▁trushshu ർ ▁puram ▁naali ൽ ▁kailas nath ▁cond ▁vandi kka ൻ ▁chutu vat tati ൽ ninnu ▁devi dev ma ർ ▁anunnalli e ttu . ▁trushshu ർ ▁purame nnat ▁pal ▁pal ▁kshetrasli ൽ ▁ninn ▁an unn elli ch ▁vann ▁kshetra mai tan i i ▁tir itchu po kunnatin an ▁suchippikunnat . ▁ati ൽ ▁tanne ▁passmea ▁puram ▁matrame ▁kshetra mati ൽ cket ti nak tek ▁praveshi unnu llu . ▁vaikkunnath ൻ ▁i ▁pura tine ▁sakshi ▁matrama . ▁ororutt aru ▁vannu po kunnu , ▁varunnu . ▁a tra matra . ▁passmea ▁bhagavti ▁mati ൽ cket ti nak tek ▁kathikunnat ine ▁aitihyam itan : ▁kochi raja vinte ▁kilo ile ▁dhir a ayodha va irunn ▁a ppat ▁kuruppa ൾ ▁tikanera ▁devi bhakt an airunnu . ▁ella mas avu ▁addeha ▁angati puram ▁thiruman dhan kun ▁kshetra ttileik ▁da ർ shan ttinu po kumairunnu . ▁wa ർ ddh k ya tt ettut ർ nn ▁addehttinu po ka ൻ ▁kaniat ▁varumenn ▁avasth ▁vannapo ൾ ▁avasana d ർ shan ttinushes ▁addeha ▁bhagavti ot ▁tante ▁vidi ntu tteak ▁vara namenne ▁avashyapettu . ▁bhakt a vat sal yay ▁thiruman dhan kunn ila mm ▁aa ▁aavashya ▁swikarichu . ▁tiritchetti a ▁kuruppa ൾ ▁vaikkunnath anayu ▁to puta shes ▁vaik up atin tha ru vashattu ll ▁i la nja i ttara i ൽ ▁kilo nnu ra ndi . ▁un ർ nn ▁tante ▁ku du m etut ▁yatra che yam ennayirunnu ▁addehtine ▁thirumana . ▁enna ൽ ▁ apoeeku ▁kut ▁urachch uka rin thirunnu . ▁it a rinj ▁sthalatte ttia ▁j yot s yan ma ർ ▁ku lo i ൽ ▁bhagavti ute ▁sanniddhyam unt en ▁conteti . ▁tut ർ nn ▁avite ▁pratishth yu ▁natati . ▁innu ▁divasavu ▁pass me ka ville ▁diparadhan as mayat ▁avite ▁vill kku vach ▁puja yu ▁natati vannu . ▁kala krama tti ൽ ▁bhagavti ute ▁pratishth ▁kshetrati n ▁kilokkubhagat tull ▁oru ▁cheru pur ute ▁kar ile ▁para yute ▁mukali ൽ ▁pratishthich u . ▁para yute ▁mukali ൽ ▁pratishthich atina ൽ ▁passmea ▁end ▁peru vannu . ▁bhagavti ute ▁mula sthan may atukona ▁puratt in ▁mati ൽ cket tina cat ▁i la nja i ttara i ൽ ▁pandimelam ▁natattunnat . ▁hindu niyam prakaram ▁pandimelam ▁mati ൽ cket tina cat ▁natatta ൻ ▁patill . ▁karea ▁at ▁a asura vadya a . ▁dev vadya may ▁puncha ri matrame ▁pat ullu ▁enna ▁chit . ▁enna ൽ , ▁annatte ▁keraliya sam ute t ilundairunn ▁brahman me dha vit va te ▁ethi ർ tt ▁nagar pet avay ▁shakt ൻ ▁tampura ൻ ▁pratishedh su chak amai ▁chit ▁teti kkukayairunnu . ▁tekke ▁gopuram ▁u tu pur ▁kshetra kulam ▁patinjare ▁gopuram ▁patinjare ▁gopuram ▁vaikke go puram ▁patinjare ▁gopuram ▁shri ▁mula sthana ▁kshetra mut te ▁vita k ▁tekke go puram ▁kshetra go puram ▁deep a prabha i ൽ ▁patinjare ▁gopuram ▁vaikkunnath ▁kshet ▁tekke ▁gopura nt ▁trushu ർ ▁puram ▁passmea ▁kshet ▁• ▁thiruva m pati ▁kshetra kani mangalam ▁shasta ▁kshet ▁• ▁pan mu kkam pill i ▁shri dh ർ mmshasta ▁kshet ▁• ▁chempu ca ▁kaa ർ tt ya yani ▁kshet ▁• ▁pu cat i kar ▁kar muk ▁bhagavti ▁• ▁la lu ർ ▁kaa ർ tt ya yani ▁kshet ▁• ▁chur kot tuka ▁bhagavti sht ▁• ▁ayyan to ൾ ▁kaa ർ tt ya yani ▁kshet ▁• ▁kushat u ർ ▁neit al ca vil mma vai kku nath ൻ ▁kshet ▁man tti ൽ ▁vara ▁• ▁pura ppura pati la nja i ttara me lam ▁• ▁tecot i rum ▁kutama om ▁• ▁weti ce t ▁trushshu ർ ▁• ▁shakt ൻ ▁tampura ൻ ▁panchvadyam ▁• ▁pandimelam ▁hindu ▁kshetras lumai ▁bandhappet ▁i ▁lekhana ▁apu ർ sanma . ▁itu ▁vidocipikku va ൻ ▁sahayikcook .,▁x x bo s ▁chanda ma ma ▁was ▁a ▁classic ▁indian ▁magazine ▁for ▁children . ▁over ▁the ▁years , ▁chanda ma ma ▁has ▁published ▁beautiful ▁myths ▁and ▁legend s . ▁initially , ▁telugu ▁filmmaker s ▁b . ▁nag i ▁reddy ▁and ▁chakra pani ▁started ▁a ▁magazine ▁called ▁chanda ma ma . ▁kod ava tti gan thi ▁ku da mba ▁rao ▁was ▁the ▁editor . ▁kod ava tti gan thi ▁was ▁edit ed ▁by ▁chakra pani ▁in ▁telugu ▁literature , ▁who ▁was ▁a ▁friend ▁of ▁ku da mba ▁rao . ▁edit ed ▁for ▁28 ▁years ▁until ▁his ▁death ▁in ▁august ▁1980 . ▁in ▁2007 , ▁chanda ma ma ▁was ▁acquired ▁by ▁geo te s ic , ▁a ▁mumbai - based ▁software ▁services ▁company . ▁in ▁the ▁60 - year - old ▁magazine ▁digital ▁age , ▁they ▁decided ▁to ▁plan . ▁however , ▁the ▁mumbai ▁high ▁court ▁order ed ▁geo des ic ▁to ▁rep ay ▁the ▁lo an ▁to ▁the ▁now ▁de fu n ct ▁magazine . ▁2016 ▁july i ൽ , ▁masikayut e ▁nilevi lle ▁state ▁agyat a . ▁matra sthapan ▁company yay ▁ji o dish ▁li k vi desh ൻ ▁pra kri il , ▁chanda ma m ▁bra ൻ du ▁nischit ▁gati i ൽ ▁vi ൽ kka ൻ ▁pratiksh iunnu . ▁masikayut e ▁audyogik ▁website ▁magazi ൻ ▁uthmak arute ▁kalavadhi ▁avasanippi kka ൻ ▁anuvadich irunnu . ▁nilevi lle ▁website ▁chanda ma m ▁masik yumai ▁bandhappetutti till . ▁the ▁book ▁was ▁developed ▁by ▁ku du mbar ayo ▁to ▁en co ur age ▁young ▁writers ▁among ▁the ▁telugu ▁- ▁ speaking ▁people ▁of ▁andhra ▁pradesh ▁to ▁comp ile ▁a ▁complete ▁collection ▁of ▁telugu ▁literature ▁on ▁indian ▁mythology ▁over ▁the ▁decade s . ▁da sari ▁sub ra mani am ▁also ▁wrote ▁stories ▁with ▁a ▁few ▁folk ▁tal es . ▁stories ▁like ▁the ▁under w or l d ▁he ▁wrote ▁are ▁very ▁popular . ▁2008 ▁november y ൽ ▁itin ▁pun ർ rupa k ൽ ppan ▁cheiyukayu ▁bhash , ▁avatara , ▁kala srushti , ▁ulateke ▁ennivi ൽ ▁aadhunik av ൽ k karikkayu ▁cheitu . ▁vikra - ve ta ൾ , ▁puranas ▁kathak ൾ ▁tutangia ▁paddy ▁janapriya pe ttava k ൾ ▁tut ർ nnu kondu po vukyu , ▁samakalik ▁kathak ൾ , ▁sahasik ▁kathak ൾ , ▁spo ർ ts , ▁technology , ▁wa ർ tta ▁pe ju k ൾ ▁tutangiyav ▁u ൾ pete ▁niravadhi ▁putia ▁kutiche ർ kkalu k ൾ ▁undai . ▁kutti ute ▁sahitya ttile ▁putia ▁prav an tak ൾ ▁kanakiletut , ▁akadami c ▁packnattinu ▁atine ▁vishakalana ttinu ▁uy ർ nnu varunn ▁praadhanyam ▁kanakiletut , ▁chanda ma m ▁atine ▁editor ia ൽ ▁naya ng ൾ ▁kala nslai ▁anusrich ▁niloni ർ tta ൻ ▁shram ichirunnu . ▁et ▁pankkamulla ▁bra ൻ de nn ▁niley i ൽ , ▁vaine kka ർ k ▁vendi ▁vinoda , ▁se ൻ si tive , ▁vidyabhyas ▁sahitya m , ▁vitara ▁cheyyanull ▁chumtal ▁enniv ▁chanda ma m ▁eteetuttu . ▁chanda ma ma ▁was ▁published ▁in ▁13 ▁languages . ▁it ▁also ▁had ▁200 ,000 ▁reader s . ▁tantay ▁sailii ൽ ▁kath ▁parayunnat i nai ▁oru ▁masik ▁tayyaraki . ▁e poshu ▁oru ▁dha ർ mmik ▁mulyng ute ▁oru ▁saadharan ▁tre d ▁bandhi kkayu ▁oru ▁muttashshi k tha ute ▁sailii ൽ ▁ print ▁cheiyukayu ▁cheitu . ▁ prasidhikarichch ▁kathakali ൽ ▁pal ▁charitra vu ▁aadhunik ▁pa thalu ▁i ൻ dy , ▁mat ▁rajyas ▁ninnumulla tan . ▁mi th ology , ▁itihasa no ൾ , ▁kathapatra ifa ൾ , ▁upa mak ൾ , ▁upakar a prad may ▁sh ro ta ck ൾ ▁enniv ▁upyogikunnat ▁nanna i ▁manassilakka ൻ ▁sahayi k . ▁angne ▁av ർ ▁jeevitati ൽ ▁shariyay ▁de esh ▁te du a . ▁the ▁stories ▁of ▁vikramaditya ▁and ▁ve thala m ▁in ▁the ▁royal ▁story ▁of ▁the ▁ancient ▁sanskrit ▁work ▁bai thal ▁panch e es ▁gave ▁the ▁magazine ▁great ▁popularity . ▁popular ▁tv ▁appeared ▁in ▁serial s ▁as ▁well . ▁in ▁each ▁case , ▁they ▁have ▁se ized ▁it , ▁despi te ▁obstacle s ▁we ▁can ▁scar ce ly ▁imagin e . ▁\" ▁for ▁king ▁vikramaditya , ▁this ▁involve s ▁a ▁moral ▁crisis . ▁the ▁ wise ▁king ▁answer s ▁the ▁question s ▁correct ly . ▁thus ▁the ▁te mp t ation ▁fa il s ▁and ▁forces ▁the ▁king ▁to ▁answer ▁the ▁te mp t ation ▁again ▁and ▁again . ▁1947 ▁july i ൽ ▁chanda ma may ute ▁adyatte ▁patip ▁purattikaeni . ▁magazi ൻ ▁sthapak ൻ ▁edit a ർ ▁bi . ▁nag i ▁reddy ▁pinnite ▁ten nin dya ille ▁oru ▁pramukh ▁chalachlitra ▁ni ർ mata vai ▁mary . ▁nag i ▁red di ute ▁suhrittay ▁chakra pani ▁masik ai ku ▁pinni lull ▁shakti airunnu . ▁addehtine ▁da ർ shan , ▁lakshyam ▁vaine karan e ▁manassil a ck ൽ ▁ennivyu ▁masik ak ▁peru ▁prashasti yu ▁neticotuttu .19 47 ▁july i ൽ ▁telung ▁tamil il ▁adyamai ▁amb uli ma m ▁end ▁pery ൽ ▁prasidhikarichu . ▁1949 ▁july i ൽ ▁kannada ▁patip ▁adyamai ▁pratyakashppett u . ▁tut ർ nn ▁1949 ▁agast ▁ xxunk il . ▁1952 ▁april i ൽ ▁ prasidhikarichch ▁mara ti , ▁malyalam , ▁1954 ▁ ൽ ▁gujarati , ▁1955 - ▁ ൽ ▁english , ▁1955 , ▁or ia , ▁1956 ▁- ൽ ▁sindh i ▁1972 - ▁ ൽ ▁bengali , ▁1975 - ▁ ൽ ▁punjabi , ▁1976 - ▁ ൽ ▁as a mis , ▁1978 ▁- ൽ ▁sinhala , ▁1984 - ▁ ൽ ▁sanskrit , ▁2004- ▁ ൽ ▁saa ൻ de li ▁enniv il ▁prasidhikara ▁natati . ▁punjabi , ▁sindh i , ▁si ൻ le ▁e di shan uk ൾ ▁oru ▁cheria ▁kalayalvi ൽ ▁matrama ▁prasidhikaricht . ▁1957 ▁octobe ർ ▁mut ൽ ▁1970 ▁ju ൺ ▁vare ▁englishi ൽ ▁prasidhikarica ppetti ll . ▁tobi ൽ ▁t ർ kkang ൾ ▁karea ▁1998 - ൽ ▁masik ▁prasidhikara ▁avasan ippitchu . ▁ennirunnal ▁oru ▁masa ttinushes ▁masik ▁vind ▁pun ad era ram bhi chirunnu . ▁it ▁12 ▁india ൻ , ▁english ▁bhashakal ▁labhyama irunnu . ▁chanda ma ma ' s ▁i llu stra tor s ▁have ▁defined ▁the ▁magazine ' s ▁shape ▁for ▁decade s . ▁they ▁are ▁mt v . ▁a charya , ▁t . ▁veer a ▁raghava n . ▁wa dda di ▁papaya , ▁signed ▁as ▁wa ppa ; ▁ke sava ▁rao , ▁signed ▁as ▁ke sava ; ▁m ▁gokhale ; ▁k . ▁shankar , ▁who ▁joined ▁chanda ma ma ▁in ▁1951 . ▁si va san karan ▁worked ▁from ▁1951 ▁to ▁2011 . ▁6 ▁decade s ▁of ▁un res tric ted ▁relationship xxunk ▁later ▁artist s ▁such ▁as ▁shakti das ; ▁m . ▁signed ▁as ▁ra zi . ▁k . ▁language ; ▁gandhi ▁ayya , ▁a kka ▁gandhi ; ▁p ▁mah esh ▁also ▁worked ▁duri ng ▁the ▁current ▁period ▁of ▁the ▁magazine . ▁initially , ▁the ▁covers ▁were ▁printed ▁in ▁four ▁colors . ▁the ▁interior s ▁were ▁used ▁to ▁pain t ▁i llu stra tion s . ▁there ▁was ▁an ▁i llu stra tion ▁on ▁every ▁page ▁of ▁chanda ma ma . ▁ though ▁the ▁word ▁was ▁har sh , ▁chanda ma ma ▁was ▁not ▁a ▁co mic ▁book ▁but ▁a ▁picture - s tory ▁book . ▁magazi ൻ ▁aarambha ▁mut ൽ ▁sthapan e ▁kutuba tine ▁kaik alla . ▁nilevi lle ▁prasadhak anay ▁bi ▁vishwanath ▁reddy ▁i ▁masikayut e ▁me ൽ notte ▁tante ▁peita vi ൽ ▁ninnu ▁e u vari irunnu . ▁1999 - ▁ ൽ ▁company ▁oru ▁public ▁limitod ▁compani ai ▁uy ർ nnu . ▁mo ർ g ൻ ▁sta ൻ li yu ▁company i ൽ ▁ohari ▁vang kayu ▁cheitu . ▁ji o desh i inte ▁avasan ▁edit a ർ ▁pra shan t ▁mu li kkar airunnu . ▁2006 ▁oguest y ൽ ▁chanda ma mai ൽ ▁dis ni ▁ohari ▁vang a ൻ ▁thiruman ia chirunnu ▁enne ▁repo ർ tt ▁cheyyapettu . ▁2007- ▁ ൽ ▁chanda ma m ▁technology ▁company ▁ji o desh i ▁i ൻ pho ർ me sh ൻ ▁si s te ns ▁ateedukkukayu ▁cheitu . 20 16 ▁july i ൽ , ▁masikayut e ▁nilevi lle ▁state ▁agyat a . ▁matra sthapan ▁company yay ▁ji od es ic ▁li k vi desh ൻ ▁pra kri il . ▁chanda ma m ▁bra ൻ du ▁ai ▁pi ▁yu ▁vi ൽ k kumenn ▁pratiksh iunnu . ▁chanda ma ma ▁has ▁acquired ▁a ▁technology ▁company ▁to ▁further ▁dig it ize ▁and ▁make ▁its ▁content ▁available ▁through ▁digital ▁librari es ▁and ▁the ▁web . ▁in ▁addition , ▁chanda ma ma ' s ▁multi media ▁and ▁c ds ▁were ▁published . ▁to wards ▁the ▁end ▁of ▁2007 , ▁chanda ma ma ▁launched ▁a ▁re va mp ed ▁internet ▁presence ▁to ▁better ▁ref resh ▁reader s ▁who ▁are ▁ seeking ▁information ▁and ▁content ▁outside ▁of ▁the ▁published ▁publication . ▁satellite ▁radio ▁service ▁provide r ▁has ▁partner ed ▁with ▁world s pa ce ▁to ▁bring ▁the ▁indian ▁story te ll ing ▁tradition ▁live ▁on ▁radio . ▁six ty ▁years ▁of ▁publication ▁in ▁all ▁indian ▁languages ▁was ▁announced ▁to ▁be ▁submitted ▁on line ▁soon .\n",
       "y: LMLabelList\n",
       ",,,,\n",
       "Path: /data/home/ubuntu/gaurav/in/fire/code-mixed-enma-2/language_model/../dataset_preparation;\n",
       "\n",
       "Test: None, model=SequentialRNN(\n",
       "  (0): AWD_LSTM(\n",
       "    (encoder): Embedding(15000, 400, padding_idx=1)\n",
       "    (encoder_dp): EmbeddingDropout(\n",
       "      (emb): Embedding(15000, 400, padding_idx=1)\n",
       "    )\n",
       "    (rnns): ModuleList(\n",
       "      (0): WeightDropout(\n",
       "        (module): LSTM(400, 1152, batch_first=True)\n",
       "      )\n",
       "      (1): WeightDropout(\n",
       "        (module): LSTM(1152, 1152, batch_first=True)\n",
       "      )\n",
       "      (2): WeightDropout(\n",
       "        (module): LSTM(1152, 400, batch_first=True)\n",
       "      )\n",
       "    )\n",
       "    (input_dp): RNNDropout()\n",
       "    (hidden_dps): ModuleList(\n",
       "      (0): RNNDropout()\n",
       "      (1): RNNDropout()\n",
       "      (2): RNNDropout()\n",
       "    )\n",
       "  )\n",
       "  (1): LinearDecoder(\n",
       "    (decoder): Linear(in_features=400, out_features=15000, bias=True)\n",
       "    (output_dp): RNNDropout()\n",
       "  )\n",
       "), opt_func=functools.partial(<class 'torch.optim.adam.Adam'>, betas=(0.9, 0.99)), loss_func=FlattenedLoss of CrossEntropyLoss(), metrics=[<function accuracy at 0x7f90ac2b9048>], true_wd=True, bn_wd=True, wd=0.01, train_bn=True, path=PosixPath('/data/home/ubuntu/gaurav/in/fire/code-mixed-enma-2/language_model/../dataset_preparation'), model_dir='models', callback_fns=[functools.partial(<class 'fastai.basic_train.Recorder'>, add_time=True, silent=False)], callbacks=[...], layer_groups=[Sequential(\n",
       "  (0): WeightDropout(\n",
       "    (module): LSTM(400, 1152, batch_first=True)\n",
       "  )\n",
       "  (1): RNNDropout()\n",
       "), Sequential(\n",
       "  (0): WeightDropout(\n",
       "    (module): LSTM(1152, 1152, batch_first=True)\n",
       "  )\n",
       "  (1): RNNDropout()\n",
       "), Sequential(\n",
       "  (0): WeightDropout(\n",
       "    (module): LSTM(1152, 400, batch_first=True)\n",
       "  )\n",
       "  (1): RNNDropout()\n",
       "), Sequential(\n",
       "  (0): Embedding(15000, 400, padding_idx=1)\n",
       "  (1): EmbeddingDropout(\n",
       "    (emb): Embedding(15000, 400, padding_idx=1)\n",
       "  )\n",
       "  (2): LinearDecoder(\n",
       "    (decoder): Linear(in_features=400, out_features=15000, bias=True)\n",
       "    (output_dp): RNNDropout()\n",
       "  )\n",
       ")], add_time=True, silent=False, cb_fns_registered=True)\n",
       "alpha: 2.0\n",
       "beta: 1.0], layer_groups=[Sequential(\n",
       "  (0): WeightDropout(\n",
       "    (module): LSTM(400, 1152, batch_first=True)\n",
       "  )\n",
       "  (1): RNNDropout()\n",
       "), Sequential(\n",
       "  (0): WeightDropout(\n",
       "    (module): LSTM(1152, 1152, batch_first=True)\n",
       "  )\n",
       "  (1): RNNDropout()\n",
       "), Sequential(\n",
       "  (0): WeightDropout(\n",
       "    (module): LSTM(1152, 400, batch_first=True)\n",
       "  )\n",
       "  (1): RNNDropout()\n",
       "), Sequential(\n",
       "  (0): Embedding(15000, 400, padding_idx=1)\n",
       "  (1): EmbeddingDropout(\n",
       "    (emb): Embedding(15000, 400, padding_idx=1)\n",
       "  )\n",
       "  (2): LinearDecoder(\n",
       "    (decoder): Linear(in_features=400, out_features=15000, bias=True)\n",
       "    (output_dp): RNNDropout()\n",
       "  )\n",
       ")], add_time=True, silent=False, cb_fns_registered=True)"
      ]
     },
     "execution_count": 31,
     "metadata": {},
     "output_type": "execute_result"
    }
   ],
   "source": [
    "learn.load('best_model')"
   ]
  },
  {
   "cell_type": "code",
   "execution_count": 32,
   "metadata": {},
   "outputs": [],
   "source": [
    "TEXT = \"മൈ നെയിം ഈസ്\"\n",
    "N_WORDS = 40\n",
    "N_SENTENCES = 2"
   ]
  },
  {
   "cell_type": "code",
   "execution_count": 33,
   "metadata": {},
   "outputs": [
    {
     "name": "stdout",
     "output_type": "stream",
     "text": [
      "മൈ നെയിം ഈസ് ൻ ? ▁ellam ▁kanunn ▁\" fa ct ▁hi ൽ s ti s \" ▁athva ▁i ▁pha l helm . ▁ dic ▁ja ൻ s , ▁a mp dy ൻ ▁ennigyne ▁na ൽ ka ppetunnat an . ▁ite ▁pinnite ▁sai fi\n",
      "മൈ നെയിം ഈസ് ▁ ൻ ▁ , ▁ , a , ൻ , ▁ , - ▁ , ▁ , , , y . ▁matra ▁ennat ▁ennat ▁paddy ▁oru ▁pratyek ▁yantra ▁sam gri lute ▁savisheshat ▁enniva ▁pradhanpat ▁integrated at ▁athva ▁modern ▁us e\n"
     ]
    }
   ],
   "source": [
    "print(\"\\n\".join(learn.predict(TEXT, N_WORDS, temperature=0.9) for _ in range(N_SENTENCES)))"
   ]
  },
  {
   "cell_type": "code",
   "execution_count": 53,
   "metadata": {},
   "outputs": [
    {
     "data": {
      "text/plain": [
       "45.84847786475817"
      ]
     },
     "execution_count": 53,
     "metadata": {},
     "output_type": "execute_result"
    }
   ],
   "source": [
    "np.exp(3.825342)"
   ]
  },
  {
   "cell_type": "code",
   "execution_count": 35,
   "metadata": {},
   "outputs": [],
   "source": [
    "defaults.device = torch.device('cpu')\n",
    "learn.model.eval()\n",
    "learn.export()"
   ]
  },
  {
   "cell_type": "code",
   "execution_count": 36,
   "metadata": {},
   "outputs": [
    {
     "data": {
      "text/plain": [
       "PosixPath('.')"
      ]
     },
     "execution_count": 36,
     "metadata": {},
     "output_type": "execute_result"
    }
   ],
   "source": [
    "path"
   ]
  },
  {
   "cell_type": "code",
   "execution_count": 37,
   "metadata": {},
   "outputs": [],
   "source": [
    "encoder = get_model(learn.model)[0]"
   ]
  },
  {
   "cell_type": "code",
   "execution_count": 38,
   "metadata": {},
   "outputs": [
    {
     "data": {
      "text/plain": [
       "torch.Size([15000, 400])"
      ]
     },
     "execution_count": 38,
     "metadata": {},
     "output_type": "execute_result"
    }
   ],
   "source": [
    "encoder.state_dict()['encoder.weight'].shape"
   ]
  },
  {
   "cell_type": "code",
   "execution_count": 39,
   "metadata": {},
   "outputs": [],
   "source": [
    "embeddings = encoder.state_dict()['encoder.weight']"
   ]
  },
  {
   "cell_type": "code",
   "execution_count": 40,
   "metadata": {},
   "outputs": [],
   "source": [
    "embeddings = np.array(embeddings)"
   ]
  },
  {
   "cell_type": "code",
   "execution_count": 41,
   "metadata": {},
   "outputs": [
    {
     "data": {
      "text/plain": [
       "(400,)"
      ]
     },
     "execution_count": 41,
     "metadata": {},
     "output_type": "execute_result"
    }
   ],
   "source": [
    "embeddings[0].shape"
   ]
  },
  {
   "cell_type": "code",
   "execution_count": 42,
   "metadata": {},
   "outputs": [],
   "source": [
    "df = pd.DataFrame(embeddings)"
   ]
  },
  {
   "cell_type": "code",
   "execution_count": 43,
   "metadata": {},
   "outputs": [
    {
     "data": {
      "text/plain": [
       "(15000, 400)"
      ]
     },
     "execution_count": 43,
     "metadata": {},
     "output_type": "execute_result"
    }
   ],
   "source": [
    "df.shape"
   ]
  },
  {
   "cell_type": "code",
   "execution_count": 44,
   "metadata": {},
   "outputs": [],
   "source": [
    "df.to_csv('ulmfit_embeddings.tsv', sep='\\t', index=False, header=False)"
   ]
  },
  {
   "cell_type": "code",
   "execution_count": 45,
   "metadata": {},
   "outputs": [
    {
     "data": {
      "text/html": [
       "<div>\n",
       "<style scoped>\n",
       "    .dataframe tbody tr th:only-of-type {\n",
       "        vertical-align: middle;\n",
       "    }\n",
       "\n",
       "    .dataframe tbody tr th {\n",
       "        vertical-align: top;\n",
       "    }\n",
       "\n",
       "    .dataframe thead th {\n",
       "        text-align: right;\n",
       "    }\n",
       "</style>\n",
       "<table border=\"1\" class=\"dataframe\">\n",
       "  <thead>\n",
       "    <tr style=\"text-align: right;\">\n",
       "      <th></th>\n",
       "      <th>0</th>\n",
       "      <th>1</th>\n",
       "      <th>2</th>\n",
       "      <th>3</th>\n",
       "      <th>4</th>\n",
       "      <th>5</th>\n",
       "      <th>6</th>\n",
       "      <th>7</th>\n",
       "      <th>8</th>\n",
       "      <th>9</th>\n",
       "      <th>...</th>\n",
       "      <th>390</th>\n",
       "      <th>391</th>\n",
       "      <th>392</th>\n",
       "      <th>393</th>\n",
       "      <th>394</th>\n",
       "      <th>395</th>\n",
       "      <th>396</th>\n",
       "      <th>397</th>\n",
       "      <th>398</th>\n",
       "      <th>399</th>\n",
       "    </tr>\n",
       "  </thead>\n",
       "  <tbody>\n",
       "    <tr>\n",
       "      <th>0</th>\n",
       "      <td>-0.433251</td>\n",
       "      <td>0.665263</td>\n",
       "      <td>0.378461</td>\n",
       "      <td>0.113008</td>\n",
       "      <td>-0.752892</td>\n",
       "      <td>0.607241</td>\n",
       "      <td>0.639262</td>\n",
       "      <td>0.029300</td>\n",
       "      <td>0.546293</td>\n",
       "      <td>0.011721</td>\n",
       "      <td>...</td>\n",
       "      <td>-0.400866</td>\n",
       "      <td>0.947655</td>\n",
       "      <td>0.491379</td>\n",
       "      <td>-0.141187</td>\n",
       "      <td>-0.025121</td>\n",
       "      <td>0.341715</td>\n",
       "      <td>0.395753</td>\n",
       "      <td>0.017537</td>\n",
       "      <td>0.310600</td>\n",
       "      <td>-0.256061</td>\n",
       "    </tr>\n",
       "    <tr>\n",
       "      <th>1</th>\n",
       "      <td>-0.119318</td>\n",
       "      <td>-0.046619</td>\n",
       "      <td>-0.106872</td>\n",
       "      <td>0.152677</td>\n",
       "      <td>0.211681</td>\n",
       "      <td>0.402921</td>\n",
       "      <td>0.264479</td>\n",
       "      <td>0.188654</td>\n",
       "      <td>0.248870</td>\n",
       "      <td>-0.022151</td>\n",
       "      <td>...</td>\n",
       "      <td>0.307206</td>\n",
       "      <td>0.438816</td>\n",
       "      <td>0.422814</td>\n",
       "      <td>-0.194155</td>\n",
       "      <td>-0.254277</td>\n",
       "      <td>-0.130695</td>\n",
       "      <td>0.052285</td>\n",
       "      <td>-0.129378</td>\n",
       "      <td>-0.459578</td>\n",
       "      <td>-0.228301</td>\n",
       "    </tr>\n",
       "    <tr>\n",
       "      <th>2</th>\n",
       "      <td>-0.097627</td>\n",
       "      <td>-0.042005</td>\n",
       "      <td>-0.076035</td>\n",
       "      <td>0.193454</td>\n",
       "      <td>0.264262</td>\n",
       "      <td>0.439931</td>\n",
       "      <td>0.303255</td>\n",
       "      <td>0.169267</td>\n",
       "      <td>0.248516</td>\n",
       "      <td>-0.019618</td>\n",
       "      <td>...</td>\n",
       "      <td>0.330348</td>\n",
       "      <td>0.397409</td>\n",
       "      <td>0.395272</td>\n",
       "      <td>-0.202634</td>\n",
       "      <td>-0.254562</td>\n",
       "      <td>-0.162562</td>\n",
       "      <td>0.029184</td>\n",
       "      <td>-0.122755</td>\n",
       "      <td>-0.471244</td>\n",
       "      <td>-0.218725</td>\n",
       "    </tr>\n",
       "    <tr>\n",
       "      <th>3</th>\n",
       "      <td>-0.122897</td>\n",
       "      <td>-0.010458</td>\n",
       "      <td>-0.069576</td>\n",
       "      <td>0.174884</td>\n",
       "      <td>0.191747</td>\n",
       "      <td>0.428591</td>\n",
       "      <td>0.281517</td>\n",
       "      <td>0.154555</td>\n",
       "      <td>0.252363</td>\n",
       "      <td>-0.028922</td>\n",
       "      <td>...</td>\n",
       "      <td>0.303281</td>\n",
       "      <td>0.411593</td>\n",
       "      <td>0.443173</td>\n",
       "      <td>-0.204942</td>\n",
       "      <td>-0.211248</td>\n",
       "      <td>-0.143436</td>\n",
       "      <td>0.035291</td>\n",
       "      <td>-0.158781</td>\n",
       "      <td>-0.449120</td>\n",
       "      <td>-0.246072</td>\n",
       "    </tr>\n",
       "    <tr>\n",
       "      <th>4</th>\n",
       "      <td>-0.131412</td>\n",
       "      <td>-0.065176</td>\n",
       "      <td>-0.118555</td>\n",
       "      <td>0.175790</td>\n",
       "      <td>0.228001</td>\n",
       "      <td>0.417385</td>\n",
       "      <td>0.270769</td>\n",
       "      <td>0.178421</td>\n",
       "      <td>0.247588</td>\n",
       "      <td>-0.013445</td>\n",
       "      <td>...</td>\n",
       "      <td>0.296731</td>\n",
       "      <td>0.444142</td>\n",
       "      <td>0.420692</td>\n",
       "      <td>-0.206707</td>\n",
       "      <td>-0.253003</td>\n",
       "      <td>-0.122248</td>\n",
       "      <td>0.038835</td>\n",
       "      <td>-0.153473</td>\n",
       "      <td>-0.456160</td>\n",
       "      <td>-0.217235</td>\n",
       "    </tr>\n",
       "  </tbody>\n",
       "</table>\n",
       "<p>5 rows × 400 columns</p>\n",
       "</div>"
      ],
      "text/plain": [
       "        0         1         2         3         4         5         6    \\\n",
       "0 -0.433251  0.665263  0.378461  0.113008 -0.752892  0.607241  0.639262   \n",
       "1 -0.119318 -0.046619 -0.106872  0.152677  0.211681  0.402921  0.264479   \n",
       "2 -0.097627 -0.042005 -0.076035  0.193454  0.264262  0.439931  0.303255   \n",
       "3 -0.122897 -0.010458 -0.069576  0.174884  0.191747  0.428591  0.281517   \n",
       "4 -0.131412 -0.065176 -0.118555  0.175790  0.228001  0.417385  0.270769   \n",
       "\n",
       "        7         8         9    ...       390       391       392       393  \\\n",
       "0  0.029300  0.546293  0.011721  ... -0.400866  0.947655  0.491379 -0.141187   \n",
       "1  0.188654  0.248870 -0.022151  ...  0.307206  0.438816  0.422814 -0.194155   \n",
       "2  0.169267  0.248516 -0.019618  ...  0.330348  0.397409  0.395272 -0.202634   \n",
       "3  0.154555  0.252363 -0.028922  ...  0.303281  0.411593  0.443173 -0.204942   \n",
       "4  0.178421  0.247588 -0.013445  ...  0.296731  0.444142  0.420692 -0.206707   \n",
       "\n",
       "        394       395       396       397       398       399  \n",
       "0 -0.025121  0.341715  0.395753  0.017537  0.310600 -0.256061  \n",
       "1 -0.254277 -0.130695  0.052285 -0.129378 -0.459578 -0.228301  \n",
       "2 -0.254562 -0.162562  0.029184 -0.122755 -0.471244 -0.218725  \n",
       "3 -0.211248 -0.143436  0.035291 -0.158781 -0.449120 -0.246072  \n",
       "4 -0.253003 -0.122248  0.038835 -0.153473 -0.456160 -0.217235  \n",
       "\n",
       "[5 rows x 400 columns]"
      ]
     },
     "execution_count": 45,
     "metadata": {},
     "output_type": "execute_result"
    }
   ],
   "source": [
    "df.head()"
   ]
  },
  {
   "cell_type": "code",
   "execution_count": 46,
   "metadata": {},
   "outputs": [
    {
     "data": {
      "text/plain": [
       "(15000, 400)"
      ]
     },
     "execution_count": 46,
     "metadata": {},
     "output_type": "execute_result"
    }
   ],
   "source": [
    "df.shape"
   ]
  },
  {
   "cell_type": "code",
   "execution_count": 47,
   "metadata": {},
   "outputs": [
    {
     "data": {
      "text/plain": [
       "15000"
      ]
     },
     "execution_count": 47,
     "metadata": {},
     "output_type": "execute_result"
    }
   ],
   "source": [
    "len(itos)"
   ]
  },
  {
   "cell_type": "code",
   "execution_count": 48,
   "metadata": {},
   "outputs": [],
   "source": [
    "df2 = pd.DataFrame(itos)"
   ]
  },
  {
   "cell_type": "code",
   "execution_count": 49,
   "metadata": {},
   "outputs": [
    {
     "data": {
      "text/html": [
       "<div>\n",
       "<style scoped>\n",
       "    .dataframe tbody tr th:only-of-type {\n",
       "        vertical-align: middle;\n",
       "    }\n",
       "\n",
       "    .dataframe tbody tr th {\n",
       "        vertical-align: top;\n",
       "    }\n",
       "\n",
       "    .dataframe thead th {\n",
       "        text-align: right;\n",
       "    }\n",
       "</style>\n",
       "<table border=\"1\" class=\"dataframe\">\n",
       "  <thead>\n",
       "    <tr style=\"text-align: right;\">\n",
       "      <th></th>\n",
       "      <th>0</th>\n",
       "    </tr>\n",
       "  </thead>\n",
       "  <tbody>\n",
       "    <tr>\n",
       "      <th>0</th>\n",
       "      <td>xxunk</td>\n",
       "    </tr>\n",
       "    <tr>\n",
       "      <th>1</th>\n",
       "      <td>xxbos</td>\n",
       "    </tr>\n",
       "    <tr>\n",
       "      <th>2</th>\n",
       "      <td>xxeos</td>\n",
       "    </tr>\n",
       "    <tr>\n",
       "      <th>3</th>\n",
       "      <td>xxpad</td>\n",
       "    </tr>\n",
       "    <tr>\n",
       "      <th>4</th>\n",
       "      <td>xxfld</td>\n",
       "    </tr>\n",
       "  </tbody>\n",
       "</table>\n",
       "</div>"
      ],
      "text/plain": [
       "       0\n",
       "0  xxunk\n",
       "1  xxbos\n",
       "2  xxeos\n",
       "3  xxpad\n",
       "4  xxfld"
      ]
     },
     "execution_count": 49,
     "metadata": {},
     "output_type": "execute_result"
    }
   ],
   "source": [
    "df2.head()"
   ]
  },
  {
   "cell_type": "code",
   "execution_count": 50,
   "metadata": {},
   "outputs": [
    {
     "data": {
      "text/plain": [
       "(15000, 1)"
      ]
     },
     "execution_count": 50,
     "metadata": {},
     "output_type": "execute_result"
    }
   ],
   "source": [
    "df2.shape"
   ]
  },
  {
   "cell_type": "code",
   "execution_count": 51,
   "metadata": {},
   "outputs": [],
   "source": [
    "df2.to_csv('ulmfit_embeddings_metadata.tsv', sep='\\t', index=False, header=False)"
   ]
  },
  {
   "cell_type": "code",
   "execution_count": 52,
   "metadata": {
    "scrolled": true
   },
   "outputs": [
    {
     "data": {
      "text/plain": [
       "tensor([-1.1932e-01, -4.6619e-02, -1.0687e-01,  1.5268e-01,  2.1168e-01,\n",
       "         4.0292e-01,  2.6448e-01,  1.8865e-01,  2.4887e-01, -2.2151e-02,\n",
       "         2.0020e-01, -4.4919e-01, -7.2489e-01,  1.1016e-01, -2.6833e-01,\n",
       "        -4.9403e-02, -1.1349e-01, -4.5694e-01, -3.9021e-01,  7.0770e-02,\n",
       "        -1.7506e-01, -3.8086e-01,  4.8634e-01, -2.1282e-01,  9.2620e-02,\n",
       "         3.6558e-01,  3.8753e-01,  2.8944e-01,  2.4780e-01, -2.4298e-01,\n",
       "        -2.0763e-01,  3.5341e-01, -6.1301e-01, -3.8906e-01, -2.7930e-01,\n",
       "        -4.4005e-01, -4.8606e-01, -4.5191e-01,  3.0609e-01, -1.6278e-01,\n",
       "         2.4819e-01, -2.4312e-01,  3.3502e-01, -3.6213e-01,  1.8861e-01,\n",
       "        -3.3217e-01, -2.2812e-01, -4.3693e-01, -2.0935e-01,  1.6422e-01,\n",
       "         4.7515e-01, -3.9716e-01,  2.5674e-01, -2.4196e-01, -2.1071e-01,\n",
       "        -4.8333e-01,  1.7961e-01,  3.6507e-01,  3.8374e-01,  2.8003e-01,\n",
       "         2.8068e-01, -8.3660e-02, -1.9428e-01,  3.1938e-01, -3.4581e-02,\n",
       "         2.5673e-01, -1.9477e-01,  1.5686e-01,  2.7127e-01,  5.0316e-01,\n",
       "         4.5414e-01,  2.3121e-01,  1.9773e-01,  2.5938e-01, -4.1197e-01,\n",
       "         9.1891e-02,  6.8863e-02, -8.8519e-02,  4.0410e-01, -2.1932e-02,\n",
       "        -2.3741e-01, -4.5179e-01, -4.3684e-01, -6.1258e-02, -9.8201e-03,\n",
       "         4.0193e-01, -2.3828e-01,  4.5339e-02,  2.5163e-01, -2.9005e-01,\n",
       "         1.6736e-01,  3.2541e-01, -9.9430e-02,  1.9247e-01, -3.4758e-01,\n",
       "         1.0808e-01,  3.2031e-01, -1.7084e-01,  1.9284e-01,  4.2863e-01,\n",
       "        -4.3550e-01, -3.1024e-01, -1.9184e-01,  7.4558e-01, -1.7590e-01,\n",
       "         1.4951e-01, -3.7370e-01,  1.0071e-01,  4.1474e-01, -6.6963e-01,\n",
       "        -2.2873e-01,  2.6163e-01, -1.2197e-01,  2.5715e-01,  6.4698e-01,\n",
       "         1.7399e-01, -6.1519e-01, -1.8080e-01,  4.2199e-01,  8.8293e-02,\n",
       "        -3.1582e-01, -5.4747e-01, -3.0871e-01, -6.3951e-02,  3.8802e-02,\n",
       "         1.8581e-01,  2.0221e-01, -6.5926e-01,  1.0346e-01,  1.8695e-01,\n",
       "         4.7447e-01,  1.1801e-01, -3.7559e-01,  3.3873e-01, -1.9963e-01,\n",
       "        -5.2240e-01,  2.0141e-01, -9.2035e-01,  2.4375e-01, -2.1109e-01,\n",
       "         2.5442e-02, -2.8683e-01, -3.9826e-01, -3.9670e-01,  2.1560e-01,\n",
       "        -4.2189e-01,  2.8283e-01, -1.6498e-01,  2.8717e-01,  3.8344e-01,\n",
       "         1.9090e-01,  1.0982e-01, -1.6836e-01,  4.1483e-01, -2.8513e-01,\n",
       "        -3.5263e-01,  5.8689e-01, -2.1518e-01,  7.6524e-01, -2.2544e-01,\n",
       "        -4.7439e-01,  7.5202e-03,  3.5615e-01,  2.0285e-01,  3.2382e-01,\n",
       "        -7.6058e-02, -9.0595e-02,  3.2175e-01,  6.4536e-01, -5.6529e-01,\n",
       "         4.2275e-01,  2.1288e-01, -9.2509e-02, -8.3084e-02, -5.5399e-01,\n",
       "         1.6906e-01, -9.0589e-01, -1.0497e-01,  6.2494e-01, -1.9288e-01,\n",
       "         3.8732e-01, -3.0024e-01,  7.8949e-02, -2.5804e-01, -2.0697e-01,\n",
       "        -3.9338e-01, -4.5485e-01,  1.4983e-01,  5.0883e-02, -3.7907e-01,\n",
       "        -1.8292e-01, -2.5293e-02,  3.5525e-01,  5.6449e-01, -1.4622e-01,\n",
       "        -2.9042e-01,  3.1128e-02,  4.3488e-01,  2.8241e-01, -3.0209e-01,\n",
       "         3.1810e-01,  1.6520e-01, -5.4097e-01, -4.5666e-01,  2.2871e-02,\n",
       "        -1.8366e-01, -2.0034e-01,  4.7409e-01, -3.7494e-01,  3.3730e-02,\n",
       "        -6.0060e-02, -3.4208e-01,  3.2274e-01, -4.1052e-01,  1.3566e-01,\n",
       "         2.7147e-01,  1.6027e-01,  4.0962e-01,  2.3673e-02,  1.8566e-01,\n",
       "         2.0586e-01,  2.7585e-01,  1.9927e-01, -2.9138e-01,  1.0288e-01,\n",
       "         6.3555e-01,  3.9301e-01, -2.7513e-01,  4.8271e-01,  2.7756e-01,\n",
       "         3.8529e-01, -3.3300e-01,  1.5088e-01,  4.6557e-01, -2.1014e-01,\n",
       "         7.5952e-02,  3.8532e-01, -1.0501e-01, -9.9713e-02,  1.2534e-01,\n",
       "        -2.7186e-01, -2.4981e-01,  4.3314e-01, -6.0195e-01, -2.4598e-01,\n",
       "        -5.9417e-01, -2.7643e-01,  3.5161e-01,  2.0218e-01, -2.8076e-01,\n",
       "         2.8213e-01, -8.7785e-02, -4.0110e-01,  2.9838e-01,  3.8024e-01,\n",
       "        -4.0668e-01,  7.4769e-02, -1.7900e-01,  1.7468e-03, -2.5632e-01,\n",
       "        -5.3487e-01, -3.8189e-01,  2.3376e-01, -2.0853e-01, -3.8365e-01,\n",
       "        -3.3974e-01, -4.7010e-01, -5.4016e-01,  1.9360e-01,  1.6222e-01,\n",
       "         7.7098e-02, -3.1136e-01,  1.5281e-01, -9.6049e-02, -2.3542e-01,\n",
       "         1.4021e-01, -5.5524e-01,  4.9500e-01,  9.8139e-02, -3.9334e-01,\n",
       "         2.7179e-01, -3.4651e-01, -5.0563e-02, -2.6758e-01, -1.6596e-01,\n",
       "         7.5103e-01, -2.5318e-01,  2.5128e-01, -1.4193e-01,  2.5779e-01,\n",
       "         2.3206e-02, -1.3709e-01, -2.9572e-01,  4.7381e-03, -2.5498e-01,\n",
       "         1.4061e-01,  6.9304e-02, -3.8394e-01,  9.7787e-02,  1.6312e-01,\n",
       "        -2.3242e-01,  2.9682e-02, -1.4681e-01,  7.1574e-02,  3.7365e-01,\n",
       "         2.5031e-05, -1.4892e-01, -2.4599e-01,  3.3818e-01, -1.0931e-01,\n",
       "        -2.1450e-01, -5.8257e-01,  4.0827e-01, -1.3033e-01,  6.6839e-02,\n",
       "        -3.0392e-01, -1.6394e-01,  1.5305e-01,  3.1739e-01, -2.8785e-01,\n",
       "        -3.6832e-01,  7.0027e-01, -3.7436e-01, -2.1612e-01, -1.6916e-01,\n",
       "        -8.2152e-02, -6.6841e-02,  2.7995e-01, -2.8190e-01, -3.6489e-01,\n",
       "         1.9131e-01,  1.9287e-01,  2.2263e-01,  4.3248e-01,  2.4726e-01,\n",
       "        -2.9946e-01, -2.7466e-01, -9.9799e-02, -9.6676e-02, -1.6576e-01,\n",
       "         1.0447e-01,  4.0510e-01,  5.7922e-02,  6.8844e-01,  1.0280e+00,\n",
       "        -5.0074e-01, -1.8806e-01,  5.4926e-01, -6.8274e-02, -9.2227e-02,\n",
       "         1.3202e-01,  2.1878e-01,  1.0890e-01,  4.1746e-01,  7.9246e-02,\n",
       "         1.1436e-01, -3.3625e-01, -3.8672e-01,  5.1680e-01, -1.9238e-01,\n",
       "         2.4457e-01, -5.0765e-01,  2.4487e-01, -2.5522e-01, -3.2751e-01,\n",
       "         1.3943e-01, -1.8505e-01,  1.5198e-01, -2.5745e-01,  3.3827e-01,\n",
       "        -3.2640e-01, -3.3976e-01,  3.2492e-01, -2.3072e-01, -2.7006e-01,\n",
       "        -6.2021e-01, -5.8589e-02, -4.9980e-01,  1.7495e-01, -1.1254e-02,\n",
       "         1.6177e-01, -7.8447e-01, -3.8728e-01, -4.1543e-01, -3.1820e-01,\n",
       "         4.0482e-01, -3.6066e-01, -1.8702e-01,  2.7507e-02, -9.9242e-01,\n",
       "         3.0721e-01,  4.3882e-01,  4.2281e-01, -1.9415e-01, -2.5428e-01,\n",
       "        -1.3069e-01,  5.2285e-02, -1.2938e-01, -4.5958e-01, -2.2830e-01],\n",
       "       device='cuda:0')"
      ]
     },
     "execution_count": 52,
     "metadata": {},
     "output_type": "execute_result"
    }
   ],
   "source": [
    "encoder.state_dict()['encoder.weight'][1]"
   ]
  },
  {
   "cell_type": "code",
   "execution_count": null,
   "metadata": {},
   "outputs": [],
   "source": []
  }
 ],
 "metadata": {
  "kernelspec": {
   "display_name": "in",
   "language": "python",
   "name": "in"
  },
  "language_info": {
   "codemirror_mode": {
    "name": "ipython",
    "version": 3
   },
   "file_extension": ".py",
   "mimetype": "text/x-python",
   "name": "python",
   "nbconvert_exporter": "python",
   "pygments_lexer": "ipython3",
   "version": "3.6.3"
  }
 },
 "nbformat": 4,
 "nbformat_minor": 2
}
