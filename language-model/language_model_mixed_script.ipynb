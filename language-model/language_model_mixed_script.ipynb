{
 "cells": [
  {
   "cell_type": "code",
   "execution_count": 1,
   "metadata": {},
   "outputs": [],
   "source": [
    "%reload_ext autoreload\n",
    "%autoreload 2\n",
    "%matplotlib inline"
   ]
  },
  {
   "cell_type": "code",
   "execution_count": 2,
   "metadata": {},
   "outputs": [],
   "source": [
    "from fastai.text import *\n",
    "import numpy as np\n",
    "import pickle\n",
    "import sentencepiece as spm\n",
    "from tqdm import tqdm"
   ]
  },
  {
   "cell_type": "code",
   "execution_count": 3,
   "metadata": {},
   "outputs": [
    {
     "data": {
      "text/plain": [
       "('1.0.57', '1.0.0')"
      ]
     },
     "execution_count": 3,
     "metadata": {},
     "output_type": "execute_result"
    }
   ],
   "source": [
    "import fastai, torch\n",
    "fastai.__version__ , torch.__version__"
   ]
  },
  {
   "cell_type": "code",
   "execution_count": 4,
   "metadata": {},
   "outputs": [
    {
     "name": "stdout",
     "output_type": "stream",
     "text": [
      "Fri Aug  7 13:46:33 2020       \r\n",
      "+-----------------------------------------------------------------------------+\r\n",
      "| NVIDIA-SMI 430.64       Driver Version: 430.64       CUDA Version: 10.1     |\r\n",
      "|-------------------------------+----------------------+----------------------+\r\n",
      "| GPU  Name        Persistence-M| Bus-Id        Disp.A | Volatile Uncorr. ECC |\r\n",
      "| Fan  Temp  Perf  Pwr:Usage/Cap|         Memory-Usage | GPU-Util  Compute M. |\r\n",
      "|===============================+======================+======================|\r\n",
      "|   0  Tesla V100-PCIE...  Off  | 00000001:00:00.0 Off |                    0 |\r\n",
      "| N/A   23C    P0    25W / 250W |     11MiB / 16160MiB |      0%      Default |\r\n",
      "+-------------------------------+----------------------+----------------------+\r\n",
      "                                                                               \r\n",
      "+-----------------------------------------------------------------------------+\r\n",
      "| Processes:                                                       GPU Memory |\r\n",
      "|  GPU       PID   Type   Process name                             Usage      |\r\n",
      "|=============================================================================|\r\n",
      "|  No running processes found                                                 |\r\n",
      "+-----------------------------------------------------------------------------+\r\n"
     ]
    }
   ],
   "source": [
    "!nvidia-smi"
   ]
  },
  {
   "cell_type": "code",
   "execution_count": 5,
   "metadata": {},
   "outputs": [],
   "source": [
    "torch.cuda.set_device(0)"
   ]
  },
  {
   "cell_type": "code",
   "execution_count": 6,
   "metadata": {},
   "outputs": [
    {
     "name": "stdout",
     "output_type": "stream",
     "text": [
      "/data/home/ubuntu/gaurav/in/fire/code-mixed-enma/language_model\r\n"
     ]
    }
   ],
   "source": [
    "!pwd"
   ]
  },
  {
   "cell_type": "code",
   "execution_count": 7,
   "metadata": {},
   "outputs": [],
   "source": [
    "path = Path('./')"
   ]
  },
  {
   "cell_type": "code",
   "execution_count": 8,
   "metadata": {},
   "outputs": [],
   "source": [
    "def handle_all_caps(t: str) -> str:\n",
    "    tokens = t.split()\n",
    "    tokens = replace_all_caps(tokens)\n",
    "    return ' '.join(tokens)\n",
    "\n",
    "def handle_upper_case_first_letter(t: str) -> str:\n",
    "    tokens = t.split()\n",
    "    tokens = deal_caps(tokens)\n",
    "    return ' '.join(tokens)"
   ]
  },
  {
   "cell_type": "code",
   "execution_count": 9,
   "metadata": {},
   "outputs": [],
   "source": [
    "class CodeMixedMalayalamTokenizer(BaseTokenizer):\n",
    "    def __init__(self, lang:str):\n",
    "        self.lang = lang\n",
    "        self.sp = spm.SentencePieceProcessor()\n",
    "        self.sp.Load(str(path/\"../tokenizer/mlen_spm.model\"))\n",
    "        \n",
    "    def tokenizer(self, t:str) -> List[str]:\n",
    "        return self.sp.EncodeAsPieces(t)"
   ]
  },
  {
   "cell_type": "code",
   "execution_count": 10,
   "metadata": {},
   "outputs": [],
   "source": [
    "sp = spm.SentencePieceProcessor()\n",
    "sp.Load(str(path/\"../tokenizer/mlen_spm.model\"))\n",
    "itos = [sp.IdToPiece(int(i)) for i in range(25000)]"
   ]
  },
  {
   "cell_type": "code",
   "execution_count": 11,
   "metadata": {},
   "outputs": [
    {
     "data": {
      "text/plain": [
       "25000"
      ]
     },
     "execution_count": 11,
     "metadata": {},
     "output_type": "execute_result"
    }
   ],
   "source": [
    "len(itos)"
   ]
  },
  {
   "cell_type": "code",
   "execution_count": 12,
   "metadata": {
    "scrolled": false
   },
   "outputs": [
    {
     "data": {
      "text/plain": [
       "['xxunk',\n",
       " 'xxbos',\n",
       " 'xxeos',\n",
       " 'xxpad',\n",
       " 'xxfld',\n",
       " 'xxmaj',\n",
       " 'xxup',\n",
       " 'xxrep',\n",
       " 'xxwrep',\n",
       " '.',\n",
       " ',',\n",
       " 'ൽ',\n",
       " '▁the',\n",
       " 'ർ',\n",
       " '▁',\n",
       " 'ൻ',\n",
       " 's',\n",
       " '▁•',\n",
       " '▁of',\n",
       " 'ൾ']"
      ]
     },
     "execution_count": 12,
     "metadata": {},
     "output_type": "execute_result"
    }
   ],
   "source": [
    "itos[:20]"
   ]
  },
  {
   "cell_type": "code",
   "execution_count": 13,
   "metadata": {},
   "outputs": [],
   "source": [
    "# 25,000 is the vocab size that we chose in sentencepiece\n",
    "mlen_vocab = Vocab(itos)"
   ]
  },
  {
   "cell_type": "code",
   "execution_count": 14,
   "metadata": {},
   "outputs": [],
   "source": [
    "tokenizer = Tokenizer(lang='mlen', tok_func=CodeMixedMalayalamTokenizer)"
   ]
  },
  {
   "cell_type": "code",
   "execution_count": 15,
   "metadata": {},
   "outputs": [],
   "source": [
    "tokenizer.pre_rules.append(handle_all_caps)\n",
    "tokenizer.pre_rules.append(handle_upper_case_first_letter)"
   ]
  },
  {
   "cell_type": "code",
   "execution_count": 16,
   "metadata": {},
   "outputs": [
    {
     "data": {
      "text/plain": [
       "(['xxunk',\n",
       "  'xxpad',\n",
       "  'xxbos',\n",
       "  'xxeos',\n",
       "  'xxfld',\n",
       "  'xxmaj',\n",
       "  'xxup',\n",
       "  'xxrep',\n",
       "  'xxwrep'],\n",
       " [<function fastai.text.transform.fix_html>,\n",
       "  <function fastai.text.transform.replace_rep>,\n",
       "  <function fastai.text.transform.replace_wrep>,\n",
       "  <function fastai.text.transform.spec_add_spaces>,\n",
       "  <function fastai.text.transform.rm_useless_spaces>,\n",
       "  <function __main__.handle_all_caps>,\n",
       "  <function __main__.handle_upper_case_first_letter>],\n",
       " [<function fastai.text.transform.replace_all_caps>,\n",
       "  <function fastai.text.transform.deal_caps>])"
      ]
     },
     "execution_count": 16,
     "metadata": {},
     "output_type": "execute_result"
    }
   ],
   "source": [
    "tokenizer.special_cases, tokenizer.pre_rules, tokenizer.post_rules"
   ]
  },
  {
   "cell_type": "code",
   "execution_count": 17,
   "metadata": {},
   "outputs": [],
   "source": [
    "tokens = tokenizer.process_all(['Tell me about TOUR self, mujhe jaanna hai'])"
   ]
  },
  {
   "cell_type": "code",
   "execution_count": 18,
   "metadata": {},
   "outputs": [
    {
     "data": {
      "text/plain": [
       "'▁xxmaj▁tell▁me▁about▁xxup▁tour▁self,▁mujhe▁jaanna▁hai'"
      ]
     },
     "execution_count": 18,
     "metadata": {},
     "output_type": "execute_result"
    }
   ],
   "source": [
    "''.join(tokens[0])"
   ]
  },
  {
   "cell_type": "code",
   "execution_count": 19,
   "metadata": {},
   "outputs": [
    {
     "data": {
      "text/plain": [
       "PosixPath('.')"
      ]
     },
     "execution_count": 19,
     "metadata": {},
     "output_type": "execute_result"
    }
   ],
   "source": [
    "path"
   ]
  },
  {
   "cell_type": "code",
   "execution_count": 20,
   "metadata": {},
   "outputs": [
    {
     "data": {
      "text/html": [],
      "text/plain": [
       "<IPython.core.display.HTML object>"
      ]
     },
     "metadata": {},
     "output_type": "display_data"
    },
    {
     "data": {
      "text/html": [],
      "text/plain": [
       "<IPython.core.display.HTML object>"
      ]
     },
     "metadata": {},
     "output_type": "display_data"
    }
   ],
   "source": [
    "data_lm = TextLMDataBunch.from_folder(path=path/'../dataset_preparation', train='train_uncased' , valid='valid_uncased', vocab=mlen_vocab, tokenizer=tokenizer)"
   ]
  },
  {
   "cell_type": "code",
   "execution_count": 21,
   "metadata": {},
   "outputs": [
    {
     "data": {
      "text/plain": [
       "64"
      ]
     },
     "execution_count": 21,
     "metadata": {},
     "output_type": "execute_result"
    }
   ],
   "source": [
    "data_lm.batch_size"
   ]
  },
  {
   "cell_type": "code",
   "execution_count": 22,
   "metadata": {
    "scrolled": true
   },
   "outputs": [],
   "source": [
    "# data_lm.save()"
   ]
  },
  {
   "cell_type": "code",
   "execution_count": 23,
   "metadata": {},
   "outputs": [
    {
     "data": {
      "text/html": [
       "<table border=\"1\" class=\"dataframe\">\n",
       "  <thead>\n",
       "    <tr style=\"text-align: right;\">\n",
       "      <th>idx</th>\n",
       "      <th>text</th>\n",
       "    </tr>\n",
       "  </thead>\n",
       "  <tbody>\n",
       "    <tr>\n",
       "      <td>0</td>\n",
       "      <td>▁അര മണി ക്കൂ ർ ▁തുടർച്ചയായി ▁മസ്തിഷ്ക ് ക ത്തിന്റെ ▁വിദ്യ ു ത് ▁പ്രവർത്തനം ▁രേഖപ്പെടുത്ത ി ▁അവ ▁തരംഗ ▁രൂപത്തിൽ ▁ലഭ്യമാക്ക ുകയാണ് ▁ഇ . ഇ . ജി ▁യന്ത്ര ▁സംവിധാനം ▁ചെയ്യുന്നത് ▁. ▁x x bo s ▁ടാ ൻ ▁മല ാക ▁ഒരു ▁അദ്ധ്യാപക നും , ▁ഇന്തോനേഷ്യ ൻ ▁തത്ത്വചിന്ത കൻ , ▁സ്ട്ര ഗി ൾ ▁യൂണിയൻ ▁സ്ഥാപക ൻ , ▁സ്വതന്ത്ര ▁ഗറില്ല , ▁ഇന്തോനേഷ്യ ൻ ▁പോരാളി , ▁ഇന്തോനേഷ്യ ൻ ▁ദേശീയ ▁നായക ൻ , ▁മു ർ ബ ▁പാർട്ടി</td>\n",
       "    </tr>\n",
       "    <tr>\n",
       "      <td>1</td>\n",
       "      <td>, ▁was ▁also ▁nickname d ▁\" ma cca be us \", ▁meaning ▁\" ham mer - like \". ▁kri . wa . ▁16 4- ൽ ▁uda ▁devalaya ▁pitich edukkukayu ▁atin ▁vigraha vi muk ta maki ▁parampragat may ▁yahuda radhan k ▁pun ർ pratishth ikkayu ▁cheitu . ▁yahudar ute ▁thirunal ay ▁' han u kka ' ▁i ▁sambhava tine ▁anu s maran a . ▁uda yumai ▁ottu ti ർ ppin ▁se</td>\n",
       "    </tr>\n",
       "    <tr>\n",
       "      <td>2</td>\n",
       "      <td>s . ▁x x bo s ▁ഒരു ▁ഇംഗ്ലീഷ് ▁ബാലസാഹിത്യ ▁പുസ്തക ▁പരമ്പര യാണ് ▁ദ ▁ ഫേ മസ് ▁ ഫൈ വ് ▁ എന്നറിയപ്പെടുന്ന ▁കുറ്റ ാ ന് വേ ക ▁പരമ്പര . ▁വിഖ്യാത ▁ബാലസാഹിത്യ ▁ കർത്താവ ായ ▁എ നി ഡ് ▁ബ്ല ൈ റ്റ ൺ ▁ആണ് ▁ഈ ▁പരമ്പരയുടെ ▁സ് ര ഷ്ട ാവ ് . ▁എ ക്കാല ത്തേയും ▁മികച്ച ▁വി ൽ പന ▁വിജയം ▁കരസ്ഥമാക്കി യ ിട്ടുള്ള ▁പുസ്തക ▁പരമ്പര കളിൽ ▁ഒന്നാണ് ▁ദ ▁ ഫേ മസ് ▁ ഫൈ</td>\n",
       "    </tr>\n",
       "    <tr>\n",
       "      <td>3</td>\n",
       "      <td>lukali ൽ ▁5 10 ▁ purush ൻ maru ▁50 1 ▁sti kalu ▁u ൾ ppetunnu . ▁76 . 48 ▁ % ▁saksharat yu ▁rekhappetutti t n . ▁about ▁60 .5 3% ▁of ▁the ▁population ▁of ▁the ▁village ▁is ▁scheduled ▁caste . ▁there ▁are ▁no ▁scheduled ▁tribes ▁in ▁this ▁area . ▁x x bo s ▁attitude s ▁and ▁policies ▁that ▁show ▁into ler ance ▁and ▁violence ▁to wards ▁foreigners , ▁foreigners</td>\n",
       "    </tr>\n",
       "    <tr>\n",
       "      <td>4</td>\n",
       "      <td>ൽ ▁• ▁pel ▁• ▁pai ൻ ▁• ▁por ippuvant ▁• ▁potewak ▁• ▁poria ൻ ▁• ▁pont ൻ vak ▁• ▁pla ▁• ▁plash ▁• ▁ബദാം ▁• ▁ബാൽസ ▁• ▁ബ്ലാങ്ക മരം ▁• ▁മഞ്ചാടി ▁• ▁മഞ്ജ നാത്തി ▁• ▁മഞ്ഞക്കടമ്പ ് ▁• ▁മഞ്ഞക്കൊന്ന ▁• ▁മഞ്ഞ മന്ദാര ം ▁• ▁മട്ടി മരം ▁• ▁മണി മരുത് ▁• ▁മതഗിരി വേമ്പ് ▁• ▁മരോട്ടി മരം ▁• ▁മ ലങ്കാര ▁• ▁മലന്ത ുടലി ▁• ▁മലന്ത െങ്ങ് ▁• ▁മല മഞ്ചാടി ▁• ▁മലമ്പ രത്തി</td>\n",
       "    </tr>\n",
       "  </tbody>\n",
       "</table>"
      ],
      "text/plain": [
       "<IPython.core.display.HTML object>"
      ]
     },
     "metadata": {},
     "output_type": "display_data"
    }
   ],
   "source": [
    "data_lm.show_batch()"
   ]
  },
  {
   "cell_type": "code",
   "execution_count": 24,
   "metadata": {},
   "outputs": [
    {
     "data": {
      "text/plain": [
       "5926"
      ]
     },
     "execution_count": 24,
     "metadata": {},
     "output_type": "execute_result"
    }
   ],
   "source": [
    "len(data_lm.train_dl)"
   ]
  },
  {
   "cell_type": "code",
   "execution_count": 25,
   "metadata": {},
   "outputs": [
    {
     "data": {
      "text/plain": [
       "2813"
      ]
     },
     "execution_count": 25,
     "metadata": {},
     "output_type": "execute_result"
    }
   ],
   "source": [
    "len(data_lm.valid_dl)"
   ]
  },
  {
   "cell_type": "code",
   "execution_count": 26,
   "metadata": {},
   "outputs": [
    {
     "data": {
      "text/plain": [
       "25000"
      ]
     },
     "execution_count": 26,
     "metadata": {},
     "output_type": "execute_result"
    }
   ],
   "source": [
    "len(data_lm.vocab.itos)"
   ]
  },
  {
   "cell_type": "code",
   "execution_count": 27,
   "metadata": {},
   "outputs": [],
   "source": [
    "learn = language_model_learner(data_lm, AWD_LSTM, pretrained=False)"
   ]
  },
  {
   "cell_type": "code",
   "execution_count": 28,
   "metadata": {},
   "outputs": [
    {
     "data": {
      "text/plain": [
       "0"
      ]
     },
     "execution_count": 28,
     "metadata": {},
     "output_type": "execute_result"
    }
   ],
   "source": [
    "gc.collect()"
   ]
  },
  {
   "cell_type": "code",
   "execution_count": 29,
   "metadata": {},
   "outputs": [
    {
     "data": {
      "text/plain": [
       "SequentialRNN(\n",
       "  (0): AWD_LSTM(\n",
       "    (encoder): Embedding(25000, 400, padding_idx=1)\n",
       "    (encoder_dp): EmbeddingDropout(\n",
       "      (emb): Embedding(25000, 400, padding_idx=1)\n",
       "    )\n",
       "    (rnns): ModuleList(\n",
       "      (0): WeightDropout(\n",
       "        (module): LSTM(400, 1152, batch_first=True)\n",
       "      )\n",
       "      (1): WeightDropout(\n",
       "        (module): LSTM(1152, 1152, batch_first=True)\n",
       "      )\n",
       "      (2): WeightDropout(\n",
       "        (module): LSTM(1152, 400, batch_first=True)\n",
       "      )\n",
       "    )\n",
       "    (input_dp): RNNDropout()\n",
       "    (hidden_dps): ModuleList(\n",
       "      (0): RNNDropout()\n",
       "      (1): RNNDropout()\n",
       "      (2): RNNDropout()\n",
       "    )\n",
       "  )\n",
       "  (1): LinearDecoder(\n",
       "    (decoder): Linear(in_features=400, out_features=25000, bias=True)\n",
       "    (output_dp): RNNDropout()\n",
       "  )\n",
       ")"
      ]
     },
     "execution_count": 29,
     "metadata": {},
     "output_type": "execute_result"
    }
   ],
   "source": [
    "learn.model"
   ]
  },
  {
   "cell_type": "code",
   "execution_count": 30,
   "metadata": {},
   "outputs": [
    {
     "data": {
      "text/html": [
       "\n",
       "    <div>\n",
       "        <style>\n",
       "            /* Turns off some styling */\n",
       "            progress {\n",
       "                /* gets rid of default border in Firefox and Opera. */\n",
       "                border: none;\n",
       "                /* Needs to be in here for Safari polyfill so background images work as expected. */\n",
       "                background-size: auto;\n",
       "            }\n",
       "            .progress-bar-interrupted, .progress-bar-interrupted::-webkit-progress-bar {\n",
       "                background: #F44336;\n",
       "            }\n",
       "        </style>\n",
       "      <progress value='0' class='' max='1', style='width:300px; height:20px; vertical-align: middle;'></progress>\n",
       "      0.00% [0/1 00:00<00:00]\n",
       "    </div>\n",
       "    \n",
       "<table border=\"1\" class=\"dataframe\">\n",
       "  <thead>\n",
       "    <tr style=\"text-align: left;\">\n",
       "      <th>epoch</th>\n",
       "      <th>train_loss</th>\n",
       "      <th>valid_loss</th>\n",
       "      <th>accuracy</th>\n",
       "      <th>time</th>\n",
       "    </tr>\n",
       "  </thead>\n",
       "  <tbody>\n",
       "  </tbody>\n",
       "</table><p>\n",
       "\n",
       "    <div>\n",
       "        <style>\n",
       "            /* Turns off some styling */\n",
       "            progress {\n",
       "                /* gets rid of default border in Firefox and Opera. */\n",
       "                border: none;\n",
       "                /* Needs to be in here for Safari polyfill so background images work as expected. */\n",
       "                background-size: auto;\n",
       "            }\n",
       "            .progress-bar-interrupted, .progress-bar-interrupted::-webkit-progress-bar {\n",
       "                background: #F44336;\n",
       "            }\n",
       "        </style>\n",
       "      <progress value='99' class='' max='5926', style='width:300px; height:20px; vertical-align: middle;'></progress>\n",
       "      1.67% [99/5926 00:10<09:53 30.7287]\n",
       "    </div>\n",
       "    "
      ],
      "text/plain": [
       "<IPython.core.display.HTML object>"
      ]
     },
     "metadata": {},
     "output_type": "display_data"
    },
    {
     "name": "stdout",
     "output_type": "stream",
     "text": [
      "LR Finder is complete, type {learner_name}.recorder.plot() to see the graph.\n"
     ]
    }
   ],
   "source": [
    "learn.lr_find()"
   ]
  },
  {
   "cell_type": "code",
   "execution_count": 31,
   "metadata": {},
   "outputs": [
    {
     "data": {
      "image/png": "[encoded data removed]",
      "text/plain": [
       "<matplotlib.figure.Figure at 0x7f98e6d73f28>"
      ]
     },
     "metadata": {},
     "output_type": "display_data"
    }
   ],
   "source": [
    "learn.recorder.plot()"
   ]
  },
  {
   "cell_type": "code",
   "execution_count": 32,
   "metadata": {},
   "outputs": [
    {
     "data": {
      "text/html": [
       "<table border=\"1\" class=\"dataframe\">\n",
       "  <thead>\n",
       "    <tr style=\"text-align: left;\">\n",
       "      <th>epoch</th>\n",
       "      <th>train_loss</th>\n",
       "      <th>valid_loss</th>\n",
       "      <th>accuracy</th>\n",
       "      <th>time</th>\n",
       "    </tr>\n",
       "  </thead>\n",
       "  <tbody>\n",
       "    <tr>\n",
       "      <td>0</td>\n",
       "      <td>4.957266</td>\n",
       "      <td>4.958087</td>\n",
       "      <td>0.256315</td>\n",
       "      <td>11:41</td>\n",
       "    </tr>\n",
       "    <tr>\n",
       "      <td>1</td>\n",
       "      <td>4.931414</td>\n",
       "      <td>4.788522</td>\n",
       "      <td>0.263530</td>\n",
       "      <td>11:40</td>\n",
       "    </tr>\n",
       "    <tr>\n",
       "      <td>2</td>\n",
       "      <td>4.812356</td>\n",
       "      <td>4.733615</td>\n",
       "      <td>0.268380</td>\n",
       "      <td>11:39</td>\n",
       "    </tr>\n",
       "    <tr>\n",
       "      <td>3</td>\n",
       "      <td>4.635413</td>\n",
       "      <td>4.534071</td>\n",
       "      <td>0.288630</td>\n",
       "      <td>11:41</td>\n",
       "    </tr>\n",
       "    <tr>\n",
       "      <td>4</td>\n",
       "      <td>4.472992</td>\n",
       "      <td>4.364018</td>\n",
       "      <td>0.305372</td>\n",
       "      <td>11:39</td>\n",
       "    </tr>\n",
       "    <tr>\n",
       "      <td>5</td>\n",
       "      <td>4.293203</td>\n",
       "      <td>4.186538</td>\n",
       "      <td>0.325389</td>\n",
       "      <td>11:48</td>\n",
       "    </tr>\n",
       "    <tr>\n",
       "      <td>6</td>\n",
       "      <td>4.080749</td>\n",
       "      <td>4.002666</td>\n",
       "      <td>0.346900</td>\n",
       "      <td>11:38</td>\n",
       "    </tr>\n",
       "    <tr>\n",
       "      <td>7</td>\n",
       "      <td>3.941100</td>\n",
       "      <td>3.846199</td>\n",
       "      <td>0.366485</td>\n",
       "      <td>11:40</td>\n",
       "    </tr>\n",
       "    <tr>\n",
       "      <td>8</td>\n",
       "      <td>3.834695</td>\n",
       "      <td>3.742127</td>\n",
       "      <td>0.380040</td>\n",
       "      <td>11:39</td>\n",
       "    </tr>\n",
       "    <tr>\n",
       "      <td>9</td>\n",
       "      <td>3.631342</td>\n",
       "      <td>3.719126</td>\n",
       "      <td>0.383241</td>\n",
       "      <td>11:38</td>\n",
       "    </tr>\n",
       "  </tbody>\n",
       "</table>"
      ],
      "text/plain": [
       "<IPython.core.display.HTML object>"
      ]
     },
     "metadata": {},
     "output_type": "display_data"
    },
    {
     "name": "stdout",
     "output_type": "stream",
     "text": [
      "Better model found at epoch 0 with valid_loss value: 4.95808744430542.\n",
      "Better model found at epoch 1 with valid_loss value: 4.788522243499756.\n",
      "Better model found at epoch 2 with valid_loss value: 4.733615398406982.\n",
      "Better model found at epoch 3 with valid_loss value: 4.534071445465088.\n",
      "Better model found at epoch 4 with valid_loss value: 4.364018440246582.\n",
      "Better model found at epoch 5 with valid_loss value: 4.186538219451904.\n",
      "Better model found at epoch 6 with valid_loss value: 4.0026655197143555.\n",
      "Better model found at epoch 7 with valid_loss value: 3.846198797225952.\n",
      "Better model found at epoch 8 with valid_loss value: 3.7421274185180664.\n",
      "Better model found at epoch 9 with valid_loss value: 3.719125986099243.\n"
     ]
    }
   ],
   "source": [
    "learn.fit_one_cycle(10, 1e-2, callbacks=[callbacks.SaveModelCallback(learn, every='improvement', monitor='valid_loss', name='best_model')])"
   ]
  },
  {
   "cell_type": "code",
   "execution_count": 33,
   "metadata": {},
   "outputs": [
    {
     "data": {
      "text/plain": [
       "LanguageLearner(data=TextLMDataBunch;\n",
       "\n",
       "Train: LabelList (52008 items)\n",
       "x: LMTextList\n",
       "▁x x bo s ▁electro en cephal ography ▁is ▁a ▁medical ▁examination ▁that ▁records ▁the ▁electrical ▁signal s ▁generate d ▁by ▁the ▁neu ron s ▁in ▁the ▁brain . ▁e . e . g . ▁it ▁was ▁invented ▁by ▁hans ▁ber ger ▁in ▁1929 . ▁തല യോ ടി നെ ▁ആവരണ ം ▁ചെയ്യുന്ന ▁തൊലി പ്പുറത്ത് ▁അനേകം ▁ഇലക്ട്രോ ഡുകൾ ▁ഘടിപ്പിച്ച ാണ് ▁വിദ്യ ു ത് ▁പ്രവർത്തനം ▁രേഖപ്പെടുത്ത ുന്നത് ▁. ഏ ക ദേശ ം ▁അര മണി ക്കൂ ർ ▁തുടർച്ചയായി ▁മസ്തിഷ്ക ് ക ത്തിന്റെ ▁വിദ്യ ു ത് ▁പ്രവർത്തനം ▁രേഖപ്പെടുത്ത ി ▁അവ ▁തരംഗ ▁രൂപത്തിൽ ▁ലഭ്യമാക്ക ുകയാണ് ▁ഇ . ഇ . ജി ▁യന്ത്ര ▁സംവിധാനം ▁ചെയ്യുന്നത് ▁.,▁x x bo s ▁ടാ ൻ ▁മല ാക ▁ഒരു ▁അദ്ധ്യാപക നും , ▁ഇന്തോനേഷ്യ ൻ ▁തത്ത്വചിന്ത കൻ , ▁സ്ട്ര ഗി ൾ ▁യൂണിയൻ ▁സ്ഥാപക ൻ , ▁സ്വതന്ത്ര ▁ഗറില്ല , ▁ഇന്തോനേഷ്യ ൻ ▁പോരാളി , ▁ഇന്തോനേഷ്യ ൻ ▁ദേശീയ ▁നായക ൻ , ▁മു ർ ബ ▁പാർട്ടി ▁എന്നീ ▁നിലകളിൽ ▁പ്രശസ്തനായ ിരുന്നു . ▁റിപ്പബ്ലിക്ക ് ▁ഓഫ് ▁ഇൻഡോ നേഷ്യ യുടെ ▁പിതാവ ായി ▁ഇന്തോനേഷ്യ ൻ ▁മാ ഗ സി ൻ ▁ടെ മ്പോ ▁ഇദ്ദേഹത്തെ ▁വിശേഷിപ്പിച്ച ിട്ടുണ്ട് ▁. ▁ta ൻ ▁mala ka yute ▁pu ർ te nama ▁ibrahim ▁gi la ർ ▁da ttuk ▁su ta ൻ ▁mala k ▁ennayirunnu . ▁addehttin ▁na ൽ ka ppettirunn ▁per ▁ibrahim ▁ennu ▁a ർ ddh ▁prabhu vin ▁na ൽ kunn ▁ta ൻ ▁mala k ▁end ▁name ▁addehtine ▁matru ▁waii ൽ ▁ninn ▁labhich i tayirunnu . ▁in nte ▁nagar i ▁panda ൻ ▁gad ang , ▁su li ck y , ▁lamb ap ulu ▁co to , ▁west ▁sumatra il ▁addeha ▁janicht . ▁addehtine ▁janan divas ▁a nish chit a ▁addehtine ▁matapitack ൾ ▁oru ▁k ർ sha kanay ▁ech . e ▁ra za d , ▁gram ttille ▁a dar niya nay ▁vyakti ute ▁ma kalay ▁ran kayo ▁sin ▁enniv ർ ▁irunnu . ▁oru ▁kutti enn ▁niley i ൽ ▁mala k ▁mata pari gyan vu ▁pe ൻ ka k ▁sil au ▁parishil ichu . ▁1908 - ൽ ▁pho ർ tt ▁de ▁ko kin ile ▁state ▁ti chch er rs ▁sku lay ▁ku ik k s ku li ൽ ▁mala k ▁panketuttu . ▁addehtine ▁addhyapak anay ▁ji . ▁ech . ▁ho re ൻ s may ute ▁abhiprayatti ൽ ▁mala k ▁chilppo ൾ ▁anu sara nk ket ▁kani s ch irunnenkil ▁addeha ▁oru ▁nall ▁vidya ർ tthi airunnu . ▁i ▁skuli ൽ ▁mala k ▁tante ▁each ▁bhaasha ▁pass ng ൾ ▁as vadi chu ▁parichu . ▁atina ൽ ▁ho re ൻ s m ▁mala k ▁oru ▁each ▁adhyapak ana ka ൻ ▁ni ർ ddeshich u . ▁addeha ▁oru ▁vid a g dh ▁futbo ൾ ▁kali karanayirunn u .19 13 ▁ ൽ ▁addeha ▁aa ▁skuli ൽ ▁ninn ▁birudam ▁neti . ▁avite ▁ninn ▁da tuk ▁ti tl , ▁prati sh rut ▁va dh u vu ▁vaagdana ▁cheythirunnu . ▁ennirunnal , ▁addeha ▁da tuk ▁ti ti ൽ ▁matrama ▁swikarich t . ▁parampragat ▁chatanguk ൾ k ▁sheea ▁1913 ▁ ൽ ▁addeha ▁ti ti ൽ ▁neti . ▁in ▁october ▁1913 ▁mala cca ▁became ▁a ▁da tuk ▁but ▁left ▁her ▁village ▁to ▁study ▁at ▁ri zz e wi ck s ▁school , ▁a ▁government ▁teacher ▁education ▁school . ▁he ▁raised ▁money ▁for ▁education ▁from ▁money le nder s ▁in ▁the ▁village . ▁arriving ▁in ▁the ▁netherlands , ▁mala cca ▁initially ▁experience d ▁a ▁cultural ▁sho ck . ▁in ▁early ▁1914 , ▁he ▁became ▁in fect ed ▁with ▁flu ori tis ▁due ▁to ▁climate ▁change ▁in ▁northern ▁europe . ▁it ▁was ▁not ▁until ▁1915 ▁that ▁it ▁was ▁ fully ▁cur ed . ▁dur ing ▁his ▁time ▁in ▁europe , ▁his ▁knowledge ▁of ▁the ▁revolution ▁began ▁to ▁increase ▁in ▁order ▁to ▁trans form ▁society . ▁the ▁german ▁historian , ▁journalist , ▁and ▁socialist ▁democratic ▁politician ▁w il helm ▁bose ▁of ▁1889 ▁was ▁the ▁french ▁revolutionary , ▁a ▁dutch ▁translation ▁of ▁the ▁french ▁revolution ▁and ▁the ▁historical ▁events ▁of ▁france ▁from ▁17 89 ▁to ▁18 04 . ▁the ▁first ▁source . ▁this ▁book ▁was ▁given ▁to ▁ho re ns ma ▁mala ka . ▁after ▁the ▁russian ▁revolution ▁of ▁october ▁1917 , ▁communis m ▁and ▁social ism ▁became ▁more ▁interested ▁in ▁anti - re form ▁social ism . ▁he ▁read ▁books ▁by ▁kar l ▁mar x , ▁frederic k ▁eng els ▁and ▁v la di mir ▁le nin . ▁ഫ്രീ ഡ്ര ിക്ക് ▁നീ ച്ച ▁തന്റെ ▁ആദ്യകാല ▁രാഷ്ട്രീയ ▁മാതൃക ▁മോഡല ുകളിൽ ▁ഒന്ന ായിരുന്നു . ▁മനുഷ്യ ന് ▁ഒരു ▁ഹീ റോ യുടെ ▁പങ്ക് ▁ഏറ്റെടുക്ക ാൻ ▁മാത്രം ▁ധൈര്യ മ ുണ്ടെങ്കിൽ ▁വലിയ ▁കാര്യങ്ങൾ ▁ചെയ്യാൻ ▁കഴിയ ുമെന്ന ▁ആശയം ▁അദ്ദേഹത്തിന് ▁നൽക ുമായിരുന്നു . ▁ഒരു ▁നായക ൻ ▁എന്ത ാണെന്നു ▁നീ ച്ച ▁വാദിച്ചു . ▁അ പ്പോള ിയൻ , ▁ഡയോ നി ഷ്യ ൻ ▁സ്വഭാവ ം ▁മനുഷ്യ നിൽ ▁മനുഷ്യ ർ ▁തമ്മിലുള്ള ▁ഒരു ▁ആശയ മാണ് . ▁നിയന്ത്രിത വും , ▁ പിരി മു റുക്ക വും , ▁ഘടന ാ പരമായ തുമായ ▁ലോ ജി ക്കൽ ▁ആസൂത്രണ ത്തിനും ▁ഇട യിലാണ് ▁സൗഹൃദ വും , ▁അനുഭവ ത്തിന്റെ ▁അടുപ്പ വും ▁. ▁ഈ ▁സമയത്ത് , ▁1917 - ൽ ▁ഏകദേശം ▁1920 - ന് ▁മല ാക്ക ▁ഡച്ച് ▁സംസ്കാരം ▁ഇഷ്ട പ്പെട ാതിരിക്കുക യും ▁ജർമനി യെയും ▁അമേരിക്കൻ ▁സമൂഹ ങ്ങളെയും ▁അമ്പ ര പ്പ ിക്കുകയും ▁ചെയ്തു . ▁പിന്നീട് ▁അദ്ദേഹം ▁ഒരു ▁ജർമ്മൻ ▁പട്ടാള ക്കാരനായ ി ▁ഒപ്പ ു വെച്ചു . ▁എന്നാൽ ▁ജർമ്മൻ ▁ആർമി ▁വിദേശ ികളെ ▁സ്വീകരിക്ക ാത്ത ▁കാരണത്താൽ ▁അദ്ദേഹത്തെ ▁തള്ളി ക്കള ഞ്ഞു .,▁x x bo s ▁ഒരു ▁ഇന്ത്യൻ ▁ടേ ബി ൾ ▁ടെ ന്ന ീസ് ▁കളിക്കാര നാണ് ▁ശരത് ▁ക മ ൽ ▁. ▁തമിഴ്നാട് ▁സ്വദേശി യായ ▁ശരത് ▁ക മ ലിന് ▁2016 ▁ജൂ ണ ിലെ ▁കണക്കനുസരിച്ച് ▁ലോക ▁റാങ്ക ുകളിൽ ▁അറുപത ് തി ▁ഒൻപതാ ം ▁റാങ്ക ാണ് ▁ഉള്ളത് . ▁ഇന്ത്യയിലെ ▁ടേ ബി ൾ ▁ടെ ന്ന ീസ് ▁കളിക്കാര ിൽ ▁ഏറ്റവും ▁നല്ല ▁കളി ക്കര നായി ▁കണക്കാക്കുന്നത് ▁ശര ത്തിനെ യാണ് . ▁2004 ▁ലെ ▁കോല ല മ്പ ൂരിൽ ▁നടന്ന ▁കോ മ ൺ ▁വെ ൽ ത്ത് ▁ഗെയിം സിൽ ▁വ്യക്തി ഗത ▁പുരുഷ ▁വിഭാഗത്തിൽ ▁സ്വർണ്ണ ം ▁ശര ത്തി നായിരുന്നു . ▁2004 ▁ഇ ലെ ▁അർജുന ▁അവാർഡ് ▁ജേ താവ ാണ് ▁ശരത് . ▁കഴിഞ്ഞ ▁ കുറച്ച് ▁വർഷങ്ങളായി ▁യൂറോപ്യൻ ▁ലീഗി നു ▁വേണ്ടി യാണ് ▁ശരത് ▁കളിക്കുന്ന ത് . ▁ജർമ്മനി യിൽ ▁ആണ് ▁താമസം .,▁x x bo s ▁pramukh ▁india ൻ ▁futbo ൾ ▁tara mairunnu ▁o . ▁chandrashekh ar ൻ ▁. ▁1960 ▁september y ൽ ▁rom y ൽ ▁natann ▁oli mpi k si ൽ ▁panketutt ▁india ൻ ▁futbo ൾ ▁timi ൽ ▁angamairunnu . ▁1960 ▁septemb ർ ▁onnin an ▁indyayute ▁deshiya ▁futbo ൾ ▁tea ▁avasan mai ▁oli mpi k si ൽ ▁kali cht . ▁i ring ala kkut ▁swadeshi ay ▁chandrashekh ar ൻ ▁ippo ൾ ▁kochi i ൽ ▁vishram jivita ▁nayik unnu . ▁ദക്ഷിണ ▁കൊറിയ , ▁ജപ്പാൻ ▁എന്നീ ▁ടീമ ുകളെ ▁തോൽപ്പിച്ച ് ▁1962 ലെ ▁ജ ക്കാർ ത്ത ▁ഏഷ്യൻ ▁ഗെയിം സിൽ ▁സ്വർണ ം ▁നേടിയ ▁ഇന്ത്യൻ ▁ടീമ ിൽ ▁അംഗമായിരുന്നു ▁ചന്ദ്ര ശേഖര ൻ . ▁1955 ൽ ▁ബോംബെ യിലെ ▁കാൽ ടെക് ▁സ് ▁ടീമ ിന് ▁വേണ്ടി ▁കളിച്ചു . ▁1963 ൽ ▁മദിരാശി യിൽ ▁നടന്ന ▁ദേശീയ ▁ഫു ട് ▁ബോ ൾ ▁ചാമ്പ്യൻ ഷി പ്പിൽ ▁മഹാരാഷ്ട്ര യുടെ ▁നായക നായി ▁സന്തോഷ ് ▁ട്രോഫി ▁ഏറ്റു വാ ങ്ങി ▁ആ ▁ബഹുമതി ക്ക് ▁അർഹ ന ാവുന്ന ▁ആദ്യ ▁മലയാളി യും ▁ഒ ▁ചന്ദ്ര ശേഖര നാണ് . ▁1954 ൽ ▁എറണാകുളം ▁മഹാരാജാസ ് ▁കോളേജിൽ ▁വിദ്യാർഥി യായ ിരിക്കുമ്പോൾ ▁യൂണിവേഴ് ▁സിറ്റി ▁ടീമ ിലും ▁തിരു കൊച്ചി ▁ടീമ ിലും ▁കളിച്ചു . ▁അന്നത്തെ ▁പ്രകടന ങ്ങളുടെ ▁ അടിസ്ഥാനത്തിലാണ് ▁1955 ൽ ▁കാൽ ടെക് ▁സ് ▁ടീമ ിലേക്ക് ▁അദ്ദേഹം ▁തെരഞ്ഞെടുക്ക പ്പെട്ടത് .19 55 ▁മുതൽ ▁1966 ▁വരെ ▁മഹാരാഷ്ട്ര യെയും ▁1968 ▁വരെ ▁ഇന്ത്യയെ യും ▁പ്രതിനിധീകരിച്ച ു . ▁1969 ൽ ▁ഫു ട് ▁ബോ ളിൽ ▁നിന്ന് ▁വിരമിച്ച ു . ▁സ് ▁ റ്റ േറ്റ് ▁ബാങ്ക് ▁ഓഫ് ▁ഇന്ത്യയിൽ ▁അ സി സ്റ്റ ന്റ് ▁ജനറൽ ▁മാനേജ രായിരുന്നു .,▁x x bo s ▁11 ° 08 ′ 37 ′′ n ▁76° 0 2 ′ 20 ′′ e ▁/ ▁11 . 14 34 95 ° n ▁76 . 03 87 55 ° e ▁/ ▁11 . 14 34 95 ; ▁76 . 03 87 55 co ordinat es : ▁11 ° 08 ′ 37 ′′ n ▁76° 0 2 ′ 20 ′′ e ▁/ ▁11 . 14 34 95 ° n ▁76 . 03 87 55 ° e ▁/ ▁11 . 14 34 95 ; ▁76 . 03 87 55 ▁aid s ▁പി ▁map ila ▁lower ▁primary ▁school , ▁ab bre vi ated ▁as ▁am lp s , ▁is ▁a ▁primary ▁school ▁in ▁cheru pu thur , ▁pul pe tta ▁grama ▁panchayat , ▁ er nad ▁taluk , ▁malappuram ▁district , ▁kerala , ▁india . ▁the ▁school ▁is ▁over ▁90 ▁years ▁old ▁1924 ലാണ് ▁ഈ ▁സ്കൂൾ ▁സ്ഥാപിതമായത് . ▁skuli ൻ re ▁abhimukh yatti ൽ ▁ella ▁arch al ▁kara te ▁clas ▁natakkunnund . ▁cheru pu thur\n",
       "y: LMLabelList\n",
       ",,,,\n",
       "Path: /data/home/ubuntu/gaurav/in/fire/code-mixed-enma/language_model/../dataset_preparation;\n",
       "\n",
       "Valid: LabelList (22302 items)\n",
       "x: LMTextList\n",
       "▁x x bo s ▁തായ് ലാന്റ ിലെ ▁ഒരു ▁ദ്വീപ ▁സമൂഹ മാണ് ▁ഫി ▁ഫി ▁ഐ ല ന്റ് സ് , ▁തായ് ലാന്റ ിലെ ▁ഒരു ▁ദ്വീപ് ▁സമൂഹ മാണ് . ▁ഫു കേ ട്ട ിലെ ▁വലിയ ▁ദ്വീപ ിനും ▁മല ാക്ക ▁നദിയുടെ ▁പടിഞ്ഞാറേ ▁കടലിടുക്ക ി നുമിടയി ൽ ▁ സ്ഥിതിചെയ്യുന്നു . ▁ദ്വീപുകൾ ▁ഭരണ പരമായി ▁ ക്രാ ബി ▁പ്രവിശ്യയുടെ ▁ഭാഗമാണ് . ▁ഈ ▁കൂട്ട ത്തിലെ ▁ഏറ്റവും ▁വലിയ ▁ദ്വീപ് ▁കോ ▁ഫി ▁ഫി ▁ഡോ ൺ ▁: ▁\" കോ \" ▁തായ് ▁ഭാഷയിൽ ▁\" ദ്വീപ ് \" ) ▁ആണ് . ▁ഇവിടുത്തെ ▁ഏറ്റവും ▁ജനസംഖ്യ യുള്ള ▁ദ്വീപ ാണിത് . ▁എന്നിരുന്നാലും ▁രണ്ടാമത്തെ ▁വലിയ ▁ദ്വീപ് ▁കോ ▁ ഫൈ ▁ ഫൈ ▁ലീ ▁ബീ ച്ചു കളാണ് . ▁ധാരാളം ▁ആളുകൾ ▁ഇവിടെ ▁സന്ദർശിക്ക ുന്നു . ▁ബി ഡ ▁നോക്ക ് , ▁ബി ഡ ▁നായ് , ▁ബാ ം ബൂ ▁ഐ ല ന്റ് , ▁എന്നിവ ▁ഉൾപ്പെടെയുള്ള ▁മറ്റ് ▁ദ്വീപുകള ിൽ ▁വളരെ ▁അധികം ▁ചു ണ്ണ ാ മ്പു ▁കല്ല ുകളാണ് . ▁ ക്രാ ബി ▁ട ൗ ണി ൽ ▁നിന്ന് , ▁അല്ലെങ്കിൽ ▁ഫ ൂ കെട്ട ് ▁പ്രവിശ്യയിലെ ▁വിവിധ ▁ഭാഗങ്ങളിൽ ▁നിന്ന് ▁സ് പീഡ ് ▁ ബോട്ട ുകൾ ▁അല്ലെങ്കിൽ ▁ലോ ങ് - ടെ യിൽ ഡ് ▁ബോ ട്ടു കളിലൂടെ ▁ഇവിടെ ▁എത്തിച്ചേര ാം . ▁\" se a ▁ gy ps y \" ▁boat s , ▁ko ▁ phi ▁ phi ▁one ▁of ▁ phi ▁ phi ▁islands ▁beach ▁long tail ▁boat ▁on ▁the ▁sho re ▁of ▁ phi ▁ phi ▁island ▁long tail ▁boat s , ▁may a ▁beach ▁b ry de ' s ▁w ha le ▁s wi m s ▁off ▁the ▁islands,▁x x bo s ▁ana vo ർ jja ttine ▁gaveshaea , ▁prayog a ▁enniv e ▁niyantri kk , ▁ana vo ർ ja ja ▁samadhan a paramay ▁aavashya slile ku ▁wait iri chu vi tuk , ▁aan av ▁ni ർ vya p te ▁protsahippi kcook ▁enni ▁lakshya s lumai ▁prav ർ tti kkunn ▁oru ▁rajyantar sang ra ▁antarashtra ▁ana vo ർ jj asmiti . ▁itinte ▁aasthana ▁o stria ile ▁vi enna il ▁state ▁cheiyunnat . ▁. ▁1957- ൽ ▁aikyarashtra sang yan ile ▁rashtra s ൾ ▁che ർ nn anu ▁i ▁sangha en kku ▁rupam ▁na ൽ kiyat . ▁innu ▁loka rashtra ute ▁samadhan ▁sanrakshan tti ൽ ▁valare ▁adhik ▁swadhina ▁chelutt a ൻ ▁sanghaton ▁shram icchu kont iriunnu . ▁ഇത ിൻറെ ▁നിയമ ാവലി ▁തയ്യാറാക്ക ാൻ ▁1954- ൽ ▁പ്രവർത്തക സമിതി ▁ആദ്യമായി ▁യോഗം ചേർന്ന ു . ▁ഐക്യരാഷ്ട്ര ▁കേന്ദ്ര ത്തിൽ ▁വച്ചു ▁കൂടിയ ▁81 ▁രാ ▁ ഷ് ട്ര ങ്ങളുടെ ▁സമ്മേളനം ▁നിയമ ാവലി ▁അംഗീകരിച്ച ു . ▁1959 ▁- ▁ ൽ ▁ വിയ ന്ന യിൽ ▁ചേർന്ന ▁പൊതു സമ്മേളന ത്തിൻറെ ▁പ്രാരംഭ ത്തിൽ ▁54 ▁രാഷ്ട്ര ങ്ങളും ▁അവസാന മായ പ്പോൾ ▁59 ▁രാ ▁ ഷ് ട്ര ങ്ങളും ▁പങ്കെടുക്ക ുകയുണ്ടായി . ▁ഈ ▁സമ്മേളനത്തിൽ വച്ച് ▁നയ രൂപ വത്കരണ ▁സമിതി ▁ഉണ്ടാക്കി . ▁ഈ ▁സമിതി യിൽ ▁23 ▁അംഗ ങ്ങള ുണ്ടായിരുന്നു . ▁1963 - ൽ ▁അംഗ സംഖ്യ ▁25 ▁ആയി ▁ഉയർത്തി . ▁അമേരിക്ക ക്കാരനായ ▁സ്റ്റെ ർ ലി ങ് ▁കോ ൾ ▁ആദ്യത്തെ ▁ഡയറക്ടർ ▁ജനറൽ ▁ആയി ▁നിയമ ിക്കപ്പെട്ടു . ▁1961 ▁ഡിസംബർ ▁1- ന് ▁മുതൽ ▁സ്വ ീ ഡ നിലെ ▁സി ഗ് വാ വാ ഡ് ▁എ ക് ▁ ലൻഡ് ▁ഡയറക്ടർ ▁ജനറല ായി . ▁the ▁organization ▁has ▁been ▁able ▁to ▁study ▁the ▁peace ful ▁use ▁of ▁nuclear ▁energy , ▁to ▁provide ▁guidance ▁to ▁develop ing ▁countries ▁on ▁the ▁peace ful ▁use ▁of ▁nuclear ▁energy , ▁to ▁organiz e ▁scientific ▁conference s , ▁to ▁finance ▁research , ▁and ▁to ▁provide ▁expert ▁assistance ▁as ▁required ▁by ▁member ▁states . ▁adyatte ▁pattu ▁wa ർ shatti naka ntane ▁sanghaton ▁ekadesha ▁30,000 ▁fe lo ship uk ൾ ▁nalki . ▁vid g ddha sang es ute ▁repo ർ ttuk ൾ , ▁samm er nan tapati k ൾ ▁tuteni ▁vividh ▁prasidhikaran ng ൾ ▁english , ▁rashya ൻ , ▁franch , ▁spanish ▁enni ▁bhashakali ൽ ▁i ▁sanghaton ▁prasidhikari unnund . ▁radio ▁ai s oto ppuk ൾ ▁kaikarya m ▁cheayumpo ൾ ▁shraddhi k kent ▁ karyano ൾ ▁pratipadi kkunn ▁oru ▁laghu le kh ▁i ▁sanghaton ▁tayyaraki . ▁സംഘടനയുടെ ▁കീഴിൽ ▁ആദ്യത്തെ ▁പരീക്ഷണ ശാല യുണ്ടായ ത് ▁1958- ൽ ▁ആണ് . ▁1961 - ൽ ▁ വിയ ന്ന യിൽനിന്നും ▁32 ▁കി . ▁മി . ▁തെക്കുകിഴക്ക ു മാറി യുള്ള ▁സീ ബ േഴ്സ് ▁ഡോ ർ ഫ് ▁എന്ന ▁സ്ഥലത്ത് ▁ഭൗതികശാസ്ത്ര ം , ▁രസതന്ത്ര ം , ▁സമുദ്ര വിജ്ഞാന ം , ▁വൈദ്യശാസ്ത്ര ഭൗതിക ം ▁എന്നീ ▁വകുപ്പ ുകള ടങ്ങിയ ▁ഒരു ▁പരീക്ഷണ ശാല ▁പ്രവർത്തനമാരംഭി ച്ചു . ▁1963 - ൽ ▁മധ്യ പ ൗ ര സ് ത്യ പ്ര ാ ദേശ ിക ▁ഐ സോ ടോ പു കേന്ദ്രം ▁അറബി രാഷ്ട്ര ങ്ങളുടെ ▁ആവശ്യ ത്തിലേ ക്കായി ▁കൈ റോ വിൽ ▁പ്രവർത്തനം ▁ആരംഭിച്ചു . ▁1964 - ൽ ▁ഇറ്റലി യിൽ ▁സൈദ്ധാന്തിക ▁ഭൗതിക പഠന ങ്ങൾക്കായി ▁ഒരു ▁സ്ഥാപനം ▁ആരംഭിച്ചു . ▁ജല വിജ്ഞാന ത്തിലും ▁ഔഷധ നിർമ്മാണ ത്തിലും ▁കൃഷി യിലും ▁വ്യവസായ ങ്ങളിലും ▁ഐ സോ ടോ പ്പ ുകളുടെ ▁ഉപയോഗം കൊണ്ട ുണ്ടാക ാവുന്ന ▁നേട്ട ങ്ങളെ ▁കുറിച്ച് ▁ഈ ▁സംഘടന ▁വിശദമായ ി ▁പഠനങ്ങൾ ▁ നടത്തിയിട്ടുണ്ട് . ▁ഐ സോ ടോ പ്പ ുകളുടെ ▁പ്രമാണ ങ്ങൾ ▁തയ്യാറാക്കി ▁അംശ ാങ്ക ന ▁ആവശ്യങ്ങൾക്ക ായി ▁വിവിധ ▁രാഷ്ട്ര ങ്ങളിൽ ▁വിതരണം ▁ചെ തു . ▁അണു ശക്തി ▁ഉത് പാത ന ത് തിനാവശ്യമായ ▁ഇന്ധന ങ്ങളുടെ ▁ഒരു ▁ബാങ്ക് ▁എന്ന ▁നിലയിൽ ▁ഈ സംഘടന ക്കു ▁പ്രവർത്തിക്ക ാൻ ▁കഴിയുന്ന ു . ▁സംഘടന ▁തയ്യാറ ക്കിയ ▁റിയാ ക് റ്റ റ ുകളുടെ ▁ഉപയോഗം ▁സംബന്ധിച്ച ▁നിബന്ധന കൾ ▁1965 - ലും ▁അണു തേ ജോ വ ശി ഷ്ട നി ബന്ധ ന കൾ ▁1967 ▁ലും ▁പ്രബല ്യ ത്തിൽ ▁വന്നു . ▁indian ▁scientists ▁have ▁held ▁official ▁position s ▁on ▁it . ▁ho mi ▁bha bha ▁died ▁in ▁a ▁plane ▁cra sh ▁while ▁travel ing ▁to ▁attend ▁a ▁conference . ▁sanghathankalu mai ▁bandhappet ▁i ▁lekhana ▁apu ർ sanma . ▁itu ▁vidocipikku va ൻ ▁sahayikcook . sahayatinu ▁i ▁lekhana tine ▁english ▁patipu ▁kanuk .,▁x x bo s ▁കാരി ക , ▁ വൃത്തി , ▁ഉദാഹരണ ം ▁എന്ന ▁സമ്പ്രദായ ത്തിൽ ▁കു ന്ത കൻ ▁എഴുതിയ ▁കാവ്യ മീ മാംസ ഗ്രന്ഥ മാണ് ▁വക്ര ോക്തി ▁ജീവിതം . ▁സ ഹൃദയ ുടെ ▁ഹൃദയ ത്തിന് ▁ആ ഹ് ലാ ദ കരമായ ▁വിധത്തിൽ ▁പുരുഷ ാർത്ഥ ങ്ങൾ ▁നേട ുന്നതിന് ▁കാവ്യ ബന്ധം ▁സഹായിക്കുന്നു . ▁പുരുഷ ാർത്ഥ സിദ്ധി ക്ക പ്പുറത്ത് ▁കാവ്യ ാമ ൃ തര സം ▁വഴി യുന്ന ▁ച മ ത് ക്കാര ം ▁കവിത യിൽ ▁നിന്ന് ▁സ ഹൃദയ ർക്ക് ▁ആസ് വദ ിക്കാൻ ▁കഴിയുന്ന ു . ▁അലങ്കാര ▁ശ ബാ ദ ാർത്ഥ ങ്ങളാണ് ▁കവിത യായി ▁കു ന്ത കൻ ▁അംഗീകരിക്കുന്ന ത് . ▁വക്ര മായ ▁കവി വ്യാപാര ത്താൽ ▁ശോഭ ിക്കുന്ന തും ▁സ ഹൃദയ ഹൃദയ ങ്ങളെ ▁ആ ഹ് ലാ ദ ിപ്പിക്കുന്ന തും ▁ആയ ▁ബന്ധം ▁ഉണ്ടായ ാ ലേ ▁കാവ്യ മാവ ുകയുള്ളു ▁എന്ന് ▁അദ്ദേഹം ▁വക്ര ോക്തി ▁ജീവിതത്തിൽ ▁പറയുന്നു . ▁' ▁shabda ർ ttha ▁sahi th ▁vak ra kavi vya pa ar sha lini bandh e ▁v vas k hit ▁kavyam ▁ta d vid ah la da kari ni - ▁wa . ▁ji .1 .7 ▁ഭാരതീയ കാവ്യ ശാസ്ത്രം - ഡോ ▁ടി ▁ഭാ സ് ▁ ക്കര ൻ ▁കേരള ഭാഷാ ▁ഇൻ സ് റ്റി റ്റി യൂ ട്ട്,▁x x bo s ▁in ▁1864 , ▁the ▁travancore ▁royal ▁family ▁started ▁the ▁government ▁girls ' ▁school . ▁the ▁welfare ▁of ▁women ▁has ▁also ▁been ▁taken ▁into ▁account ▁in ▁the ▁implementation ▁of ▁women ' s ▁welfare ▁programs . ▁the ▁royal ▁family ▁is ▁well ▁aware ▁that ▁this ▁goal ▁can ▁only ▁be ▁achieved ▁through ▁the ▁education ▁of ▁women . ▁this ▁led ▁to ▁the ▁establishment ▁of ▁an ▁educational ▁institution ▁for ▁girls ▁- ▁the ▁government ▁built ▁a ▁girls ' ▁school . ▁dur ing ▁the ▁reign ▁of ▁shri ▁mo olam ▁thirunal ▁in ▁18 97 , ▁this ▁institution ▁was ▁upgraded ▁to ▁a ▁second ▁ grade ▁college . ▁the ▁maharaja ▁was ▁affiliate d ▁to ▁the ▁university ▁of ▁madras . ▁elevated ▁to ▁the ▁rank ▁of ▁first ▁ grade ▁college ▁and ▁later ▁renamed ▁h h ▁maharaja ' s ▁college ▁for ▁women ▁in ▁1920 . ▁the ▁university ▁of ▁travancore ▁was ▁established ▁in ▁1937 ▁dur ing ▁the ▁reign ▁of ▁sri ▁chi thira ▁thirunal ▁bala rama var ma ▁and ▁the ▁college ▁was ▁affiliate d ▁to ▁this ▁university . ▁when ▁the ▁university ▁of ▁travancore ▁was ▁established ▁in ▁1937 , ▁one ▁year ▁after ▁the ▁establishment ▁of ▁the ▁university ▁of ▁kerala ▁in ▁the ▁women ' s ▁college , ▁in ▁1957 ▁the ▁kerala ▁university ▁college ▁became ▁its ▁affiliate d ▁institution . ▁government ▁college ▁for ▁women , ▁th iruvananthapuram ▁is ▁one ▁of ▁the ▁ leading ▁educational ▁institutions ▁in ▁kerala ▁and ▁a ▁ leading ▁institution ▁in ▁the ▁field ▁of ▁higher ▁education . ▁in ▁1952 , ▁degree ▁course s ▁in ▁mathematics , ▁bo tan y , ▁ zo ology , ▁philosophy , ▁malayalam ▁and ▁sanskrit ▁were ▁started . ▁the ▁college ▁expanded ▁in ▁the ▁early ▁1970 s . ▁new ▁course s ▁were ▁started ▁regular ly ▁and ▁p g ▁department s ▁were ▁modern ized . ▁today ▁the ▁college ▁has ▁24 ▁teaching ▁department s . ▁there ▁are ▁24 00 ▁students ▁and ▁15 9 ▁teachers . ▁it ▁is ▁one ▁of ▁the ▁ leading ▁educational ▁institutions ▁in ▁kerala ▁and ▁a ▁ leading ▁institution ▁in ▁the ▁field ▁of ▁higher ▁education . ▁in ▁1952 , ▁degree ▁course s ▁in ▁mathematics , ▁bo tan y , ▁ zo ology , ▁philosophy , ▁malayalam ▁and ▁sanskrit ▁were ▁started . ▁the ▁college ▁expanded ▁in ▁the ▁early ▁1970 s . ▁new ▁course s ▁were ▁started ▁regular ly ▁and ▁p g ▁department s ▁were ▁modern ized . ▁today ▁the ▁college ▁has ▁24 ▁teaching ▁department s . ▁there ▁are ▁24 00 ▁students ▁and ▁15 9 ▁teachers . ▁it ▁is ▁one ▁of ▁the ▁ leading ▁educational ▁institutions ▁in ▁kerala ▁and ▁a ▁ leading ▁institution ▁in ▁the ▁field ▁of ▁higher ▁education . ▁in ▁1952 , ▁degree ▁course s ▁in ▁mathematics , ▁bo tan y , ▁ zo ology , ▁philosophy , ▁malayalam ▁and ▁sanskrit ▁were ▁started . ▁the ▁college ▁expanded ▁in ▁the ▁early ▁1970 s . ▁new ▁course s ▁were ▁started ▁regular ly ▁and ▁p g ▁department s ▁were ▁modern ized . ▁today ▁the ▁college ▁has ▁24 ▁teaching ▁department s . ▁there ▁are ▁24 00 ▁students ▁and ▁15 9 ▁teachers .,▁x x bo s ▁shaktmay ▁bharanakut a tinetire ▁o ly po rate a ▁natattunnatin an ▁garilla yuddha ▁enna tu ▁kond ▁uddeshi unnat . ▁garilla yuddha ▁natattunn ▁porali e ▁garilla k ൾ ▁ennu ▁viliunnu . ▁i k kalan varayu ▁itin ▁oru ▁sayudh a sama rama ർ ggam itan ▁kand irunnat . ▁enna ൽ ▁aashay ng ൾ ▁ ol itchuk ta tti ▁natattunn ▁ mulla i pu viplava tte ▁garilla yuddha ▁enne ▁ven mengi ൽ ▁visheshipi cam . ▁garilla k ൾ k ▁entu ▁a yu a . ▁bharanakut atine ▁aayudh ngs ൾ ▁chutupa ▁kanunn ▁ellam ▁yudhtti ൽ ▁ayudh ma ku . ▁shakt an etire ▁du ർ bal ൻ ▁natatunnu ▁o ly po ra ttha ▁garilla yuddha . ▁che gu ver ayute ▁yu d tte ▁garilla yuddha ▁enna ▁rekha petutt unnat . ▁i yudhtti n ▁bahu jan pin tu unday a ൽ ▁matrame ▁vijayi ka ൻ ▁kaniyu . ▁janadhipatya rajya sli ൽ ▁garilla yuddha ▁ituvare ▁vijayi chittill . ▁tamil ▁i ea ▁movement ▁shrilanka i ൽ ▁wa ർ shan ol olam ▁ninduninn ▁garilla yu ▁natattiyat . ▁puli ▁prabha kar ൻ ▁marana mat catote ▁tamil ▁i ea ▁move me ൻ r ▁nile cchu . ▁history ▁has ▁shown ▁many ▁times ▁that ▁anything ▁can ▁be ▁done ▁against ▁a ▁trained ▁army . ▁guerrilla s ▁are ▁suicide ▁bomb ers ▁who ▁are ▁will ing ▁to ▁die ▁to ▁keep ▁a ▁secret . ▁guerrilla s ▁are ▁freedom ▁fighter s ▁who ▁must ▁be ▁able ▁to ▁adapt ▁to ▁any ▁environment , ▁stand ▁firm ▁in ▁any ▁crisis , ▁and ▁maintain ▁moral ▁and ▁philosophical ▁inte g rity . ▁must ▁be ▁brave ▁and ▁advent ur ous , ▁must ▁be ▁able ▁to ▁design ▁an ▁organization ▁as ▁well ▁as ▁win , ▁must ▁be ▁ fully ▁aware ▁of ▁the ▁movement ▁of ▁enemies ▁and ▁the ▁perfect ▁way ▁to ▁escape ▁their ▁ta ctic al ▁ter ra in . ▁must ▁live ▁with ▁the ▁local s ▁and ▁have ▁the ▁knowledge ▁of ▁the ▁lo yal ty ▁and ▁courage ▁that ▁each ▁one ▁has . ▁their ▁working ▁hours ▁are ▁at ▁night . ▁small ▁groups ▁fight ▁with ▁weapons ▁capable ▁of ▁in f lic ting ▁heavy ▁cas u al ties ▁on ▁large ▁groups . ▁know ▁your self , ▁and ▁the ▁enemy .\n",
       "y: LMLabelList\n",
       ",,,,\n",
       "Path: /data/home/ubuntu/gaurav/in/fire/code-mixed-enma/language_model/../dataset_preparation;\n",
       "\n",
       "Test: None, model=SequentialRNN(\n",
       "  (0): AWD_LSTM(\n",
       "    (encoder): Embedding(25000, 400, padding_idx=1)\n",
       "    (encoder_dp): EmbeddingDropout(\n",
       "      (emb): Embedding(25000, 400, padding_idx=1)\n",
       "    )\n",
       "    (rnns): ModuleList(\n",
       "      (0): WeightDropout(\n",
       "        (module): LSTM(400, 1152, batch_first=True)\n",
       "      )\n",
       "      (1): WeightDropout(\n",
       "        (module): LSTM(1152, 1152, batch_first=True)\n",
       "      )\n",
       "      (2): WeightDropout(\n",
       "        (module): LSTM(1152, 400, batch_first=True)\n",
       "      )\n",
       "    )\n",
       "    (input_dp): RNNDropout()\n",
       "    (hidden_dps): ModuleList(\n",
       "      (0): RNNDropout()\n",
       "      (1): RNNDropout()\n",
       "      (2): RNNDropout()\n",
       "    )\n",
       "  )\n",
       "  (1): LinearDecoder(\n",
       "    (decoder): Linear(in_features=400, out_features=25000, bias=True)\n",
       "    (output_dp): RNNDropout()\n",
       "  )\n",
       "), opt_func=functools.partial(<class 'torch.optim.adam.Adam'>, betas=(0.9, 0.99)), loss_func=FlattenedLoss of CrossEntropyLoss(), metrics=[<function accuracy at 0x7f990b8fb048>], true_wd=True, bn_wd=True, wd=0.01, train_bn=True, path=PosixPath('/data/home/ubuntu/gaurav/in/fire/code-mixed-enma/language_model/../dataset_preparation'), model_dir='models', callback_fns=[functools.partial(<class 'fastai.basic_train.Recorder'>, add_time=True, silent=False)], callbacks=[RNNTrainer\n",
       "learn: LanguageLearner(data=TextLMDataBunch;\n",
       "\n",
       "Train: LabelList (52008 items)\n",
       "x: LMTextList\n",
       "▁x x bo s ▁electro en cephal ography ▁is ▁a ▁medical ▁examination ▁that ▁records ▁the ▁electrical ▁signal s ▁generate d ▁by ▁the ▁neu ron s ▁in ▁the ▁brain . ▁e . e . g . ▁it ▁was ▁invented ▁by ▁hans ▁ber ger ▁in ▁1929 . ▁തല യോ ടി നെ ▁ആവരണ ം ▁ചെയ്യുന്ന ▁തൊലി പ്പുറത്ത് ▁അനേകം ▁ഇലക്ട്രോ ഡുകൾ ▁ഘടിപ്പിച്ച ാണ് ▁വിദ്യ ു ത് ▁പ്രവർത്തനം ▁രേഖപ്പെടുത്ത ുന്നത് ▁. ഏ ക ദേശ ം ▁അര മണി ക്കൂ ർ ▁തുടർച്ചയായി ▁മസ്തിഷ്ക ് ക ത്തിന്റെ ▁വിദ്യ ു ത് ▁പ്രവർത്തനം ▁രേഖപ്പെടുത്ത ി ▁അവ ▁തരംഗ ▁രൂപത്തിൽ ▁ലഭ്യമാക്ക ുകയാണ് ▁ഇ . ഇ . ജി ▁യന്ത്ര ▁സംവിധാനം ▁ചെയ്യുന്നത് ▁.,▁x x bo s ▁ടാ ൻ ▁മല ാക ▁ഒരു ▁അദ്ധ്യാപക നും , ▁ഇന്തോനേഷ്യ ൻ ▁തത്ത്വചിന്ത കൻ , ▁സ്ട്ര ഗി ൾ ▁യൂണിയൻ ▁സ്ഥാപക ൻ , ▁സ്വതന്ത്ര ▁ഗറില്ല , ▁ഇന്തോനേഷ്യ ൻ ▁പോരാളി , ▁ഇന്തോനേഷ്യ ൻ ▁ദേശീയ ▁നായക ൻ , ▁മു ർ ബ ▁പാർട്ടി ▁എന്നീ ▁നിലകളിൽ ▁പ്രശസ്തനായ ിരുന്നു . ▁റിപ്പബ്ലിക്ക ് ▁ഓഫ് ▁ഇൻഡോ നേഷ്യ യുടെ ▁പിതാവ ായി ▁ഇന്തോനേഷ്യ ൻ ▁മാ ഗ സി ൻ ▁ടെ മ്പോ ▁ഇദ്ദേഹത്തെ ▁വിശേഷിപ്പിച്ച ിട്ടുണ്ട് ▁. ▁ta ൻ ▁mala ka yute ▁pu ർ te nama ▁ibrahim ▁gi la ർ ▁da ttuk ▁su ta ൻ ▁mala k ▁ennayirunnu . ▁addehttin ▁na ൽ ka ppettirunn ▁per ▁ibrahim ▁ennu ▁a ർ ddh ▁prabhu vin ▁na ൽ kunn ▁ta ൻ ▁mala k ▁end ▁name ▁addehtine ▁matru ▁waii ൽ ▁ninn ▁labhich i tayirunnu . ▁in nte ▁nagar i ▁panda ൻ ▁gad ang , ▁su li ck y , ▁lamb ap ulu ▁co to , ▁west ▁sumatra il ▁addeha ▁janicht . ▁addehtine ▁janan divas ▁a nish chit a ▁addehtine ▁matapitack ൾ ▁oru ▁k ർ sha kanay ▁ech . e ▁ra za d , ▁gram ttille ▁a dar niya nay ▁vyakti ute ▁ma kalay ▁ran kayo ▁sin ▁enniv ർ ▁irunnu . ▁oru ▁kutti enn ▁niley i ൽ ▁mala k ▁mata pari gyan vu ▁pe ൻ ka k ▁sil au ▁parishil ichu . ▁1908 - ൽ ▁pho ർ tt ▁de ▁ko kin ile ▁state ▁ti chch er rs ▁sku lay ▁ku ik k s ku li ൽ ▁mala k ▁panketuttu . ▁addehtine ▁addhyapak anay ▁ji . ▁ech . ▁ho re ൻ s may ute ▁abhiprayatti ൽ ▁mala k ▁chilppo ൾ ▁anu sara nk ket ▁kani s ch irunnenkil ▁addeha ▁oru ▁nall ▁vidya ർ tthi airunnu . ▁i ▁skuli ൽ ▁mala k ▁tante ▁each ▁bhaasha ▁pass ng ൾ ▁as vadi chu ▁parichu . ▁atina ൽ ▁ho re ൻ s m ▁mala k ▁oru ▁each ▁adhyapak ana ka ൻ ▁ni ർ ddeshich u . ▁addeha ▁oru ▁vid a g dh ▁futbo ൾ ▁kali karanayirunn u .19 13 ▁ ൽ ▁addeha ▁aa ▁skuli ൽ ▁ninn ▁birudam ▁neti . ▁avite ▁ninn ▁da tuk ▁ti tl , ▁prati sh rut ▁va dh u vu ▁vaagdana ▁cheythirunnu . ▁ennirunnal , ▁addeha ▁da tuk ▁ti ti ൽ ▁matrama ▁swikarich t . ▁parampragat ▁chatanguk ൾ k ▁sheea ▁1913 ▁ ൽ ▁addeha ▁ti ti ൽ ▁neti . ▁in ▁october ▁1913 ▁mala cca ▁became ▁a ▁da tuk ▁but ▁left ▁her ▁village ▁to ▁study ▁at ▁ri zz e wi ck s ▁school , ▁a ▁government ▁teacher ▁education ▁school . ▁he ▁raised ▁money ▁for ▁education ▁from ▁money le nder s ▁in ▁the ▁village . ▁arriving ▁in ▁the ▁netherlands , ▁mala cca ▁initially ▁experience d ▁a ▁cultural ▁sho ck . ▁in ▁early ▁1914 , ▁he ▁became ▁in fect ed ▁with ▁flu ori tis ▁due ▁to ▁climate ▁change ▁in ▁northern ▁europe . ▁it ▁was ▁not ▁until ▁1915 ▁that ▁it ▁was ▁ fully ▁cur ed . ▁dur ing ▁his ▁time ▁in ▁europe , ▁his ▁knowledge ▁of ▁the ▁revolution ▁began ▁to ▁increase ▁in ▁order ▁to ▁trans form ▁society . ▁the ▁german ▁historian , ▁journalist , ▁and ▁socialist ▁democratic ▁politician ▁w il helm ▁bose ▁of ▁1889 ▁was ▁the ▁french ▁revolutionary , ▁a ▁dutch ▁translation ▁of ▁the ▁french ▁revolution ▁and ▁the ▁historical ▁events ▁of ▁france ▁from ▁17 89 ▁to ▁18 04 . ▁the ▁first ▁source . ▁this ▁book ▁was ▁given ▁to ▁ho re ns ma ▁mala ka . ▁after ▁the ▁russian ▁revolution ▁of ▁october ▁1917 , ▁communis m ▁and ▁social ism ▁became ▁more ▁interested ▁in ▁anti - re form ▁social ism . ▁he ▁read ▁books ▁by ▁kar l ▁mar x , ▁frederic k ▁eng els ▁and ▁v la di mir ▁le nin . ▁ഫ്രീ ഡ്ര ിക്ക് ▁നീ ച്ച ▁തന്റെ ▁ആദ്യകാല ▁രാഷ്ട്രീയ ▁മാതൃക ▁മോഡല ുകളിൽ ▁ഒന്ന ായിരുന്നു . ▁മനുഷ്യ ന് ▁ഒരു ▁ഹീ റോ യുടെ ▁പങ്ക് ▁ഏറ്റെടുക്ക ാൻ ▁മാത്രം ▁ധൈര്യ മ ുണ്ടെങ്കിൽ ▁വലിയ ▁കാര്യങ്ങൾ ▁ചെയ്യാൻ ▁കഴിയ ുമെന്ന ▁ആശയം ▁അദ്ദേഹത്തിന് ▁നൽക ുമായിരുന്നു . ▁ഒരു ▁നായക ൻ ▁എന്ത ാണെന്നു ▁നീ ച്ച ▁വാദിച്ചു . ▁അ പ്പോള ിയൻ , ▁ഡയോ നി ഷ്യ ൻ ▁സ്വഭാവ ം ▁മനുഷ്യ നിൽ ▁മനുഷ്യ ർ ▁തമ്മിലുള്ള ▁ഒരു ▁ആശയ മാണ് . ▁നിയന്ത്രിത വും , ▁ പിരി മു റുക്ക വും , ▁ഘടന ാ പരമായ തുമായ ▁ലോ ജി ക്കൽ ▁ആസൂത്രണ ത്തിനും ▁ഇട യിലാണ് ▁സൗഹൃദ വും , ▁അനുഭവ ത്തിന്റെ ▁അടുപ്പ വും ▁. ▁ഈ ▁സമയത്ത് , ▁1917 - ൽ ▁ഏകദേശം ▁1920 - ന് ▁മല ാക്ക ▁ഡച്ച് ▁സംസ്കാരം ▁ഇഷ്ട പ്പെട ാതിരിക്കുക യും ▁ജർമനി യെയും ▁അമേരിക്കൻ ▁സമൂഹ ങ്ങളെയും ▁അമ്പ ര പ്പ ിക്കുകയും ▁ചെയ്തു . ▁പിന്നീട് ▁അദ്ദേഹം ▁ഒരു ▁ജർമ്മൻ ▁പട്ടാള ക്കാരനായ ി ▁ഒപ്പ ു വെച്ചു . ▁എന്നാൽ ▁ജർമ്മൻ ▁ആർമി ▁വിദേശ ികളെ ▁സ്വീകരിക്ക ാത്ത ▁കാരണത്താൽ ▁അദ്ദേഹത്തെ ▁തള്ളി ക്കള ഞ്ഞു .,▁x x bo s ▁ഒരു ▁ഇന്ത്യൻ ▁ടേ ബി ൾ ▁ടെ ന്ന ീസ് ▁കളിക്കാര നാണ് ▁ശരത് ▁ക മ ൽ ▁. ▁തമിഴ്നാട് ▁സ്വദേശി യായ ▁ശരത് ▁ക മ ലിന് ▁2016 ▁ജൂ ണ ിലെ ▁കണക്കനുസരിച്ച് ▁ലോക ▁റാങ്ക ുകളിൽ ▁അറുപത ് തി ▁ഒൻപതാ ം ▁റാങ്ക ാണ് ▁ഉള്ളത് . ▁ഇന്ത്യയിലെ ▁ടേ ബി ൾ ▁ടെ ന്ന ീസ് ▁കളിക്കാര ിൽ ▁ഏറ്റവും ▁നല്ല ▁കളി ക്കര നായി ▁കണക്കാക്കുന്നത് ▁ശര ത്തിനെ യാണ് . ▁2004 ▁ലെ ▁കോല ല മ്പ ൂരിൽ ▁നടന്ന ▁കോ മ ൺ ▁വെ ൽ ത്ത് ▁ഗെയിം സിൽ ▁വ്യക്തി ഗത ▁പുരുഷ ▁വിഭാഗത്തിൽ ▁സ്വർണ്ണ ം ▁ശര ത്തി നായിരുന്നു . ▁2004 ▁ഇ ലെ ▁അർജുന ▁അവാർഡ് ▁ജേ താവ ാണ് ▁ശരത് . ▁കഴിഞ്ഞ ▁ കുറച്ച് ▁വർഷങ്ങളായി ▁യൂറോപ്യൻ ▁ലീഗി നു ▁വേണ്ടി യാണ് ▁ശരത് ▁കളിക്കുന്ന ത് . ▁ജർമ്മനി യിൽ ▁ആണ് ▁താമസം .,▁x x bo s ▁pramukh ▁india ൻ ▁futbo ൾ ▁tara mairunnu ▁o . ▁chandrashekh ar ൻ ▁. ▁1960 ▁september y ൽ ▁rom y ൽ ▁natann ▁oli mpi k si ൽ ▁panketutt ▁india ൻ ▁futbo ൾ ▁timi ൽ ▁angamairunnu . ▁1960 ▁septemb ർ ▁onnin an ▁indyayute ▁deshiya ▁futbo ൾ ▁tea ▁avasan mai ▁oli mpi k si ൽ ▁kali cht . ▁i ring ala kkut ▁swadeshi ay ▁chandrashekh ar ൻ ▁ippo ൾ ▁kochi i ൽ ▁vishram jivita ▁nayik unnu . ▁ദക്ഷിണ ▁കൊറിയ , ▁ജപ്പാൻ ▁എന്നീ ▁ടീമ ുകളെ ▁തോൽപ്പിച്ച ് ▁1962 ലെ ▁ജ ക്കാർ ത്ത ▁ഏഷ്യൻ ▁ഗെയിം സിൽ ▁സ്വർണ ം ▁നേടിയ ▁ഇന്ത്യൻ ▁ടീമ ിൽ ▁അംഗമായിരുന്നു ▁ചന്ദ്ര ശേഖര ൻ . ▁1955 ൽ ▁ബോംബെ യിലെ ▁കാൽ ടെക് ▁സ് ▁ടീമ ിന് ▁വേണ്ടി ▁കളിച്ചു . ▁1963 ൽ ▁മദിരാശി യിൽ ▁നടന്ന ▁ദേശീയ ▁ഫു ട് ▁ബോ ൾ ▁ചാമ്പ്യൻ ഷി പ്പിൽ ▁മഹാരാഷ്ട്ര യുടെ ▁നായക നായി ▁സന്തോഷ ് ▁ട്രോഫി ▁ഏറ്റു വാ ങ്ങി ▁ആ ▁ബഹുമതി ക്ക് ▁അർഹ ന ാവുന്ന ▁ആദ്യ ▁മലയാളി യും ▁ഒ ▁ചന്ദ്ര ശേഖര നാണ് . ▁1954 ൽ ▁എറണാകുളം ▁മഹാരാജാസ ് ▁കോളേജിൽ ▁വിദ്യാർഥി യായ ിരിക്കുമ്പോൾ ▁യൂണിവേഴ് ▁സിറ്റി ▁ടീമ ിലും ▁തിരു കൊച്ചി ▁ടീമ ിലും ▁കളിച്ചു . ▁അന്നത്തെ ▁പ്രകടന ങ്ങളുടെ ▁ അടിസ്ഥാനത്തിലാണ് ▁1955 ൽ ▁കാൽ ടെക് ▁സ് ▁ടീമ ിലേക്ക് ▁അദ്ദേഹം ▁തെരഞ്ഞെടുക്ക പ്പെട്ടത് .19 55 ▁മുതൽ ▁1966 ▁വരെ ▁മഹാരാഷ്ട്ര യെയും ▁1968 ▁വരെ ▁ഇന്ത്യയെ യും ▁പ്രതിനിധീകരിച്ച ു . ▁1969 ൽ ▁ഫു ട് ▁ബോ ളിൽ ▁നിന്ന് ▁വിരമിച്ച ു . ▁സ് ▁ റ്റ േറ്റ് ▁ബാങ്ക് ▁ഓഫ് ▁ഇന്ത്യയിൽ ▁അ സി സ്റ്റ ന്റ് ▁ജനറൽ ▁മാനേജ രായിരുന്നു .,▁x x bo s ▁11 ° 08 ′ 37 ′′ n ▁76° 0 2 ′ 20 ′′ e ▁/ ▁11 . 14 34 95 ° n ▁76 . 03 87 55 ° e ▁/ ▁11 . 14 34 95 ; ▁76 . 03 87 55 co ordinat es : ▁11 ° 08 ′ 37 ′′ n ▁76° 0 2 ′ 20 ′′ e ▁/ ▁11 . 14 34 95 ° n ▁76 . 03 87 55 ° e ▁/ ▁11 . 14 34 95 ; ▁76 . 03 87 55 ▁aid s ▁പി ▁map ila ▁lower ▁primary ▁school , ▁ab bre vi ated ▁as ▁am lp s , ▁is ▁a ▁primary ▁school ▁in ▁cheru pu thur , ▁pul pe tta ▁grama ▁panchayat , ▁ er nad ▁taluk , ▁malappuram ▁district , ▁kerala , ▁india . ▁the ▁school ▁is ▁over ▁90 ▁years ▁old ▁1924 ലാണ് ▁ഈ ▁സ്കൂൾ ▁സ്ഥാപിതമായത് . ▁skuli ൻ re ▁abhimukh yatti ൽ ▁ella ▁arch al ▁kara te ▁clas ▁natakkunnund . ▁cheru pu thur\n",
       "y: LMLabelList\n",
       ",,,,\n",
       "Path: /data/home/ubuntu/gaurav/in/fire/code-mixed-enma/language_model/../dataset_preparation;\n",
       "\n",
       "Valid: LabelList (22302 items)\n",
       "x: LMTextList\n",
       "▁x x bo s ▁തായ് ലാന്റ ിലെ ▁ഒരു ▁ദ്വീപ ▁സമൂഹ മാണ് ▁ഫി ▁ഫി ▁ഐ ല ന്റ് സ് , ▁തായ് ലാന്റ ിലെ ▁ഒരു ▁ദ്വീപ് ▁സമൂഹ മാണ് . ▁ഫു കേ ട്ട ിലെ ▁വലിയ ▁ദ്വീപ ിനും ▁മല ാക്ക ▁നദിയുടെ ▁പടിഞ്ഞാറേ ▁കടലിടുക്ക ി നുമിടയി ൽ ▁ സ്ഥിതിചെയ്യുന്നു . ▁ദ്വീപുകൾ ▁ഭരണ പരമായി ▁ ക്രാ ബി ▁പ്രവിശ്യയുടെ ▁ഭാഗമാണ് . ▁ഈ ▁കൂട്ട ത്തിലെ ▁ഏറ്റവും ▁വലിയ ▁ദ്വീപ് ▁കോ ▁ഫി ▁ഫി ▁ഡോ ൺ ▁: ▁\" കോ \" ▁തായ് ▁ഭാഷയിൽ ▁\" ദ്വീപ ് \" ) ▁ആണ് . ▁ഇവിടുത്തെ ▁ഏറ്റവും ▁ജനസംഖ്യ യുള്ള ▁ദ്വീപ ാണിത് . ▁എന്നിരുന്നാലും ▁രണ്ടാമത്തെ ▁വലിയ ▁ദ്വീപ് ▁കോ ▁ ഫൈ ▁ ഫൈ ▁ലീ ▁ബീ ച്ചു കളാണ് . ▁ധാരാളം ▁ആളുകൾ ▁ഇവിടെ ▁സന്ദർശിക്ക ുന്നു . ▁ബി ഡ ▁നോക്ക ് , ▁ബി ഡ ▁നായ് , ▁ബാ ം ബൂ ▁ഐ ല ന്റ് , ▁എന്നിവ ▁ഉൾപ്പെടെയുള്ള ▁മറ്റ് ▁ദ്വീപുകള ിൽ ▁വളരെ ▁അധികം ▁ചു ണ്ണ ാ മ്പു ▁കല്ല ുകളാണ് . ▁ ക്രാ ബി ▁ട ൗ ണി ൽ ▁നിന്ന് , ▁അല്ലെങ്കിൽ ▁ഫ ൂ കെട്ട ് ▁പ്രവിശ്യയിലെ ▁വിവിധ ▁ഭാഗങ്ങളിൽ ▁നിന്ന് ▁സ് പീഡ ് ▁ ബോട്ട ുകൾ ▁അല്ലെങ്കിൽ ▁ലോ ങ് - ടെ യിൽ ഡ് ▁ബോ ട്ടു കളിലൂടെ ▁ഇവിടെ ▁എത്തിച്ചേര ാം . ▁\" se a ▁ gy ps y \" ▁boat s , ▁ko ▁ phi ▁ phi ▁one ▁of ▁ phi ▁ phi ▁islands ▁beach ▁long tail ▁boat ▁on ▁the ▁sho re ▁of ▁ phi ▁ phi ▁island ▁long tail ▁boat s , ▁may a ▁beach ▁b ry de ' s ▁w ha le ▁s wi m s ▁off ▁the ▁islands,▁x x bo s ▁ana vo ർ jja ttine ▁gaveshaea , ▁prayog a ▁enniv e ▁niyantri kk , ▁ana vo ർ ja ja ▁samadhan a paramay ▁aavashya slile ku ▁wait iri chu vi tuk , ▁aan av ▁ni ർ vya p te ▁protsahippi kcook ▁enni ▁lakshya s lumai ▁prav ർ tti kkunn ▁oru ▁rajyantar sang ra ▁antarashtra ▁ana vo ർ jj asmiti . ▁itinte ▁aasthana ▁o stria ile ▁vi enna il ▁state ▁cheiyunnat . ▁. ▁1957- ൽ ▁aikyarashtra sang yan ile ▁rashtra s ൾ ▁che ർ nn anu ▁i ▁sangha en kku ▁rupam ▁na ൽ kiyat . ▁innu ▁loka rashtra ute ▁samadhan ▁sanrakshan tti ൽ ▁valare ▁adhik ▁swadhina ▁chelutt a ൻ ▁sanghaton ▁shram icchu kont iriunnu . ▁ഇത ിൻറെ ▁നിയമ ാവലി ▁തയ്യാറാക്ക ാൻ ▁1954- ൽ ▁പ്രവർത്തക സമിതി ▁ആദ്യമായി ▁യോഗം ചേർന്ന ു . ▁ഐക്യരാഷ്ട്ര ▁കേന്ദ്ര ത്തിൽ ▁വച്ചു ▁കൂടിയ ▁81 ▁രാ ▁ ഷ് ട്ര ങ്ങളുടെ ▁സമ്മേളനം ▁നിയമ ാവലി ▁അംഗീകരിച്ച ു . ▁1959 ▁- ▁ ൽ ▁ വിയ ന്ന യിൽ ▁ചേർന്ന ▁പൊതു സമ്മേളന ത്തിൻറെ ▁പ്രാരംഭ ത്തിൽ ▁54 ▁രാഷ്ട്ര ങ്ങളും ▁അവസാന മായ പ്പോൾ ▁59 ▁രാ ▁ ഷ് ട്ര ങ്ങളും ▁പങ്കെടുക്ക ുകയുണ്ടായി . ▁ഈ ▁സമ്മേളനത്തിൽ വച്ച് ▁നയ രൂപ വത്കരണ ▁സമിതി ▁ഉണ്ടാക്കി . ▁ഈ ▁സമിതി യിൽ ▁23 ▁അംഗ ങ്ങള ുണ്ടായിരുന്നു . ▁1963 - ൽ ▁അംഗ സംഖ്യ ▁25 ▁ആയി ▁ഉയർത്തി . ▁അമേരിക്ക ക്കാരനായ ▁സ്റ്റെ ർ ലി ങ് ▁കോ ൾ ▁ആദ്യത്തെ ▁ഡയറക്ടർ ▁ജനറൽ ▁ആയി ▁നിയമ ിക്കപ്പെട്ടു . ▁1961 ▁ഡിസംബർ ▁1- ന് ▁മുതൽ ▁സ്വ ീ ഡ നിലെ ▁സി ഗ് വാ വാ ഡ് ▁എ ക് ▁ ലൻഡ് ▁ഡയറക്ടർ ▁ജനറല ായി . ▁the ▁organization ▁has ▁been ▁able ▁to ▁study ▁the ▁peace ful ▁use ▁of ▁nuclear ▁energy , ▁to ▁provide ▁guidance ▁to ▁develop ing ▁countries ▁on ▁the ▁peace ful ▁use ▁of ▁nuclear ▁energy , ▁to ▁organiz e ▁scientific ▁conference s , ▁to ▁finance ▁research , ▁and ▁to ▁provide ▁expert ▁assistance ▁as ▁required ▁by ▁member ▁states . ▁adyatte ▁pattu ▁wa ർ shatti naka ntane ▁sanghaton ▁ekadesha ▁30,000 ▁fe lo ship uk ൾ ▁nalki . ▁vid g ddha sang es ute ▁repo ർ ttuk ൾ , ▁samm er nan tapati k ൾ ▁tuteni ▁vividh ▁prasidhikaran ng ൾ ▁english , ▁rashya ൻ , ▁franch , ▁spanish ▁enni ▁bhashakali ൽ ▁i ▁sanghaton ▁prasidhikari unnund . ▁radio ▁ai s oto ppuk ൾ ▁kaikarya m ▁cheayumpo ൾ ▁shraddhi k kent ▁ karyano ൾ ▁pratipadi kkunn ▁oru ▁laghu le kh ▁i ▁sanghaton ▁tayyaraki . ▁സംഘടനയുടെ ▁കീഴിൽ ▁ആദ്യത്തെ ▁പരീക്ഷണ ശാല യുണ്ടായ ത് ▁1958- ൽ ▁ആണ് . ▁1961 - ൽ ▁ വിയ ന്ന യിൽനിന്നും ▁32 ▁കി . ▁മി . ▁തെക്കുകിഴക്ക ു മാറി യുള്ള ▁സീ ബ േഴ്സ് ▁ഡോ ർ ഫ് ▁എന്ന ▁സ്ഥലത്ത് ▁ഭൗതികശാസ്ത്ര ം , ▁രസതന്ത്ര ം , ▁സമുദ്ര വിജ്ഞാന ം , ▁വൈദ്യശാസ്ത്ര ഭൗതിക ം ▁എന്നീ ▁വകുപ്പ ുകള ടങ്ങിയ ▁ഒരു ▁പരീക്ഷണ ശാല ▁പ്രവർത്തനമാരംഭി ച്ചു . ▁1963 - ൽ ▁മധ്യ പ ൗ ര സ് ത്യ പ്ര ാ ദേശ ിക ▁ഐ സോ ടോ പു കേന്ദ്രം ▁അറബി രാഷ്ട്ര ങ്ങളുടെ ▁ആവശ്യ ത്തിലേ ക്കായി ▁കൈ റോ വിൽ ▁പ്രവർത്തനം ▁ആരംഭിച്ചു . ▁1964 - ൽ ▁ഇറ്റലി യിൽ ▁സൈദ്ധാന്തിക ▁ഭൗതിക പഠന ങ്ങൾക്കായി ▁ഒരു ▁സ്ഥാപനം ▁ആരംഭിച്ചു . ▁ജല വിജ്ഞാന ത്തിലും ▁ഔഷധ നിർമ്മാണ ത്തിലും ▁കൃഷി യിലും ▁വ്യവസായ ങ്ങളിലും ▁ഐ സോ ടോ പ്പ ുകളുടെ ▁ഉപയോഗം കൊണ്ട ുണ്ടാക ാവുന്ന ▁നേട്ട ങ്ങളെ ▁കുറിച്ച് ▁ഈ ▁സംഘടന ▁വിശദമായ ി ▁പഠനങ്ങൾ ▁ നടത്തിയിട്ടുണ്ട് . ▁ഐ സോ ടോ പ്പ ുകളുടെ ▁പ്രമാണ ങ്ങൾ ▁തയ്യാറാക്കി ▁അംശ ാങ്ക ന ▁ആവശ്യങ്ങൾക്ക ായി ▁വിവിധ ▁രാഷ്ട്ര ങ്ങളിൽ ▁വിതരണം ▁ചെ തു . ▁അണു ശക്തി ▁ഉത് പാത ന ത് തിനാവശ്യമായ ▁ഇന്ധന ങ്ങളുടെ ▁ഒരു ▁ബാങ്ക് ▁എന്ന ▁നിലയിൽ ▁ഈ സംഘടന ക്കു ▁പ്രവർത്തിക്ക ാൻ ▁കഴിയുന്ന ു . ▁സംഘടന ▁തയ്യാറ ക്കിയ ▁റിയാ ക് റ്റ റ ുകളുടെ ▁ഉപയോഗം ▁സംബന്ധിച്ച ▁നിബന്ധന കൾ ▁1965 - ലും ▁അണു തേ ജോ വ ശി ഷ്ട നി ബന്ധ ന കൾ ▁1967 ▁ലും ▁പ്രബല ്യ ത്തിൽ ▁വന്നു . ▁indian ▁scientists ▁have ▁held ▁official ▁position s ▁on ▁it . ▁ho mi ▁bha bha ▁died ▁in ▁a ▁plane ▁cra sh ▁while ▁travel ing ▁to ▁attend ▁a ▁conference . ▁sanghathankalu mai ▁bandhappet ▁i ▁lekhana ▁apu ർ sanma . ▁itu ▁vidocipikku va ൻ ▁sahayikcook . sahayatinu ▁i ▁lekhana tine ▁english ▁patipu ▁kanuk .,▁x x bo s ▁കാരി ക , ▁ വൃത്തി , ▁ഉദാഹരണ ം ▁എന്ന ▁സമ്പ്രദായ ത്തിൽ ▁കു ന്ത കൻ ▁എഴുതിയ ▁കാവ്യ മീ മാംസ ഗ്രന്ഥ മാണ് ▁വക്ര ോക്തി ▁ജീവിതം . ▁സ ഹൃദയ ുടെ ▁ഹൃദയ ത്തിന് ▁ആ ഹ് ലാ ദ കരമായ ▁വിധത്തിൽ ▁പുരുഷ ാർത്ഥ ങ്ങൾ ▁നേട ുന്നതിന് ▁കാവ്യ ബന്ധം ▁സഹായിക്കുന്നു . ▁പുരുഷ ാർത്ഥ സിദ്ധി ക്ക പ്പുറത്ത് ▁കാവ്യ ാമ ൃ തര സം ▁വഴി യുന്ന ▁ച മ ത് ക്കാര ം ▁കവിത യിൽ ▁നിന്ന് ▁സ ഹൃദയ ർക്ക് ▁ആസ് വദ ിക്കാൻ ▁കഴിയുന്ന ു . ▁അലങ്കാര ▁ശ ബാ ദ ാർത്ഥ ങ്ങളാണ് ▁കവിത യായി ▁കു ന്ത കൻ ▁അംഗീകരിക്കുന്ന ത് . ▁വക്ര മായ ▁കവി വ്യാപാര ത്താൽ ▁ശോഭ ിക്കുന്ന തും ▁സ ഹൃദയ ഹൃദയ ങ്ങളെ ▁ആ ഹ് ലാ ദ ിപ്പിക്കുന്ന തും ▁ആയ ▁ബന്ധം ▁ഉണ്ടായ ാ ലേ ▁കാവ്യ മാവ ുകയുള്ളു ▁എന്ന് ▁അദ്ദേഹം ▁വക്ര ോക്തി ▁ജീവിതത്തിൽ ▁പറയുന്നു . ▁' ▁shabda ർ ttha ▁sahi th ▁vak ra kavi vya pa ar sha lini bandh e ▁v vas k hit ▁kavyam ▁ta d vid ah la da kari ni - ▁wa . ▁ji .1 .7 ▁ഭാരതീയ കാവ്യ ശാസ്ത്രം - ഡോ ▁ടി ▁ഭാ സ് ▁ ക്കര ൻ ▁കേരള ഭാഷാ ▁ഇൻ സ് റ്റി റ്റി യൂ ട്ട്,▁x x bo s ▁in ▁1864 , ▁the ▁travancore ▁royal ▁family ▁started ▁the ▁government ▁girls ' ▁school . ▁the ▁welfare ▁of ▁women ▁has ▁also ▁been ▁taken ▁into ▁account ▁in ▁the ▁implementation ▁of ▁women ' s ▁welfare ▁programs . ▁the ▁royal ▁family ▁is ▁well ▁aware ▁that ▁this ▁goal ▁can ▁only ▁be ▁achieved ▁through ▁the ▁education ▁of ▁women . ▁this ▁led ▁to ▁the ▁establishment ▁of ▁an ▁educational ▁institution ▁for ▁girls ▁- ▁the ▁government ▁built ▁a ▁girls ' ▁school . ▁dur ing ▁the ▁reign ▁of ▁shri ▁mo olam ▁thirunal ▁in ▁18 97 , ▁this ▁institution ▁was ▁upgraded ▁to ▁a ▁second ▁ grade ▁college . ▁the ▁maharaja ▁was ▁affiliate d ▁to ▁the ▁university ▁of ▁madras . ▁elevated ▁to ▁the ▁rank ▁of ▁first ▁ grade ▁college ▁and ▁later ▁renamed ▁h h ▁maharaja ' s ▁college ▁for ▁women ▁in ▁1920 . ▁the ▁university ▁of ▁travancore ▁was ▁established ▁in ▁1937 ▁dur ing ▁the ▁reign ▁of ▁sri ▁chi thira ▁thirunal ▁bala rama var ma ▁and ▁the ▁college ▁was ▁affiliate d ▁to ▁this ▁university . ▁when ▁the ▁university ▁of ▁travancore ▁was ▁established ▁in ▁1937 , ▁one ▁year ▁after ▁the ▁establishment ▁of ▁the ▁university ▁of ▁kerala ▁in ▁the ▁women ' s ▁college , ▁in ▁1957 ▁the ▁kerala ▁university ▁college ▁became ▁its ▁affiliate d ▁institution . ▁government ▁college ▁for ▁women , ▁th iruvananthapuram ▁is ▁one ▁of ▁the ▁ leading ▁educational ▁institutions ▁in ▁kerala ▁and ▁a ▁ leading ▁institution ▁in ▁the ▁field ▁of ▁higher ▁education . ▁in ▁1952 , ▁degree ▁course s ▁in ▁mathematics , ▁bo tan y , ▁ zo ology , ▁philosophy , ▁malayalam ▁and ▁sanskrit ▁were ▁started . ▁the ▁college ▁expanded ▁in ▁the ▁early ▁1970 s . ▁new ▁course s ▁were ▁started ▁regular ly ▁and ▁p g ▁department s ▁were ▁modern ized . ▁today ▁the ▁college ▁has ▁24 ▁teaching ▁department s . ▁there ▁are ▁24 00 ▁students ▁and ▁15 9 ▁teachers . ▁it ▁is ▁one ▁of ▁the ▁ leading ▁educational ▁institutions ▁in ▁kerala ▁and ▁a ▁ leading ▁institution ▁in ▁the ▁field ▁of ▁higher ▁education . ▁in ▁1952 , ▁degree ▁course s ▁in ▁mathematics , ▁bo tan y , ▁ zo ology , ▁philosophy , ▁malayalam ▁and ▁sanskrit ▁were ▁started . ▁the ▁college ▁expanded ▁in ▁the ▁early ▁1970 s . ▁new ▁course s ▁were ▁started ▁regular ly ▁and ▁p g ▁department s ▁were ▁modern ized . ▁today ▁the ▁college ▁has ▁24 ▁teaching ▁department s . ▁there ▁are ▁24 00 ▁students ▁and ▁15 9 ▁teachers . ▁it ▁is ▁one ▁of ▁the ▁ leading ▁educational ▁institutions ▁in ▁kerala ▁and ▁a ▁ leading ▁institution ▁in ▁the ▁field ▁of ▁higher ▁education . ▁in ▁1952 , ▁degree ▁course s ▁in ▁mathematics , ▁bo tan y , ▁ zo ology , ▁philosophy , ▁malayalam ▁and ▁sanskrit ▁were ▁started . ▁the ▁college ▁expanded ▁in ▁the ▁early ▁1970 s . ▁new ▁course s ▁were ▁started ▁regular ly ▁and ▁p g ▁department s ▁were ▁modern ized . ▁today ▁the ▁college ▁has ▁24 ▁teaching ▁department s . ▁there ▁are ▁24 00 ▁students ▁and ▁15 9 ▁teachers .,▁x x bo s ▁shaktmay ▁bharanakut a tinetire ▁o ly po rate a ▁natattunnatin an ▁garilla yuddha ▁enna tu ▁kond ▁uddeshi unnat . ▁garilla yuddha ▁natattunn ▁porali e ▁garilla k ൾ ▁ennu ▁viliunnu . ▁i k kalan varayu ▁itin ▁oru ▁sayudh a sama rama ർ ggam itan ▁kand irunnat . ▁enna ൽ ▁aashay ng ൾ ▁ ol itchuk ta tti ▁natattunn ▁ mulla i pu viplava tte ▁garilla yuddha ▁enne ▁ven mengi ൽ ▁visheshipi cam . ▁garilla k ൾ k ▁entu ▁a yu a . ▁bharanakut atine ▁aayudh ngs ൾ ▁chutupa ▁kanunn ▁ellam ▁yudhtti ൽ ▁ayudh ma ku . ▁shakt an etire ▁du ർ bal ൻ ▁natatunnu ▁o ly po ra ttha ▁garilla yuddha . ▁che gu ver ayute ▁yu d tte ▁garilla yuddha ▁enna ▁rekha petutt unnat . ▁i yudhtti n ▁bahu jan pin tu unday a ൽ ▁matrame ▁vijayi ka ൻ ▁kaniyu . ▁janadhipatya rajya sli ൽ ▁garilla yuddha ▁ituvare ▁vijayi chittill . ▁tamil ▁i ea ▁movement ▁shrilanka i ൽ ▁wa ർ shan ol olam ▁ninduninn ▁garilla yu ▁natattiyat . ▁puli ▁prabha kar ൻ ▁marana mat catote ▁tamil ▁i ea ▁move me ൻ r ▁nile cchu . ▁history ▁has ▁shown ▁many ▁times ▁that ▁anything ▁can ▁be ▁done ▁against ▁a ▁trained ▁army . ▁guerrilla s ▁are ▁suicide ▁bomb ers ▁who ▁are ▁will ing ▁to ▁die ▁to ▁keep ▁a ▁secret . ▁guerrilla s ▁are ▁freedom ▁fighter s ▁who ▁must ▁be ▁able ▁to ▁adapt ▁to ▁any ▁environment , ▁stand ▁firm ▁in ▁any ▁crisis , ▁and ▁maintain ▁moral ▁and ▁philosophical ▁inte g rity . ▁must ▁be ▁brave ▁and ▁advent ur ous , ▁must ▁be ▁able ▁to ▁design ▁an ▁organization ▁as ▁well ▁as ▁win , ▁must ▁be ▁ fully ▁aware ▁of ▁the ▁movement ▁of ▁enemies ▁and ▁the ▁perfect ▁way ▁to ▁escape ▁their ▁ta ctic al ▁ter ra in . ▁must ▁live ▁with ▁the ▁local s ▁and ▁have ▁the ▁knowledge ▁of ▁the ▁lo yal ty ▁and ▁courage ▁that ▁each ▁one ▁has . ▁their ▁working ▁hours ▁are ▁at ▁night . ▁small ▁groups ▁fight ▁with ▁weapons ▁capable ▁of ▁in f lic ting ▁heavy ▁cas u al ties ▁on ▁large ▁groups . ▁know ▁your self , ▁and ▁the ▁enemy .\n",
       "y: LMLabelList\n",
       ",,,,\n",
       "Path: /data/home/ubuntu/gaurav/in/fire/code-mixed-enma/language_model/../dataset_preparation;\n",
       "\n",
       "Test: None, model=SequentialRNN(\n",
       "  (0): AWD_LSTM(\n",
       "    (encoder): Embedding(25000, 400, padding_idx=1)\n",
       "    (encoder_dp): EmbeddingDropout(\n",
       "      (emb): Embedding(25000, 400, padding_idx=1)\n",
       "    )\n",
       "    (rnns): ModuleList(\n",
       "      (0): WeightDropout(\n",
       "        (module): LSTM(400, 1152, batch_first=True)\n",
       "      )\n",
       "      (1): WeightDropout(\n",
       "        (module): LSTM(1152, 1152, batch_first=True)\n",
       "      )\n",
       "      (2): WeightDropout(\n",
       "        (module): LSTM(1152, 400, batch_first=True)\n",
       "      )\n",
       "    )\n",
       "    (input_dp): RNNDropout()\n",
       "    (hidden_dps): ModuleList(\n",
       "      (0): RNNDropout()\n",
       "      (1): RNNDropout()\n",
       "      (2): RNNDropout()\n",
       "    )\n",
       "  )\n",
       "  (1): LinearDecoder(\n",
       "    (decoder): Linear(in_features=400, out_features=25000, bias=True)\n",
       "    (output_dp): RNNDropout()\n",
       "  )\n",
       "), opt_func=functools.partial(<class 'torch.optim.adam.Adam'>, betas=(0.9, 0.99)), loss_func=FlattenedLoss of CrossEntropyLoss(), metrics=[<function accuracy at 0x7f990b8fb048>], true_wd=True, bn_wd=True, wd=0.01, train_bn=True, path=PosixPath('/data/home/ubuntu/gaurav/in/fire/code-mixed-enma/language_model/../dataset_preparation'), model_dir='models', callback_fns=[functools.partial(<class 'fastai.basic_train.Recorder'>, add_time=True, silent=False)], callbacks=[...], layer_groups=[Sequential(\n",
       "  (0): WeightDropout(\n",
       "    (module): LSTM(400, 1152, batch_first=True)\n",
       "  )\n",
       "  (1): RNNDropout()\n",
       "), Sequential(\n",
       "  (0): WeightDropout(\n",
       "    (module): LSTM(1152, 1152, batch_first=True)\n",
       "  )\n",
       "  (1): RNNDropout()\n",
       "), Sequential(\n",
       "  (0): WeightDropout(\n",
       "    (module): LSTM(1152, 400, batch_first=True)\n",
       "  )\n",
       "  (1): RNNDropout()\n",
       "), Sequential(\n",
       "  (0): Embedding(25000, 400, padding_idx=1)\n",
       "  (1): EmbeddingDropout(\n",
       "    (emb): Embedding(25000, 400, padding_idx=1)\n",
       "  )\n",
       "  (2): LinearDecoder(\n",
       "    (decoder): Linear(in_features=400, out_features=25000, bias=True)\n",
       "    (output_dp): RNNDropout()\n",
       "  )\n",
       ")], add_time=True, silent=False, cb_fns_registered=True)\n",
       "alpha: 2.0\n",
       "beta: 1.0], layer_groups=[Sequential(\n",
       "  (0): WeightDropout(\n",
       "    (module): LSTM(400, 1152, batch_first=True)\n",
       "  )\n",
       "  (1): RNNDropout()\n",
       "), Sequential(\n",
       "  (0): WeightDropout(\n",
       "    (module): LSTM(1152, 1152, batch_first=True)\n",
       "  )\n",
       "  (1): RNNDropout()\n",
       "), Sequential(\n",
       "  (0): WeightDropout(\n",
       "    (module): LSTM(1152, 400, batch_first=True)\n",
       "  )\n",
       "  (1): RNNDropout()\n",
       "), Sequential(\n",
       "  (0): Embedding(25000, 400, padding_idx=1)\n",
       "  (1): EmbeddingDropout(\n",
       "    (emb): Embedding(25000, 400, padding_idx=1)\n",
       "  )\n",
       "  (2): LinearDecoder(\n",
       "    (decoder): Linear(in_features=400, out_features=25000, bias=True)\n",
       "    (output_dp): RNNDropout()\n",
       "  )\n",
       ")], add_time=True, silent=False, cb_fns_registered=True)"
      ]
     },
     "execution_count": 33,
     "metadata": {},
     "output_type": "execute_result"
    }
   ],
   "source": [
    "learn.load('best_model')"
   ]
  },
  {
   "cell_type": "code",
   "execution_count": 34,
   "metadata": {},
   "outputs": [],
   "source": [
    "TEXT = \"മൈ നെയിം ഈസ്\"\n",
    "N_WORDS = 40\n",
    "N_SENTENCES = 2"
   ]
  },
  {
   "cell_type": "code",
   "execution_count": 35,
   "metadata": {},
   "outputs": [
    {
     "name": "stdout",
     "output_type": "stream",
     "text": [
      "മൈ നെയിം ഈസ് ഫ ു ൾ ▁രചിച്ച ▁നോവല ാണ് . ▁അതിന്റെ ▁കഥ ▁ ഛായാ ഗ്രാ ഹ ക ന്റെ ▁അന്വേഷണ ം ▁ കാട്ടി ▁ആണ് . ▁15 48 ▁ജനുവരി ▁2 ▁- നാണ് ▁ഈ ▁കാലയളവിൽ ▁ ശു ക്ര ൻ ▁വെളി ുന്നത് . ▁the ▁name ▁of ▁the\n",
      "മൈ നെയിം ഈസ് ▁ ട്രോ മയില ിൻറെ ▁ഒരു ▁ക്ലാസ ിക്കൽ ▁സീരീസ ാണ് ▁അല്ലെങ്കിൽ ▁മാക് ▁ഒ ഡാ സിറ്റി . ▁പോ ണ്ടി ച്ചേരി യിൽ ▁നിന്നും ▁' ടാ ട്ട് ' ▁എന്ന ▁വാക്ക് ▁ആദ്യമായി ▁ഉപയോഗിച്ച ത് ▁ബ രി യാങ് മാൻ ▁ആണ് ▁. ▁i ▁vibhagatti ൽ ppet ▁europea\n"
     ]
    }
   ],
   "source": [
    "print(\"\\n\".join(learn.predict(TEXT, N_WORDS, temperature=0.9) for _ in range(N_SENTENCES)))"
   ]
  },
  {
   "cell_type": "code",
   "execution_count": 36,
   "metadata": {},
   "outputs": [
    {
     "data": {
      "text/plain": [
       "41.228344784009494"
      ]
     },
     "execution_count": 36,
     "metadata": {},
     "output_type": "execute_result"
    }
   ],
   "source": [
    "np.exp(3.719126)"
   ]
  },
  {
   "cell_type": "code",
   "execution_count": 37,
   "metadata": {},
   "outputs": [],
   "source": [
    "defaults.device = torch.device('cpu')\n",
    "learn.model.eval()\n",
    "learn.export()"
   ]
  },
  {
   "cell_type": "code",
   "execution_count": 38,
   "metadata": {},
   "outputs": [
    {
     "data": {
      "text/plain": [
       "PosixPath('.')"
      ]
     },
     "execution_count": 38,
     "metadata": {},
     "output_type": "execute_result"
    }
   ],
   "source": [
    "path"
   ]
  },
  {
   "cell_type": "code",
   "execution_count": 39,
   "metadata": {},
   "outputs": [],
   "source": [
    "encoder = get_model(learn.model)[0]"
   ]
  },
  {
   "cell_type": "code",
   "execution_count": 40,
   "metadata": {},
   "outputs": [
    {
     "data": {
      "text/plain": [
       "torch.Size([25000, 400])"
      ]
     },
     "execution_count": 40,
     "metadata": {},
     "output_type": "execute_result"
    }
   ],
   "source": [
    "encoder.state_dict()['encoder.weight'].shape"
   ]
  },
  {
   "cell_type": "code",
   "execution_count": 41,
   "metadata": {},
   "outputs": [],
   "source": [
    "embeddings = encoder.state_dict()['encoder.weight']"
   ]
  },
  {
   "cell_type": "code",
   "execution_count": 42,
   "metadata": {},
   "outputs": [],
   "source": [
    "embeddings = np.array(embeddings)"
   ]
  },
  {
   "cell_type": "code",
   "execution_count": 43,
   "metadata": {},
   "outputs": [
    {
     "data": {
      "text/plain": [
       "(400,)"
      ]
     },
     "execution_count": 43,
     "metadata": {},
     "output_type": "execute_result"
    }
   ],
   "source": [
    "embeddings[0].shape"
   ]
  },
  {
   "cell_type": "code",
   "execution_count": 44,
   "metadata": {},
   "outputs": [],
   "source": [
    "df = pd.DataFrame(embeddings)"
   ]
  },
  {
   "cell_type": "code",
   "execution_count": 45,
   "metadata": {},
   "outputs": [
    {
     "data": {
      "text/plain": [
       "(25000, 400)"
      ]
     },
     "execution_count": 45,
     "metadata": {},
     "output_type": "execute_result"
    }
   ],
   "source": [
    "df.shape"
   ]
  },
  {
   "cell_type": "code",
   "execution_count": 46,
   "metadata": {},
   "outputs": [],
   "source": [
    "df.to_csv('ulmfit_embeddings.tsv', sep='\\t', index=False, header=False)"
   ]
  },
  {
   "cell_type": "code",
   "execution_count": 47,
   "metadata": {},
   "outputs": [
    {
     "data": {
      "text/html": [
       "<div>\n",
       "<style scoped>\n",
       "    .dataframe tbody tr th:only-of-type {\n",
       "        vertical-align: middle;\n",
       "    }\n",
       "\n",
       "    .dataframe tbody tr th {\n",
       "        vertical-align: top;\n",
       "    }\n",
       "\n",
       "    .dataframe thead th {\n",
       "        text-align: right;\n",
       "    }\n",
       "</style>\n",
       "<table border=\"1\" class=\"dataframe\">\n",
       "  <thead>\n",
       "    <tr style=\"text-align: right;\">\n",
       "      <th></th>\n",
       "      <th>0</th>\n",
       "      <th>1</th>\n",
       "      <th>2</th>\n",
       "      <th>3</th>\n",
       "      <th>4</th>\n",
       "      <th>5</th>\n",
       "      <th>6</th>\n",
       "      <th>7</th>\n",
       "      <th>8</th>\n",
       "      <th>9</th>\n",
       "      <th>...</th>\n",
       "      <th>390</th>\n",
       "      <th>391</th>\n",
       "      <th>392</th>\n",
       "      <th>393</th>\n",
       "      <th>394</th>\n",
       "      <th>395</th>\n",
       "      <th>396</th>\n",
       "      <th>397</th>\n",
       "      <th>398</th>\n",
       "      <th>399</th>\n",
       "    </tr>\n",
       "  </thead>\n",
       "  <tbody>\n",
       "    <tr>\n",
       "      <th>0</th>\n",
       "      <td>-0.327885</td>\n",
       "      <td>0.190964</td>\n",
       "      <td>-0.450726</td>\n",
       "      <td>-0.400183</td>\n",
       "      <td>-0.179856</td>\n",
       "      <td>-0.905958</td>\n",
       "      <td>0.086136</td>\n",
       "      <td>0.258753</td>\n",
       "      <td>0.011228</td>\n",
       "      <td>0.479137</td>\n",
       "      <td>...</td>\n",
       "      <td>1.033918</td>\n",
       "      <td>0.478133</td>\n",
       "      <td>1.662302</td>\n",
       "      <td>2.143348</td>\n",
       "      <td>-0.217533</td>\n",
       "      <td>-0.019658</td>\n",
       "      <td>-0.132753</td>\n",
       "      <td>0.461279</td>\n",
       "      <td>0.205089</td>\n",
       "      <td>-0.059317</td>\n",
       "    </tr>\n",
       "    <tr>\n",
       "      <th>1</th>\n",
       "      <td>-0.009385</td>\n",
       "      <td>0.114104</td>\n",
       "      <td>-0.465045</td>\n",
       "      <td>-0.064490</td>\n",
       "      <td>-0.040506</td>\n",
       "      <td>-0.154116</td>\n",
       "      <td>-0.172237</td>\n",
       "      <td>0.112455</td>\n",
       "      <td>-0.132561</td>\n",
       "      <td>0.226346</td>\n",
       "      <td>...</td>\n",
       "      <td>0.776205</td>\n",
       "      <td>0.152746</td>\n",
       "      <td>0.185799</td>\n",
       "      <td>0.633140</td>\n",
       "      <td>-0.194870</td>\n",
       "      <td>0.224456</td>\n",
       "      <td>0.048878</td>\n",
       "      <td>-0.047724</td>\n",
       "      <td>-0.027914</td>\n",
       "      <td>-0.107285</td>\n",
       "    </tr>\n",
       "    <tr>\n",
       "      <th>2</th>\n",
       "      <td>-0.009966</td>\n",
       "      <td>0.114034</td>\n",
       "      <td>-0.464695</td>\n",
       "      <td>-0.064950</td>\n",
       "      <td>-0.036445</td>\n",
       "      <td>-0.156636</td>\n",
       "      <td>-0.170471</td>\n",
       "      <td>0.112387</td>\n",
       "      <td>-0.135840</td>\n",
       "      <td>0.226637</td>\n",
       "      <td>...</td>\n",
       "      <td>0.776228</td>\n",
       "      <td>0.152809</td>\n",
       "      <td>0.185610</td>\n",
       "      <td>0.635955</td>\n",
       "      <td>-0.192446</td>\n",
       "      <td>0.224006</td>\n",
       "      <td>0.049066</td>\n",
       "      <td>-0.047447</td>\n",
       "      <td>-0.027741</td>\n",
       "      <td>-0.111416</td>\n",
       "    </tr>\n",
       "    <tr>\n",
       "      <th>3</th>\n",
       "      <td>-0.011370</td>\n",
       "      <td>0.114060</td>\n",
       "      <td>-0.464533</td>\n",
       "      <td>-0.062804</td>\n",
       "      <td>-0.036187</td>\n",
       "      <td>-0.160190</td>\n",
       "      <td>-0.171703</td>\n",
       "      <td>0.113987</td>\n",
       "      <td>-0.134248</td>\n",
       "      <td>0.228707</td>\n",
       "      <td>...</td>\n",
       "      <td>0.777494</td>\n",
       "      <td>0.153518</td>\n",
       "      <td>0.184058</td>\n",
       "      <td>0.632674</td>\n",
       "      <td>-0.195266</td>\n",
       "      <td>0.222179</td>\n",
       "      <td>0.049092</td>\n",
       "      <td>-0.047727</td>\n",
       "      <td>-0.028134</td>\n",
       "      <td>-0.105057</td>\n",
       "    </tr>\n",
       "    <tr>\n",
       "      <th>4</th>\n",
       "      <td>-0.009232</td>\n",
       "      <td>0.114384</td>\n",
       "      <td>-0.464089</td>\n",
       "      <td>-0.065354</td>\n",
       "      <td>-0.039551</td>\n",
       "      <td>-0.160816</td>\n",
       "      <td>-0.171405</td>\n",
       "      <td>0.112985</td>\n",
       "      <td>-0.135262</td>\n",
       "      <td>0.229380</td>\n",
       "      <td>...</td>\n",
       "      <td>0.777428</td>\n",
       "      <td>0.154529</td>\n",
       "      <td>0.185325</td>\n",
       "      <td>0.631566</td>\n",
       "      <td>-0.195310</td>\n",
       "      <td>0.223118</td>\n",
       "      <td>0.049453</td>\n",
       "      <td>-0.046619</td>\n",
       "      <td>-0.027919</td>\n",
       "      <td>-0.109792</td>\n",
       "    </tr>\n",
       "  </tbody>\n",
       "</table>\n",
       "<p>5 rows × 400 columns</p>\n",
       "</div>"
      ],
      "text/plain": [
       "        0         1         2         3         4         5         6    \\\n",
       "0 -0.327885  0.190964 -0.450726 -0.400183 -0.179856 -0.905958  0.086136   \n",
       "1 -0.009385  0.114104 -0.465045 -0.064490 -0.040506 -0.154116 -0.172237   \n",
       "2 -0.009966  0.114034 -0.464695 -0.064950 -0.036445 -0.156636 -0.170471   \n",
       "3 -0.011370  0.114060 -0.464533 -0.062804 -0.036187 -0.160190 -0.171703   \n",
       "4 -0.009232  0.114384 -0.464089 -0.065354 -0.039551 -0.160816 -0.171405   \n",
       "\n",
       "        7         8         9    ...       390       391       392       393  \\\n",
       "0  0.258753  0.011228  0.479137  ...  1.033918  0.478133  1.662302  2.143348   \n",
       "1  0.112455 -0.132561  0.226346  ...  0.776205  0.152746  0.185799  0.633140   \n",
       "2  0.112387 -0.135840  0.226637  ...  0.776228  0.152809  0.185610  0.635955   \n",
       "3  0.113987 -0.134248  0.228707  ...  0.777494  0.153518  0.184058  0.632674   \n",
       "4  0.112985 -0.135262  0.229380  ...  0.777428  0.154529  0.185325  0.631566   \n",
       "\n",
       "        394       395       396       397       398       399  \n",
       "0 -0.217533 -0.019658 -0.132753  0.461279  0.205089 -0.059317  \n",
       "1 -0.194870  0.224456  0.048878 -0.047724 -0.027914 -0.107285  \n",
       "2 -0.192446  0.224006  0.049066 -0.047447 -0.027741 -0.111416  \n",
       "3 -0.195266  0.222179  0.049092 -0.047727 -0.028134 -0.105057  \n",
       "4 -0.195310  0.223118  0.049453 -0.046619 -0.027919 -0.109792  \n",
       "\n",
       "[5 rows x 400 columns]"
      ]
     },
     "execution_count": 47,
     "metadata": {},
     "output_type": "execute_result"
    }
   ],
   "source": [
    "df.head()"
   ]
  },
  {
   "cell_type": "code",
   "execution_count": 48,
   "metadata": {},
   "outputs": [
    {
     "data": {
      "text/plain": [
       "(25000, 400)"
      ]
     },
     "execution_count": 48,
     "metadata": {},
     "output_type": "execute_result"
    }
   ],
   "source": [
    "df.shape"
   ]
  },
  {
   "cell_type": "code",
   "execution_count": 49,
   "metadata": {},
   "outputs": [
    {
     "data": {
      "text/plain": [
       "25000"
      ]
     },
     "execution_count": 49,
     "metadata": {},
     "output_type": "execute_result"
    }
   ],
   "source": [
    "len(itos)"
   ]
  },
  {
   "cell_type": "code",
   "execution_count": 50,
   "metadata": {},
   "outputs": [],
   "source": [
    "df2 = pd.DataFrame(itos)"
   ]
  },
  {
   "cell_type": "code",
   "execution_count": 51,
   "metadata": {},
   "outputs": [
    {
     "data": {
      "text/html": [
       "<div>\n",
       "<style scoped>\n",
       "    .dataframe tbody tr th:only-of-type {\n",
       "        vertical-align: middle;\n",
       "    }\n",
       "\n",
       "    .dataframe tbody tr th {\n",
       "        vertical-align: top;\n",
       "    }\n",
       "\n",
       "    .dataframe thead th {\n",
       "        text-align: right;\n",
       "    }\n",
       "</style>\n",
       "<table border=\"1\" class=\"dataframe\">\n",
       "  <thead>\n",
       "    <tr style=\"text-align: right;\">\n",
       "      <th></th>\n",
       "      <th>0</th>\n",
       "    </tr>\n",
       "  </thead>\n",
       "  <tbody>\n",
       "    <tr>\n",
       "      <th>0</th>\n",
       "      <td>xxunk</td>\n",
       "    </tr>\n",
       "    <tr>\n",
       "      <th>1</th>\n",
       "      <td>xxbos</td>\n",
       "    </tr>\n",
       "    <tr>\n",
       "      <th>2</th>\n",
       "      <td>xxeos</td>\n",
       "    </tr>\n",
       "    <tr>\n",
       "      <th>3</th>\n",
       "      <td>xxpad</td>\n",
       "    </tr>\n",
       "    <tr>\n",
       "      <th>4</th>\n",
       "      <td>xxfld</td>\n",
       "    </tr>\n",
       "  </tbody>\n",
       "</table>\n",
       "</div>"
      ],
      "text/plain": [
       "       0\n",
       "0  xxunk\n",
       "1  xxbos\n",
       "2  xxeos\n",
       "3  xxpad\n",
       "4  xxfld"
      ]
     },
     "execution_count": 51,
     "metadata": {},
     "output_type": "execute_result"
    }
   ],
   "source": [
    "df2.head()"
   ]
  },
  {
   "cell_type": "code",
   "execution_count": 52,
   "metadata": {},
   "outputs": [
    {
     "data": {
      "text/plain": [
       "(25000, 1)"
      ]
     },
     "execution_count": 52,
     "metadata": {},
     "output_type": "execute_result"
    }
   ],
   "source": [
    "df2.shape"
   ]
  },
  {
   "cell_type": "code",
   "execution_count": 53,
   "metadata": {},
   "outputs": [],
   "source": [
    "df2.to_csv('ulmfit_embeddings_metadata.tsv', sep='\\t', index=False, header=False)"
   ]
  },
  {
   "cell_type": "code",
   "execution_count": 54,
   "metadata": {
    "scrolled": true
   },
   "outputs": [
    {
     "data": {
      "text/plain": [
       "tensor([-9.3854e-03,  1.1410e-01, -4.6505e-01, -6.4490e-02, -4.0506e-02,\n",
       "        -1.5412e-01, -1.7224e-01,  1.1245e-01, -1.3256e-01,  2.2635e-01,\n",
       "         1.4502e-02, -1.9071e-01,  1.1289e-02,  8.7088e-02,  2.6855e-01,\n",
       "         8.8830e-02,  1.6969e-01,  6.8159e-02, -3.0119e-02, -1.9548e-01,\n",
       "         2.5427e-01,  3.4280e-01, -2.8101e-02,  1.4417e-01,  4.7514e-01,\n",
       "         6.7296e-02,  5.9158e-02, -3.2228e-01, -1.1577e-01, -2.6337e-02,\n",
       "        -1.7773e-01, -1.3460e-01, -2.1282e-01,  2.8275e-01, -1.2585e-01,\n",
       "        -5.5567e-02, -1.4942e-01,  1.4912e-01,  6.0518e-02,  1.3322e-01,\n",
       "        -1.9021e-01, -2.2550e-01, -5.4514e-01,  8.4601e-02,  4.7392e-02,\n",
       "         1.8211e-01, -3.4253e-01,  1.7223e-01, -1.4802e-01,  3.9464e-01,\n",
       "         1.0101e-01, -5.5160e-02,  3.4626e-01, -5.5010e-01,  5.5077e-02,\n",
       "         2.4130e-01,  5.7027e-02, -4.0931e-01, -2.6233e-01, -1.0415e-01,\n",
       "         3.3878e-02, -3.0891e-01,  1.4016e-01, -2.5663e-01,  1.1356e-01,\n",
       "        -1.4932e-01, -4.0894e-01,  1.4090e-01,  4.1249e-02,  1.1968e-01,\n",
       "        -6.8213e-03, -1.9505e-01,  3.5828e-02,  3.2133e-02,  2.9780e-02,\n",
       "        -1.9436e-01,  4.1650e-01, -2.1593e-01, -3.8614e-01, -8.2704e-02,\n",
       "        -2.4361e-01,  2.3382e-01,  2.1723e-01, -3.2998e-01, -6.7433e-02,\n",
       "        -7.5282e-02, -1.5971e-01, -2.8087e-02,  5.9908e-02,  7.2158e-02,\n",
       "        -1.6632e-01,  2.5455e-01,  1.7877e-01,  2.9998e-01,  1.5599e-01,\n",
       "        -1.3752e-02,  2.8469e-01,  4.3259e-02, -5.3919e-02,  7.4181e-02,\n",
       "        -6.1334e-02, -4.0179e-01,  1.2584e-01, -7.3578e-02,  8.4454e-02,\n",
       "         3.7665e-02, -1.8485e-01, -3.1642e-02, -9.9303e-03,  1.8314e-01,\n",
       "         1.9662e-02,  2.0405e-01,  6.8599e-02,  3.4503e-02, -5.4053e-02,\n",
       "        -7.4311e-02,  4.2389e-01,  7.2616e-02,  1.2086e-01,  2.4701e-01,\n",
       "        -1.2764e-01, -1.6282e-01,  2.5215e-02, -2.5552e-02,  5.0798e-02,\n",
       "        -3.4139e-01,  5.5142e-02,  8.2516e-02,  6.3492e-02,  1.5313e-01,\n",
       "        -5.8240e-02,  1.5211e-01, -2.5689e-02,  2.7761e-02, -1.6027e-01,\n",
       "        -4.0637e-02,  1.4152e-01,  1.3773e-01, -9.0510e-03, -1.2757e-01,\n",
       "        -2.1757e-01, -5.5829e-01, -1.7615e-01,  1.0650e-01,  1.7763e-01,\n",
       "         9.7940e-02, -2.0150e-01,  1.1314e-01, -7.6098e-02, -7.1609e-01,\n",
       "        -1.2614e-01, -1.7350e-01,  1.4498e-01, -1.0276e-01,  2.9177e-01,\n",
       "         1.3910e-01,  6.6676e-01, -1.7017e-01,  6.7944e-02,  4.7901e-03,\n",
       "         1.1548e-01, -8.7028e-03,  3.0574e-02, -1.7845e-01,  1.2174e-02,\n",
       "         6.0096e-02, -1.1648e-01, -9.2843e-02, -1.3009e-01,  2.1701e-03,\n",
       "         4.6058e-02, -6.6081e-04,  3.9082e-01, -1.8098e-03,  1.7322e-02,\n",
       "         1.2413e-01,  3.1868e-01,  3.4711e-01, -4.7955e-01, -7.5230e-02,\n",
       "        -5.0165e-01, -1.6915e-01, -7.7103e-03,  2.0620e-01,  2.9437e-01,\n",
       "        -7.2070e-03, -2.6761e-01,  2.0937e-01, -8.1022e-02, -1.3716e-01,\n",
       "         7.9213e-02, -3.1664e-01, -3.0089e-01, -7.4571e-02,  2.6557e-01,\n",
       "        -8.8783e-02, -3.3347e-01, -2.1986e+00, -1.1898e-01,  1.1472e-01,\n",
       "         8.0670e-02, -2.1338e-01, -9.4786e-02, -1.4305e-05,  6.1978e-02,\n",
       "        -1.6064e-01,  6.0746e-02, -2.1403e-01, -2.1658e-02,  4.1485e-02,\n",
       "        -8.7062e-02,  2.4546e-01, -9.6345e-03, -3.1874e-01, -1.2552e-01,\n",
       "         1.5814e-01, -1.8778e-01, -2.1819e-01,  2.9850e-01,  4.1027e-02,\n",
       "         1.3761e-01,  2.2029e-01, -1.9021e-01, -2.2800e-01, -1.4303e-01,\n",
       "        -3.3248e-02,  4.0509e-01, -3.3837e-01, -5.8651e-01,  2.1058e-01,\n",
       "         2.2367e-01, -5.2906e-02, -9.7639e-03,  1.2022e-01,  1.1697e-01,\n",
       "        -1.8066e-01,  8.6278e-02,  7.0651e-01,  2.5097e-02,  4.6201e-02,\n",
       "        -7.6742e-02,  2.8804e-01,  7.7553e-01,  8.5239e-02,  5.0188e-02,\n",
       "        -2.1843e-01, -2.2019e-01, -1.1834e-01, -3.9371e-02,  2.0235e-02,\n",
       "         2.4183e-02,  2.6689e-01,  1.0888e-01, -3.2262e-01, -4.7924e-02,\n",
       "         1.9289e-02, -4.2805e-01,  5.4827e-02, -2.5007e-01, -2.3280e-01,\n",
       "         5.3306e-01, -1.5775e-01, -2.2376e-02,  3.3952e-01,  1.7201e-01,\n",
       "         2.8401e-02, -7.8742e-03,  1.0327e-01, -3.3187e-02, -4.4693e-02,\n",
       "         1.4761e-01,  4.2492e-02,  5.9498e-02,  1.2776e-01,  1.3944e-01,\n",
       "         7.2595e-02, -1.0982e-01,  2.4781e-01,  5.0607e-01,  7.4986e-02,\n",
       "         1.3794e-01,  1.9339e-02,  1.7020e-01,  3.6986e-02,  1.3601e-01,\n",
       "         1.5431e-01,  2.0987e-01,  1.4901e-01, -1.3181e-01, -8.8592e-02,\n",
       "        -5.7561e-02,  4.0380e-02,  1.1268e-01, -1.3593e-01, -2.4128e-01,\n",
       "         1.0534e-01, -1.0079e-01, -1.1482e-01, -7.0565e-02, -4.2795e-01,\n",
       "        -6.2274e-02, -1.0201e-01,  9.0684e-02,  1.1495e-01,  3.7869e-02,\n",
       "         1.8569e-01,  1.3319e-01,  4.9234e-03,  1.3532e-01, -3.8628e-02,\n",
       "        -1.8479e-02,  1.8775e-01,  1.3504e-01,  1.2422e-01, -4.9661e-02,\n",
       "         2.1464e-01, -2.4799e-01,  1.4814e-01,  1.8952e-01,  2.1952e-01,\n",
       "        -8.4133e-02, -2.8611e-01, -6.8134e-01, -8.8653e-02,  3.9844e-01,\n",
       "        -7.3338e-02, -1.1035e-01, -1.6166e-01,  9.7631e-02,  6.4725e-01,\n",
       "         8.9903e-02,  1.6248e-02, -8.7000e-01, -2.1966e-01, -8.2342e-03,\n",
       "         7.8712e-03, -3.9575e-01,  2.8814e-01,  2.1828e-01,  2.3335e-01,\n",
       "         7.2186e-02, -3.3459e-01,  5.3160e-02, -4.3940e-01,  1.6345e-02,\n",
       "        -9.2615e-02, -2.3666e-01,  1.2907e-01,  1.1431e-01,  5.2873e-02,\n",
       "        -1.6766e-01, -2.0809e-01, -6.2528e-01,  2.3235e-01, -1.9084e-01,\n",
       "         1.5793e-01,  8.8098e-02, -1.1411e-01,  3.2870e-02, -2.6653e-01,\n",
       "         2.6265e-02,  6.7781e-03,  1.1274e-01,  1.9285e-01,  2.3384e-01,\n",
       "         4.1922e-01, -7.0872e-04,  4.2334e-03, -1.0132e-01, -6.1863e-02,\n",
       "        -3.6831e-01,  3.9745e-01, -4.3468e-01,  5.7337e-02,  7.2438e-02,\n",
       "         8.5447e-02,  3.3832e-01,  2.2788e-01, -1.6045e-01, -2.2864e-02,\n",
       "        -1.3917e-01,  6.1655e-02, -1.0648e-02,  1.5843e-01, -1.9035e-01,\n",
       "         4.9574e-02, -1.1922e-01, -2.2519e-01, -1.4530e-01, -1.8704e-01,\n",
       "         7.7620e-01,  1.5275e-01,  1.8580e-01,  6.3314e-01, -1.9487e-01,\n",
       "         2.2446e-01,  4.8878e-02, -4.7724e-02, -2.7914e-02, -1.0729e-01],\n",
       "       device='cuda:0')"
      ]
     },
     "execution_count": 54,
     "metadata": {},
     "output_type": "execute_result"
    }
   ],
   "source": [
    "encoder.state_dict()['encoder.weight'][1]"
   ]
  },
  {
   "cell_type": "code",
   "execution_count": null,
   "metadata": {},
   "outputs": [],
   "source": []
  }
 ],
 "metadata": {
  "kernelspec": {
   "display_name": "Python 3",
   "language": "python",
   "name": "python3"
  },
  "language_info": {
   "codemirror_mode": {
    "name": "ipython",
    "version": 3
   },
   "file_extension": ".py",
   "mimetype": "text/x-python",
   "name": "python",
   "nbconvert_exporter": "python",
   "pygments_lexer": "ipython3",
   "version": "3.7.3"
  }
 },
 "nbformat": 4,
 "nbformat_minor": 2
}
